{
 "cells": [
  {
   "cell_type": "code",
   "execution_count": 5,
   "id": "initial_id",
   "metadata": {
    "collapsed": true,
    "ExecuteTime": {
     "end_time": "2023-10-29T20:47:24.002456Z",
     "start_time": "2023-10-29T20:47:23.989953Z"
    }
   },
   "outputs": [
    {
     "ename": "ModuleNotFoundError",
     "evalue": "No module named 'mysql'",
     "output_type": "error",
     "traceback": [
      "\u001B[0;31m---------------------------------------------------------------------------\u001B[0m",
      "\u001B[0;31mModuleNotFoundError\u001B[0m                       Traceback (most recent call last)",
      "Cell \u001B[0;32mIn[5], line 1\u001B[0m\n\u001B[0;32m----> 1\u001B[0m \u001B[38;5;28;01mimport\u001B[39;00m \u001B[38;5;21;01mmysql\u001B[39;00m\u001B[38;5;21;01m.\u001B[39;00m\u001B[38;5;21;01mconnector\u001B[39;00m\n\u001B[1;32m      3\u001B[0m \u001B[38;5;66;03m# Connect to the MySQL database\u001B[39;00m\n\u001B[1;32m      4\u001B[0m mydb \u001B[38;5;241m=\u001B[39m mysql\u001B[38;5;241m.\u001B[39mconnector\u001B[38;5;241m.\u001B[39mconnect(host\u001B[38;5;241m=\u001B[39m\u001B[38;5;124m'\u001B[39m\u001B[38;5;124mlocalhost\u001B[39m\u001B[38;5;124m'\u001B[39m, user\u001B[38;5;241m=\u001B[39m\u001B[38;5;124m'\u001B[39m\u001B[38;5;124mroot\u001B[39m\u001B[38;5;124m'\u001B[39m, password\u001B[38;5;241m=\u001B[39m\u001B[38;5;124m'\u001B[39m\u001B[38;5;124mpassword\u001B[39m\u001B[38;5;124m'\u001B[39m, database\u001B[38;5;241m=\u001B[39m\u001B[38;5;124m'\u001B[39m\u001B[38;5;124mmy_database\u001B[39m\u001B[38;5;124m'\u001B[39m)\n",
      "\u001B[0;31mModuleNotFoundError\u001B[0m: No module named 'mysql'"
     ]
    }
   ],
   "source": [
    "import mysql.connector\n",
    "\n",
    "# Connect to the MySQL database\n",
    "mydb = mysql.connector.connect(host='localhost', user='root', password='password', database='my_database')\n",
    "\n",
    "# Create a cursor object for the MySQL database\n",
    "cursor = mydb.cursor()\n",
    "\n",
    "# Create the nodes table in the MySQL database if it doesn't exist\n",
    "cursor.execute('CREATE TABLE IF NOT EXISTS nodes (node_id INT NOT NULL AUTO_INCREMENT PRIMARY KEY, node_properties VARCHAR(255) NOT NULL)')\n",
    "\n",
    "# Create the edges table in the MySQL database if it doesn't exist\n",
    "cursor.execute('CREATE TABLE IF NOT EXISTS edges (edge_id INT NOT NULL AUTO_INCREMENT PRIMARY KEY, source_node_id INT NOT NULL, target_node_id INT NOT NULL)')\n",
    "\n",
    "# Get all the nodes from the GraphDB database\n",
    "graphdb = open('graphdb.txt', 'r')\n",
    "nodes = graphdb.readlines()\n",
    "\n",
    "# Insert the nodes into the MySQL database\n",
    "for node in nodes:\n",
    "    node_id, node_properties = node.split(',')\n",
    "    cursor.execute('INSERT INTO nodes VALUES (%s, %s)', (node_id, node_properties))\n",
    "\n",
    "# Get all the edges from the GraphDB database\n",
    "edges = graphdb.readlines()\n",
    "\n",
    "# Insert the edges into the MySQL database\n",
    "for edge in edges:\n",
    "    edge_id, source_node_id, target_node_id = edge.split(',')\n",
    "    cursor.execute('INSERT INTO edges VALUES (%s, %s, %s)', (edge_id, source_node_id, target_node_id))\n",
    "\n",
    "# Commit the changes to the MySQL database\n",
    "mydb.commit()\n",
    "\n",
    "# Close the cursor and connection to the MySQL database\n",
    "cursor.close()\n",
    "mydb.close()\n"
   ]
  },
  {
   "cell_type": "code",
   "execution_count": 4,
   "outputs": [
    {
     "ename": "ModuleNotFoundError",
     "evalue": "No module named 'pygraphids'",
     "output_type": "error",
     "traceback": [
      "\u001B[0;31m---------------------------------------------------------------------------\u001B[0m",
      "\u001B[0;31mModuleNotFoundError\u001B[0m                       Traceback (most recent call last)",
      "Cell \u001B[0;32mIn[4], line 1\u001B[0m\n\u001B[0;32m----> 1\u001B[0m \u001B[38;5;28;01mimport\u001B[39;00m \u001B[38;5;21;01mpygraphids\u001B[39;00m\n\u001B[1;32m      2\u001B[0m \u001B[38;5;28;01mimport\u001B[39;00m \u001B[38;5;21;01mmysql\u001B[39;00m\u001B[38;5;21;01m.\u001B[39;00m\u001B[38;5;21;01mconnector\u001B[39;00m\n\u001B[1;32m      4\u001B[0m \u001B[38;5;66;03m# Create a connection to the GraphDB database\u001B[39;00m\n",
      "\u001B[0;31mModuleNotFoundError\u001B[0m: No module named 'pygraphids'"
     ]
    }
   ],
   "source": [],
   "metadata": {
    "collapsed": false,
    "ExecuteTime": {
     "end_time": "2023-10-29T20:44:54.108178Z",
     "start_time": "2023-10-29T20:44:54.078543Z"
    }
   },
   "id": "f49a57d25c732149"
  }
 ],
 "metadata": {
  "kernelspec": {
   "display_name": "Python 3",
   "language": "python",
   "name": "python3"
  },
  "language_info": {
   "codemirror_mode": {
    "name": "ipython",
    "version": 2
   },
   "file_extension": ".py",
   "mimetype": "text/x-python",
   "name": "python",
   "nbconvert_exporter": "python",
   "pygments_lexer": "ipython2",
   "version": "2.7.6"
  }
 },
 "nbformat": 4,
 "nbformat_minor": 5
}
