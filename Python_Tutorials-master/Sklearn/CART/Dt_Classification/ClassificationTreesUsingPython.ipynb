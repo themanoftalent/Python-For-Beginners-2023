{
 "cells": [
  {
   "cell_type": "markdown",
   "metadata": {},
   "source": [
    "<h1 align=\"center\"> Classification Trees using Python </h1>"
   ]
  },
  {
   "cell_type": "code",
   "execution_count": 1,
   "metadata": {},
   "outputs": [],
   "source": [
    "%matplotlib inline\n",
    "import matplotlib.pyplot as plt\n",
    "from sklearn.datasets import load_iris\n",
    "from sklearn.tree import DecisionTreeClassifier\n",
    "from sklearn.model_selection import train_test_split\n",
    "import pandas as pd\n",
    "import numpy as np\n",
    "from sklearn import tree"
   ]
  },
  {
   "cell_type": "markdown",
   "metadata": {
    "collapsed": true
   },
   "source": [
    "## Load the Data\n",
    "The Iris dataset is one of datasets scikit-learn comes with that do not require the downloading of any file from some external website. The code below loads the iris dataset."
   ]
  },
  {
   "cell_type": "code",
   "execution_count": 2,
   "metadata": {},
   "outputs": [
    {
     "data": {
      "text/html": [
       "<div>\n",
       "<style scoped>\n",
       "    .dataframe tbody tr th:only-of-type {\n",
       "        vertical-align: middle;\n",
       "    }\n",
       "\n",
       "    .dataframe tbody tr th {\n",
       "        vertical-align: top;\n",
       "    }\n",
       "\n",
       "    .dataframe thead th {\n",
       "        text-align: right;\n",
       "    }\n",
       "</style>\n",
       "<table border=\"1\" class=\"dataframe\">\n",
       "  <thead>\n",
       "    <tr style=\"text-align: right;\">\n",
       "      <th></th>\n",
       "      <th>sepal length (cm)</th>\n",
       "      <th>sepal width (cm)</th>\n",
       "      <th>petal length (cm)</th>\n",
       "      <th>petal width (cm)</th>\n",
       "      <th>target</th>\n",
       "    </tr>\n",
       "  </thead>\n",
       "  <tbody>\n",
       "    <tr>\n",
       "      <th>0</th>\n",
       "      <td>5.1</td>\n",
       "      <td>3.5</td>\n",
       "      <td>1.4</td>\n",
       "      <td>0.2</td>\n",
       "      <td>0</td>\n",
       "    </tr>\n",
       "    <tr>\n",
       "      <th>1</th>\n",
       "      <td>4.9</td>\n",
       "      <td>3.0</td>\n",
       "      <td>1.4</td>\n",
       "      <td>0.2</td>\n",
       "      <td>0</td>\n",
       "    </tr>\n",
       "    <tr>\n",
       "      <th>2</th>\n",
       "      <td>4.7</td>\n",
       "      <td>3.2</td>\n",
       "      <td>1.3</td>\n",
       "      <td>0.2</td>\n",
       "      <td>0</td>\n",
       "    </tr>\n",
       "    <tr>\n",
       "      <th>3</th>\n",
       "      <td>4.6</td>\n",
       "      <td>3.1</td>\n",
       "      <td>1.5</td>\n",
       "      <td>0.2</td>\n",
       "      <td>0</td>\n",
       "    </tr>\n",
       "    <tr>\n",
       "      <th>4</th>\n",
       "      <td>5.0</td>\n",
       "      <td>3.6</td>\n",
       "      <td>1.4</td>\n",
       "      <td>0.2</td>\n",
       "      <td>0</td>\n",
       "    </tr>\n",
       "  </tbody>\n",
       "</table>\n",
       "</div>"
      ],
      "text/plain": [
       "   sepal length (cm)  sepal width (cm)  petal length (cm)  petal width (cm)  \\\n",
       "0                5.1               3.5                1.4               0.2   \n",
       "1                4.9               3.0                1.4               0.2   \n",
       "2                4.7               3.2                1.3               0.2   \n",
       "3                4.6               3.1                1.5               0.2   \n",
       "4                5.0               3.6                1.4               0.2   \n",
       "\n",
       "   target  \n",
       "0       0  \n",
       "1       0  \n",
       "2       0  \n",
       "3       0  \n",
       "4       0  "
      ]
     },
     "execution_count": 2,
     "metadata": {},
     "output_type": "execute_result"
    }
   ],
   "source": [
    "data = load_iris()\n",
    "df = pd.DataFrame(data.data, columns=data.feature_names)\n",
    "df['target'] = data.target\n",
    "df.head()"
   ]
  },
  {
   "cell_type": "markdown",
   "metadata": {},
   "source": [
    "## Splitting Data into Training and Test Sets\n",
    "One of the benefits of Decision Trees is that you don't have to standardize your data unlike PCA and logistic regression which are [sensitive to effects of not standardizing your data](https://scikit-learn.org/stable/auto_examples/preprocessing/plot_scaling_importance.html#sphx-glr-auto-examples-preprocessing-plot-scaling-importance-py)."
   ]
  },
  {
   "cell_type": "code",
   "execution_count": 3,
   "metadata": {},
   "outputs": [],
   "source": [
    "# test_size: what proportion of original data is used for test set\n",
    "X_train, X_test, Y_train, Y_test = train_test_split(df[data.feature_names], df['target'], random_state=0)"
   ]
  },
  {
   "cell_type": "markdown",
   "metadata": {},
   "source": [
    "## Ignore these Cells (just to show train test split for the blog)\n",
    "\n",
    "A relatively new feature of pandas is conditional formatting. https://pandas.pydata.org/pandas-docs/stable/user_guide/style.html"
   ]
  },
  {
   "cell_type": "code",
   "execution_count": 4,
   "metadata": {},
   "outputs": [],
   "source": [
    "X_train['split'] = 'train'\n",
    "X_test['split'] = 'test'"
   ]
  },
  {
   "cell_type": "code",
   "execution_count": 5,
   "metadata": {},
   "outputs": [],
   "source": [
    "X_train['target'] = Y_train\n",
    "X_test['target'] = Y_test"
   ]
  },
  {
   "cell_type": "code",
   "execution_count": 6,
   "metadata": {},
   "outputs": [],
   "source": [
    "fullDF = pd.concat([X_train, X_test], axis = 0)"
   ]
  },
  {
   "cell_type": "code",
   "execution_count": 7,
   "metadata": {},
   "outputs": [
    {
     "data": {
      "text/html": [
       "<div>\n",
       "<style scoped>\n",
       "    .dataframe tbody tr th:only-of-type {\n",
       "        vertical-align: middle;\n",
       "    }\n",
       "\n",
       "    .dataframe tbody tr th {\n",
       "        vertical-align: top;\n",
       "    }\n",
       "\n",
       "    .dataframe thead th {\n",
       "        text-align: right;\n",
       "    }\n",
       "</style>\n",
       "<table border=\"1\" class=\"dataframe\">\n",
       "  <thead>\n",
       "    <tr style=\"text-align: right;\">\n",
       "      <th></th>\n",
       "      <th>sepal length (cm)</th>\n",
       "      <th>sepal width (cm)</th>\n",
       "      <th>petal length (cm)</th>\n",
       "      <th>petal width (cm)</th>\n",
       "      <th>split</th>\n",
       "      <th>target</th>\n",
       "    </tr>\n",
       "  </thead>\n",
       "  <tbody>\n",
       "    <tr>\n",
       "      <th>61</th>\n",
       "      <td>5.9</td>\n",
       "      <td>3.0</td>\n",
       "      <td>4.2</td>\n",
       "      <td>1.5</td>\n",
       "      <td>train</td>\n",
       "      <td>1</td>\n",
       "    </tr>\n",
       "    <tr>\n",
       "      <th>92</th>\n",
       "      <td>5.8</td>\n",
       "      <td>2.6</td>\n",
       "      <td>4.0</td>\n",
       "      <td>1.2</td>\n",
       "      <td>train</td>\n",
       "      <td>1</td>\n",
       "    </tr>\n",
       "    <tr>\n",
       "      <th>112</th>\n",
       "      <td>6.8</td>\n",
       "      <td>3.0</td>\n",
       "      <td>5.5</td>\n",
       "      <td>2.1</td>\n",
       "      <td>train</td>\n",
       "      <td>2</td>\n",
       "    </tr>\n",
       "    <tr>\n",
       "      <th>2</th>\n",
       "      <td>4.7</td>\n",
       "      <td>3.2</td>\n",
       "      <td>1.3</td>\n",
       "      <td>0.2</td>\n",
       "      <td>train</td>\n",
       "      <td>0</td>\n",
       "    </tr>\n",
       "    <tr>\n",
       "      <th>141</th>\n",
       "      <td>6.9</td>\n",
       "      <td>3.1</td>\n",
       "      <td>5.1</td>\n",
       "      <td>2.3</td>\n",
       "      <td>train</td>\n",
       "      <td>2</td>\n",
       "    </tr>\n",
       "  </tbody>\n",
       "</table>\n",
       "</div>"
      ],
      "text/plain": [
       "     sepal length (cm)  sepal width (cm)  petal length (cm)  petal width (cm)  \\\n",
       "61                 5.9               3.0                4.2               1.5   \n",
       "92                 5.8               2.6                4.0               1.2   \n",
       "112                6.8               3.0                5.5               2.1   \n",
       "2                  4.7               3.2                1.3               0.2   \n",
       "141                6.9               3.1                5.1               2.3   \n",
       "\n",
       "     split  target  \n",
       "61   train       1  \n",
       "92   train       1  \n",
       "112  train       2  \n",
       "2    train       0  \n",
       "141  train       2  "
      ]
     },
     "execution_count": 7,
     "metadata": {},
     "output_type": "execute_result"
    }
   ],
   "source": [
    "fullDF.head()"
   ]
  },
  {
   "cell_type": "code",
   "execution_count": 8,
   "metadata": {},
   "outputs": [],
   "source": [
    "fullDFsplit = fullDF.copy()\n",
    "fullDF = fullDF.drop(columns = ['split'])"
   ]
  },
  {
   "cell_type": "code",
   "execution_count": 9,
   "metadata": {},
   "outputs": [
    {
     "data": {
      "text/html": [
       "<style  type=\"text/css\" >\n",
       "    #T_5d8fe69c_b3d7_11e9_93d3_186590dea421row0_col0 {\n",
       "            background-color:  #40E0D0;\n",
       "            border-color:  black;\n",
       "            border:  1px solid black;\n",
       "        }    #T_5d8fe69c_b3d7_11e9_93d3_186590dea421row0_col1 {\n",
       "            background-color:  #40E0D0;\n",
       "            border-color:  black;\n",
       "            border:  1px solid black;\n",
       "        }    #T_5d8fe69c_b3d7_11e9_93d3_186590dea421row0_col2 {\n",
       "            background-color:  #40E0D0;\n",
       "            border-color:  black;\n",
       "            border:  1px solid black;\n",
       "        }    #T_5d8fe69c_b3d7_11e9_93d3_186590dea421row0_col3 {\n",
       "            background-color:  #40E0D0;\n",
       "            border-color:  black;\n",
       "            border:  1px solid black;\n",
       "        }    #T_5d8fe69c_b3d7_11e9_93d3_186590dea421row0_col4 {\n",
       "            background-color:  #FFD700;\n",
       "            border-color:  black;\n",
       "            border:  1px solid black;\n",
       "        }    #T_5d8fe69c_b3d7_11e9_93d3_186590dea421row1_col0 {\n",
       "            background-color:  #40E0D0;\n",
       "            border-color:  black;\n",
       "            border:  1px solid black;\n",
       "        }    #T_5d8fe69c_b3d7_11e9_93d3_186590dea421row1_col1 {\n",
       "            background-color:  #40E0D0;\n",
       "            border-color:  black;\n",
       "            border:  1px solid black;\n",
       "        }    #T_5d8fe69c_b3d7_11e9_93d3_186590dea421row1_col2 {\n",
       "            background-color:  #40E0D0;\n",
       "            border-color:  black;\n",
       "            border:  1px solid black;\n",
       "        }    #T_5d8fe69c_b3d7_11e9_93d3_186590dea421row1_col3 {\n",
       "            background-color:  #40E0D0;\n",
       "            border-color:  black;\n",
       "            border:  1px solid black;\n",
       "        }    #T_5d8fe69c_b3d7_11e9_93d3_186590dea421row1_col4 {\n",
       "            background-color:  #FFD700;\n",
       "            border-color:  black;\n",
       "            border:  1px solid black;\n",
       "        }    #T_5d8fe69c_b3d7_11e9_93d3_186590dea421row2_col0 {\n",
       "            background-color:  #40E0D0;\n",
       "            border-color:  black;\n",
       "            border:  1px solid black;\n",
       "        }    #T_5d8fe69c_b3d7_11e9_93d3_186590dea421row2_col1 {\n",
       "            background-color:  #40E0D0;\n",
       "            border-color:  black;\n",
       "            border:  1px solid black;\n",
       "        }    #T_5d8fe69c_b3d7_11e9_93d3_186590dea421row2_col2 {\n",
       "            background-color:  #40E0D0;\n",
       "            border-color:  black;\n",
       "            border:  1px solid black;\n",
       "        }    #T_5d8fe69c_b3d7_11e9_93d3_186590dea421row2_col3 {\n",
       "            background-color:  #40E0D0;\n",
       "            border-color:  black;\n",
       "            border:  1px solid black;\n",
       "        }    #T_5d8fe69c_b3d7_11e9_93d3_186590dea421row2_col4 {\n",
       "            background-color:  #FFD700;\n",
       "            border-color:  black;\n",
       "            border:  1px solid black;\n",
       "        }    #T_5d8fe69c_b3d7_11e9_93d3_186590dea421row3_col0 {\n",
       "            background-color:  #40E0D0;\n",
       "            border-color:  black;\n",
       "            border:  1px solid black;\n",
       "        }    #T_5d8fe69c_b3d7_11e9_93d3_186590dea421row3_col1 {\n",
       "            background-color:  #40E0D0;\n",
       "            border-color:  black;\n",
       "            border:  1px solid black;\n",
       "        }    #T_5d8fe69c_b3d7_11e9_93d3_186590dea421row3_col2 {\n",
       "            background-color:  #40E0D0;\n",
       "            border-color:  black;\n",
       "            border:  1px solid black;\n",
       "        }    #T_5d8fe69c_b3d7_11e9_93d3_186590dea421row3_col3 {\n",
       "            background-color:  #40E0D0;\n",
       "            border-color:  black;\n",
       "            border:  1px solid black;\n",
       "        }    #T_5d8fe69c_b3d7_11e9_93d3_186590dea421row3_col4 {\n",
       "            background-color:  #FFD700;\n",
       "            border-color:  black;\n",
       "            border:  1px solid black;\n",
       "        }    #T_5d8fe69c_b3d7_11e9_93d3_186590dea421row4_col0 {\n",
       "            background-color:  #40E0D0;\n",
       "            border-color:  black;\n",
       "            border:  1px solid black;\n",
       "        }    #T_5d8fe69c_b3d7_11e9_93d3_186590dea421row4_col1 {\n",
       "            background-color:  #40E0D0;\n",
       "            border-color:  black;\n",
       "            border:  1px solid black;\n",
       "        }    #T_5d8fe69c_b3d7_11e9_93d3_186590dea421row4_col2 {\n",
       "            background-color:  #40E0D0;\n",
       "            border-color:  black;\n",
       "            border:  1px solid black;\n",
       "        }    #T_5d8fe69c_b3d7_11e9_93d3_186590dea421row4_col3 {\n",
       "            background-color:  #40E0D0;\n",
       "            border-color:  black;\n",
       "            border:  1px solid black;\n",
       "        }    #T_5d8fe69c_b3d7_11e9_93d3_186590dea421row4_col4 {\n",
       "            background-color:  #FFD700;\n",
       "            border-color:  black;\n",
       "            border:  1px solid black;\n",
       "        }    #T_5d8fe69c_b3d7_11e9_93d3_186590dea421row5_col0 {\n",
       "            background-color:  #40E0D0;\n",
       "            border-color:  black;\n",
       "            border:  1px solid black;\n",
       "        }    #T_5d8fe69c_b3d7_11e9_93d3_186590dea421row5_col1 {\n",
       "            background-color:  #40E0D0;\n",
       "            border-color:  black;\n",
       "            border:  1px solid black;\n",
       "        }    #T_5d8fe69c_b3d7_11e9_93d3_186590dea421row5_col2 {\n",
       "            background-color:  #40E0D0;\n",
       "            border-color:  black;\n",
       "            border:  1px solid black;\n",
       "        }    #T_5d8fe69c_b3d7_11e9_93d3_186590dea421row5_col3 {\n",
       "            background-color:  #40E0D0;\n",
       "            border-color:  black;\n",
       "            border:  1px solid black;\n",
       "        }    #T_5d8fe69c_b3d7_11e9_93d3_186590dea421row5_col4 {\n",
       "            background-color:  #FFD700;\n",
       "            border-color:  black;\n",
       "            border:  1px solid black;\n",
       "        }    #T_5d8fe69c_b3d7_11e9_93d3_186590dea421row6_col0 {\n",
       "            background-color:  #40E0D0;\n",
       "            border-color:  black;\n",
       "            border:  1px solid black;\n",
       "        }    #T_5d8fe69c_b3d7_11e9_93d3_186590dea421row6_col1 {\n",
       "            background-color:  #40E0D0;\n",
       "            border-color:  black;\n",
       "            border:  1px solid black;\n",
       "        }    #T_5d8fe69c_b3d7_11e9_93d3_186590dea421row6_col2 {\n",
       "            background-color:  #40E0D0;\n",
       "            border-color:  black;\n",
       "            border:  1px solid black;\n",
       "        }    #T_5d8fe69c_b3d7_11e9_93d3_186590dea421row6_col3 {\n",
       "            background-color:  #40E0D0;\n",
       "            border-color:  black;\n",
       "            border:  1px solid black;\n",
       "        }    #T_5d8fe69c_b3d7_11e9_93d3_186590dea421row6_col4 {\n",
       "            background-color:  #FFD700;\n",
       "            border-color:  black;\n",
       "            border:  1px solid black;\n",
       "        }    #T_5d8fe69c_b3d7_11e9_93d3_186590dea421row7_col0 {\n",
       "            background-color:  #00FFFF;\n",
       "            border-color:  black;\n",
       "            border:  1px solid black;\n",
       "        }    #T_5d8fe69c_b3d7_11e9_93d3_186590dea421row7_col1 {\n",
       "            background-color:  #00FFFF;\n",
       "            border-color:  black;\n",
       "            border:  1px solid black;\n",
       "        }    #T_5d8fe69c_b3d7_11e9_93d3_186590dea421row7_col2 {\n",
       "            background-color:  #00FFFF;\n",
       "            border-color:  black;\n",
       "            border:  1px solid black;\n",
       "        }    #T_5d8fe69c_b3d7_11e9_93d3_186590dea421row7_col3 {\n",
       "            background-color:  #00FFFF;\n",
       "            border-color:  black;\n",
       "            border:  1px solid black;\n",
       "        }    #T_5d8fe69c_b3d7_11e9_93d3_186590dea421row7_col4 {\n",
       "            background-color:  #FFFF00;\n",
       "            border-color:  black;\n",
       "            border:  1px solid black;\n",
       "        }    #T_5d8fe69c_b3d7_11e9_93d3_186590dea421row8_col0 {\n",
       "            background-color:  #00FFFF;\n",
       "            border-color:  black;\n",
       "            border:  1px solid black;\n",
       "        }    #T_5d8fe69c_b3d7_11e9_93d3_186590dea421row8_col1 {\n",
       "            background-color:  #00FFFF;\n",
       "            border-color:  black;\n",
       "            border:  1px solid black;\n",
       "        }    #T_5d8fe69c_b3d7_11e9_93d3_186590dea421row8_col2 {\n",
       "            background-color:  #00FFFF;\n",
       "            border-color:  black;\n",
       "            border:  1px solid black;\n",
       "        }    #T_5d8fe69c_b3d7_11e9_93d3_186590dea421row8_col3 {\n",
       "            background-color:  #00FFFF;\n",
       "            border-color:  black;\n",
       "            border:  1px solid black;\n",
       "        }    #T_5d8fe69c_b3d7_11e9_93d3_186590dea421row8_col4 {\n",
       "            background-color:  #FFFF00;\n",
       "            border-color:  black;\n",
       "            border:  1px solid black;\n",
       "        }    #T_5d8fe69c_b3d7_11e9_93d3_186590dea421row9_col0 {\n",
       "            background-color:  #40E0D0;\n",
       "            border-color:  black;\n",
       "            border:  1px solid black;\n",
       "        }    #T_5d8fe69c_b3d7_11e9_93d3_186590dea421row9_col1 {\n",
       "            background-color:  #40E0D0;\n",
       "            border-color:  black;\n",
       "            border:  1px solid black;\n",
       "        }    #T_5d8fe69c_b3d7_11e9_93d3_186590dea421row9_col2 {\n",
       "            background-color:  #40E0D0;\n",
       "            border-color:  black;\n",
       "            border:  1px solid black;\n",
       "        }    #T_5d8fe69c_b3d7_11e9_93d3_186590dea421row9_col3 {\n",
       "            background-color:  #40E0D0;\n",
       "            border-color:  black;\n",
       "            border:  1px solid black;\n",
       "        }    #T_5d8fe69c_b3d7_11e9_93d3_186590dea421row9_col4 {\n",
       "            background-color:  #FFD700;\n",
       "            border-color:  black;\n",
       "            border:  1px solid black;\n",
       "        }</style><table id=\"T_5d8fe69c_b3d7_11e9_93d3_186590dea421\" ><thead>    <tr>        <th class=\"blank level0\" ></th>        <th class=\"col_heading level0 col0\" >sepal length (cm)</th>        <th class=\"col_heading level0 col1\" >sepal width (cm)</th>        <th class=\"col_heading level0 col2\" >petal length (cm)</th>        <th class=\"col_heading level0 col3\" >petal width (cm)</th>        <th class=\"col_heading level0 col4\" >target</th>    </tr></thead><tbody>\n",
       "                <tr>\n",
       "                        <th id=\"T_5d8fe69c_b3d7_11e9_93d3_186590dea421level0_row0\" class=\"row_heading level0 row0\" >0</th>\n",
       "                        <td id=\"T_5d8fe69c_b3d7_11e9_93d3_186590dea421row0_col0\" class=\"data row0 col0\" >5.1</td>\n",
       "                        <td id=\"T_5d8fe69c_b3d7_11e9_93d3_186590dea421row0_col1\" class=\"data row0 col1\" >3.5</td>\n",
       "                        <td id=\"T_5d8fe69c_b3d7_11e9_93d3_186590dea421row0_col2\" class=\"data row0 col2\" >1.4</td>\n",
       "                        <td id=\"T_5d8fe69c_b3d7_11e9_93d3_186590dea421row0_col3\" class=\"data row0 col3\" >0.2</td>\n",
       "                        <td id=\"T_5d8fe69c_b3d7_11e9_93d3_186590dea421row0_col4\" class=\"data row0 col4\" >0</td>\n",
       "            </tr>\n",
       "            <tr>\n",
       "                        <th id=\"T_5d8fe69c_b3d7_11e9_93d3_186590dea421level0_row1\" class=\"row_heading level0 row1\" >1</th>\n",
       "                        <td id=\"T_5d8fe69c_b3d7_11e9_93d3_186590dea421row1_col0\" class=\"data row1 col0\" >4.9</td>\n",
       "                        <td id=\"T_5d8fe69c_b3d7_11e9_93d3_186590dea421row1_col1\" class=\"data row1 col1\" >3</td>\n",
       "                        <td id=\"T_5d8fe69c_b3d7_11e9_93d3_186590dea421row1_col2\" class=\"data row1 col2\" >1.4</td>\n",
       "                        <td id=\"T_5d8fe69c_b3d7_11e9_93d3_186590dea421row1_col3\" class=\"data row1 col3\" >0.2</td>\n",
       "                        <td id=\"T_5d8fe69c_b3d7_11e9_93d3_186590dea421row1_col4\" class=\"data row1 col4\" >0</td>\n",
       "            </tr>\n",
       "            <tr>\n",
       "                        <th id=\"T_5d8fe69c_b3d7_11e9_93d3_186590dea421level0_row2\" class=\"row_heading level0 row2\" >2</th>\n",
       "                        <td id=\"T_5d8fe69c_b3d7_11e9_93d3_186590dea421row2_col0\" class=\"data row2 col0\" >4.7</td>\n",
       "                        <td id=\"T_5d8fe69c_b3d7_11e9_93d3_186590dea421row2_col1\" class=\"data row2 col1\" >3.2</td>\n",
       "                        <td id=\"T_5d8fe69c_b3d7_11e9_93d3_186590dea421row2_col2\" class=\"data row2 col2\" >1.3</td>\n",
       "                        <td id=\"T_5d8fe69c_b3d7_11e9_93d3_186590dea421row2_col3\" class=\"data row2 col3\" >0.2</td>\n",
       "                        <td id=\"T_5d8fe69c_b3d7_11e9_93d3_186590dea421row2_col4\" class=\"data row2 col4\" >0</td>\n",
       "            </tr>\n",
       "            <tr>\n",
       "                        <th id=\"T_5d8fe69c_b3d7_11e9_93d3_186590dea421level0_row3\" class=\"row_heading level0 row3\" >3</th>\n",
       "                        <td id=\"T_5d8fe69c_b3d7_11e9_93d3_186590dea421row3_col0\" class=\"data row3 col0\" >4.6</td>\n",
       "                        <td id=\"T_5d8fe69c_b3d7_11e9_93d3_186590dea421row3_col1\" class=\"data row3 col1\" >3.1</td>\n",
       "                        <td id=\"T_5d8fe69c_b3d7_11e9_93d3_186590dea421row3_col2\" class=\"data row3 col2\" >1.5</td>\n",
       "                        <td id=\"T_5d8fe69c_b3d7_11e9_93d3_186590dea421row3_col3\" class=\"data row3 col3\" >0.2</td>\n",
       "                        <td id=\"T_5d8fe69c_b3d7_11e9_93d3_186590dea421row3_col4\" class=\"data row3 col4\" >0</td>\n",
       "            </tr>\n",
       "            <tr>\n",
       "                        <th id=\"T_5d8fe69c_b3d7_11e9_93d3_186590dea421level0_row4\" class=\"row_heading level0 row4\" >4</th>\n",
       "                        <td id=\"T_5d8fe69c_b3d7_11e9_93d3_186590dea421row4_col0\" class=\"data row4 col0\" >5</td>\n",
       "                        <td id=\"T_5d8fe69c_b3d7_11e9_93d3_186590dea421row4_col1\" class=\"data row4 col1\" >3.6</td>\n",
       "                        <td id=\"T_5d8fe69c_b3d7_11e9_93d3_186590dea421row4_col2\" class=\"data row4 col2\" >1.4</td>\n",
       "                        <td id=\"T_5d8fe69c_b3d7_11e9_93d3_186590dea421row4_col3\" class=\"data row4 col3\" >0.2</td>\n",
       "                        <td id=\"T_5d8fe69c_b3d7_11e9_93d3_186590dea421row4_col4\" class=\"data row4 col4\" >0</td>\n",
       "            </tr>\n",
       "            <tr>\n",
       "                        <th id=\"T_5d8fe69c_b3d7_11e9_93d3_186590dea421level0_row5\" class=\"row_heading level0 row5\" >5</th>\n",
       "                        <td id=\"T_5d8fe69c_b3d7_11e9_93d3_186590dea421row5_col0\" class=\"data row5 col0\" >5.4</td>\n",
       "                        <td id=\"T_5d8fe69c_b3d7_11e9_93d3_186590dea421row5_col1\" class=\"data row5 col1\" >3.9</td>\n",
       "                        <td id=\"T_5d8fe69c_b3d7_11e9_93d3_186590dea421row5_col2\" class=\"data row5 col2\" >1.7</td>\n",
       "                        <td id=\"T_5d8fe69c_b3d7_11e9_93d3_186590dea421row5_col3\" class=\"data row5 col3\" >0.4</td>\n",
       "                        <td id=\"T_5d8fe69c_b3d7_11e9_93d3_186590dea421row5_col4\" class=\"data row5 col4\" >0</td>\n",
       "            </tr>\n",
       "            <tr>\n",
       "                        <th id=\"T_5d8fe69c_b3d7_11e9_93d3_186590dea421level0_row6\" class=\"row_heading level0 row6\" >6</th>\n",
       "                        <td id=\"T_5d8fe69c_b3d7_11e9_93d3_186590dea421row6_col0\" class=\"data row6 col0\" >4.6</td>\n",
       "                        <td id=\"T_5d8fe69c_b3d7_11e9_93d3_186590dea421row6_col1\" class=\"data row6 col1\" >3.4</td>\n",
       "                        <td id=\"T_5d8fe69c_b3d7_11e9_93d3_186590dea421row6_col2\" class=\"data row6 col2\" >1.4</td>\n",
       "                        <td id=\"T_5d8fe69c_b3d7_11e9_93d3_186590dea421row6_col3\" class=\"data row6 col3\" >0.3</td>\n",
       "                        <td id=\"T_5d8fe69c_b3d7_11e9_93d3_186590dea421row6_col4\" class=\"data row6 col4\" >0</td>\n",
       "            </tr>\n",
       "            <tr>\n",
       "                        <th id=\"T_5d8fe69c_b3d7_11e9_93d3_186590dea421level0_row7\" class=\"row_heading level0 row7\" >7</th>\n",
       "                        <td id=\"T_5d8fe69c_b3d7_11e9_93d3_186590dea421row7_col0\" class=\"data row7 col0\" >5</td>\n",
       "                        <td id=\"T_5d8fe69c_b3d7_11e9_93d3_186590dea421row7_col1\" class=\"data row7 col1\" >3.4</td>\n",
       "                        <td id=\"T_5d8fe69c_b3d7_11e9_93d3_186590dea421row7_col2\" class=\"data row7 col2\" >1.5</td>\n",
       "                        <td id=\"T_5d8fe69c_b3d7_11e9_93d3_186590dea421row7_col3\" class=\"data row7 col3\" >0.2</td>\n",
       "                        <td id=\"T_5d8fe69c_b3d7_11e9_93d3_186590dea421row7_col4\" class=\"data row7 col4\" >0</td>\n",
       "            </tr>\n",
       "            <tr>\n",
       "                        <th id=\"T_5d8fe69c_b3d7_11e9_93d3_186590dea421level0_row8\" class=\"row_heading level0 row8\" >8</th>\n",
       "                        <td id=\"T_5d8fe69c_b3d7_11e9_93d3_186590dea421row8_col0\" class=\"data row8 col0\" >4.4</td>\n",
       "                        <td id=\"T_5d8fe69c_b3d7_11e9_93d3_186590dea421row8_col1\" class=\"data row8 col1\" >2.9</td>\n",
       "                        <td id=\"T_5d8fe69c_b3d7_11e9_93d3_186590dea421row8_col2\" class=\"data row8 col2\" >1.4</td>\n",
       "                        <td id=\"T_5d8fe69c_b3d7_11e9_93d3_186590dea421row8_col3\" class=\"data row8 col3\" >0.2</td>\n",
       "                        <td id=\"T_5d8fe69c_b3d7_11e9_93d3_186590dea421row8_col4\" class=\"data row8 col4\" >0</td>\n",
       "            </tr>\n",
       "            <tr>\n",
       "                        <th id=\"T_5d8fe69c_b3d7_11e9_93d3_186590dea421level0_row9\" class=\"row_heading level0 row9\" >9</th>\n",
       "                        <td id=\"T_5d8fe69c_b3d7_11e9_93d3_186590dea421row9_col0\" class=\"data row9 col0\" >4.9</td>\n",
       "                        <td id=\"T_5d8fe69c_b3d7_11e9_93d3_186590dea421row9_col1\" class=\"data row9 col1\" >3.1</td>\n",
       "                        <td id=\"T_5d8fe69c_b3d7_11e9_93d3_186590dea421row9_col2\" class=\"data row9 col2\" >1.5</td>\n",
       "                        <td id=\"T_5d8fe69c_b3d7_11e9_93d3_186590dea421row9_col3\" class=\"data row9 col3\" >0.1</td>\n",
       "                        <td id=\"T_5d8fe69c_b3d7_11e9_93d3_186590dea421row9_col4\" class=\"data row9 col4\" >0</td>\n",
       "            </tr>\n",
       "    </tbody></table>"
      ],
      "text/plain": [
       "<pandas.io.formats.style.Styler at 0x1a1bf16710>"
      ]
     },
     "execution_count": 9,
     "metadata": {},
     "output_type": "execute_result"
    }
   ],
   "source": [
    "\n",
    "def highlight_color(s, fullDFsplit):\n",
    "    '''\n",
    "    highlight the the entire dataframe cyan.\n",
    "    '''\n",
    "\n",
    "    colorDF = s.copy()\n",
    "\n",
    "\n",
    "    colorDF.loc[fullDFsplit['split'] == 'train', data.feature_names] = 'background-color: #40E0D0'\n",
    "\n",
    "\n",
    "    colorDF.loc[fullDFsplit['split'] == 'test', data.feature_names] = 'background-color: #00FFFF'\n",
    "\n",
    "    # #9370DB\n",
    "    # FF D7 00\n",
    "    colorDF.loc[fullDFsplit['split'] == 'train', ['target']] = 'background-color: #FFD700'\n",
    "\n",
    "    # EE82EE\n",
    "    # BD B7 6B\n",
    "    colorDF.loc[fullDFsplit['split'] == 'test', ['target']] = 'background-color: #FFFF00'\n",
    "\n",
    "    return(colorDF)\n",
    "\n",
    "temp = fullDF.sort_index().loc[0:9,:].style.apply(lambda x: highlight_color(x,pd.DataFrame(fullDFsplit['split'])), axis = None)\n",
    "temp.set_properties(**{'border-color': 'black',\n",
    "                       'border': '1px solid black',\n",
    "                       })"
   ]
  },
  {
   "cell_type": "code",
   "execution_count": 10,
   "metadata": {},
   "outputs": [],
   "source": [
    "# test_size: what proportion of original data is used for test set\n",
    "X_train, X_test, Y_train, Y_test = train_test_split(df[data.feature_names], df['target'], random_state=0)"
   ]
  },
  {
   "cell_type": "markdown",
   "metadata": {},
   "source": [
    "## Decision Tree"
   ]
  },
  {
   "cell_type": "markdown",
   "metadata": {},
   "source": [
    "<b>Step 1:</b> Import the model you want to use"
   ]
  },
  {
   "cell_type": "markdown",
   "metadata": {},
   "source": [
    "In sklearn, all machine learning models are implemented as Python classes"
   ]
  },
  {
   "cell_type": "code",
   "execution_count": 11,
   "metadata": {},
   "outputs": [],
   "source": [
    "from sklearn.tree import DecisionTreeClassifier"
   ]
  },
  {
   "cell_type": "markdown",
   "metadata": {},
   "source": [
    "<b>Step 2:</b> Make an instance of the Model"
   ]
  },
  {
   "cell_type": "code",
   "execution_count": 12,
   "metadata": {},
   "outputs": [],
   "source": [
    "clf = DecisionTreeClassifier(max_depth = 2, \n",
    "                             random_state = 0)"
   ]
  },
  {
   "cell_type": "markdown",
   "metadata": {},
   "source": [
    "<b>Step 3:</b> Training the model on the data, storing the information learned from the data"
   ]
  },
  {
   "cell_type": "markdown",
   "metadata": {},
   "source": [
    "Model is learning the relationship between x (features sepal width, sepal height etc) and y (labels-which species of iris)"
   ]
  },
  {
   "cell_type": "code",
   "execution_count": 13,
   "metadata": {},
   "outputs": [
    {
     "data": {
      "text/plain": [
       "DecisionTreeClassifier(class_weight=None, criterion='gini', max_depth=2,\n",
       "                       max_features=None, max_leaf_nodes=None,\n",
       "                       min_impurity_decrease=0.0, min_impurity_split=None,\n",
       "                       min_samples_leaf=1, min_samples_split=2,\n",
       "                       min_weight_fraction_leaf=0.0, presort=False,\n",
       "                       random_state=0, splitter='best')"
      ]
     },
     "execution_count": 13,
     "metadata": {},
     "output_type": "execute_result"
    }
   ],
   "source": [
    "clf.fit(X_train, Y_train)"
   ]
  },
  {
   "cell_type": "markdown",
   "metadata": {},
   "source": [
    "<b>Step 4:</b> Predict the labels of new data (new flowers)\n"
   ]
  },
  {
   "cell_type": "markdown",
   "metadata": {},
   "source": [
    "Uses the information the model learned during the model training process"
   ]
  },
  {
   "cell_type": "code",
   "execution_count": 14,
   "metadata": {},
   "outputs": [
    {
     "data": {
      "text/plain": [
       "array([2])"
      ]
     },
     "execution_count": 14,
     "metadata": {},
     "output_type": "execute_result"
    }
   ],
   "source": [
    "# Returns a NumPy Array\n",
    "# Predict for One Observation (image)\n",
    "clf.predict(X_test.iloc[0].values.reshape(1, -1))"
   ]
  },
  {
   "cell_type": "markdown",
   "metadata": {},
   "source": [
    "Predict for Multiple Observations (images) at Once"
   ]
  },
  {
   "cell_type": "code",
   "execution_count": 15,
   "metadata": {},
   "outputs": [
    {
     "data": {
      "text/plain": [
       "array([2, 1, 0, 2, 0, 2, 0, 1, 1, 1])"
      ]
     },
     "execution_count": 15,
     "metadata": {},
     "output_type": "execute_result"
    }
   ],
   "source": [
    "clf.predict(X_test[0:10])"
   ]
  },
  {
   "cell_type": "markdown",
   "metadata": {},
   "source": [
    "## Measuring Model Performance"
   ]
  },
  {
   "cell_type": "markdown",
   "metadata": {},
   "source": [
    "While there are other ways of measuring model performance (precision, recall, F1 Score, [ROC Curve](https://towardsdatascience.com/receiver-operating-characteristic-curves-demystified-in-python-bd531a4364d0), etc), we are going to keep this simple and use accuracy as our metric. \n",
    "To do this are going to see how the model performs on new data (test set)\n",
    "\n",
    "Accuracy is defined as:\n",
    "(fraction of correct predictions): correct predictions / total number of data points"
   ]
  },
  {
   "cell_type": "code",
   "execution_count": 16,
   "metadata": {},
   "outputs": [
    {
     "name": "stdout",
     "output_type": "stream",
     "text": [
      "0.8947368421052632\n"
     ]
    }
   ],
   "source": [
    "score = clf.score(X_test, Y_test)\n",
    "print(score)"
   ]
  },
  {
   "cell_type": "markdown",
   "metadata": {},
   "source": [
    "## Finding the Optimal `max_depth`"
   ]
  },
  {
   "cell_type": "code",
   "execution_count": 17,
   "metadata": {},
   "outputs": [],
   "source": [
    "# List of values to try for max_depth:\n",
    "max_depth_range = list(range(1, 6))\n",
    "\n",
    "# List to store the average RMSE for each value of max_depth:\n",
    "accuracy = []\n",
    "\n",
    "for depth in max_depth_range:\n",
    "    \n",
    "    clf = DecisionTreeClassifier(max_depth = depth, \n",
    "                             random_state = 0)\n",
    "    clf.fit(X_train, Y_train)\n",
    "\n",
    "    score = clf.score(X_test, Y_test)\n",
    "    accuracy.append(score)"
   ]
  },
  {
   "cell_type": "code",
   "execution_count": 19,
   "metadata": {},
   "outputs": [
    {
     "ename": "FileNotFoundError",
     "evalue": "[Errno 2] No such file or directory: '../images/max_depth_vs_entropy.png'",
     "output_type": "error",
     "traceback": [
      "\u001b[0;31m---------------------------------------------------------------------------\u001b[0m",
      "\u001b[0;31mFileNotFoundError\u001b[0m                         Traceback (most recent call last)",
      "\u001b[0;32m<ipython-input-19-9a19d163f172>\u001b[0m in \u001b[0;36m<module>\u001b[0;34m\u001b[0m\n\u001b[1;32m     41\u001b[0m \u001b[0max\u001b[0m\u001b[0;34m.\u001b[0m\u001b[0mset_ylabel\u001b[0m\u001b[0;34m(\u001b[0m\u001b[0;34m'Accuracy'\u001b[0m\u001b[0;34m,\u001b[0m \u001b[0mfontsize\u001b[0m \u001b[0;34m=\u001b[0m \u001b[0;36m24\u001b[0m\u001b[0;34m)\u001b[0m\u001b[0;34m\u001b[0m\u001b[0;34m\u001b[0m\u001b[0m\n\u001b[1;32m     42\u001b[0m \u001b[0mfig\u001b[0m\u001b[0;34m.\u001b[0m\u001b[0mtight_layout\u001b[0m\u001b[0;34m(\u001b[0m\u001b[0;34m)\u001b[0m\u001b[0;34m\u001b[0m\u001b[0;34m\u001b[0m\u001b[0m\n\u001b[0;32m---> 43\u001b[0;31m \u001b[0mfig\u001b[0m\u001b[0;34m.\u001b[0m\u001b[0msavefig\u001b[0m\u001b[0;34m(\u001b[0m\u001b[0;34m'../images/max_depth_vs_entropy.png'\u001b[0m\u001b[0;34m,\u001b[0m \u001b[0mdpi\u001b[0m \u001b[0;34m=\u001b[0m \u001b[0;36m300\u001b[0m\u001b[0;34m)\u001b[0m\u001b[0;34m\u001b[0m\u001b[0;34m\u001b[0m\u001b[0m\n\u001b[0m",
      "\u001b[0;32m/anaconda3/envs/decisionTree/lib/python3.7/site-packages/matplotlib/figure.py\u001b[0m in \u001b[0;36msavefig\u001b[0;34m(self, fname, frameon, transparent, **kwargs)\u001b[0m\n\u001b[1;32m   2092\u001b[0m             \u001b[0mself\u001b[0m\u001b[0;34m.\u001b[0m\u001b[0mset_frameon\u001b[0m\u001b[0;34m(\u001b[0m\u001b[0mframeon\u001b[0m\u001b[0;34m)\u001b[0m\u001b[0;34m\u001b[0m\u001b[0;34m\u001b[0m\u001b[0m\n\u001b[1;32m   2093\u001b[0m \u001b[0;34m\u001b[0m\u001b[0m\n\u001b[0;32m-> 2094\u001b[0;31m         \u001b[0mself\u001b[0m\u001b[0;34m.\u001b[0m\u001b[0mcanvas\u001b[0m\u001b[0;34m.\u001b[0m\u001b[0mprint_figure\u001b[0m\u001b[0;34m(\u001b[0m\u001b[0mfname\u001b[0m\u001b[0;34m,\u001b[0m \u001b[0;34m**\u001b[0m\u001b[0mkwargs\u001b[0m\u001b[0;34m)\u001b[0m\u001b[0;34m\u001b[0m\u001b[0;34m\u001b[0m\u001b[0m\n\u001b[0m\u001b[1;32m   2095\u001b[0m \u001b[0;34m\u001b[0m\u001b[0m\n\u001b[1;32m   2096\u001b[0m         \u001b[0;32mif\u001b[0m \u001b[0mframeon\u001b[0m\u001b[0;34m:\u001b[0m\u001b[0;34m\u001b[0m\u001b[0;34m\u001b[0m\u001b[0m\n",
      "\u001b[0;32m/anaconda3/envs/decisionTree/lib/python3.7/site-packages/matplotlib/backend_bases.py\u001b[0m in \u001b[0;36mprint_figure\u001b[0;34m(self, filename, dpi, facecolor, edgecolor, orientation, format, bbox_inches, **kwargs)\u001b[0m\n\u001b[1;32m   2073\u001b[0m                     \u001b[0morientation\u001b[0m\u001b[0;34m=\u001b[0m\u001b[0morientation\u001b[0m\u001b[0;34m,\u001b[0m\u001b[0;34m\u001b[0m\u001b[0;34m\u001b[0m\u001b[0m\n\u001b[1;32m   2074\u001b[0m                     \u001b[0mbbox_inches_restore\u001b[0m\u001b[0;34m=\u001b[0m\u001b[0m_bbox_inches_restore\u001b[0m\u001b[0;34m,\u001b[0m\u001b[0;34m\u001b[0m\u001b[0;34m\u001b[0m\u001b[0m\n\u001b[0;32m-> 2075\u001b[0;31m                     **kwargs)\n\u001b[0m\u001b[1;32m   2076\u001b[0m             \u001b[0;32mfinally\u001b[0m\u001b[0;34m:\u001b[0m\u001b[0;34m\u001b[0m\u001b[0;34m\u001b[0m\u001b[0m\n\u001b[1;32m   2077\u001b[0m                 \u001b[0;32mif\u001b[0m \u001b[0mbbox_inches\u001b[0m \u001b[0;32mand\u001b[0m \u001b[0mrestore_bbox\u001b[0m\u001b[0;34m:\u001b[0m\u001b[0;34m\u001b[0m\u001b[0;34m\u001b[0m\u001b[0m\n",
      "\u001b[0;32m/anaconda3/envs/decisionTree/lib/python3.7/site-packages/matplotlib/backends/backend_agg.py\u001b[0m in \u001b[0;36mprint_png\u001b[0;34m(self, filename_or_obj, *args, **kwargs)\u001b[0m\n\u001b[1;32m    519\u001b[0m \u001b[0;34m\u001b[0m\u001b[0m\n\u001b[1;32m    520\u001b[0m         \u001b[0;32mwith\u001b[0m \u001b[0mcbook\u001b[0m\u001b[0;34m.\u001b[0m\u001b[0m_setattr_cm\u001b[0m\u001b[0;34m(\u001b[0m\u001b[0mrenderer\u001b[0m\u001b[0;34m,\u001b[0m \u001b[0mdpi\u001b[0m\u001b[0;34m=\u001b[0m\u001b[0mself\u001b[0m\u001b[0;34m.\u001b[0m\u001b[0mfigure\u001b[0m\u001b[0;34m.\u001b[0m\u001b[0mdpi\u001b[0m\u001b[0;34m)\u001b[0m\u001b[0;34m,\u001b[0m\u001b[0;31m \u001b[0m\u001b[0;31m\\\u001b[0m\u001b[0;34m\u001b[0m\u001b[0;34m\u001b[0m\u001b[0m\n\u001b[0;32m--> 521\u001b[0;31m                 \u001b[0mcbook\u001b[0m\u001b[0;34m.\u001b[0m\u001b[0mopen_file_cm\u001b[0m\u001b[0;34m(\u001b[0m\u001b[0mfilename_or_obj\u001b[0m\u001b[0;34m,\u001b[0m \u001b[0;34m\"wb\"\u001b[0m\u001b[0;34m)\u001b[0m \u001b[0;32mas\u001b[0m \u001b[0mfh\u001b[0m\u001b[0;34m:\u001b[0m\u001b[0;34m\u001b[0m\u001b[0;34m\u001b[0m\u001b[0m\n\u001b[0m\u001b[1;32m    522\u001b[0m             _png.write_png(renderer._renderer, fh,\n\u001b[1;32m    523\u001b[0m                             self.figure.dpi, metadata=metadata)\n",
      "\u001b[0;32m/anaconda3/envs/decisionTree/lib/python3.7/contextlib.py\u001b[0m in \u001b[0;36m__enter__\u001b[0;34m(self)\u001b[0m\n\u001b[1;32m    110\u001b[0m         \u001b[0;32mdel\u001b[0m \u001b[0mself\u001b[0m\u001b[0;34m.\u001b[0m\u001b[0margs\u001b[0m\u001b[0;34m,\u001b[0m \u001b[0mself\u001b[0m\u001b[0;34m.\u001b[0m\u001b[0mkwds\u001b[0m\u001b[0;34m,\u001b[0m \u001b[0mself\u001b[0m\u001b[0;34m.\u001b[0m\u001b[0mfunc\u001b[0m\u001b[0;34m\u001b[0m\u001b[0;34m\u001b[0m\u001b[0m\n\u001b[1;32m    111\u001b[0m         \u001b[0;32mtry\u001b[0m\u001b[0;34m:\u001b[0m\u001b[0;34m\u001b[0m\u001b[0;34m\u001b[0m\u001b[0m\n\u001b[0;32m--> 112\u001b[0;31m             \u001b[0;32mreturn\u001b[0m \u001b[0mnext\u001b[0m\u001b[0;34m(\u001b[0m\u001b[0mself\u001b[0m\u001b[0;34m.\u001b[0m\u001b[0mgen\u001b[0m\u001b[0;34m)\u001b[0m\u001b[0;34m\u001b[0m\u001b[0;34m\u001b[0m\u001b[0m\n\u001b[0m\u001b[1;32m    113\u001b[0m         \u001b[0;32mexcept\u001b[0m \u001b[0mStopIteration\u001b[0m\u001b[0;34m:\u001b[0m\u001b[0;34m\u001b[0m\u001b[0;34m\u001b[0m\u001b[0m\n\u001b[1;32m    114\u001b[0m             \u001b[0;32mraise\u001b[0m \u001b[0mRuntimeError\u001b[0m\u001b[0;34m(\u001b[0m\u001b[0;34m\"generator didn't yield\"\u001b[0m\u001b[0;34m)\u001b[0m \u001b[0;32mfrom\u001b[0m \u001b[0;32mNone\u001b[0m\u001b[0;34m\u001b[0m\u001b[0;34m\u001b[0m\u001b[0m\n",
      "\u001b[0;32m/anaconda3/envs/decisionTree/lib/python3.7/site-packages/matplotlib/cbook/__init__.py\u001b[0m in \u001b[0;36mopen_file_cm\u001b[0;34m(path_or_file, mode, encoding)\u001b[0m\n\u001b[1;32m    405\u001b[0m \u001b[0;32mdef\u001b[0m \u001b[0mopen_file_cm\u001b[0m\u001b[0;34m(\u001b[0m\u001b[0mpath_or_file\u001b[0m\u001b[0;34m,\u001b[0m \u001b[0mmode\u001b[0m\u001b[0;34m=\u001b[0m\u001b[0;34m\"r\"\u001b[0m\u001b[0;34m,\u001b[0m \u001b[0mencoding\u001b[0m\u001b[0;34m=\u001b[0m\u001b[0;32mNone\u001b[0m\u001b[0;34m)\u001b[0m\u001b[0;34m:\u001b[0m\u001b[0;34m\u001b[0m\u001b[0;34m\u001b[0m\u001b[0m\n\u001b[1;32m    406\u001b[0m     \u001b[0;34mr\"\"\"Pass through file objects and context-manage `.PathLike`\\s.\"\"\"\u001b[0m\u001b[0;34m\u001b[0m\u001b[0;34m\u001b[0m\u001b[0m\n\u001b[0;32m--> 407\u001b[0;31m     \u001b[0mfh\u001b[0m\u001b[0;34m,\u001b[0m \u001b[0mopened\u001b[0m \u001b[0;34m=\u001b[0m \u001b[0mto_filehandle\u001b[0m\u001b[0;34m(\u001b[0m\u001b[0mpath_or_file\u001b[0m\u001b[0;34m,\u001b[0m \u001b[0mmode\u001b[0m\u001b[0;34m,\u001b[0m \u001b[0;32mTrue\u001b[0m\u001b[0;34m,\u001b[0m \u001b[0mencoding\u001b[0m\u001b[0;34m)\u001b[0m\u001b[0;34m\u001b[0m\u001b[0;34m\u001b[0m\u001b[0m\n\u001b[0m\u001b[1;32m    408\u001b[0m     \u001b[0;32mif\u001b[0m \u001b[0mopened\u001b[0m\u001b[0;34m:\u001b[0m\u001b[0;34m\u001b[0m\u001b[0;34m\u001b[0m\u001b[0m\n\u001b[1;32m    409\u001b[0m         \u001b[0;32mwith\u001b[0m \u001b[0mfh\u001b[0m\u001b[0;34m:\u001b[0m\u001b[0;34m\u001b[0m\u001b[0;34m\u001b[0m\u001b[0m\n",
      "\u001b[0;32m/anaconda3/envs/decisionTree/lib/python3.7/site-packages/matplotlib/cbook/__init__.py\u001b[0m in \u001b[0;36mto_filehandle\u001b[0;34m(fname, flag, return_opened, encoding)\u001b[0m\n\u001b[1;32m    390\u001b[0m             \u001b[0mfh\u001b[0m \u001b[0;34m=\u001b[0m \u001b[0mbz2\u001b[0m\u001b[0;34m.\u001b[0m\u001b[0mBZ2File\u001b[0m\u001b[0;34m(\u001b[0m\u001b[0mfname\u001b[0m\u001b[0;34m,\u001b[0m \u001b[0mflag\u001b[0m\u001b[0;34m)\u001b[0m\u001b[0;34m\u001b[0m\u001b[0;34m\u001b[0m\u001b[0m\n\u001b[1;32m    391\u001b[0m         \u001b[0;32melse\u001b[0m\u001b[0;34m:\u001b[0m\u001b[0;34m\u001b[0m\u001b[0;34m\u001b[0m\u001b[0m\n\u001b[0;32m--> 392\u001b[0;31m             \u001b[0mfh\u001b[0m \u001b[0;34m=\u001b[0m \u001b[0mopen\u001b[0m\u001b[0;34m(\u001b[0m\u001b[0mfname\u001b[0m\u001b[0;34m,\u001b[0m \u001b[0mflag\u001b[0m\u001b[0;34m,\u001b[0m \u001b[0mencoding\u001b[0m\u001b[0;34m=\u001b[0m\u001b[0mencoding\u001b[0m\u001b[0;34m)\u001b[0m\u001b[0;34m\u001b[0m\u001b[0;34m\u001b[0m\u001b[0m\n\u001b[0m\u001b[1;32m    393\u001b[0m         \u001b[0mopened\u001b[0m \u001b[0;34m=\u001b[0m \u001b[0;32mTrue\u001b[0m\u001b[0;34m\u001b[0m\u001b[0;34m\u001b[0m\u001b[0m\n\u001b[1;32m    394\u001b[0m     \u001b[0;32melif\u001b[0m \u001b[0mhasattr\u001b[0m\u001b[0;34m(\u001b[0m\u001b[0mfname\u001b[0m\u001b[0;34m,\u001b[0m \u001b[0;34m'seek'\u001b[0m\u001b[0;34m)\u001b[0m\u001b[0;34m:\u001b[0m\u001b[0;34m\u001b[0m\u001b[0;34m\u001b[0m\u001b[0m\n",
      "\u001b[0;31mFileNotFoundError\u001b[0m: [Errno 2] No such file or directory: '../images/max_depth_vs_entropy.png'"
     ]
    },
    {
     "data": {
      "image/png": "[encoded data removed]",
      "text/plain": [
       "<Figure size 720x504 with 1 Axes>"
      ]
     },
     "metadata": {
      "needs_background": "light"
     },
     "output_type": "display_data"
    }
   ],
   "source": [
    "fig, ax = plt.subplots(nrows = 1, ncols = 1, figsize = (10,7));\n",
    "\n",
    "marker_style = dict(color='tab:blue', linestyle=':', marker='o',\n",
    "                    markersize=15, markerfacecoloralt='tab:red')\n",
    "\n",
    "ax.plot(max_depth_range,\n",
    "        accuracy,\n",
    "        lw=2,\n",
    "        color='k',\n",
    "        zorder = 0)\n",
    "\n",
    "s = ax.scatter(max_depth_range[2],\n",
    "           accuracy[2],\n",
    "           color = 'r',\n",
    "           s = 200,\n",
    "           alpha = 1,\n",
    "           zorder = 10,\n",
    "           marker = 'o',)\n",
    "\n",
    "s.set_edgecolor( 'black' )\n",
    "\n",
    "\n",
    "\n",
    "ax.set_xlim([1, 5])\n",
    "ax.set_ylim([.50, 1.00])\n",
    "ax.grid(True,\n",
    "        axis = 'both',\n",
    "        zorder = 1,\n",
    "        linestyle = ':',\n",
    "        color = 'k')\n",
    "\n",
    "yticks = ax.get_yticks()\n",
    "\n",
    "y_ticklist = []\n",
    "for tick in yticks:\n",
    "    y_ticklist.append(str(tick).ljust(4, '0')[0:4])\n",
    "ax.set_yticklabels(y_ticklist)\n",
    "ax.tick_params(labelsize = 18)\n",
    "ax.set_xticks([1,2,3,4,5])\n",
    "ax.set_xlabel('max_depth', fontsize = 24)\n",
    "ax.set_ylabel('Accuracy', fontsize = 24)\n",
    "fig.tight_layout()\n",
    "fig.savefig('../images/max_depth_vs_entropy.png', dpi = 300)"
   ]
  },
  {
   "cell_type": "markdown",
   "metadata": {},
   "source": [
    "## Depth is Not Always Equal to Max_Depth"
   ]
  },
  {
   "cell_type": "code",
   "execution_count": 54,
   "metadata": {},
   "outputs": [],
   "source": [
    "from subprocess import call\n",
    "#call(['dot', '-Tpng', 'tree.dot', '-o', 'tree.png', '-Gdpi=600'])\n",
    "\n",
    "# List of values to try for max_depth:\n",
    "max_depth_range = list(range(1, 6))\n",
    "\n",
    "# List to store the average RMSE for each value of max_depth:\n",
    "\n",
    "accuracy = []\n",
    "depth_list = []\n",
    "for max_depth in max_depth_range:\n",
    "    \n",
    "    clf = DecisionTreeClassifier(max_depth = max_depth, \n",
    "                             random_state = 0)\n",
    "    clf.fit(X_train, Y_train)\n",
    "    score = clf.score(X_test, Y_test)\n",
    "    depth = clf.get_depth()\n",
    "    depth_list.append(depth)\n",
    "    accuracy.append(score)\n",
    "    \n",
    "    outputFileDot = \"../images/BadDepthExample\" + str(max_depth)+'_actual'+str(depth)+ \".dot\"\n",
    "    outputFilePng = \"../images/BadDepthExample\" + str(max_depth)+'_actual'+str(depth)+ \".png\"\n"
   ]
  },
  {
   "cell_type": "markdown",
   "metadata": {},
   "source": [
    "## Feature Importance\n",
    "\n",
    "Scikit-learn allows you to calculate feature importance which is the total amount that Gini index or Entropy decrease due to splits over a given feature"
   ]
  },
  {
   "cell_type": "code",
   "execution_count": 80,
   "metadata": {},
   "outputs": [],
   "source": [
    "clf = DecisionTreeClassifier(max_depth = 3, \n",
    "                         random_state = 0)\n",
    "clf.fit(X_train, Y_train)\n",
    "\n",
    "score = clf.score(X_test, Y_test)"
   ]
  },
  {
   "cell_type": "code",
   "execution_count": 81,
   "metadata": {},
   "outputs": [
    {
     "data": {
      "text/html": [
       "<div>\n",
       "<style scoped>\n",
       "    .dataframe tbody tr th:only-of-type {\n",
       "        vertical-align: middle;\n",
       "    }\n",
       "\n",
       "    .dataframe tbody tr th {\n",
       "        vertical-align: top;\n",
       "    }\n",
       "\n",
       "    .dataframe thead th {\n",
       "        text-align: right;\n",
       "    }\n",
       "</style>\n",
       "<table border=\"1\" class=\"dataframe\">\n",
       "  <thead>\n",
       "    <tr style=\"text-align: right;\">\n",
       "      <th></th>\n",
       "      <th>feature</th>\n",
       "      <th>importance</th>\n",
       "    </tr>\n",
       "  </thead>\n",
       "  <tbody>\n",
       "    <tr>\n",
       "      <th>3</th>\n",
       "      <td>petal width (cm)</td>\n",
       "      <td>0.578</td>\n",
       "    </tr>\n",
       "    <tr>\n",
       "      <th>2</th>\n",
       "      <td>petal length (cm)</td>\n",
       "      <td>0.422</td>\n",
       "    </tr>\n",
       "    <tr>\n",
       "      <th>0</th>\n",
       "      <td>sepal length (cm)</td>\n",
       "      <td>0.000</td>\n",
       "    </tr>\n",
       "    <tr>\n",
       "      <th>1</th>\n",
       "      <td>sepal width (cm)</td>\n",
       "      <td>0.000</td>\n",
       "    </tr>\n",
       "  </tbody>\n",
       "</table>\n",
       "</div>"
      ],
      "text/plain": [
       "             feature  importance\n",
       "3   petal width (cm)       0.578\n",
       "2  petal length (cm)       0.422\n",
       "0  sepal length (cm)       0.000\n",
       "1   sepal width (cm)       0.000"
      ]
     },
     "execution_count": 81,
     "metadata": {},
     "output_type": "execute_result"
    }
   ],
   "source": [
    "importances = pd.DataFrame({'feature':X_train.columns,'importance':np.round(clf.feature_importances_,3)})\n",
    "importances = importances.sort_values('importance',ascending=False)\n",
    "importances"
   ]
  },
  {
   "cell_type": "markdown",
   "metadata": {},
   "source": [
    "If a feature has a low feature importance value, it doesnt necessarily mean that the feature isnt important for prediction, it just means that the particular feature wasnt chosen at a particularly early level of the tree. Could be that the feature could be identical or highly correlated with another informative feature. Feature importance values dont tell you which class they are very predictive for or relationships between features which may influence prediction"
   ]
  },
  {
   "cell_type": "markdown",
   "metadata": {
    "collapsed": true
   },
   "source": [
    "## Decision Path\n",
    "Can also explore other features of decision trees"
   ]
  },
  {
   "cell_type": "code",
   "execution_count": 16,
   "metadata": {},
   "outputs": [],
   "source": [
    "from sklearn.tree.export import export_text"
   ]
  },
  {
   "cell_type": "code",
   "execution_count": 17,
   "metadata": {},
   "outputs": [
    {
     "name": "stdout",
     "output_type": "stream",
     "text": [
      "|--- petal width (cm) <= 0.80\n",
      "|   |--- class: 0\n",
      "|--- petal width (cm) >  0.80\n",
      "|   |--- petal length (cm) <= 4.95\n",
      "|   |   |--- petal width (cm) <= 1.65\n",
      "|   |   |   |--- class: 1\n",
      "|   |   |--- petal width (cm) >  1.65\n",
      "|   |   |   |--- class: 2\n",
      "|   |--- petal length (cm) >  4.95\n",
      "|   |   |--- petal length (cm) <= 5.05\n",
      "|   |   |   |--- class: 2\n",
      "|   |   |--- petal length (cm) >  5.05\n",
      "|   |   |   |--- class: 2\n",
      "\n"
     ]
    }
   ],
   "source": [
    "print(export_text(clf, feature_names=data.feature_names))"
   ]
  },
  {
   "cell_type": "markdown",
   "metadata": {},
   "source": [
    "## Visualizing Decision Tree \n",
    "Image Here\n",
    "If you are curious about how to visualize your decision tree, please see my tutorial. "
   ]
  },
  {
   "cell_type": "markdown",
   "metadata": {},
   "source": [
    "This is something I will cover in a future tutorial"
   ]
  }
 ],
 "metadata": {
  "anaconda-cloud": {},
  "kernelspec": {
   "display_name": "Python [conda env:decisionTree]",
   "language": "python",
   "name": "conda-env-decisionTree-py"
  },
  "language_info": {
   "codemirror_mode": {
    "name": "ipython",
    "version": 3
   },
   "file_extension": ".py",
   "mimetype": "text/x-python",
   "name": "python",
   "nbconvert_exporter": "python",
   "pygments_lexer": "ipython3",
   "version": "3.7.3"
  }
 },
 "nbformat": 4,
 "nbformat_minor": 1
}
