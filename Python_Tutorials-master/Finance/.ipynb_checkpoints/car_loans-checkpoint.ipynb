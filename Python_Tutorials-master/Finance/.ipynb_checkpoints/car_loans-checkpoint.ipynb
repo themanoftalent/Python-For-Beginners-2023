{
 "cells": [
  {
   "cell_type": "code",
   "execution_count": 1,
   "metadata": {
    "collapsed": true
   },
   "outputs": [],
   "source": [
    "# Import Libraries\n",
    "\n",
    "%matplotlib inline\n",
    "import matplotlib.pyplot as plt\n",
    "import numpy as np\n",
    "import pandas as pd"
   ]
  },
  {
   "cell_type": "markdown",
   "metadata": {},
   "source": [
    "## How a Monthly Payment (Equated Monthly Installment) is Calculated"
   ]
  },
  {
   "cell_type": "markdown",
   "metadata": {},
   "source": [
    "### Calculating a Monthly Payment (Simplified)"
   ]
  },
  {
   "cell_type": "code",
   "execution_count": 2,
   "metadata": {
    "collapsed": false
   },
   "outputs": [
    {
     "data": {
      "text/plain": [
       "662.64"
      ]
     },
     "execution_count": 2,
     "metadata": {},
     "output_type": "execute_result"
    }
   ],
   "source": [
    "P = 31115 * (1.075)\n",
    "r = 0.0702 / 12\n",
    "n = 60\n",
    "numerator = (r *((1 + r)**(n)) )\n",
    "denominator = ((1 + r)**(n)) - 1\n",
    "emi = P * (numerator / denominator)\n",
    "np.round(emi,2)"
   ]
  },
  {
   "cell_type": "markdown",
   "metadata": {},
   "source": [
    "### Calculating a Monthly Payment (with some fees included)"
   ]
  },
  {
   "cell_type": "code",
   "execution_count": 3,
   "metadata": {
    "collapsed": false
   },
   "outputs": [
    {
     "data": {
      "text/plain": [
       "687.23"
      ]
     },
     "execution_count": 3,
     "metadata": {},
     "output_type": "execute_result"
    }
   ],
   "source": [
    "P = 31115 + (32615 * 0.0975) + 50 + 200 + 65 + 80\n",
    "r = 0.0702 / 12\n",
    "n = 60\n",
    "numerator = (r *((1 + r)**(n)) )\n",
    "denominator = ((1 + r)**(n)) - 1\n",
    "emi = P * (numerator / denominator)\n",
    "np.round(emi,2)"
   ]
  },
  {
   "cell_type": "code",
   "execution_count": 4,
   "metadata": {
    "collapsed": false
   },
   "outputs": [
    {
     "data": {
      "text/plain": [
       "'The Monthly Payment with fees included is 24.59 higher'"
      ]
     },
     "execution_count": 4,
     "metadata": {},
     "output_type": "execute_result"
    }
   ],
   "source": [
    "'The Monthly Payment with fees included is {} higher'.format(np.round(687.23 - 662.64,2))"
   ]
  },
  {
   "cell_type": "markdown",
   "metadata": {},
   "source": [
    "# How Interest Rates/APR Affects Monthly Payments"
   ]
  },
  {
   "cell_type": "markdown",
   "metadata": {},
   "source": [
    "## Calculate Total Interest Paid"
   ]
  },
  {
   "cell_type": "markdown",
   "metadata": {},
   "source": [
    "Here are the steps to do this\n",
    "\n",
    "1-) Divide your interest rate by the number of payments (12) you'll make in the year (interest rates are expressed annually). \n"
   ]
  },
  {
   "cell_type": "code",
   "execution_count": 5,
   "metadata": {
    "collapsed": false
   },
   "outputs": [
    {
     "data": {
      "text/plain": [
       "202.93628062500002"
      ]
     },
     "execution_count": 5,
     "metadata": {},
     "output_type": "execute_result"
    }
   ],
   "source": [
    "# Calculate one month of interest\n",
    "P = 34689.9625\n",
    "r = 0.0702 / 12\n",
    "\n",
    "r * P"
   ]
  },
  {
   "cell_type": "markdown",
   "metadata": {},
   "source": [
    "2-) Calculate new principal (after one payment)"
   ]
  },
  {
   "cell_type": "code",
   "execution_count": 6,
   "metadata": {
    "collapsed": false
   },
   "outputs": [
    {
     "data": {
      "text/plain": [
       "34205.6725"
      ]
     },
     "execution_count": 6,
     "metadata": {},
     "output_type": "execute_result"
    }
   ],
   "source": [
    "34689.9625 - (687.23 - 202.94)"
   ]
  },
  {
   "cell_type": "markdown",
   "metadata": {},
   "source": [
    "3-) Repeat steps 1 and 2 using the new principal until the principal reaches 0. You can see can example of this in the Python code below."
   ]
  },
  {
   "cell_type": "code",
   "execution_count": 7,
   "metadata": {
    "collapsed": false
   },
   "outputs": [],
   "source": [
    "import numpy as np\n",
    "import pandas as pd\n",
    "\n",
    "term = 60\n",
    "P = 34689.96\n",
    "\n",
    "def calc_interest(P,emi,interest_rate = 0.0702):\n",
    "    interest_paid = np.floor(((interest_rate/12)*P)*100)/100\n",
    "    principal_paid = np.round(emi-interest_paid, 2)\n",
    "    new_balance = np.round(P - principal_paid,2)\n",
    "    return(emi, interest_paid, principal_paid, new_balance)\n",
    "\n",
    "payment_list = []\n",
    "for n in range(1, term + 1):\n",
    "    emi,i_paid,p_paid,new_p = calc_interest(P, emi)\n",
    "    payment_list.append([n, P, emi, i_paid, p_paid, new_p])\n",
    "    P = np.round(new_p,2)"
   ]
  },
  {
   "cell_type": "code",
   "execution_count": 8,
   "metadata": {
    "collapsed": false
   },
   "outputs": [],
   "source": [
    "c_names = ['Month','Starting Balance','Repayment','Interest Paid','Principal Paid','New Balance']\n",
    "payment_table = pd.DataFrame(payment_list, columns = c_names)"
   ]
  },
  {
   "cell_type": "code",
   "execution_count": 9,
   "metadata": {
    "collapsed": false
   },
   "outputs": [
    {
     "data": {
      "text/html": [
       "<div>\n",
       "<style scoped>\n",
       "    .dataframe tbody tr th:only-of-type {\n",
       "        vertical-align: middle;\n",
       "    }\n",
       "\n",
       "    .dataframe tbody tr th {\n",
       "        vertical-align: top;\n",
       "    }\n",
       "\n",
       "    .dataframe thead th {\n",
       "        text-align: right;\n",
       "    }\n",
       "</style>\n",
       "<table border=\"1\" class=\"dataframe\">\n",
       "  <thead>\n",
       "    <tr style=\"text-align: right;\">\n",
       "      <th></th>\n",
       "      <th>Month</th>\n",
       "      <th>Starting Balance</th>\n",
       "      <th>Repayment</th>\n",
       "      <th>Interest Paid</th>\n",
       "      <th>Principal Paid</th>\n",
       "      <th>New Balance</th>\n",
       "    </tr>\n",
       "  </thead>\n",
       "  <tbody>\n",
       "    <tr>\n",
       "      <th>0</th>\n",
       "      <td>1</td>\n",
       "      <td>34689.96</td>\n",
       "      <td>687.230218</td>\n",
       "      <td>202.93</td>\n",
       "      <td>484.30</td>\n",
       "      <td>34205.66</td>\n",
       "    </tr>\n",
       "    <tr>\n",
       "      <th>1</th>\n",
       "      <td>2</td>\n",
       "      <td>34205.66</td>\n",
       "      <td>687.230218</td>\n",
       "      <td>200.10</td>\n",
       "      <td>487.13</td>\n",
       "      <td>33718.53</td>\n",
       "    </tr>\n",
       "    <tr>\n",
       "      <th>2</th>\n",
       "      <td>3</td>\n",
       "      <td>33718.53</td>\n",
       "      <td>687.230218</td>\n",
       "      <td>197.25</td>\n",
       "      <td>489.98</td>\n",
       "      <td>33228.55</td>\n",
       "    </tr>\n",
       "    <tr>\n",
       "      <th>3</th>\n",
       "      <td>4</td>\n",
       "      <td>33228.55</td>\n",
       "      <td>687.230218</td>\n",
       "      <td>194.38</td>\n",
       "      <td>492.85</td>\n",
       "      <td>32735.70</td>\n",
       "    </tr>\n",
       "    <tr>\n",
       "      <th>4</th>\n",
       "      <td>5</td>\n",
       "      <td>32735.70</td>\n",
       "      <td>687.230218</td>\n",
       "      <td>191.50</td>\n",
       "      <td>495.73</td>\n",
       "      <td>32239.97</td>\n",
       "    </tr>\n",
       "    <tr>\n",
       "      <th>5</th>\n",
       "      <td>6</td>\n",
       "      <td>32239.97</td>\n",
       "      <td>687.230218</td>\n",
       "      <td>188.60</td>\n",
       "      <td>498.63</td>\n",
       "      <td>31741.34</td>\n",
       "    </tr>\n",
       "    <tr>\n",
       "      <th>6</th>\n",
       "      <td>7</td>\n",
       "      <td>31741.34</td>\n",
       "      <td>687.230218</td>\n",
       "      <td>185.68</td>\n",
       "      <td>501.55</td>\n",
       "      <td>31239.79</td>\n",
       "    </tr>\n",
       "    <tr>\n",
       "      <th>7</th>\n",
       "      <td>8</td>\n",
       "      <td>31239.79</td>\n",
       "      <td>687.230218</td>\n",
       "      <td>182.75</td>\n",
       "      <td>504.48</td>\n",
       "      <td>30735.31</td>\n",
       "    </tr>\n",
       "    <tr>\n",
       "      <th>8</th>\n",
       "      <td>9</td>\n",
       "      <td>30735.31</td>\n",
       "      <td>687.230218</td>\n",
       "      <td>179.80</td>\n",
       "      <td>507.43</td>\n",
       "      <td>30227.88</td>\n",
       "    </tr>\n",
       "    <tr>\n",
       "      <th>9</th>\n",
       "      <td>10</td>\n",
       "      <td>30227.88</td>\n",
       "      <td>687.230218</td>\n",
       "      <td>176.83</td>\n",
       "      <td>510.40</td>\n",
       "      <td>29717.48</td>\n",
       "    </tr>\n",
       "  </tbody>\n",
       "</table>\n",
       "</div>"
      ],
      "text/plain": [
       "   Month  Starting Balance   Repayment  Interest Paid  Principal Paid  \\\n",
       "0      1          34689.96  687.230218         202.93          484.30   \n",
       "1      2          34205.66  687.230218         200.10          487.13   \n",
       "2      3          33718.53  687.230218         197.25          489.98   \n",
       "3      4          33228.55  687.230218         194.38          492.85   \n",
       "4      5          32735.70  687.230218         191.50          495.73   \n",
       "5      6          32239.97  687.230218         188.60          498.63   \n",
       "6      7          31741.34  687.230218         185.68          501.55   \n",
       "7      8          31239.79  687.230218         182.75          504.48   \n",
       "8      9          30735.31  687.230218         179.80          507.43   \n",
       "9     10          30227.88  687.230218         176.83          510.40   \n",
       "\n",
       "   New Balance  \n",
       "0     34205.66  \n",
       "1     33718.53  \n",
       "2     33228.55  \n",
       "3     32735.70  \n",
       "4     32239.97  \n",
       "5     31741.34  \n",
       "6     31239.79  \n",
       "7     30735.31  \n",
       "8     30227.88  \n",
       "9     29717.48  "
      ]
     },
     "execution_count": 9,
     "metadata": {},
     "output_type": "execute_result"
    }
   ],
   "source": [
    "payment_table.head(10)"
   ]
  },
  {
   "cell_type": "code",
   "execution_count": 12,
   "metadata": {
    "collapsed": false
   },
   "outputs": [
    {
     "data": {
      "text/plain": [
       "6543.51"
      ]
     },
     "execution_count": 12,
     "metadata": {},
     "output_type": "execute_result"
    }
   ],
   "source": [
    "np.round(payment_table['Interest Paid'].sum(), 2)"
   ]
  },
  {
   "cell_type": "markdown",
   "metadata": {},
   "source": [
    "## Loan and Principal Plot"
   ]
  },
  {
   "cell_type": "markdown",
   "metadata": {},
   "source": [
    "https://stackoverflow.com/questions/21918718/how-to-label-certain-x-values"
   ]
  },
  {
   "cell_type": "code",
   "execution_count": 13,
   "metadata": {
    "collapsed": false,
    "scrolled": true
   },
   "outputs": [
    {
     "data": {
      "image/png": "[encoded data removed]",
      "text/plain": [
       "<Figure size 720x360 with 1 Axes>"
      ]
     },
     "metadata": {
      "needs_background": "light"
     },
     "output_type": "display_data"
    }
   ],
   "source": [
    "fig, axes = plt.subplots(nrows = 1, ncols = 1, figsize=(10, 5) )\n",
    "axes.plot(payment_table['Month'], payment_table['Principal Paid'], c = 'b', label = 'Principal');\n",
    "axes.plot(payment_table['Month'], payment_table['Interest Paid'], c = 'k', label = 'Interest');\n",
    "\n",
    "axes.set_xlim((1, 60));\n",
    "axes.set_xticks([1, 10, 20, 30, 40, 50, 60])\n",
    "axes.set_ylim((0, 700));\n",
    "axes.set_ylabel('Dollars', fontsize = 22);\n",
    "axes.set_xlabel('Month', fontsize = 22);\n",
    "\n",
    "plt.xticks(fontsize = 20)\n",
    "plt.yticks(fontsize = 20)\n",
    "axes.set_title('Interest and Principal Paid Each Month', fontsize = 24)\n",
    "\n",
    "plt.legend(bbox_to_anchor=(1.02,0), loc=\"lower left\", borderaxespad=0, fontsize = 20)\n",
    "plt.tight_layout()\n",
    "plt.grid(axis = 'both')\n",
    "plt.savefig('Interest_Principal.png', dpi = 1000)"
   ]
  },
  {
   "cell_type": "markdown",
   "metadata": {
    "collapsed": true
   },
   "source": [
    "## Refinancing Cost Comparison"
   ]
  },
  {
   "cell_type": "markdown",
   "metadata": {},
   "source": [
    "3.59% vs 7.02% (show the cost of refinancing a car, assuming no prepayment penalty)"
   ]
  },
  {
   "cell_type": "code",
   "execution_count": 14,
   "metadata": {
    "collapsed": true
   },
   "outputs": [],
   "source": [
    "P = 34689.96\n",
    "term = 60\n",
    "\n",
    "def generate_loan_table(P, term, interest_rate=0.0702):\n",
    "\n",
    "    def calc_emi(P, n, interest_rate):\n",
    "        r = interest_rate / 12\n",
    "        numerator = (r *((1 + r)**(n)) )\n",
    "        denominator = ((1 + r)**(n)) - 1\n",
    "        emi = P * (numerator / denominator)\n",
    "        emi = np.round(emi, 2)\n",
    "        return(emi)\n",
    "    \n",
    "    def calc_interest(P, emi, interest_rate):\n",
    "        # Assuming no fractional interst on a loan \n",
    "        interest_paid = np.floor( ((interest_rate / 12) * P ) * 100) / 100\n",
    "        principal_paid = np.round(emi - interest_paid, 2)\n",
    "        new_balance = np.round(P - principal_paid,2)\n",
    "        return(emi, interest_paid, principal_paid, new_balance)\n",
    "\n",
    "    emi = calc_emi(P, term, interest_rate)\n",
    "    payment_list = []\n",
    "    \n",
    "    for n in range(1, term + 1):\n",
    "        emi,i_paid,p_paid, new_p = calc_interest(P, emi, interest_rate)\n",
    "        payment_list.append([n, P, emi, i_paid, p_paid, new_p])\n",
    "        P = np.round(new_balance,2)\n",
    "   \n",
    "    payment_table = pd.DataFrame(payment_list, columns = ['Month',\n",
    "                                                       'Starting Balance',\n",
    "                                                       'Repayment',\n",
    "                                                       'Interest Paid',\n",
    "                                                       'Principal Paid',\n",
    "                                                       'New Balance'])\n",
    "    return(payment_table, np.round(payment_table['Interest Paid'].sum(), 2), emi)"
   ]
  },
  {
   "cell_type": "code",
   "execution_count": 15,
   "metadata": {
    "collapsed": false
   },
   "outputs": [],
   "source": [
    "original_table, original_paid, original_emi = generate_loan_table(P, term, interest_rate = 0.0702)\n",
    "refinanced_table, refinanced_paid, refinanced_emi = generate_loan_table(P, term, interest_rate = 0.0359)"
   ]
  },
  {
   "cell_type": "code",
   "execution_count": 16,
   "metadata": {
    "collapsed": false
   },
   "outputs": [
    {
     "data": {
      "text/plain": [
       "(6543.51, 3257.88)"
      ]
     },
     "execution_count": 16,
     "metadata": {},
     "output_type": "execute_result"
    }
   ],
   "source": [
    "original_paid, refinanced_paid"
   ]
  },
  {
   "cell_type": "code",
   "execution_count": 17,
   "metadata": {
    "collapsed": false
   },
   "outputs": [
    {
     "data": {
      "text/plain": [
       "'Refinancing could save: 3285.63'"
      ]
     },
     "execution_count": 17,
     "metadata": {},
     "output_type": "execute_result"
    }
   ],
   "source": [
    "\"Refinancing could save: {}\".format(6543.51 - 3257.88)"
   ]
  },
  {
   "cell_type": "code",
   "execution_count": 18,
   "metadata": {
    "collapsed": false
   },
   "outputs": [
    {
     "data": {
      "text/plain": [
       "687.23"
      ]
     },
     "execution_count": 18,
     "metadata": {},
     "output_type": "execute_result"
    }
   ],
   "source": [
    "original_emi"
   ]
  },
  {
   "cell_type": "code",
   "execution_count": 19,
   "metadata": {
    "collapsed": false
   },
   "outputs": [
    {
     "data": {
      "text/plain": [
       "632.47"
      ]
     },
     "execution_count": 19,
     "metadata": {},
     "output_type": "execute_result"
    }
   ],
   "source": [
    "refinanced_emi"
   ]
  },
  {
   "cell_type": "code",
   "execution_count": 20,
   "metadata": {
    "collapsed": false
   },
   "outputs": [
    {
     "data": {
      "text/plain": [
       "54.76"
      ]
     },
     "execution_count": 20,
     "metadata": {},
     "output_type": "execute_result"
    }
   ],
   "source": [
    "np.round(original_emi - refinanced_emi, 2)"
   ]
  },
  {
   "cell_type": "markdown",
   "metadata": {},
   "source": [
    "## Total Interest Through Different Loan Terms"
   ]
  },
  {
   "cell_type": "code",
   "execution_count": 40,
   "metadata": {
    "collapsed": true
   },
   "outputs": [],
   "source": [
    "original_table, original_paid, original_emi = generate_loan_table(P, term = 60, interest_rate = 0.0702)\n",
    "seventyTwo_table, seventyTwo_paid, seventyTwo_emi = generate_loan_table(P, term = 72, interest_rate = 0.0702)"
   ]
  },
  {
   "cell_type": "code",
   "execution_count": 72,
   "metadata": {
    "collapsed": false
   },
   "outputs": [
    {
     "data": {
      "text/plain": [
       "(6543.51, 7916.58, 1373.07)"
      ]
     },
     "execution_count": 72,
     "metadata": {},
     "output_type": "execute_result"
    }
   ],
   "source": [
    "original_paid, refinanced_paid, np.round(refinanced_paid - original_paid, 2)"
   ]
  },
  {
   "cell_type": "code",
   "execution_count": 42,
   "metadata": {
    "collapsed": false
   },
   "outputs": [
    {
     "data": {
      "text/plain": [
       "(687.23, 591.76)"
      ]
     },
     "execution_count": 42,
     "metadata": {},
     "output_type": "execute_result"
    }
   ],
   "source": [
    "original_emi, seventyTwo_emi"
   ]
  },
  {
   "cell_type": "code",
   "execution_count": 69,
   "metadata": {
    "collapsed": false
   },
   "outputs": [
    {
     "data": {
      "image/png": "[encoded data removed]",
      "text/plain": [
       "<Figure size 720x360 with 1 Axes>"
      ]
     },
     "metadata": {
      "needs_background": "light"
     },
     "output_type": "display_data"
    }
   ],
   "source": [
    "fig, axes = plt.subplots(nrows = 1, ncols = 1, figsize=(10, 5) )\n",
    "axes.plot(seventyTwo_table['Month'], seventyTwo_table['Interest Paid'].cumsum(), c = 'k', marker = '.', markersize = 10, label = '72 Month Term Loan');\n",
    "axes.plot(original_table['Month'], original_table['Interest Paid'].cumsum(), c = 'b', marker = '.', markersize = 10, label = '60 Month Term Loan');\n",
    "\n",
    "axes.set_xlim((1, 72));\n",
    "axes.set_xticks([1, 12, 24, 36, 48, 60, 72])\n",
    "axes.set_ylim((0, 9000));\n",
    "axes.set_ylabel('Dollars', fontsize = 24);\n",
    "axes.set_xlabel('Month', fontsize = 24);\n",
    "\n",
    "plt.xticks(fontsize = 22)\n",
    "plt.yticks(fontsize = 22)\n",
    "axes.set_title('Total Interest Paid (7.02% Interest)', fontsize = 26)\n",
    "\n",
    "plt.legend(loc=\"lower right\", fontsize = 20)\n",
    "plt.tight_layout()\n",
    "plt.grid(axis = 'both')\n",
    "plt.savefig('Total_Interest_Paid.png', dpi = 1000)"
   ]
  }
 ],
 "metadata": {
  "anaconda-cloud": {},
  "kernelspec": {
   "display_name": "Python [conda env:py37]",
   "language": "python",
   "name": "conda-env-py37-py"
  },
  "language_info": {
   "codemirror_mode": {
    "name": "ipython",
    "version": 3
   },
   "file_extension": ".py",
   "mimetype": "text/x-python",
   "name": "python",
   "nbconvert_exporter": "python",
   "pygments_lexer": "ipython3",
   "version": "3.7.1"
  }
 },
 "nbformat": 4,
 "nbformat_minor": 1
}
