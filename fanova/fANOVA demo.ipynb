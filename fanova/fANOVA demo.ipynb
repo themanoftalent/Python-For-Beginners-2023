{
 "cells": [
  {
   "cell_type": "code",
   "execution_count": null,
   "metadata": {
    "collapsed": false
   },
   "outputs": [],
   "source": [
    "import sys\n",
    "sys.path.append('/home/sfalkner/repositories/github/random_forest_run/build')\n",
    "sys.path.append('/home/sfalkner/repositories/github/ConfigSpace')\n",
    "sys.path.append('/home/sfalkner/repositories/github/fanova')\n",
    "\n",
    "import numpy as np\n",
    "import matplotlib.pyplot as plt\n",
    "\n",
    "import ConfigSpace\n",
    "import fanova\n",
    "import fanova.visualizer as viz"
   ]
  },
  {
   "cell_type": "code",
   "execution_count": null,
   "metadata": {
    "collapsed": false
   },
   "outputs": [],
   "source": [
    "# load data\n",
    "X_full = np.loadtxt('/home/sfalkner/repositories/github/random_forest_run/test_data_sets/online_lda_features.csv', delimiter=',')\n",
    "y_full = np.loadtxt('/home/sfalkner/repositories/github/random_forest_run/test_data_sets/online_lda_responses.csv', delimiter=',')\n",
    "\n",
    "\n",
    "#n_samples = X_full.shape[0]//2\n",
    "n_samples = 128\n",
    "\n",
    "indices = np.random.choice(X_full.shape[0], n_samples)\n",
    "\n",
    "if n_samples < X_full.shape[0]:\n",
    "    X=X_full[indices]\n",
    "    y=y_full[indices]\n",
    "else:\n",
    "    X=X_full\n",
    "    y=y_full\n",
    "\n",
    "    \n",
    "# note that one can specify a ConfigSpace here, but if none is provided, all variables are\n",
    "# assumed to be continuous and the range is (min,max)\n",
    "f = fanova.fANOVA(X,y,  n_trees=32,bootstrapping=True)"
   ]
  },
  {
   "cell_type": "markdown",
   "metadata": {
    "collapsed": false
   },
   "source": [
    "## Reproducing the plots from Frank's fANOVA paper"
   ]
  },
  {
   "cell_type": "code",
   "execution_count": null,
   "metadata": {
    "collapsed": false,
    "scrolled": true
   },
   "outputs": [],
   "source": [
    "for i in range(3):\n",
    "\n",
    "    #compute ground truth\n",
    "    gt = []\n",
    "\n",
    "    unique_values = list(set(X_full[:,i]))\n",
    "    unique_values.sort()\n",
    "\n",
    "    for v in unique_values:\n",
    "        indices = np.where(X_full[:,i] == v)\n",
    "        gt.append((v,np.mean(y_full[indices]), np.var(y_full[indices])))\n",
    "\n",
    "    gt = np.array(gt)\n",
    "\n",
    "    plt.figure()\n",
    "    mew  = np.linspace( np.min(X[:,i]), np.max(X[:,i]), 100)\n",
    "    mew2 = np.array([f.marginal_mean_variance_for_values([i],[v]) for v in mew])\n",
    "\n",
    "    m = mew2[:,0]\n",
    "    s = np.sqrt(mew2[:,1])\n",
    "\n",
    "    plt.plot(mew, m)\n",
    "    plt.fill_between(mew, m-s, m+s, alpha=.3)\n",
    "\n",
    "    #plt.errorbar(gt[:,0], gt[:,1], yerr=np.sqrt(gt[:,2]))\n",
    "    plt.scatter(gt[:,0], gt[:,1])\n",
    "    plt.ylabel('Perplexity')\n",
    "    plt.xlabel('parameter {}'.format(i))\n",
    "\n",
    "plt.show()"
   ]
  },
  {
   "cell_type": "code",
   "execution_count": null,
   "metadata": {
    "collapsed": false
   },
   "outputs": [],
   "source": [
    "v = viz.Visualizer(f, f.cs)"
   ]
  },
  {
   "cell_type": "code",
   "execution_count": null,
   "metadata": {
    "collapsed": false
   },
   "outputs": [],
   "source": [
    "v.plot_marginal(0)\n",
    "v.plot_marginal(1)\n",
    "v.plot_marginal(2)\n",
    "v.plot_pairwise_marginal([0,2], resolution=50)"
   ]
  },
  {
   "cell_type": "code",
   "execution_count": null,
   "metadata": {
    "collapsed": false
   },
   "outputs": [],
   "source": [
    "print(f.trees_total_variance)"
   ]
  },
  {
   "cell_type": "code",
   "execution_count": null,
   "metadata": {
    "collapsed": false
   },
   "outputs": [],
   "source": [
    "v.plot_marginal(2)\n",
    "f.set_cutoffs((0,1500))\n",
    "print(f.trees_total_variance)\n",
    "\n",
    "# here is how one can change the labels and stuff\n",
    "v.plot_marginal(2, show=False)\n",
    "plt.title('cutoffs are now {}'.format(f.cutoffs))\n",
    "plt.ylabel('Perplexity')\n",
    "plt.show()"
   ]
  },
  {
   "cell_type": "markdown",
   "metadata": {},
   "source": [
    "## Quantifying importance\n",
    "\n",
    "The method quantify_importance now returns a dictionary with all the individual and total importance of all the computed terms up to the specified combination of input dimensions. Below a short example:"
   ]
  },
  {
   "cell_type": "code",
   "execution_count": null,
   "metadata": {
    "collapsed": false,
    "scrolled": true
   },
   "outputs": [],
   "source": [
    "f.set_cutoffs((-np.inf, np.inf))            #just reset the cutoffs\n",
    "print(f.trees_total_variance)\n",
    "#f.set_cutoffs((0,2000))\n",
    "print(f.trees_total_variance)\n",
    "\n",
    "importance_dict = f.quantify_importance([0,1,2])    "
   ]
  },
  {
   "cell_type": "code",
   "execution_count": null,
   "metadata": {
    "collapsed": false
   },
   "outputs": [],
   "source": [
    "for k in sorted(list(importance_dict.keys()), key=lambda t: importance_dict[t]['individual importance'], reverse=True):\n",
    "    print(k, importance_dict[k])"
   ]
  },
  {
   "cell_type": "code",
   "execution_count": null,
   "metadata": {
    "collapsed": false
   },
   "outputs": [],
   "source": [
    "print(np.sum([importance_dict[v]['individual importance'] for v in importance_dict]))\n",
    "print(f.trees_total_variance)\n",
    "print(f.V_U_individual)\n",
    "for i in range(32):\n",
    "    print(np.sum([f.V_U_individual[v_u][i] for v_u in f.V_U_individual]), f.trees_total_variance[i])"
   ]
  },
  {
   "cell_type": "markdown",
   "metadata": {},
   "source": [
    "## What's still missing\n",
    "\n",
    "- options like 'improvement over default' or 'improvement over percentile', although the functionality is there by stetting the cutoffs manually\n",
    "- documentation for the new API\n",
    "- comparison against the Java implementation"
   ]
  },
  {
   "cell_type": "code",
   "execution_count": null,
   "metadata": {
    "collapsed": false
   },
   "outputs": [],
   "source": [
    "sys.path.append('/home/sfalkner/repositories/github/fanova_old')\n",
    "from pyfanova.fanova_from_csv import FanovaFromCSV\n",
    "\n",
    "data=np.hstack([X_full,y_full[:,None]])\n",
    "np.savetxt('/tmp/tmp_data.csv', data, delimiter=',')\n",
    "f = FanovaFromCSV(\"/tmp/tmp_data.csv\")\n"
   ]
  },
  {
   "cell_type": "code",
   "execution_count": null,
   "metadata": {
    "collapsed": true
   },
   "outputs": [],
   "source": []
  }
 ],
 "metadata": {
  "kernelspec": {
   "display_name": "Python 3",
   "language": "python",
   "name": "python3"
  },
  "language_info": {
   "codemirror_mode": {
    "name": "ipython",
    "version": 3
   },
   "file_extension": ".py",
   "mimetype": "text/x-python",
   "name": "python",
   "nbconvert_exporter": "python",
   "pygments_lexer": "ipython3",
   "version": "3.4.5"
  }
 },
 "nbformat": 4,
 "nbformat_minor": 1
}
