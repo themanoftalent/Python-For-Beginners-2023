{
  "nbformat": 4,
  "nbformat_minor": 0,
  "metadata": {
    "colab": {
      "name": "binary search.ipynb",
      "provenance": [],
      "authorship_tag": "ABX9TyPXXEDjsBG4u9sn7yoqNhXl",
      "include_colab_link": true
    },
    "kernelspec": {
      "name": "python3",
      "display_name": "Python 3"
    },
    "language_info": {
      "name": "python"
    }
  },
  "cells": [
    {
      "cell_type": "markdown",
      "metadata": {
        "id": "view-in-github",
        "colab_type": "text"
      },
      "source": [
        "<a href=\"https://colab.research.google.com/github/themanoftalent/pyt-colab/blob/master/binary_search.ipynb\" target=\"_parent\"><img src=\"https://colab.research.google.com/assets/colab-badge.svg\" alt=\"Open In Colab\"/></a>"
      ]
    },
    {
      "cell_type": "code",
      "metadata": {
        "id": "xSDhUKa1dh-X"
      },
      "source": [
        "def binary_search_recursive(array, element, low, end):\n",
        "    if low > end:\n",
        "        return -1\n",
        "\n",
        "    mid = (low + end) // 2\n",
        "    if element == array[mid]:\n",
        "        return mid\n",
        "\n",
        "    if element < array[mid]:\n",
        "        return binary_search_recursive(array, element, low, mid-1)\n",
        "    else:\n",
        "        return binary_search_recursive(array, element, mid+1, end)"
      ],
      "execution_count": 29,
      "outputs": []
    },
    {
      "cell_type": "code",
      "metadata": {
        "colab": {
          "base_uri": "https://localhost:8080/"
        },
        "id": "i0TBEuQvd7PB",
        "outputId": "db4a55cc-547c-472e-ddff-2e0b182011bf"
      },
      "source": [
        "element = 17\n",
        "array = [0,1, 2, 5, 7,8, 13, 15, 16, 17,21,23, 24, 28, 29]\n",
        "\n",
        "print(\"Searching for {}\".format(element))\n",
        "print(\"Index of {}: {}\".format(element, binary_search_recursive(array, element, 0, len(array))))"
      ],
      "execution_count": 34,
      "outputs": [
        {
          "output_type": "stream",
          "text": [
            "Searching for 17\n",
            "Index of 17: 9\n"
          ],
          "name": "stdout"
        }
      ]
    },
    {
      "cell_type": "code",
      "metadata": {
        "id": "va3-trZseaQ1"
      },
      "source": [
        ""
      ],
      "execution_count": null,
      "outputs": []
    }
  ]
}