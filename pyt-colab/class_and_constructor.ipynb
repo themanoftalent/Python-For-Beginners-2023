{
  "nbformat": 4,
  "nbformat_minor": 0,
  "metadata": {
    "colab": {
      "name": "class and constructor.ipynb",
      "provenance": [],
      "collapsed_sections": [],
      "authorship_tag": "ABX9TyOUJtEUumA9HKL4lxafe3km",
      "include_colab_link": true
    },
    "kernelspec": {
      "name": "python3",
      "display_name": "Python 3"
    },
    "language_info": {
      "name": "python"
    }
  },
  "cells": [
    {
      "cell_type": "markdown",
      "metadata": {
        "id": "view-in-github",
        "colab_type": "text"
      },
      "source": [
        "<a href=\"https://colab.research.google.com/github/themanoftalent/pyt-colab/blob/master/class_and_constructor.ipynb\" target=\"_parent\"><img src=\"https://colab.research.google.com/assets/colab-badge.svg\" alt=\"Open In Colab\"/></a>"
      ]
    },
    {
      "cell_type": "code",
      "metadata": {
        "colab": {
          "base_uri": "https://localhost:8080/"
        },
        "id": "fpe8V-fznGp3",
        "outputId": "2a16d4e8-fbc7-4933-895c-9efd1886a078"
      },
      "source": [
        "class Person:\n",
        "    def __init__(self, initialAge):\n",
        "        if initialAge > 0:\n",
        "            self.age = initialAge\n",
        "        else:\n",
        "            print(\"Age is not valid, setting age to 0.\")\n",
        "            self.age = 0\n",
        "\n",
        "    def amIOld(self):\n",
        "        if self.age < 13:\n",
        "            print(\"You are young.\")\n",
        "        elif self.age < 18:\n",
        "            print(\"You are a teenager.\")\n",
        "        else:\n",
        "            print(\"You are old.\")\n",
        "\n",
        "    def yearPasses(self):\n",
        "        self.age += 1\n",
        "\n",
        "t = int(input())\n",
        "for i in range(0, t):\n",
        "    age = int(input())\n",
        "    if age==-1:\n",
        "      break         \n",
        "    p = Person(age)  \n",
        "    p.amIOld()\n",
        "    for j in range(0, 3):\n",
        "        p.yearPasses()       \n",
        "    p.amIOld()\n",
        "    print(\"\")"
      ],
      "execution_count": 5,
      "outputs": [
        {
          "output_type": "stream",
          "text": [
            "-1\n"
          ],
          "name": "stdout"
        }
      ]
    },
    {
      "cell_type": "code",
      "metadata": {
        "id": "1OXFVPx7nIyn"
      },
      "source": [
        ""
      ],
      "execution_count": null,
      "outputs": []
    }
  ]
}