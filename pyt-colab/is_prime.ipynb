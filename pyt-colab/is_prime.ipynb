{
  "nbformat": 4,
  "nbformat_minor": 0,
  "metadata": {
    "colab": {
      "name": "is prime.ipynb",
      "provenance": [],
      "authorship_tag": "ABX9TyNXd/Ec/SBJkCgLGZ3KbU4A",
      "include_colab_link": true
    },
    "kernelspec": {
      "name": "python3",
      "display_name": "Python 3"
    },
    "language_info": {
      "name": "python"
    }
  },
  "cells": [
    {
      "cell_type": "markdown",
      "metadata": {
        "id": "view-in-github",
        "colab_type": "text"
      },
      "source": [
        "<a href=\"https://colab.research.google.com/github/themanoftalent/pyt-colab/blob/master/is_prime.ipynb\" target=\"_parent\"><img src=\"https://colab.research.google.com/assets/colab-badge.svg\" alt=\"Open In Colab\"/></a>"
      ]
    },
    {
      "cell_type": "code",
      "metadata": {
        "id": "EUHmF-INkWRQ"
      },
      "source": [
        "class Solution:\n",
        "    def isNumber(self, aString: str): #here we define the type\n",
        "        if aString.count('Infinity')>0:\n",
        "          return False\n",
        "        try:\n",
        "            float(aString)\n",
        "            return True\n",
        "        except:\n",
        "            return False"
      ],
      "execution_count": 96,
      "outputs": []
    },
    {
      "cell_type": "code",
      "metadata": {
        "colab": {
          "base_uri": "https://localhost:8080/"
        },
        "id": "HqKRa6381vWJ",
        "outputId": "281789f8-334f-4faa-bcb6-c40606109f86"
      },
      "source": [
        "s1=Solution()\n",
        "s1.isNumber([1,2])\n",
        "s1.isNumber(['a','b'])"
      ],
      "execution_count": 100,
      "outputs": [
        {
          "output_type": "execute_result",
          "data": {
            "text/plain": [
              "False"
            ]
          },
          "metadata": {
            "tags": []
          },
          "execution_count": 100
        }
      ]
    },
    {
      "cell_type": "code",
      "metadata": {
        "id": "p7xng5ZF2Fn8"
      },
      "source": [
        "# isprime\n",
        "def prime(n):\n",
        "  for i in range(2,int(n//2)):\n",
        "    if n%i ==0:\n",
        "      print(n, \"is not a prime number\")\n",
        "      break\n",
        "    else:\n",
        "      print(n, \"is a prime number\")"
      ],
      "execution_count": 92,
      "outputs": []
    },
    {
      "cell_type": "code",
      "metadata": {
        "colab": {
          "base_uri": "https://localhost:8080/"
        },
        "id": "oObYMk2vL2So",
        "outputId": "8acc26dd-0516-496c-fe66-463608a0db99"
      },
      "source": [
        "anumber=int(input('Enter a number:'))\n",
        "prime(anumber)\n"
      ],
      "execution_count": 70,
      "outputs": [
        {
          "output_type": "stream",
          "text": [
            "Enter a number:45\n",
            "45 is a prime number\n",
            "45 is not a prime number\n"
          ],
          "name": "stdout"
        }
      ]
    },
    {
      "cell_type": "code",
      "metadata": {
        "id": "CRlN2fsGMAwf"
      },
      "source": [
        ""
      ],
      "execution_count": 67,
      "outputs": []
    },
    {
      "cell_type": "code",
      "metadata": {
        "id": "fbvJbBvUOMLj"
      },
      "source": [
        ""
      ],
      "execution_count": null,
      "outputs": []
    }
  ]
}