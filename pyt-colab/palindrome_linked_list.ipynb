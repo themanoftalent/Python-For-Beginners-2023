{
  "nbformat": 4,
  "nbformat_minor": 0,
  "metadata": {
    "colab": {
      "name": "palindrome linked list.ipynb",
      "provenance": [],
      "authorship_tag": "ABX9TyMx6NZ6tKW9+8xiLtl6HdmM",
      "include_colab_link": true
    },
    "kernelspec": {
      "name": "python3",
      "display_name": "Python 3"
    },
    "language_info": {
      "name": "python"
    }
  },
  "cells": [
    {
      "cell_type": "markdown",
      "metadata": {
        "id": "view-in-github",
        "colab_type": "text"
      },
      "source": [
        "<a href=\"https://colab.research.google.com/github/themanoftalent/pyt-colab/blob/master/palindrome_linked_list.ipynb\" target=\"_parent\"><img src=\"https://colab.research.google.com/assets/colab-badge.svg\" alt=\"Open In Colab\"/></a>"
      ]
    },
    {
      "cell_type": "code",
      "metadata": {
        "id": "_zKrX-oWiK-R"
      },
      "source": [
        "class Node: \n",
        "  # Constructor to initialize the node object \n",
        "  def __init__(self, data): \n",
        "    self.data = data \n",
        "    self.next = None\n",
        "  \n",
        "class LinkedList: \n",
        "  # Function to initialize head \n",
        "  def __init__(self): \n",
        "    self.head = None\n",
        "\n",
        "  # A utility function to check if the list is palindrome or not \n",
        "\n",
        "  def isPalindrome(self):\n",
        "    node = self.head\n",
        "    length = 0\n",
        "    comp = []\n",
        "    while node:\n",
        "      comp.append(node.data)\n",
        "      node = node.next\n",
        "      length += 1\n",
        "\n",
        "    # Traverse the linked list again checking\n",
        "    # the elements of our stack(comp)\n",
        "    node = self.head\n",
        "    for item in comp[::-1]:\n",
        "      if (item!= node.data):\n",
        "        return False \n",
        "      node = node.next\n",
        "    return True"
      ],
      "execution_count": 42,
      "outputs": []
    },
    {
      "cell_type": "code",
      "metadata": {
        "colab": {
          "base_uri": "https://localhost:8080/"
        },
        "id": "_U-8XL1oiM1z",
        "outputId": "4ede9cb2-58d1-4cf0-a663-d9f88f7e74b8"
      },
      "source": [
        "# Driver code\n",
        "llist = LinkedList() \n",
        "llist.head = Node('1') \n",
        "llist.head.next = Node('3') \n",
        "llist.head.next.next = Node(\"5\") \n",
        "llist.head.next.next.next = Node(\"3\") \n",
        "llist.head.next.next.next.next = Node(\"1\") \n",
        "if (llist.isPalindrome()):\n",
        "  print(\"Linked List is a palindrome\")\n",
        "else:\n",
        "  print(\"Linked List is NOT a palindrome\") "
      ],
      "execution_count": 43,
      "outputs": [
        {
          "output_type": "stream",
          "text": [
            "Linked List is a palindrome\n"
          ],
          "name": "stdout"
        }
      ]
    },
    {
      "cell_type": "code",
      "metadata": {
        "colab": {
          "base_uri": "https://localhost:8080/",
          "height": 164
        },
        "id": "pvthUGj4iOXf",
        "outputId": "436bb958-6642-4300-cee3-47d31a9fd619"
      },
      "source": [
        ""
      ],
      "execution_count": 39,
      "outputs": [
        {
          "output_type": "error",
          "ename": "NameError",
          "evalue": "ignored",
          "traceback": [
            "\u001b[0;31m---------------------------------------------------------------------------\u001b[0m",
            "\u001b[0;31mNameError\u001b[0m                                 Traceback (most recent call last)",
            "\u001b[0;32m<ipython-input-39-948bfaaa301d>\u001b[0m in \u001b[0;36m<module>\u001b[0;34m()\u001b[0m\n\u001b[0;32m----> 1\u001b[0;31m \u001b[0mda\u001b[0m\u001b[0;34m\u001b[0m\u001b[0;34m\u001b[0m\u001b[0m\n\u001b[0m",
            "\u001b[0;31mNameError\u001b[0m: name 'da' is not defined"
          ]
        }
      ]
    },
    {
      "cell_type": "code",
      "metadata": {
        "id": "EUHmF-INkWRQ"
      },
      "source": [
        ""
      ],
      "execution_count": null,
      "outputs": []
    }
  ]
}