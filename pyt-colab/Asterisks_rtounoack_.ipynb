{
  "nbformat": 4,
  "nbformat_minor": 0,
  "metadata": {
    "colab": {
      "name": "Asterisks rtounoack .ipynb",
      "provenance": [],
      "collapsed_sections": [],
      "authorship_tag": "ABX9TyNHYabOdANo+aYV+T2dVJgh",
      "include_colab_link": true
    },
    "kernelspec": {
      "name": "python3",
      "display_name": "Python 3"
    },
    "language_info": {
      "name": "python"
    }
  },
  "cells": [
    {
      "cell_type": "markdown",
      "metadata": {
        "id": "view-in-github",
        "colab_type": "text"
      },
      "source": [
        "<a href=\"https://colab.research.google.com/github/themanoftalent/pyt-colab/blob/master/Asterisks_rtounoack_.ipynb\" target=\"_parent\"><img src=\"https://colab.research.google.com/assets/colab-badge.svg\" alt=\"Open In Colab\"/></a>"
      ]
    },
    {
      "cell_type": "code",
      "metadata": {
        "id": "A9tb0lUyWfr9"
      },
      "source": [
        "#Packing means capturing multiple elements at once. We use this feature in function calls."
      ],
      "execution_count": 57,
      "outputs": []
    },
    {
      "cell_type": "code",
      "metadata": {
        "id": "Ra6yw9kqWgkN"
      },
      "source": [
        "def average(*nums):\n",
        "    return sum(nums) / len(nums)"
      ],
      "execution_count": 58,
      "outputs": []
    },
    {
      "cell_type": "code",
      "metadata": {
        "colab": {
          "base_uri": "https://localhost:8080/"
        },
        "id": "8vg6UVL7-qyH",
        "outputId": "b3ea3c6a-3ea3-47a4-bd0d-5b29499f48da"
      },
      "source": [
        "average(1,2,3,4,5,6,7,8,9)"
      ],
      "execution_count": 59,
      "outputs": [
        {
          "output_type": "execute_result",
          "data": {
            "text/plain": [
              "5.0"
            ]
          },
          "metadata": {
            "tags": []
          },
          "execution_count": 59
        }
      ]
    },
    {
      "cell_type": "code",
      "metadata": {
        "colab": {
          "base_uri": "https://localhost:8080/"
        },
        "id": "1aon12GB-xnm",
        "outputId": "8002f96c-bf5a-4de4-c335-054bd806fc96"
      },
      "source": [
        "a,b,*_=(1,2,3,4,5,6,7,8,9)\n",
        "print(a)\n",
        "print(b)"
      ],
      "execution_count": 60,
      "outputs": [
        {
          "output_type": "stream",
          "text": [
            "1\n",
            "2\n"
          ],
          "name": "stdout"
        }
      ]
    },
    {
      "cell_type": "code",
      "metadata": {
        "colab": {
          "base_uri": "https://localhost:8080/"
        },
        "id": "EvFQVISn_KFI",
        "outputId": "b57af75c-54f1-4518-d9dd-ddf20ca63b61"
      },
      "source": [
        "a,b,*_,c=(1,2,3,4,5,6,7,8,9)\n",
        "print(a)\n",
        "print(b)\n",
        "print(c)"
      ],
      "execution_count": 61,
      "outputs": [
        {
          "output_type": "stream",
          "text": [
            "1\n",
            "2\n",
            "9\n"
          ],
          "name": "stdout"
        }
      ]
    },
    {
      "cell_type": "code",
      "metadata": {
        "colab": {
          "base_uri": "https://localhost:8080/"
        },
        "id": "CHl5C9Eo_PFS",
        "outputId": "b50f13ac-9ff4-4bd7-9cf3-5678077c5cea"
      },
      "source": [
        "def carmdel(name,**brand):\n",
        "  return name, brand\n",
        "\n",
        "\n",
        "carmdel(\"BMWcar\", color=\"Blue\", cost=3456755, company=\"BMW\")"
      ],
      "execution_count": 70,
      "outputs": [
        {
          "output_type": "execute_result",
          "data": {
            "text/plain": [
              "('BMWcar', {'color': 'Blue', 'company': 'BMW', 'cost': 3456755})"
            ]
          },
          "metadata": {
            "tags": []
          },
          "execution_count": 70
        }
      ]
    },
    {
      "cell_type": "code",
      "metadata": {
        "id": "13kPxVnO_USs"
      },
      "source": [
        ""
      ],
      "execution_count": null,
      "outputs": []
    }
  ]
}