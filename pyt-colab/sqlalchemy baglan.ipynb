{
  "nbformat": 4,
  "nbformat_minor": 0,
  "metadata": {
    "colab": {
      "name": "sorted.ipynb",
      "provenance": [],
      "collapsed_sections": [],
      "authorship_tag": "ABX9TyM5mj5/HRRJjxX2xdeUX0W5",
      "include_colab_link": true
    },
    "kernelspec": {
      "name": "python3",
      "display_name": "Python 3"
    },
    "language_info": {
      "name": "python"
    }
  },
  "cells": [
    {
      "cell_type": "markdown",
      "metadata": {
        "id": "view-in-github",
        "colab_type": "text"
      },
      "source": [
        "<a href=\"https://colab.research.google.com/github/themanoftalent/pyt-colab/blob/master/sqlalchemy%20baglan.ipynb\" target=\"_parent\"><img src=\"https://colab.research.google.com/assets/colab-badge.svg\" alt=\"Open In Colab\"/></a>"
      ]
    },
    {
      "cell_type": "code",
      "metadata": {
        "id": "QKQ2AqLpHLlF"
      },
      "source": [
        "import pandas as pd\n",
        "import numpy as np"
      ],
      "execution_count": 52,
      "outputs": []
    },
    {
      "cell_type": "code",
      "metadata": {
        "id": "EwOh4mXm5FQB"
      },
      "source": [
        "from sqlalchemy import create_engine"
      ],
      "execution_count": 53,
      "outputs": []
    },
    {
      "cell_type": "code",
      "metadata": {
        "id": "FpiloLdf5KVq"
      },
      "source": [
        "#veri hazirla\n",
        "#dataframe hazirla\n",
        "#engine baglan\n",
        "#table yarat\n",
        "#masa baglan"
      ],
      "execution_count": 54,
      "outputs": []
    },
    {
      "cell_type": "code",
      "metadata": {
        "id": "VymBBpw05UaV"
      },
      "source": [
        "#veri hazirla\n",
        "veriler = np.random.randint(low=0,high=100,size=(20,5))"
      ],
      "execution_count": 58,
      "outputs": []
    },
    {
      "cell_type": "code",
      "metadata": {
        "id": "rzkWY9UN5p8w"
      },
      "source": [
        "#dataframe hazirla \n",
        "df = pd.DataFrame(veriler,columns=['a','b','c','d','e'])"
      ],
      "execution_count": 59,
      "outputs": []
    },
    {
      "cell_type": "code",
      "metadata": {
        "id": "9garPjmO5q9N"
      },
      "source": [
        "#engine baglan\n",
        "baglan = create_engine('sqlite:///:memory:')"
      ],
      "execution_count": 61,
      "outputs": []
    },
    {
      "cell_type": "code",
      "metadata": {
        "id": "UfYvkC_U6Z0B"
      },
      "source": [
        "#table yarat\n",
        "verim =df.to_sql(name='masa_veri',con=baglan)"
      ],
      "execution_count": 62,
      "outputs": []
    },
    {
      "cell_type": "code",
      "metadata": {
        "id": "rLOao5kw7f3Y"
      },
      "source": [
        "#masa baglan\n",
        "verver = pd.read_sql_query('Select * from masa_veri',con=baglan)"
      ],
      "execution_count": 68,
      "outputs": []
    },
    {
      "cell_type": "code",
      "metadata": {
        "colab": {
          "base_uri": "https://localhost:8080/",
          "height": 669
        },
        "id": "u3_NUc3U7gvK",
        "outputId": "739441e1-5213-4cce-fd98-4700e20e4566"
      },
      "source": [
        "verver"
      ],
      "execution_count": 66,
      "outputs": [
        {
          "output_type": "execute_result",
          "data": {
            "text/html": [
              "<div>\n",
              "<style scoped>\n",
              "    .dataframe tbody tr th:only-of-type {\n",
              "        vertical-align: middle;\n",
              "    }\n",
              "\n",
              "    .dataframe tbody tr th {\n",
              "        vertical-align: top;\n",
              "    }\n",
              "\n",
              "    .dataframe thead th {\n",
              "        text-align: right;\n",
              "    }\n",
              "</style>\n",
              "<table border=\"1\" class=\"dataframe\">\n",
              "  <thead>\n",
              "    <tr style=\"text-align: right;\">\n",
              "      <th></th>\n",
              "      <th>index</th>\n",
              "      <th>a</th>\n",
              "      <th>b</th>\n",
              "      <th>c</th>\n",
              "      <th>d</th>\n",
              "      <th>e</th>\n",
              "    </tr>\n",
              "  </thead>\n",
              "  <tbody>\n",
              "    <tr>\n",
              "      <th>0</th>\n",
              "      <td>0</td>\n",
              "      <td>5</td>\n",
              "      <td>32</td>\n",
              "      <td>33</td>\n",
              "      <td>35</td>\n",
              "      <td>95</td>\n",
              "    </tr>\n",
              "    <tr>\n",
              "      <th>1</th>\n",
              "      <td>1</td>\n",
              "      <td>1</td>\n",
              "      <td>12</td>\n",
              "      <td>77</td>\n",
              "      <td>99</td>\n",
              "      <td>34</td>\n",
              "    </tr>\n",
              "    <tr>\n",
              "      <th>2</th>\n",
              "      <td>2</td>\n",
              "      <td>13</td>\n",
              "      <td>91</td>\n",
              "      <td>32</td>\n",
              "      <td>54</td>\n",
              "      <td>22</td>\n",
              "    </tr>\n",
              "    <tr>\n",
              "      <th>3</th>\n",
              "      <td>3</td>\n",
              "      <td>77</td>\n",
              "      <td>54</td>\n",
              "      <td>59</td>\n",
              "      <td>73</td>\n",
              "      <td>81</td>\n",
              "    </tr>\n",
              "    <tr>\n",
              "      <th>4</th>\n",
              "      <td>4</td>\n",
              "      <td>38</td>\n",
              "      <td>65</td>\n",
              "      <td>94</td>\n",
              "      <td>84</td>\n",
              "      <td>29</td>\n",
              "    </tr>\n",
              "    <tr>\n",
              "      <th>5</th>\n",
              "      <td>5</td>\n",
              "      <td>58</td>\n",
              "      <td>56</td>\n",
              "      <td>72</td>\n",
              "      <td>73</td>\n",
              "      <td>88</td>\n",
              "    </tr>\n",
              "    <tr>\n",
              "      <th>6</th>\n",
              "      <td>6</td>\n",
              "      <td>64</td>\n",
              "      <td>27</td>\n",
              "      <td>43</td>\n",
              "      <td>73</td>\n",
              "      <td>97</td>\n",
              "    </tr>\n",
              "    <tr>\n",
              "      <th>7</th>\n",
              "      <td>7</td>\n",
              "      <td>81</td>\n",
              "      <td>94</td>\n",
              "      <td>96</td>\n",
              "      <td>72</td>\n",
              "      <td>99</td>\n",
              "    </tr>\n",
              "    <tr>\n",
              "      <th>8</th>\n",
              "      <td>8</td>\n",
              "      <td>66</td>\n",
              "      <td>57</td>\n",
              "      <td>25</td>\n",
              "      <td>2</td>\n",
              "      <td>28</td>\n",
              "    </tr>\n",
              "    <tr>\n",
              "      <th>9</th>\n",
              "      <td>9</td>\n",
              "      <td>87</td>\n",
              "      <td>17</td>\n",
              "      <td>7</td>\n",
              "      <td>90</td>\n",
              "      <td>21</td>\n",
              "    </tr>\n",
              "    <tr>\n",
              "      <th>10</th>\n",
              "      <td>10</td>\n",
              "      <td>35</td>\n",
              "      <td>36</td>\n",
              "      <td>52</td>\n",
              "      <td>34</td>\n",
              "      <td>38</td>\n",
              "    </tr>\n",
              "    <tr>\n",
              "      <th>11</th>\n",
              "      <td>11</td>\n",
              "      <td>24</td>\n",
              "      <td>34</td>\n",
              "      <td>82</td>\n",
              "      <td>60</td>\n",
              "      <td>42</td>\n",
              "    </tr>\n",
              "    <tr>\n",
              "      <th>12</th>\n",
              "      <td>12</td>\n",
              "      <td>85</td>\n",
              "      <td>11</td>\n",
              "      <td>65</td>\n",
              "      <td>24</td>\n",
              "      <td>84</td>\n",
              "    </tr>\n",
              "    <tr>\n",
              "      <th>13</th>\n",
              "      <td>13</td>\n",
              "      <td>73</td>\n",
              "      <td>74</td>\n",
              "      <td>82</td>\n",
              "      <td>76</td>\n",
              "      <td>10</td>\n",
              "    </tr>\n",
              "    <tr>\n",
              "      <th>14</th>\n",
              "      <td>14</td>\n",
              "      <td>73</td>\n",
              "      <td>85</td>\n",
              "      <td>53</td>\n",
              "      <td>71</td>\n",
              "      <td>41</td>\n",
              "    </tr>\n",
              "    <tr>\n",
              "      <th>15</th>\n",
              "      <td>15</td>\n",
              "      <td>79</td>\n",
              "      <td>86</td>\n",
              "      <td>54</td>\n",
              "      <td>13</td>\n",
              "      <td>89</td>\n",
              "    </tr>\n",
              "    <tr>\n",
              "      <th>16</th>\n",
              "      <td>16</td>\n",
              "      <td>2</td>\n",
              "      <td>74</td>\n",
              "      <td>28</td>\n",
              "      <td>8</td>\n",
              "      <td>97</td>\n",
              "    </tr>\n",
              "    <tr>\n",
              "      <th>17</th>\n",
              "      <td>17</td>\n",
              "      <td>16</td>\n",
              "      <td>94</td>\n",
              "      <td>16</td>\n",
              "      <td>62</td>\n",
              "      <td>54</td>\n",
              "    </tr>\n",
              "    <tr>\n",
              "      <th>18</th>\n",
              "      <td>18</td>\n",
              "      <td>24</td>\n",
              "      <td>72</td>\n",
              "      <td>67</td>\n",
              "      <td>69</td>\n",
              "      <td>28</td>\n",
              "    </tr>\n",
              "    <tr>\n",
              "      <th>19</th>\n",
              "      <td>19</td>\n",
              "      <td>48</td>\n",
              "      <td>16</td>\n",
              "      <td>64</td>\n",
              "      <td>98</td>\n",
              "      <td>86</td>\n",
              "    </tr>\n",
              "  </tbody>\n",
              "</table>\n",
              "</div>"
            ],
            "text/plain": [
              "    index   a   b   c   d   e\n",
              "0       0   5  32  33  35  95\n",
              "1       1   1  12  77  99  34\n",
              "2       2  13  91  32  54  22\n",
              "3       3  77  54  59  73  81\n",
              "4       4  38  65  94  84  29\n",
              "5       5  58  56  72  73  88\n",
              "6       6  64  27  43  73  97\n",
              "7       7  81  94  96  72  99\n",
              "8       8  66  57  25   2  28\n",
              "9       9  87  17   7  90  21\n",
              "10     10  35  36  52  34  38\n",
              "11     11  24  34  82  60  42\n",
              "12     12  85  11  65  24  84\n",
              "13     13  73  74  82  76  10\n",
              "14     14  73  85  53  71  41\n",
              "15     15  79  86  54  13  89\n",
              "16     16   2  74  28   8  97\n",
              "17     17  16  94  16  62  54\n",
              "18     18  24  72  67  69  28\n",
              "19     19  48  16  64  98  86"
            ]
          },
          "metadata": {
            "tags": []
          },
          "execution_count": 66
        }
      ]
    },
    {
      "cell_type": "code",
      "metadata": {
        "id": "tDUKWTBL73h_"
      },
      "source": [
        ""
      ],
      "execution_count": null,
      "outputs": []
    }
  ]
}