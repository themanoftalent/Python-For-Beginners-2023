{
  "nbformat": 4,
  "nbformat_minor": 0,
  "metadata": {
    "colab": {
      "name": "Disemvowel.ipynb",
      "provenance": [],
      "authorship_tag": "ABX9TyMFFnYDdYnmM3pvNxHb0V+T",
      "include_colab_link": true
    },
    "kernelspec": {
      "name": "python3",
      "display_name": "Python 3"
    },
    "language_info": {
      "name": "python"
    }
  },
  "cells": [
    {
      "cell_type": "markdown",
      "metadata": {
        "id": "view-in-github",
        "colab_type": "text"
      },
      "source": [
        "<a href=\"https://colab.research.google.com/github/themanoftalent/pyt-colab/blob/master/Disemvowel.ipynb\" target=\"_parent\"><img src=\"https://colab.research.google.com/assets/colab-badge.svg\" alt=\"Open In Colab\"/></a>"
      ]
    },
    {
      "cell_type": "code",
      "metadata": {
        "colab": {
          "base_uri": "https://localhost:8080/"
        },
        "id": "n11IrA_XSbYE",
        "outputId": "4929763a-2623-4b92-bb39-c27940ad13d4"
      },
      "source": [
        "def disemvowel(strings):\n",
        "  mylist=list(strings)\n",
        "\n",
        "  vowels=[\"a\", \"A\", \"e\", \"E\", \"o\", \"O\", \"i\", \"I\", \"u\", \"U\"]\n",
        "\n",
        "\n",
        "\n",
        "  for letter in mylist:\n",
        "      for vowel in vowels:\n",
        "          if vowel == letter:\n",
        "              mylist.remove(letter)\n",
        "  print(\"\".join(mylist))\n",
        "\n",
        "\n",
        "disemvowel('lale lambada neler ulanmadan gelen')"
      ],
      "execution_count": 7,
      "outputs": [
        {
          "output_type": "stream",
          "text": [
            "ll lmbd nlr lnmdn gln\n"
          ],
          "name": "stdout"
        }
      ]
    },
    {
      "cell_type": "markdown",
      "metadata": {
        "id": "XiWsQAoiUvm1"
      },
      "source": [
        "And another solution is like"
      ]
    },
    {
      "cell_type": "code",
      "metadata": {
        "id": "gfqFDEYbUPOz"
      },
      "source": [
        "import re\n",
        "def disemvowel(string):\n",
        "    return re.sub('[aeiou]', '', string, flags = re.IGNORECASE)"
      ],
      "execution_count": 17,
      "outputs": []
    },
    {
      "cell_type": "code",
      "metadata": {
        "colab": {
          "base_uri": "https://localhost:8080/",
          "height": 35
        },
        "id": "9uNgmN1DUy2l",
        "outputId": "fb7a7b04-e531-4bff-eac9-9f47cb9013c2"
      },
      "source": [
        "disemvowel('lale lambada neler ulanmadan gelen')"
      ],
      "execution_count": 18,
      "outputs": [
        {
          "output_type": "execute_result",
          "data": {
            "application/vnd.google.colaboratory.intrinsic+json": {
              "type": "string"
            },
            "text/plain": [
              "'ll lmbd nlr lnmdn gln'"
            ]
          },
          "metadata": {
            "tags": []
          },
          "execution_count": 18
        }
      ]
    },
    {
      "cell_type": "code",
      "metadata": {
        "id": "qAdSlt44U0hl"
      },
      "source": [
        ""
      ],
      "execution_count": null,
      "outputs": []
    }
  ]
}