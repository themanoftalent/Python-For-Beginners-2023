{
  "nbformat": 4,
  "nbformat_minor": 0,
  "metadata": {
    "colab": {
      "name": "move all the zeros.ipynb",
      "provenance": [],
      "authorship_tag": "ABX9TyOBUJ9INxFRDnaCtM1Qbm4v",
      "include_colab_link": true
    },
    "kernelspec": {
      "name": "python3",
      "display_name": "Python 3"
    },
    "language_info": {
      "name": "python"
    }
  },
  "cells": [
    {
      "cell_type": "markdown",
      "metadata": {
        "id": "view-in-github",
        "colab_type": "text"
      },
      "source": [
        "<a href=\"https://colab.research.google.com/github/themanoftalent/pyt-colab/blob/master/move_all_the_zeros.ipynb\" target=\"_parent\"><img src=\"https://colab.research.google.com/assets/colab-badge.svg\" alt=\"Open In Colab\"/></a>"
      ]
    },
    {
      "cell_type": "code",
      "metadata": {
        "id": "ef3kiFTsfCf8"
      },
      "source": [
        "def move_zeros(array):\n",
        "\n",
        "  return sorted(array, key=lambda x:x==0)\n",
        "  #lambda x:x==0 and x is not bool/False"
      ],
      "execution_count": 10,
      "outputs": []
    },
    {
      "cell_type": "code",
      "metadata": {
        "colab": {
          "base_uri": "https://localhost:8080/"
        },
        "id": "qPC2gDgZfSxb",
        "outputId": "1e57b434-be3d-4eab-b20c-7649a49ddc84"
      },
      "source": [
        "move_zeros([1,0,8,40,0,0,4,5,6,0])"
      ],
      "execution_count": 12,
      "outputs": [
        {
          "output_type": "execute_result",
          "data": {
            "text/plain": [
              "[1, 8, 40, 4, 5, 6, 0, 0, 0, 0]"
            ]
          },
          "metadata": {
            "tags": []
          },
          "execution_count": 12
        }
      ]
    },
    {
      "cell_type": "markdown",
      "metadata": {
        "id": "a3QOK34ZfycH"
      },
      "source": [
        "Another method"
      ]
    },
    {
      "cell_type": "code",
      "metadata": {
        "colab": {
          "base_uri": "https://localhost:8080/"
        },
        "id": "ls8BvFAWfYN0",
        "outputId": "ba1afb3b-6daf-4e21-cc3a-1ef4df95a29b"
      },
      "source": [
        "import time\n",
        "start= time.time()\n",
        "\n",
        "def move_zeros(array):\n",
        "    newarr =[]\n",
        "    zeroarr=[]\n",
        "    for item in array:\n",
        "        if item!= 0 or type(item)== bool :\n",
        "            newarr.append(item)\n",
        "        else:\n",
        "            zeroarr.append(item)\n",
        "            \n",
        "            \n",
        "    newarr.extend(zeroarr)\n",
        "    return(newarr)\n",
        "\n",
        "\n",
        "\n",
        "x=move_zeros([1,0,8,40,0,0,4,5,6,0])\n",
        "print(x)\n",
        "print('')\n",
        "stop=time.time()\n",
        "# print('The working time is {0}'.format(round(stop-start,5)))\n",
        "print('The working time is {0:.3f}'.format(stop-start))"
      ],
      "execution_count": 30,
      "outputs": [
        {
          "output_type": "stream",
          "text": [
            "[1, 8, 40, 4, 5, 6, 0, 0, 0, 0]\n",
            "\n",
            "The working time is 0.004\n"
          ],
          "name": "stdout"
        }
      ]
    }
  ]
}