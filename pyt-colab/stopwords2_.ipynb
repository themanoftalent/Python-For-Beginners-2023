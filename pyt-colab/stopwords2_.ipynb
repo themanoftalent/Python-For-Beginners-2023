{
  "nbformat": 4,
  "nbformat_minor": 0,
  "metadata": {
    "colab": {
      "name": "stopwords2 .ipynb",
      "provenance": [],
      "collapsed_sections": [],
      "authorship_tag": "ABX9TyP/c4eeJEZP+2JSGMpz2NFI",
      "include_colab_link": true
    },
    "kernelspec": {
      "name": "python3",
      "display_name": "Python 3"
    },
    "language_info": {
      "name": "python"
    }
  },
  "cells": [
    {
      "cell_type": "markdown",
      "metadata": {
        "id": "view-in-github",
        "colab_type": "text"
      },
      "source": [
        "<a href=\"https://colab.research.google.com/github/themanoftalent/pyt-colab/blob/master/stopwords2_.ipynb\" target=\"_parent\"><img src=\"https://colab.research.google.com/assets/colab-badge.svg\" alt=\"Open In Colab\"/></a>"
      ]
    },
    {
      "cell_type": "code",
      "metadata": {
        "colab": {
          "base_uri": "https://localhost:8080/"
        },
        "id": "vdnj3C0_RH33",
        "outputId": "52be6cee-35e5-476d-e835-6d51da7af66c"
      },
      "source": [
        "import nltk\n",
        "from nltk.corpus import stopwords\n",
        "nltk.download('stopwords')\n",
        "nltk.download('punkt')\n",
        "from nltk.tokenize import word_tokenize\n",
        "print('')\n",
        "stop_uk= stopwords.words('english')\n",
        "print(stop_uk)"
      ],
      "execution_count": 166,
      "outputs": [
        {
          "output_type": "stream",
          "text": [
            "[nltk_data] Downloading package stopwords to /root/nltk_data...\n",
            "[nltk_data]   Package stopwords is already up-to-date!\n",
            "[nltk_data] Downloading package punkt to /root/nltk_data...\n",
            "[nltk_data]   Package punkt is already up-to-date!\n",
            "\n",
            "['i', 'me', 'my', 'myself', 'we', 'our', 'ours', 'ourselves', 'you', \"you're\", \"you've\", \"you'll\", \"you'd\", 'your', 'yours', 'yourself', 'yourselves', 'he', 'him', 'his', 'himself', 'she', \"she's\", 'her', 'hers', 'herself', 'it', \"it's\", 'its', 'itself', 'they', 'them', 'their', 'theirs', 'themselves', 'what', 'which', 'who', 'whom', 'this', 'that', \"that'll\", 'these', 'those', 'am', 'is', 'are', 'was', 'were', 'be', 'been', 'being', 'have', 'has', 'had', 'having', 'do', 'does', 'did', 'doing', 'a', 'an', 'the', 'and', 'but', 'if', 'or', 'because', 'as', 'until', 'while', 'of', 'at', 'by', 'for', 'with', 'about', 'against', 'between', 'into', 'through', 'during', 'before', 'after', 'above', 'below', 'to', 'from', 'up', 'down', 'in', 'out', 'on', 'off', 'over', 'under', 'again', 'further', 'then', 'once', 'here', 'there', 'when', 'where', 'why', 'how', 'all', 'any', 'both', 'each', 'few', 'more', 'most', 'other', 'some', 'such', 'no', 'nor', 'not', 'only', 'own', 'same', 'so', 'than', 'too', 'very', 's', 't', 'can', 'will', 'just', 'don', \"don't\", 'should', \"should've\", 'now', 'd', 'll', 'm', 'o', 're', 've', 'y', 'ain', 'aren', \"aren't\", 'couldn', \"couldn't\", 'didn', \"didn't\", 'doesn', \"doesn't\", 'hadn', \"hadn't\", 'hasn', \"hasn't\", 'haven', \"haven't\", 'isn', \"isn't\", 'ma', 'mightn', \"mightn't\", 'mustn', \"mustn't\", 'needn', \"needn't\", 'shan', \"shan't\", 'shouldn', \"shouldn't\", 'wasn', \"wasn't\", 'weren', \"weren't\", 'won', \"won't\", 'wouldn', \"wouldn't\"]\n"
          ],
          "name": "stdout"
        }
      ]
    },
    {
      "cell_type": "code",
      "metadata": {
        "id": "AYOVP-wXSDEp"
      },
      "source": [
        "with open('save.txt','r') as f:\n",
        "  read_me = f.read()"
      ],
      "execution_count": 167,
      "outputs": []
    },
    {
      "cell_type": "code",
      "metadata": {
        "id": "mZ0Ekm38Th9s"
      },
      "source": [
        "# here i make sentence token\n",
        "senten_uk= sent_tokenize(read_me)"
      ],
      "execution_count": 168,
      "outputs": []
    },
    {
      "cell_type": "code",
      "metadata": {
        "colab": {
          "base_uri": "https://localhost:8080/"
        },
        "id": "etGEXGZj0vHe",
        "outputId": "e9158f0e-97c5-4653-985b-fdade9a7ae63"
      },
      "source": [
        "cumle_token"
      ],
      "execution_count": 169,
      "outputs": [
        {
          "output_type": "execute_result",
          "data": {
            "text/plain": [
              "['Advancements in next-generation sequencer (NGS) platforms have improved NGS sequence data production and reduced the cost involved, which has resulted in the production of a large amount of genome data.',\n",
              " 'The downstream analysis of multiple associated sequences has become a bottleneck for the growing genomic data due to storage and space utilization issues in the domain of bioinformatics.',\n",
              " 'The traditional string-matching algorithms are efficient for small sized data sequences and cannot process large amounts of data for downstream analysis.',\n",
              " 'This study proposes a novel bit-parallelism algorithm called BitmapAligner to overcome the issues faced due to a large number of sequences and to improve the speed and quality of multiple sequence alignment (MSA).',\n",
              " 'The input files (sequences) tested over BitmapAligner can be easily managed and organized using the Hadoop distributed file system.',\n",
              " 'The proposed aligner converts the test file (the whole genome sequence) into binaries of an equal length of the sequence, line by line, before the sequence alignment processing.',\n",
              " 'The Hadoop distributed file system splits the larger files into blocks, based on a defined block size, which is 128 MB by default.',\n",
              " 'BitmapAligner can accurately process the sequence alignment using the bitmask approach on large-scale sequences after sorting the data.',\n",
              " 'The experimental results indicate that BitmapAligner operates in real time, with a large number of sequences.',\n",
              " 'Moreover, BitmapAligner achieves the exact start and end positions of the pattern sequence to test the MSA application in the whole genome query sequence.',\n",
              " 'The MSA’s accuracy is verified by the bitmask indexing property of the bit-parallelism extended shifts (BXS) algorithm.',\n",
              " 'The dynamic and exact approach of the BXS algorithm is implemented through the MapReduce function of Apache Hadoop.',\n",
              " 'Conversely, the traditional seeds-and-extend approach faces the risk of errors while identifying the pattern sequences’ positions.',\n",
              " 'Moreover, the proposed model resolves the largescale data challenges that are covered through MapReduce in the Hadoop framework.',\n",
              " 'Hive, Yarn, HBase, Cassandra, and many other pertinent flavors']"
            ]
          },
          "metadata": {
            "tags": []
          },
          "execution_count": 169
        }
      ]
    },
    {
      "cell_type": "code",
      "metadata": {
        "id": "GS8bY1_r09G9"
      },
      "source": [
        "# now I will create word token\n",
        "word_uk = word_tokenize(read_me)"
      ],
      "execution_count": 170,
      "outputs": []
    },
    {
      "cell_type": "code",
      "metadata": {
        "colab": {
          "base_uri": "https://localhost:8080/"
        },
        "id": "-arO303w1GJ2",
        "outputId": "d1c8be26-8247-4115-fd4c-fea74bee9ed1"
      },
      "source": [
        "word_uk"
      ],
      "execution_count": 171,
      "outputs": [
        {
          "output_type": "execute_result",
          "data": {
            "text/plain": [
              "['Advancements',\n",
              " 'in',\n",
              " 'next-generation',\n",
              " 'sequencer',\n",
              " '(',\n",
              " 'NGS',\n",
              " ')',\n",
              " 'platforms',\n",
              " 'have',\n",
              " 'improved',\n",
              " 'NGS',\n",
              " 'sequence',\n",
              " 'data',\n",
              " 'production',\n",
              " 'and',\n",
              " 'reduced',\n",
              " 'the',\n",
              " 'cost',\n",
              " 'involved',\n",
              " ',',\n",
              " 'which',\n",
              " 'has',\n",
              " 'resulted',\n",
              " 'in',\n",
              " 'the',\n",
              " 'production',\n",
              " 'of',\n",
              " 'a',\n",
              " 'large',\n",
              " 'amount',\n",
              " 'of',\n",
              " 'genome',\n",
              " 'data',\n",
              " '.',\n",
              " 'The',\n",
              " 'downstream',\n",
              " 'analysis',\n",
              " 'of',\n",
              " 'multiple',\n",
              " 'associated',\n",
              " 'sequences',\n",
              " 'has',\n",
              " 'become',\n",
              " 'a',\n",
              " 'bottleneck',\n",
              " 'for',\n",
              " 'the',\n",
              " 'growing',\n",
              " 'genomic',\n",
              " 'data',\n",
              " 'due',\n",
              " 'to',\n",
              " 'storage',\n",
              " 'and',\n",
              " 'space',\n",
              " 'utilization',\n",
              " 'issues',\n",
              " 'in',\n",
              " 'the',\n",
              " 'domain',\n",
              " 'of',\n",
              " 'bioinformatics',\n",
              " '.',\n",
              " 'The',\n",
              " 'traditional',\n",
              " 'string-matching',\n",
              " 'algorithms',\n",
              " 'are',\n",
              " 'efficient',\n",
              " 'for',\n",
              " 'small',\n",
              " 'sized',\n",
              " 'data',\n",
              " 'sequences',\n",
              " 'and',\n",
              " 'can',\n",
              " 'not',\n",
              " 'process',\n",
              " 'large',\n",
              " 'amounts',\n",
              " 'of',\n",
              " 'data',\n",
              " 'for',\n",
              " 'downstream',\n",
              " 'analysis',\n",
              " '.',\n",
              " 'This',\n",
              " 'study',\n",
              " 'proposes',\n",
              " 'a',\n",
              " 'novel',\n",
              " 'bit-parallelism',\n",
              " 'algorithm',\n",
              " 'called',\n",
              " 'BitmapAligner',\n",
              " 'to',\n",
              " 'overcome',\n",
              " 'the',\n",
              " 'issues',\n",
              " 'faced',\n",
              " 'due',\n",
              " 'to',\n",
              " 'a',\n",
              " 'large',\n",
              " 'number',\n",
              " 'of',\n",
              " 'sequences',\n",
              " 'and',\n",
              " 'to',\n",
              " 'improve',\n",
              " 'the',\n",
              " 'speed',\n",
              " 'and',\n",
              " 'quality',\n",
              " 'of',\n",
              " 'multiple',\n",
              " 'sequence',\n",
              " 'alignment',\n",
              " '(',\n",
              " 'MSA',\n",
              " ')',\n",
              " '.',\n",
              " 'The',\n",
              " 'input',\n",
              " 'files',\n",
              " '(',\n",
              " 'sequences',\n",
              " ')',\n",
              " 'tested',\n",
              " 'over',\n",
              " 'BitmapAligner',\n",
              " 'can',\n",
              " 'be',\n",
              " 'easily',\n",
              " 'managed',\n",
              " 'and',\n",
              " 'organized',\n",
              " 'using',\n",
              " 'the',\n",
              " 'Hadoop',\n",
              " 'distributed',\n",
              " 'file',\n",
              " 'system',\n",
              " '.',\n",
              " 'The',\n",
              " 'proposed',\n",
              " 'aligner',\n",
              " 'converts',\n",
              " 'the',\n",
              " 'test',\n",
              " 'file',\n",
              " '(',\n",
              " 'the',\n",
              " 'whole',\n",
              " 'genome',\n",
              " 'sequence',\n",
              " ')',\n",
              " 'into',\n",
              " 'binaries',\n",
              " 'of',\n",
              " 'an',\n",
              " 'equal',\n",
              " 'length',\n",
              " 'of',\n",
              " 'the',\n",
              " 'sequence',\n",
              " ',',\n",
              " 'line',\n",
              " 'by',\n",
              " 'line',\n",
              " ',',\n",
              " 'before',\n",
              " 'the',\n",
              " 'sequence',\n",
              " 'alignment',\n",
              " 'processing',\n",
              " '.',\n",
              " 'The',\n",
              " 'Hadoop',\n",
              " 'distributed',\n",
              " 'file',\n",
              " 'system',\n",
              " 'splits',\n",
              " 'the',\n",
              " 'larger',\n",
              " 'files',\n",
              " 'into',\n",
              " 'blocks',\n",
              " ',',\n",
              " 'based',\n",
              " 'on',\n",
              " 'a',\n",
              " 'defined',\n",
              " 'block',\n",
              " 'size',\n",
              " ',',\n",
              " 'which',\n",
              " 'is',\n",
              " '128',\n",
              " 'MB',\n",
              " 'by',\n",
              " 'default',\n",
              " '.',\n",
              " 'BitmapAligner',\n",
              " 'can',\n",
              " 'accurately',\n",
              " 'process',\n",
              " 'the',\n",
              " 'sequence',\n",
              " 'alignment',\n",
              " 'using',\n",
              " 'the',\n",
              " 'bitmask',\n",
              " 'approach',\n",
              " 'on',\n",
              " 'large-scale',\n",
              " 'sequences',\n",
              " 'after',\n",
              " 'sorting',\n",
              " 'the',\n",
              " 'data',\n",
              " '.',\n",
              " 'The',\n",
              " 'experimental',\n",
              " 'results',\n",
              " 'indicate',\n",
              " 'that',\n",
              " 'BitmapAligner',\n",
              " 'operates',\n",
              " 'in',\n",
              " 'real',\n",
              " 'time',\n",
              " ',',\n",
              " 'with',\n",
              " 'a',\n",
              " 'large',\n",
              " 'number',\n",
              " 'of',\n",
              " 'sequences',\n",
              " '.',\n",
              " 'Moreover',\n",
              " ',',\n",
              " 'BitmapAligner',\n",
              " 'achieves',\n",
              " 'the',\n",
              " 'exact',\n",
              " 'start',\n",
              " 'and',\n",
              " 'end',\n",
              " 'positions',\n",
              " 'of',\n",
              " 'the',\n",
              " 'pattern',\n",
              " 'sequence',\n",
              " 'to',\n",
              " 'test',\n",
              " 'the',\n",
              " 'MSA',\n",
              " 'application',\n",
              " 'in',\n",
              " 'the',\n",
              " 'whole',\n",
              " 'genome',\n",
              " 'query',\n",
              " 'sequence',\n",
              " '.',\n",
              " 'The',\n",
              " 'MSA',\n",
              " '’',\n",
              " 's',\n",
              " 'accuracy',\n",
              " 'is',\n",
              " 'verified',\n",
              " 'by',\n",
              " 'the',\n",
              " 'bitmask',\n",
              " 'indexing',\n",
              " 'property',\n",
              " 'of',\n",
              " 'the',\n",
              " 'bit-parallelism',\n",
              " 'extended',\n",
              " 'shifts',\n",
              " '(',\n",
              " 'BXS',\n",
              " ')',\n",
              " 'algorithm',\n",
              " '.',\n",
              " 'The',\n",
              " 'dynamic',\n",
              " 'and',\n",
              " 'exact',\n",
              " 'approach',\n",
              " 'of',\n",
              " 'the',\n",
              " 'BXS',\n",
              " 'algorithm',\n",
              " 'is',\n",
              " 'implemented',\n",
              " 'through',\n",
              " 'the',\n",
              " 'MapReduce',\n",
              " 'function',\n",
              " 'of',\n",
              " 'Apache',\n",
              " 'Hadoop',\n",
              " '.',\n",
              " 'Conversely',\n",
              " ',',\n",
              " 'the',\n",
              " 'traditional',\n",
              " 'seeds-and-extend',\n",
              " 'approach',\n",
              " 'faces',\n",
              " 'the',\n",
              " 'risk',\n",
              " 'of',\n",
              " 'errors',\n",
              " 'while',\n",
              " 'identifying',\n",
              " 'the',\n",
              " 'pattern',\n",
              " 'sequences',\n",
              " '’',\n",
              " 'positions',\n",
              " '.',\n",
              " 'Moreover',\n",
              " ',',\n",
              " 'the',\n",
              " 'proposed',\n",
              " 'model',\n",
              " 'resolves',\n",
              " 'the',\n",
              " 'largescale',\n",
              " 'data',\n",
              " 'challenges',\n",
              " 'that',\n",
              " 'are',\n",
              " 'covered',\n",
              " 'through',\n",
              " 'MapReduce',\n",
              " 'in',\n",
              " 'the',\n",
              " 'Hadoop',\n",
              " 'framework',\n",
              " '.',\n",
              " 'Hive',\n",
              " ',',\n",
              " 'Yarn',\n",
              " ',',\n",
              " 'HBase',\n",
              " ',',\n",
              " 'Cassandra',\n",
              " ',',\n",
              " 'and',\n",
              " 'many',\n",
              " 'other',\n",
              " 'pertinent',\n",
              " 'flavors']"
            ]
          },
          "metadata": {
            "tags": []
          },
          "execution_count": 171
        }
      ]
    },
    {
      "cell_type": "code",
      "metadata": {
        "colab": {
          "base_uri": "https://localhost:8080/"
        },
        "id": "BRYu_F7WTbDU",
        "outputId": "32da493b-f077-4e3e-e2dd-9c249efe4fd9"
      },
      "source": [
        "output=[]\n",
        "for cumle in word_uk:\n",
        "  if cumle not in ing_stop: \n",
        "    output.append(cumle)\n",
        "print(output)"
      ],
      "execution_count": 172,
      "outputs": [
        {
          "output_type": "stream",
          "text": [
            "['Advancements', 'next-generation', 'sequencer', '(', 'NGS', ')', 'platforms', 'improved', 'NGS', 'sequence', 'data', 'production', 'reduced', 'cost', 'involved', ',', 'resulted', 'production', 'large', 'amount', 'genome', 'data', '.', 'The', 'downstream', 'analysis', 'multiple', 'associated', 'sequences', 'become', 'bottleneck', 'growing', 'genomic', 'data', 'due', 'storage', 'space', 'utilization', 'issues', 'domain', 'bioinformatics', '.', 'The', 'traditional', 'string-matching', 'algorithms', 'efficient', 'small', 'sized', 'data', 'sequences', 'process', 'large', 'amounts', 'data', 'downstream', 'analysis', '.', 'This', 'study', 'proposes', 'novel', 'bit-parallelism', 'algorithm', 'called', 'BitmapAligner', 'overcome', 'issues', 'faced', 'due', 'large', 'number', 'sequences', 'improve', 'speed', 'quality', 'multiple', 'sequence', 'alignment', '(', 'MSA', ')', '.', 'The', 'input', 'files', '(', 'sequences', ')', 'tested', 'BitmapAligner', 'easily', 'managed', 'organized', 'using', 'Hadoop', 'distributed', 'file', 'system', '.', 'The', 'proposed', 'aligner', 'converts', 'test', 'file', '(', 'whole', 'genome', 'sequence', ')', 'binaries', 'equal', 'length', 'sequence', ',', 'line', 'line', ',', 'sequence', 'alignment', 'processing', '.', 'The', 'Hadoop', 'distributed', 'file', 'system', 'splits', 'larger', 'files', 'blocks', ',', 'based', 'defined', 'block', 'size', ',', '128', 'MB', 'default', '.', 'BitmapAligner', 'accurately', 'process', 'sequence', 'alignment', 'using', 'bitmask', 'approach', 'large-scale', 'sequences', 'sorting', 'data', '.', 'The', 'experimental', 'results', 'indicate', 'BitmapAligner', 'operates', 'real', 'time', ',', 'large', 'number', 'sequences', '.', 'Moreover', ',', 'BitmapAligner', 'achieves', 'exact', 'start', 'end', 'positions', 'pattern', 'sequence', 'test', 'MSA', 'application', 'whole', 'genome', 'query', 'sequence', '.', 'The', 'MSA', '’', 'accuracy', 'verified', 'bitmask', 'indexing', 'property', 'bit-parallelism', 'extended', 'shifts', '(', 'BXS', ')', 'algorithm', '.', 'The', 'dynamic', 'exact', 'approach', 'BXS', 'algorithm', 'implemented', 'MapReduce', 'function', 'Apache', 'Hadoop', '.', 'Conversely', ',', 'traditional', 'seeds-and-extend', 'approach', 'faces', 'risk', 'errors', 'identifying', 'pattern', 'sequences', '’', 'positions', '.', 'Moreover', ',', 'proposed', 'model', 'resolves', 'largescale', 'data', 'challenges', 'covered', 'MapReduce', 'Hadoop', 'framework', '.', 'Hive', ',', 'Yarn', ',', 'HBase', ',', 'Cassandra', ',', 'many', 'pertinent', 'flavors']\n"
          ],
          "name": "stdout"
        }
      ]
    },
    {
      "cell_type": "code",
      "metadata": {
        "colab": {
          "base_uri": "https://localhost:8080/",
          "height": 137
        },
        "id": "hElAODj5Tboj",
        "outputId": "da30f67d-16e6-49eb-8c3b-4e600e9d5951"
      },
      "source": [
        "read_me"
      ],
      "execution_count": 173,
      "outputs": [
        {
          "output_type": "execute_result",
          "data": {
            "application/vnd.google.colaboratory.intrinsic+json": {
              "type": "string"
            },
            "text/plain": [
              "'Advancements in next-generation sequencer (NGS) platforms have improved NGS sequence data production and reduced the cost involved, which has resulted in the production of a large amount of genome data. The downstream analysis of multiple associated sequences has become a bottleneck for the growing genomic data due to storage and space utilization issues in the domain of bioinformatics. The traditional string-matching algorithms are efficient for small sized data sequences and cannot process large amounts of data for downstream analysis. This study proposes a novel bit-parallelism algorithm called BitmapAligner to overcome the issues faced due to a large number of sequences and to improve the speed and quality of multiple sequence alignment (MSA). The input files (sequences) tested over BitmapAligner can be easily managed and organized using the Hadoop distributed file system. The proposed aligner converts the test file (the whole genome sequence) into binaries of an equal length of the sequence, line by line, before the sequence alignment processing. The Hadoop distributed file system splits the larger files into blocks, based on a defined block size, which is 128 MB by default. BitmapAligner can accurately process the sequence alignment using the bitmask approach on large-scale sequences after sorting the data. The experimental results indicate that BitmapAligner operates in real time, with a large number of sequences. Moreover, BitmapAligner achieves the exact start and end positions of the pattern sequence to test the MSA application in the whole genome query sequence. The MSA’s accuracy is verified by the bitmask indexing property of the bit-parallelism extended shifts (BXS) algorithm. The dynamic and exact approach of the BXS algorithm is implemented through the MapReduce function of Apache Hadoop. Conversely, the traditional seeds-and-extend approach faces the risk of errors while identifying the pattern sequences’ positions. Moreover, the proposed model resolves the largescale data challenges that are covered through MapReduce in the Hadoop framework. Hive, Yarn, HBase, Cassandra, and many other pertinent flavors'"
            ]
          },
          "metadata": {
            "tags": []
          },
          "execution_count": 173
        }
      ]
    },
    {
      "cell_type": "code",
      "metadata": {
        "id": "QORKbpG2T5Mh"
      },
      "source": [
        "tokens_without_sw = [word for word in senten_uk if not word in stopwords.words('english')]"
      ],
      "execution_count": 174,
      "outputs": []
    },
    {
      "cell_type": "code",
      "metadata": {
        "colab": {
          "base_uri": "https://localhost:8080/"
        },
        "id": "ha7G4K6_1iks",
        "outputId": "2848a3fa-bd71-41d5-f741-896753d84ea0"
      },
      "source": [
        "print(tokens_without_sw)"
      ],
      "execution_count": 175,
      "outputs": [
        {
          "output_type": "stream",
          "text": [
            "['Advancements in next-generation sequencer (NGS) platforms have improved NGS sequence data production and reduced the cost involved, which has resulted in the production of a large amount of genome data.', 'The downstream analysis of multiple associated sequences has become a bottleneck for the growing genomic data due to storage and space utilization issues in the domain of bioinformatics.', 'The traditional string-matching algorithms are efficient for small sized data sequences and cannot process large amounts of data for downstream analysis.', 'This study proposes a novel bit-parallelism algorithm called BitmapAligner to overcome the issues faced due to a large number of sequences and to improve the speed and quality of multiple sequence alignment (MSA).', 'The input files (sequences) tested over BitmapAligner can be easily managed and organized using the Hadoop distributed file system.', 'The proposed aligner converts the test file (the whole genome sequence) into binaries of an equal length of the sequence, line by line, before the sequence alignment processing.', 'The Hadoop distributed file system splits the larger files into blocks, based on a defined block size, which is 128 MB by default.', 'BitmapAligner can accurately process the sequence alignment using the bitmask approach on large-scale sequences after sorting the data.', 'The experimental results indicate that BitmapAligner operates in real time, with a large number of sequences.', 'Moreover, BitmapAligner achieves the exact start and end positions of the pattern sequence to test the MSA application in the whole genome query sequence.', 'The MSA’s accuracy is verified by the bitmask indexing property of the bit-parallelism extended shifts (BXS) algorithm.', 'The dynamic and exact approach of the BXS algorithm is implemented through the MapReduce function of Apache Hadoop.', 'Conversely, the traditional seeds-and-extend approach faces the risk of errors while identifying the pattern sequences’ positions.', 'Moreover, the proposed model resolves the largescale data challenges that are covered through MapReduce in the Hadoop framework.', 'Hive, Yarn, HBase, Cassandra, and many other pertinent flavors']\n"
          ],
          "name": "stdout"
        }
      ]
    },
    {
      "cell_type": "code",
      "metadata": {
        "colab": {
          "base_uri": "https://localhost:8080/"
        },
        "id": "9reUGsgb10u0",
        "outputId": "ad9aa83a-6e21-45c0-83a3-f27d9583ab67"
      },
      "source": [
        "print(stop_uk)"
      ],
      "execution_count": 176,
      "outputs": [
        {
          "output_type": "stream",
          "text": [
            "['i', 'me', 'my', 'myself', 'we', 'our', 'ours', 'ourselves', 'you', \"you're\", \"you've\", \"you'll\", \"you'd\", 'your', 'yours', 'yourself', 'yourselves', 'he', 'him', 'his', 'himself', 'she', \"she's\", 'her', 'hers', 'herself', 'it', \"it's\", 'its', 'itself', 'they', 'them', 'their', 'theirs', 'themselves', 'what', 'which', 'who', 'whom', 'this', 'that', \"that'll\", 'these', 'those', 'am', 'is', 'are', 'was', 'were', 'be', 'been', 'being', 'have', 'has', 'had', 'having', 'do', 'does', 'did', 'doing', 'a', 'an', 'the', 'and', 'but', 'if', 'or', 'because', 'as', 'until', 'while', 'of', 'at', 'by', 'for', 'with', 'about', 'against', 'between', 'into', 'through', 'during', 'before', 'after', 'above', 'below', 'to', 'from', 'up', 'down', 'in', 'out', 'on', 'off', 'over', 'under', 'again', 'further', 'then', 'once', 'here', 'there', 'when', 'where', 'why', 'how', 'all', 'any', 'both', 'each', 'few', 'more', 'most', 'other', 'some', 'such', 'no', 'nor', 'not', 'only', 'own', 'same', 'so', 'than', 'too', 'very', 's', 't', 'can', 'will', 'just', 'don', \"don't\", 'should', \"should've\", 'now', 'd', 'll', 'm', 'o', 're', 've', 'y', 'ain', 'aren', \"aren't\", 'couldn', \"couldn't\", 'didn', \"didn't\", 'doesn', \"doesn't\", 'hadn', \"hadn't\", 'hasn', \"hasn't\", 'haven', \"haven't\", 'isn', \"isn't\", 'ma', 'mightn', \"mightn't\", 'mustn', \"mustn't\", 'needn', \"needn't\", 'shan', \"shan't\", 'shouldn', \"shouldn't\", 'wasn', \"wasn't\", 'weren', \"weren't\", 'won', \"won't\", 'wouldn', \"wouldn't\"]\n"
          ],
          "name": "stdout"
        }
      ]
    },
    {
      "cell_type": "code",
      "metadata": {
        "id": "imn5kwC72IYw"
      },
      "source": [
        ""
      ],
      "execution_count": 176,
      "outputs": []
    },
    {
      "cell_type": "code",
      "metadata": {
        "colab": {
          "base_uri": "https://localhost:8080/"
        },
        "id": "G07nsUIp2RwI",
        "outputId": "da4224f4-ee2e-4fa1-c23d-d67724ef5289"
      },
      "source": [
        "import nltk\n",
        "from nltk.corpus import stopwords\n",
        "nltk.download('stopwords')\n",
        "nltk.download('punkt')\n",
        "from nltk.tokenize import word_tokenize\n",
        "\n",
        "print(stopwords.words('english'))\n",
        "\n",
        "# random sentecnce with lot of stop words\n",
        "with open('save.txt','r') as f1:\n",
        "  sample_text =f1.read()\n",
        "\n",
        "text_tokens = word_tokenize(sample_text)\n",
        "\n",
        "tokens_without_sw = [word for word in text_tokens if not word in stopwords.words('english')]\n",
        "print('')\n",
        "print('original hali=',text_tokens)\n",
        "print('')\n",
        "print('stopword alinmis =',tokens_without_sw)"
      ],
      "execution_count": 177,
      "outputs": [
        {
          "output_type": "stream",
          "text": [
            "[nltk_data] Downloading package stopwords to /root/nltk_data...\n",
            "[nltk_data]   Package stopwords is already up-to-date!\n",
            "[nltk_data] Downloading package punkt to /root/nltk_data...\n",
            "[nltk_data]   Package punkt is already up-to-date!\n",
            "['i', 'me', 'my', 'myself', 'we', 'our', 'ours', 'ourselves', 'you', \"you're\", \"you've\", \"you'll\", \"you'd\", 'your', 'yours', 'yourself', 'yourselves', 'he', 'him', 'his', 'himself', 'she', \"she's\", 'her', 'hers', 'herself', 'it', \"it's\", 'its', 'itself', 'they', 'them', 'their', 'theirs', 'themselves', 'what', 'which', 'who', 'whom', 'this', 'that', \"that'll\", 'these', 'those', 'am', 'is', 'are', 'was', 'were', 'be', 'been', 'being', 'have', 'has', 'had', 'having', 'do', 'does', 'did', 'doing', 'a', 'an', 'the', 'and', 'but', 'if', 'or', 'because', 'as', 'until', 'while', 'of', 'at', 'by', 'for', 'with', 'about', 'against', 'between', 'into', 'through', 'during', 'before', 'after', 'above', 'below', 'to', 'from', 'up', 'down', 'in', 'out', 'on', 'off', 'over', 'under', 'again', 'further', 'then', 'once', 'here', 'there', 'when', 'where', 'why', 'how', 'all', 'any', 'both', 'each', 'few', 'more', 'most', 'other', 'some', 'such', 'no', 'nor', 'not', 'only', 'own', 'same', 'so', 'than', 'too', 'very', 's', 't', 'can', 'will', 'just', 'don', \"don't\", 'should', \"should've\", 'now', 'd', 'll', 'm', 'o', 're', 've', 'y', 'ain', 'aren', \"aren't\", 'couldn', \"couldn't\", 'didn', \"didn't\", 'doesn', \"doesn't\", 'hadn', \"hadn't\", 'hasn', \"hasn't\", 'haven', \"haven't\", 'isn', \"isn't\", 'ma', 'mightn', \"mightn't\", 'mustn', \"mustn't\", 'needn', \"needn't\", 'shan', \"shan't\", 'shouldn', \"shouldn't\", 'wasn', \"wasn't\", 'weren', \"weren't\", 'won', \"won't\", 'wouldn', \"wouldn't\"]\n",
            "\n",
            "original hali= ['Advancements', 'in', 'next-generation', 'sequencer', '(', 'NGS', ')', 'platforms', 'have', 'improved', 'NGS', 'sequence', 'data', 'production', 'and', 'reduced', 'the', 'cost', 'involved', ',', 'which', 'has', 'resulted', 'in', 'the', 'production', 'of', 'a', 'large', 'amount', 'of', 'genome', 'data', '.', 'The', 'downstream', 'analysis', 'of', 'multiple', 'associated', 'sequences', 'has', 'become', 'a', 'bottleneck', 'for', 'the', 'growing', 'genomic', 'data', 'due', 'to', 'storage', 'and', 'space', 'utilization', 'issues', 'in', 'the', 'domain', 'of', 'bioinformatics', '.', 'The', 'traditional', 'string-matching', 'algorithms', 'are', 'efficient', 'for', 'small', 'sized', 'data', 'sequences', 'and', 'can', 'not', 'process', 'large', 'amounts', 'of', 'data', 'for', 'downstream', 'analysis', '.', 'This', 'study', 'proposes', 'a', 'novel', 'bit-parallelism', 'algorithm', 'called', 'BitmapAligner', 'to', 'overcome', 'the', 'issues', 'faced', 'due', 'to', 'a', 'large', 'number', 'of', 'sequences', 'and', 'to', 'improve', 'the', 'speed', 'and', 'quality', 'of', 'multiple', 'sequence', 'alignment', '(', 'MSA', ')', '.', 'The', 'input', 'files', '(', 'sequences', ')', 'tested', 'over', 'BitmapAligner', 'can', 'be', 'easily', 'managed', 'and', 'organized', 'using', 'the', 'Hadoop', 'distributed', 'file', 'system', '.', 'The', 'proposed', 'aligner', 'converts', 'the', 'test', 'file', '(', 'the', 'whole', 'genome', 'sequence', ')', 'into', 'binaries', 'of', 'an', 'equal', 'length', 'of', 'the', 'sequence', ',', 'line', 'by', 'line', ',', 'before', 'the', 'sequence', 'alignment', 'processing', '.', 'The', 'Hadoop', 'distributed', 'file', 'system', 'splits', 'the', 'larger', 'files', 'into', 'blocks', ',', 'based', 'on', 'a', 'defined', 'block', 'size', ',', 'which', 'is', '128', 'MB', 'by', 'default', '.', 'BitmapAligner', 'can', 'accurately', 'process', 'the', 'sequence', 'alignment', 'using', 'the', 'bitmask', 'approach', 'on', 'large-scale', 'sequences', 'after', 'sorting', 'the', 'data', '.', 'The', 'experimental', 'results', 'indicate', 'that', 'BitmapAligner', 'operates', 'in', 'real', 'time', ',', 'with', 'a', 'large', 'number', 'of', 'sequences', '.', 'Moreover', ',', 'BitmapAligner', 'achieves', 'the', 'exact', 'start', 'and', 'end', 'positions', 'of', 'the', 'pattern', 'sequence', 'to', 'test', 'the', 'MSA', 'application', 'in', 'the', 'whole', 'genome', 'query', 'sequence', '.', 'The', 'MSA', '’', 's', 'accuracy', 'is', 'verified', 'by', 'the', 'bitmask', 'indexing', 'property', 'of', 'the', 'bit-parallelism', 'extended', 'shifts', '(', 'BXS', ')', 'algorithm', '.', 'The', 'dynamic', 'and', 'exact', 'approach', 'of', 'the', 'BXS', 'algorithm', 'is', 'implemented', 'through', 'the', 'MapReduce', 'function', 'of', 'Apache', 'Hadoop', '.', 'Conversely', ',', 'the', 'traditional', 'seeds-and-extend', 'approach', 'faces', 'the', 'risk', 'of', 'errors', 'while', 'identifying', 'the', 'pattern', 'sequences', '’', 'positions', '.', 'Moreover', ',', 'the', 'proposed', 'model', 'resolves', 'the', 'largescale', 'data', 'challenges', 'that', 'are', 'covered', 'through', 'MapReduce', 'in', 'the', 'Hadoop', 'framework', '.', 'Hive', ',', 'Yarn', ',', 'HBase', ',', 'Cassandra', ',', 'and', 'many', 'other', 'pertinent', 'flavors']\n",
            "\n",
            "stopword alinmis = ['Advancements', 'next-generation', 'sequencer', '(', 'NGS', ')', 'platforms', 'improved', 'NGS', 'sequence', 'data', 'production', 'reduced', 'cost', 'involved', ',', 'resulted', 'production', 'large', 'amount', 'genome', 'data', '.', 'The', 'downstream', 'analysis', 'multiple', 'associated', 'sequences', 'become', 'bottleneck', 'growing', 'genomic', 'data', 'due', 'storage', 'space', 'utilization', 'issues', 'domain', 'bioinformatics', '.', 'The', 'traditional', 'string-matching', 'algorithms', 'efficient', 'small', 'sized', 'data', 'sequences', 'process', 'large', 'amounts', 'data', 'downstream', 'analysis', '.', 'This', 'study', 'proposes', 'novel', 'bit-parallelism', 'algorithm', 'called', 'BitmapAligner', 'overcome', 'issues', 'faced', 'due', 'large', 'number', 'sequences', 'improve', 'speed', 'quality', 'multiple', 'sequence', 'alignment', '(', 'MSA', ')', '.', 'The', 'input', 'files', '(', 'sequences', ')', 'tested', 'BitmapAligner', 'easily', 'managed', 'organized', 'using', 'Hadoop', 'distributed', 'file', 'system', '.', 'The', 'proposed', 'aligner', 'converts', 'test', 'file', '(', 'whole', 'genome', 'sequence', ')', 'binaries', 'equal', 'length', 'sequence', ',', 'line', 'line', ',', 'sequence', 'alignment', 'processing', '.', 'The', 'Hadoop', 'distributed', 'file', 'system', 'splits', 'larger', 'files', 'blocks', ',', 'based', 'defined', 'block', 'size', ',', '128', 'MB', 'default', '.', 'BitmapAligner', 'accurately', 'process', 'sequence', 'alignment', 'using', 'bitmask', 'approach', 'large-scale', 'sequences', 'sorting', 'data', '.', 'The', 'experimental', 'results', 'indicate', 'BitmapAligner', 'operates', 'real', 'time', ',', 'large', 'number', 'sequences', '.', 'Moreover', ',', 'BitmapAligner', 'achieves', 'exact', 'start', 'end', 'positions', 'pattern', 'sequence', 'test', 'MSA', 'application', 'whole', 'genome', 'query', 'sequence', '.', 'The', 'MSA', '’', 'accuracy', 'verified', 'bitmask', 'indexing', 'property', 'bit-parallelism', 'extended', 'shifts', '(', 'BXS', ')', 'algorithm', '.', 'The', 'dynamic', 'exact', 'approach', 'BXS', 'algorithm', 'implemented', 'MapReduce', 'function', 'Apache', 'Hadoop', '.', 'Conversely', ',', 'traditional', 'seeds-and-extend', 'approach', 'faces', 'risk', 'errors', 'identifying', 'pattern', 'sequences', '’', 'positions', '.', 'Moreover', ',', 'proposed', 'model', 'resolves', 'largescale', 'data', 'challenges', 'covered', 'MapReduce', 'Hadoop', 'framework', '.', 'Hive', ',', 'Yarn', ',', 'HBase', ',', 'Cassandra', ',', 'many', 'pertinent', 'flavors']\n"
          ],
          "name": "stdout"
        }
      ]
    },
    {
      "cell_type": "code",
      "metadata": {
        "id": "ZxDz9UPw2dbr"
      },
      "source": [
        ""
      ],
      "execution_count": 177,
      "outputs": []
    },
    {
      "cell_type": "code",
      "metadata": {
        "colab": {
          "base_uri": "https://localhost:8080/"
        },
        "id": "geA8X5L5Dwsb",
        "outputId": "15fb5edc-d297-4be1-aae5-5daa18545989"
      },
      "source": [
        "import spacy\n",
        "from nltk.tokenize import word_tokenize\n",
        "# loading english language model of spaCy\n",
        "en_model = spacy.load('en_core_web_sm')\n",
        "# gettign the list of default stop words in spaCy english model\n",
        "stopwords = en_model.Defaults.stop_words\n",
        "\n",
        "\n",
        "text_tokens = word_tokenize(sample_text)\n",
        "tokens_without_sw= [word for word in text_tokens if not word in stopwords]\n",
        "\n",
        "print('')\n",
        "print('original hali=',text_tokens)\n",
        "print('')\n",
        "print('stopword alinmis =',tokens_without_sw)"
      ],
      "execution_count": 179,
      "outputs": [
        {
          "output_type": "stream",
          "text": [
            "\n",
            "original hali= ['Advancements', 'in', 'next-generation', 'sequencer', '(', 'NGS', ')', 'platforms', 'have', 'improved', 'NGS', 'sequence', 'data', 'production', 'and', 'reduced', 'the', 'cost', 'involved', ',', 'which', 'has', 'resulted', 'in', 'the', 'production', 'of', 'a', 'large', 'amount', 'of', 'genome', 'data', '.', 'The', 'downstream', 'analysis', 'of', 'multiple', 'associated', 'sequences', 'has', 'become', 'a', 'bottleneck', 'for', 'the', 'growing', 'genomic', 'data', 'due', 'to', 'storage', 'and', 'space', 'utilization', 'issues', 'in', 'the', 'domain', 'of', 'bioinformatics', '.', 'The', 'traditional', 'string-matching', 'algorithms', 'are', 'efficient', 'for', 'small', 'sized', 'data', 'sequences', 'and', 'can', 'not', 'process', 'large', 'amounts', 'of', 'data', 'for', 'downstream', 'analysis', '.', 'This', 'study', 'proposes', 'a', 'novel', 'bit-parallelism', 'algorithm', 'called', 'BitmapAligner', 'to', 'overcome', 'the', 'issues', 'faced', 'due', 'to', 'a', 'large', 'number', 'of', 'sequences', 'and', 'to', 'improve', 'the', 'speed', 'and', 'quality', 'of', 'multiple', 'sequence', 'alignment', '(', 'MSA', ')', '.', 'The', 'input', 'files', '(', 'sequences', ')', 'tested', 'over', 'BitmapAligner', 'can', 'be', 'easily', 'managed', 'and', 'organized', 'using', 'the', 'Hadoop', 'distributed', 'file', 'system', '.', 'The', 'proposed', 'aligner', 'converts', 'the', 'test', 'file', '(', 'the', 'whole', 'genome', 'sequence', ')', 'into', 'binaries', 'of', 'an', 'equal', 'length', 'of', 'the', 'sequence', ',', 'line', 'by', 'line', ',', 'before', 'the', 'sequence', 'alignment', 'processing', '.', 'The', 'Hadoop', 'distributed', 'file', 'system', 'splits', 'the', 'larger', 'files', 'into', 'blocks', ',', 'based', 'on', 'a', 'defined', 'block', 'size', ',', 'which', 'is', '128', 'MB', 'by', 'default', '.', 'BitmapAligner', 'can', 'accurately', 'process', 'the', 'sequence', 'alignment', 'using', 'the', 'bitmask', 'approach', 'on', 'large-scale', 'sequences', 'after', 'sorting', 'the', 'data', '.', 'The', 'experimental', 'results', 'indicate', 'that', 'BitmapAligner', 'operates', 'in', 'real', 'time', ',', 'with', 'a', 'large', 'number', 'of', 'sequences', '.', 'Moreover', ',', 'BitmapAligner', 'achieves', 'the', 'exact', 'start', 'and', 'end', 'positions', 'of', 'the', 'pattern', 'sequence', 'to', 'test', 'the', 'MSA', 'application', 'in', 'the', 'whole', 'genome', 'query', 'sequence', '.', 'The', 'MSA', '’', 's', 'accuracy', 'is', 'verified', 'by', 'the', 'bitmask', 'indexing', 'property', 'of', 'the', 'bit-parallelism', 'extended', 'shifts', '(', 'BXS', ')', 'algorithm', '.', 'The', 'dynamic', 'and', 'exact', 'approach', 'of', 'the', 'BXS', 'algorithm', 'is', 'implemented', 'through', 'the', 'MapReduce', 'function', 'of', 'Apache', 'Hadoop', '.', 'Conversely', ',', 'the', 'traditional', 'seeds-and-extend', 'approach', 'faces', 'the', 'risk', 'of', 'errors', 'while', 'identifying', 'the', 'pattern', 'sequences', '’', 'positions', '.', 'Moreover', ',', 'the', 'proposed', 'model', 'resolves', 'the', 'largescale', 'data', 'challenges', 'that', 'are', 'covered', 'through', 'MapReduce', 'in', 'the', 'Hadoop', 'framework', '.', 'Hive', ',', 'Yarn', ',', 'HBase', ',', 'Cassandra', ',', 'and', 'many', 'other', 'pertinent', 'flavors']\n",
            "\n",
            "stopword alinmis = ['Advancements', 'next-generation', 'sequencer', '(', 'NGS', ')', 'platforms', 'improved', 'NGS', 'sequence', 'data', 'production', 'reduced', 'cost', 'involved', ',', 'resulted', 'production', 'large', 'genome', 'data', '.', 'The', 'downstream', 'analysis', 'multiple', 'associated', 'sequences', 'bottleneck', 'growing', 'genomic', 'data', 'storage', 'space', 'utilization', 'issues', 'domain', 'bioinformatics', '.', 'The', 'traditional', 'string-matching', 'algorithms', 'efficient', 'small', 'sized', 'data', 'sequences', 'process', 'large', 'amounts', 'data', 'downstream', 'analysis', '.', 'This', 'study', 'proposes', 'novel', 'bit-parallelism', 'algorithm', 'called', 'BitmapAligner', 'overcome', 'issues', 'faced', 'large', 'number', 'sequences', 'improve', 'speed', 'quality', 'multiple', 'sequence', 'alignment', '(', 'MSA', ')', '.', 'The', 'input', 'files', '(', 'sequences', ')', 'tested', 'BitmapAligner', 'easily', 'managed', 'organized', 'Hadoop', 'distributed', 'file', 'system', '.', 'The', 'proposed', 'aligner', 'converts', 'test', 'file', '(', 'genome', 'sequence', ')', 'binaries', 'equal', 'length', 'sequence', ',', 'line', 'line', ',', 'sequence', 'alignment', 'processing', '.', 'The', 'Hadoop', 'distributed', 'file', 'system', 'splits', 'larger', 'files', 'blocks', ',', 'based', 'defined', 'block', 'size', ',', '128', 'MB', 'default', '.', 'BitmapAligner', 'accurately', 'process', 'sequence', 'alignment', 'bitmask', 'approach', 'large-scale', 'sequences', 'sorting', 'data', '.', 'The', 'experimental', 'results', 'indicate', 'BitmapAligner', 'operates', 'real', 'time', ',', 'large', 'number', 'sequences', '.', 'Moreover', ',', 'BitmapAligner', 'achieves', 'exact', 'start', 'end', 'positions', 'pattern', 'sequence', 'test', 'MSA', 'application', 'genome', 'query', 'sequence', '.', 'The', 'MSA', '’', 's', 'accuracy', 'verified', 'bitmask', 'indexing', 'property', 'bit-parallelism', 'extended', 'shifts', '(', 'BXS', ')', 'algorithm', '.', 'The', 'dynamic', 'exact', 'approach', 'BXS', 'algorithm', 'implemented', 'MapReduce', 'function', 'Apache', 'Hadoop', '.', 'Conversely', ',', 'traditional', 'seeds-and-extend', 'approach', 'faces', 'risk', 'errors', 'identifying', 'pattern', 'sequences', '’', 'positions', '.', 'Moreover', ',', 'proposed', 'model', 'resolves', 'largescale', 'data', 'challenges', 'covered', 'MapReduce', 'Hadoop', 'framework', '.', 'Hive', ',', 'Yarn', ',', 'HBase', ',', 'Cassandra', ',', 'pertinent', 'flavors']\n"
          ],
          "name": "stdout"
        }
      ]
    },
    {
      "cell_type": "code",
      "metadata": {
        "id": "wwpyRYxQDxh7"
      },
      "source": [
        ""
      ],
      "execution_count": 178,
      "outputs": []
    }
  ]
}