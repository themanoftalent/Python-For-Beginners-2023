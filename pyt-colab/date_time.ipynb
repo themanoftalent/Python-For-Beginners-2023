{
  "nbformat": 4,
  "nbformat_minor": 0,
  "metadata": {
    "colab": {
      "name": "date_time.ipynb",
      "provenance": [],
      "collapsed_sections": [],
      "authorship_tag": "ABX9TyP8gYa8RItxzDRPJ1cLR3Nq",
      "include_colab_link": true
    },
    "kernelspec": {
      "name": "python3",
      "display_name": "Python 3"
    },
    "language_info": {
      "name": "python"
    }
  },
  "cells": [
    {
      "cell_type": "markdown",
      "metadata": {
        "id": "view-in-github",
        "colab_type": "text"
      },
      "source": [
        "<a href=\"https://colab.research.google.com/github/themanoftalent/pyt-colab/blob/master/date_time.ipynb\" target=\"_parent\"><img src=\"https://colab.research.google.com/assets/colab-badge.svg\" alt=\"Open In Colab\"/></a>"
      ]
    },
    {
      "cell_type": "code",
      "metadata": {
        "id": "sxsLntUvJS5Y",
        "colab": {
          "base_uri": "https://localhost:8080/"
        },
        "outputId": "9c7d68b7-551a-40d6-8cbf-eb3a905b8710"
      },
      "source": [
        "#!python3\n",
        "\n",
        "from datetime import date\n",
        "from datetime import datetime\n",
        "\n",
        "datetime.today()\n",
        "# datetime.datetime(2021, 1, 19, 14, 38, 52, 133483)\n",
        "\n",
        "today = datetime.today()\n",
        "\n",
        "type(today)\n",
        "# <class 'datetime.datetime'>\n",
        "\n",
        "\n",
        "today_date = date.today()\n",
        "\n",
        "today_date\n",
        "# datetime.date(2021, 1, 19)\n",
        "\n",
        "type(today_date)\n",
        "# <class 'datetime.date'>\n",
        "\n",
        "today_date.month\n",
        "# 1\n",
        "\n",
        "today_date.year\n",
        "# 2021\n",
        "\n",
        "today_date.day\n",
        "# 19\n",
        "\n",
        "\n",
        "christmas = date(today_date.year, 12, 25)\n",
        "christmas\n",
        "# datetime.date(2021, 12, 25)\n",
        "\n",
        "# We need to use != & == rather than is / is not for comparison. Sorry for the mistake in the video.\n",
        "if christmas != today_date:\n",
        "    print(\"Sorry there are still \" + str((christmas - today_date).days) + \" until Christmas!\")\n",
        "else:\n",
        "    print(\"Yay it's Christmas!\")\n"
      ],
      "execution_count": 50,
      "outputs": [
        {
          "output_type": "stream",
          "text": [
            "Sorry there are still 214 until Christmas!\n"
          ],
          "name": "stdout"
        }
      ]
    },
    {
      "cell_type": "code",
      "metadata": {
        "id": "flNNenIwb8cw"
      },
      "source": [
        ""
      ],
      "execution_count": null,
      "outputs": []
    }
  ]
}