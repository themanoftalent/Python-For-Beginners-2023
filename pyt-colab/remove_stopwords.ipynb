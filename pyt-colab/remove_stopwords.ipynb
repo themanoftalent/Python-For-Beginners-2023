{
  "nbformat": 4,
  "nbformat_minor": 0,
  "metadata": {
    "colab": {
      "name": "remove stopwords.ipynb",
      "provenance": [],
      "collapsed_sections": [],
      "authorship_tag": "ABX9TyM3irK3P1lz9Z3aN+2L9bwg",
      "include_colab_link": true
    },
    "kernelspec": {
      "name": "python3",
      "display_name": "Python 3"
    },
    "language_info": {
      "name": "python"
    }
  },
  "cells": [
    {
      "cell_type": "markdown",
      "metadata": {
        "id": "view-in-github",
        "colab_type": "text"
      },
      "source": [
        "<a href=\"https://colab.research.google.com/github/themanoftalent/pyt-colab/blob/master/remove_stopwords.ipynb\" target=\"_parent\"><img src=\"https://colab.research.google.com/assets/colab-badge.svg\" alt=\"Open In Colab\"/></a>"
      ]
    },
    {
      "cell_type": "code",
      "metadata": {
        "id": "9WSa9mIcD0dq"
      },
      "source": [
        "import nltk\n",
        "from nltk.corpus import stopwords\n",
        "from nltk.tokenize import word_tokenize\n",
        "from gensim.parsing.preprocessing import remove_stopwords"
      ],
      "execution_count": 83,
      "outputs": []
    },
    {
      "cell_type": "code",
      "metadata": {
        "colab": {
          "base_uri": "https://localhost:8080/"
        },
        "id": "eqZnD2XFD3CH",
        "outputId": "4fc20a27-3144-4e1c-824d-25e4a75acec3"
      },
      "source": [
        "nltk.download(\"punkt\")\n",
        "nltk.download(\"stopwords\")"
      ],
      "execution_count": 46,
      "outputs": [
        {
          "output_type": "stream",
          "text": [
            "[nltk_data] Downloading package punkt to /root/nltk_data...\n",
            "[nltk_data]   Unzipping tokenizers/punkt.zip.\n",
            "[nltk_data] Downloading package stopwords to /root/nltk_data...\n",
            "[nltk_data]   Unzipping corpora/stopwords.zip.\n"
          ],
          "name": "stdout"
        },
        {
          "output_type": "execute_result",
          "data": {
            "text/plain": [
              "True"
            ]
          },
          "metadata": {
            "tags": []
          },
          "execution_count": 46
        }
      ]
    },
    {
      "cell_type": "code",
      "metadata": {
        "id": "BC-8LrMCEFxL"
      },
      "source": [
        "def remove_stopwords(text:str)-> str:\n",
        "  kelime= word_tokenize(text)\n",
        "  stopkelime= stopwords.words('english')\n",
        "  \n",
        "  output = []\n",
        "  for wrd in kelime:\n",
        "    if wrd not in stopkelime:\n",
        "      output.append(wrd)\n",
        "  print(output)\n",
        "\n",
        "  en_stop_words =set(stopwords.words(\"english\"))"
      ],
      "execution_count": 69,
      "outputs": []
    },
    {
      "cell_type": "code",
      "metadata": {
        "id": "fu_iQ40FEN7Y"
      },
      "source": [
        "text = \"\"\" It says the world's wealthiest 1% produce dou ble the combined \n",
        "carbon emissions of the poor est 50%, according to the UN. The wealthiest 5% alone - the so-called \n",
        "\"poll uter elite\" - contributed 37% of emissions gr owth between 1990 and 2015. \n",
        "\"\"\""
      ],
      "execution_count": 74,
      "outputs": []
    },
    {
      "cell_type": "code",
      "metadata": {
        "colab": {
          "base_uri": "https://localhost:8080/"
        },
        "id": "cPyemZ4GFT0z",
        "outputId": "7de8e311-48e0-4b72-ccc8-eed1ffee130d"
      },
      "source": [
        "remove_stopwords(text)"
      ],
      "execution_count": 75,
      "outputs": [
        {
          "output_type": "stream",
          "text": [
            "['It', 'says', 'world', \"'s\", 'wealthiest', '1', '%', 'produce', 'dou', 'ble', 'combined', 'carbon', 'emissions', 'poor', 'est', '50', '%', ',', 'according', 'UN', '.', 'The', 'wealthiest', '5', '%', 'alone', '-', 'so-called', \"''\", 'poll', 'uter', 'elite', \"''\", '-', 'contributed', '37', '%', 'emissions', 'gr', 'owth', '1990', '2015', '.']\n"
          ],
          "name": "stdout"
        }
      ]
    },
    {
      "cell_type": "code",
      "metadata": {
        "id": "Waz-Zux3Go0f"
      },
      "source": [
        "############we are trying another method#########"
      ],
      "execution_count": 85,
      "outputs": []
    },
    {
      "cell_type": "code",
      "metadata": {
        "id": "fGSaU0OOHOFO"
      },
      "source": [
        "from gensim.parsing.preprocessing import remove_stopwords\n",
        "def remove_whatever(text:str)->str:\n",
        "  filtered_sentence = remove_stopwords(text)\n",
        "  print(filtered_sentence)"
      ],
      "execution_count": 93,
      "outputs": []
    },
    {
      "cell_type": "code",
      "metadata": {
        "colab": {
          "base_uri": "https://localhost:8080/"
        },
        "id": "gp2O2oakHg0D",
        "outputId": "a50aba5f-fcbb-47e0-8899-127f76e9e3b6"
      },
      "source": [
        "text_input = \"\"\" It says the world's wealthiest 1% produce dou ble the combined \n",
        "carbon emissions of the poor est 50%, according to the UN. The wealthiest 5% alone - the so-called \n",
        "\"poll uter elite\" - contributed 37% of emissions gr owth between 1990 and 2015. \n",
        "\"\"\"\n",
        "remove_whatever(text_input)"
      ],
      "execution_count": 94,
      "outputs": [
        {
          "output_type": "stream",
          "text": [
            "It says world's wealthiest 1% produce dou ble combined carbon emissions poor est 50%, according UN. The wealthiest 5% - so-called \"poll uter elite\" - contributed 37% emissions gr owth 1990 2015.\n"
          ],
          "name": "stdout"
        }
      ]
    },
    {
      "cell_type": "code",
      "metadata": {
        "id": "anQOeh7PHiKC"
      },
      "source": [
        ""
      ],
      "execution_count": 94,
      "outputs": []
    }
  ]
}