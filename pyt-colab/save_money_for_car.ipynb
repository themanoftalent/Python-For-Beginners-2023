{
  "nbformat": 4,
  "nbformat_minor": 0,
  "metadata": {
    "colab": {
      "name": "save money for car.ipynb",
      "provenance": [],
      "authorship_tag": "ABX9TyPXcLQ7c8cACuv9Ck8Rne7A",
      "include_colab_link": true
    },
    "kernelspec": {
      "name": "python3",
      "display_name": "Python 3"
    },
    "language_info": {
      "name": "python"
    }
  },
  "cells": [
    {
      "cell_type": "markdown",
      "metadata": {
        "id": "view-in-github",
        "colab_type": "text"
      },
      "source": [
        "<a href=\"https://colab.research.google.com/github/themanoftalent/pyt-colab/blob/master/save_money_for_car.ipynb\" target=\"_parent\"><img src=\"https://colab.research.google.com/assets/colab-badge.svg\" alt=\"Open In Colab\"/></a>"
      ]
    },
    {
      "cell_type": "code",
      "metadata": {
        "id": "f4zIhPYncEJq"
      },
      "source": [
        "\"\"\"\n",
        "A man has a rather old car being worth $2000. He saw a secondhand car being worth $8000. He wants to keep his old \n",
        "car until he can buy the secondhand one.\n",
        "He thinks he can save $1000 each month but the prices of his old car and of the new one decrease of 1.5 percent \n",
        "per month. Furthermore the percent of loss increases by a fixed 0.5 percent at the end of every two months.\n",
        "\n",
        "**Example of percents lost per month:**\n",
        "\n",
        "If, for example, at the end of first month the percent of loss is 1, end of second month percent of loss is 1.5,\n",
        " end of third month still 1.5, end of 4th month 2 and so on ...\n",
        "Can you help him? Our man finds it difficult to make all these calculations.\n",
        "How many months will it take him to save up enough money to buy the car he wants, and how much money \n",
        "will he have left over?\n",
        "\n",
        "\"\"\"\n",
        "\n",
        "def monthly_saving(startPriceOld, startPriceNew, savingperMonth, percentLossByMonth):\n",
        "    months = 0\n",
        "    savings = 0\n",
        "\n",
        "    while startPriceOld + savings < startPriceNew:\n",
        "        months += 1\n",
        "        savings += savingperMonth\n",
        "\n",
        "        # Raise the percentLoss if this is the second month.\n",
        "        if months % 2 == 0:\n",
        "            percentLossByMonth += 0.5\n",
        "            print('this is the month: ', months)\n",
        "\n",
        "        startPriceOld *= ((100 - percentLossByMonth) / 100)\n",
        "        startPriceNew *= ((100 - percentLossByMonth) / 100)\n",
        "\n",
        "    return [months, round(startPriceOld + savings - startPriceNew)]\n"
      ],
      "execution_count": 1,
      "outputs": []
    },
    {
      "cell_type": "code",
      "metadata": {
        "colab": {
          "base_uri": "https://localhost:8080/"
        },
        "id": "5FecLEikcHka",
        "outputId": "839df77c-5bf4-4299-84a8-836615466151"
      },
      "source": [
        "monthly_saving(8000, 8000, 1000, 1.5) "
      ],
      "execution_count": 2,
      "outputs": [
        {
          "output_type": "execute_result",
          "data": {
            "text/plain": [
              "[0, 0]"
            ]
          },
          "metadata": {
            "tags": []
          },
          "execution_count": 2
        }
      ]
    },
    {
      "cell_type": "code",
      "metadata": {
        "colab": {
          "base_uri": "https://localhost:8080/"
        },
        "id": "LEBGgB-wcLzn",
        "outputId": "7c2b49f4-79ce-4466-910e-367735a50c5f"
      },
      "source": [
        "monthly_saving(12000, 8000, 1000, 1.5)\n"
      ],
      "execution_count": 3,
      "outputs": [
        {
          "output_type": "execute_result",
          "data": {
            "text/plain": [
              "[0, 4000]"
            ]
          },
          "metadata": {
            "tags": []
          },
          "execution_count": 3
        }
      ]
    },
    {
      "cell_type": "code",
      "metadata": {
        "colab": {
          "base_uri": "https://localhost:8080/"
        },
        "id": "hvXCpKm-cPK1",
        "outputId": "bbd1bf45-d975-42c6-a318-e45aad201437"
      },
      "source": [
        "monthly_saving(2000, 8000, 10000, 1.5)"
      ],
      "execution_count": 8,
      "outputs": [
        {
          "output_type": "execute_result",
          "data": {
            "text/plain": [
              "[1, 4090]"
            ]
          },
          "metadata": {
            "tags": []
          },
          "execution_count": 8
        }
      ]
    },
    {
      "cell_type": "code",
      "metadata": {
        "id": "tDvgd_U7cVn7"
      },
      "source": [
        ""
      ],
      "execution_count": null,
      "outputs": []
    }
  ]
}