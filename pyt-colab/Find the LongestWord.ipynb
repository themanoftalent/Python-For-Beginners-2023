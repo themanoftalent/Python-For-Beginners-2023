{
  "nbformat": 4,
  "nbformat_minor": 0,
  "metadata": {
    "colab": {
      "name": "tokenlestirme.ipynb",
      "provenance": [],
      "collapsed_sections": [],
      "authorship_tag": "ABX9TyNnaX15rXhMrrZsxHB6AzWK",
      "include_colab_link": true
    },
    "kernelspec": {
      "name": "python3",
      "display_name": "Python 3"
    },
    "language_info": {
      "name": "python"
    }
  },
  "cells": [
    {
      "cell_type": "markdown",
      "metadata": {
        "id": "view-in-github",
        "colab_type": "text"
      },
      "source": [
        "<a href=\"https://colab.research.google.com/github/themanoftalent/pyt-colab/blob/master/Find%20the%20LongestWord.ipynb\" target=\"_parent\"><img src=\"https://colab.research.google.com/assets/colab-badge.svg\" alt=\"Open In Colab\"/></a>"
      ]
    },
    {
      "cell_type": "markdown",
      "metadata": {
        "id": "AKIJohv8ot7e"
      },
      "source": [
        "First Reverse"
      ]
    },
    {
      "cell_type": "code",
      "metadata": {
        "colab": {
          "base_uri": "https://localhost:8080/"
        },
        "id": "KNMncOdtpO7j",
        "outputId": "105857a7-d21e-47ee-86ce-ba4ad89638d9"
      },
      "source": [
        "import re\n",
        "\n",
        "def LongestWord(sen):\n",
        "  words = (re.sub(r\"[^a-z A-Z0-9_]+\", '', sen)).split(' ')\n",
        "\n",
        "  longest =\"\"\n",
        "\n",
        "  for word in words:\n",
        "    if len(word) > len(longest):\n",
        "      longest = word\n",
        "\n",
        "  return longest\n",
        "\n",
        "\n",
        "print(LongestWord(input()))"
      ],
      "execution_count": 83,
      "outputs": [
        {
          "output_type": "stream",
          "text": [
            "Hello there are many more options available to see if you can find a way to make it look like it \n",
            "available\n"
          ],
          "name": "stdout"
        }
      ]
    },
    {
      "cell_type": "code",
      "metadata": {
        "id": "Fg4SnZYtqPBd"
      },
      "source": [
        ""
      ],
      "execution_count": null,
      "outputs": []
    }
  ]
}