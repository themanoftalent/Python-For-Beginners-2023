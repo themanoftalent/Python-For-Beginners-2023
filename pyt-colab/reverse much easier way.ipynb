{
  "nbformat": 4,
  "nbformat_minor": 0,
  "metadata": {
    "colab": {
      "name": "tokenlestirme.ipynb",
      "provenance": [],
      "collapsed_sections": [],
      "authorship_tag": "ABX9TyP1UD63zAzA+alLfNJjjMVF",
      "include_colab_link": true
    },
    "kernelspec": {
      "name": "python3",
      "display_name": "Python 3"
    },
    "language_info": {
      "name": "python"
    }
  },
  "cells": [
    {
      "cell_type": "markdown",
      "metadata": {
        "id": "view-in-github",
        "colab_type": "text"
      },
      "source": [
        "<a href=\"https://colab.research.google.com/github/themanoftalent/pyt-colab/blob/master/reverse%20much%20easier%20way.ipynb\" target=\"_parent\"><img src=\"https://colab.research.google.com/assets/colab-badge.svg\" alt=\"Open In Colab\"/></a>"
      ]
    },
    {
      "cell_type": "markdown",
      "metadata": {
        "id": "AKIJohv8ot7e"
      },
      "source": [
        "First Reverse"
      ]
    },
    {
      "cell_type": "code",
      "metadata": {
        "colab": {
          "base_uri": "https://localhost:8080/"
        },
        "id": "v0ifgUWopINj",
        "outputId": "c49d9574-6ffe-41e5-a551-f2bde8b987bd"
      },
      "source": [
        "#an easier way\n",
        "\n",
        "def FirstReverse(str): \n",
        "\n",
        "  ''' a very easier method '''\n",
        "  return str[::-1]\n",
        "    \n",
        "# keep this function call here  \n",
        "print(FirstReverse(input()))"
      ],
      "execution_count": 78,
      "outputs": [
        {
          "output_type": "stream",
          "text": [
            "hey lady\n",
            "ydal yeh\n"
          ],
          "name": "stdout"
        }
      ]
    },
    {
      "cell_type": "code",
      "metadata": {
        "id": "KNMncOdtpO7j"
      },
      "source": [
        ""
      ],
      "execution_count": 74,
      "outputs": []
    }
  ]
}