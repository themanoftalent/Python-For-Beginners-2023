{
  "nbformat": 4,
  "nbformat_minor": 0,
  "metadata": {
    "colab": {
      "name": "toJadenCase.ipynb",
      "provenance": [],
      "authorship_tag": "ABX9TyO2ueCEouuD7z5/1NKHqoiQ",
      "include_colab_link": true
    },
    "kernelspec": {
      "name": "python3",
      "display_name": "Python 3"
    },
    "language_info": {
      "name": "python"
    }
  },
  "cells": [
    {
      "cell_type": "markdown",
      "metadata": {
        "id": "view-in-github",
        "colab_type": "text"
      },
      "source": [
        "<a href=\"https://colab.research.google.com/github/themanoftalent/pyt-colab/blob/master/toJadenCase.ipynb\" target=\"_parent\"><img src=\"https://colab.research.google.com/assets/colab-badge.svg\" alt=\"Open In Colab\"/></a>"
      ]
    },
    {
      "cell_type": "code",
      "metadata": {
        "colab": {
          "base_uri": "https://localhost:8080/"
        },
        "id": "XZJ-kh1nF2XX",
        "outputId": "9cee6431-60f9-4cc5-87fe-c279bf13474e"
      },
      "source": [
        "def accum(string):\n",
        "\n",
        "    output = []\n",
        "\n",
        "    for count, letter in enumerate(string):\n",
        "        output.append(letter.upper() + letter.lower() * count)\n",
        "\n",
        "    return '-'.join(output)\n",
        "\n",
        "\n",
        "x = accum('AKIF')\n",
        "y=accum('akif')\n",
        "print(y)\n",
        "print(x)\n"
      ],
      "execution_count": 5,
      "outputs": [
        {
          "output_type": "stream",
          "text": [
            "A-Kk-Iii-Ffff\n",
            "A-Kk-Iii-Ffff\n"
          ],
          "name": "stdout"
        }
      ]
    },
    {
      "cell_type": "markdown",
      "metadata": {
        "id": "di0367c2uGq7"
      },
      "source": [
        "How to return a sentence string with capitalised words?"
      ]
    },
    {
      "cell_type": "code",
      "metadata": {
        "colab": {
          "base_uri": "https://localhost:8080/",
          "height": 35
        },
        "id": "OFabZdq4Jcn8",
        "outputId": "78be841e-be46-49d8-c58c-ba26d6358227"
      },
      "source": [
        "import string\n",
        "\n",
        "def toJadenCase(NonJadenStrings):\n",
        "    return string.capwords(NonJadenStrings)\n",
        "\n",
        "\n",
        "\n",
        "toJadenCase('Hello there, we are going to make all caps')"
      ],
      "execution_count": 3,
      "outputs": [
        {
          "output_type": "execute_result",
          "data": {
            "application/vnd.google.colaboratory.intrinsic+json": {
              "type": "string"
            },
            "text/plain": [
              "'Hello There, We Are Going To Make All Caps'"
            ]
          },
          "metadata": {
            "tags": []
          },
          "execution_count": 3
        }
      ]
    },
    {
      "cell_type": "code",
      "metadata": {
        "colab": {
          "base_uri": "https://localhost:8080/",
          "height": 35
        },
        "id": "LOknCT_guHfh",
        "outputId": "13a8cb7e-12b8-4210-ac5b-363f9e9b05b2"
      },
      "source": [
        "def toJadenCase(string):\n",
        "    # ...\n",
        "    sentence = ''\n",
        "    words = []\n",
        "    st = string.split()\n",
        "\n",
        "    for i in st:\n",
        "        il = list(i)\n",
        "        il[0] = il[0].upper()\n",
        "        words.append(''.join(il))\n",
        "    return ' '.join(words)\n",
        "\n",
        "\n",
        "toJadenCase('Hello there, we are going to make all caps')"
      ],
      "execution_count": 8,
      "outputs": [
        {
          "output_type": "execute_result",
          "data": {
            "application/vnd.google.colaboratory.intrinsic+json": {
              "type": "string"
            },
            "text/plain": [
              "'Hello There, We Are Going To Make All Caps'"
            ]
          },
          "metadata": {
            "tags": []
          },
          "execution_count": 8
        }
      ]
    },
    {
      "cell_type": "code",
      "metadata": {
        "id": "jBqa2uQNuVDA"
      },
      "source": [
        ""
      ],
      "execution_count": null,
      "outputs": []
    }
  ]
}