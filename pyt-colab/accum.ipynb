{
  "nbformat": 4,
  "nbformat_minor": 0,
  "metadata": {
    "colab": {
      "name": "accum.ipynb",
      "provenance": [],
      "authorship_tag": "ABX9TyN9wKAmStGyrowIkc5bj1Dd",
      "include_colab_link": true
    },
    "kernelspec": {
      "name": "python3",
      "display_name": "Python 3"
    },
    "language_info": {
      "name": "python"
    }
  },
  "cells": [
    {
      "cell_type": "markdown",
      "metadata": {
        "id": "view-in-github",
        "colab_type": "text"
      },
      "source": [
        "<a href=\"https://colab.research.google.com/github/themanoftalent/pyt-colab/blob/master/accum.ipynb\" target=\"_parent\"><img src=\"https://colab.research.google.com/assets/colab-badge.svg\" alt=\"Open In Colab\"/></a>"
      ]
    },
    {
      "cell_type": "code",
      "metadata": {
        "colab": {
          "base_uri": "https://localhost:8080/"
        },
        "id": "XZJ-kh1nF2XX",
        "outputId": "9cee6431-60f9-4cc5-87fe-c279bf13474e"
      },
      "source": [
        "def accum(string):\n",
        "\n",
        "    output = []\n",
        "\n",
        "    for count, letter in enumerate(string):\n",
        "        output.append(letter.upper() + letter.lower() * count)\n",
        "\n",
        "    return '-'.join(output)\n",
        "\n",
        "\n",
        "x = accum('AKIF')\n",
        "y=accum('akif')\n",
        "print(y)\n",
        "print(x)\n"
      ],
      "execution_count": 5,
      "outputs": [
        {
          "output_type": "stream",
          "text": [
            "A-Kk-Iii-Ffff\n",
            "A-Kk-Iii-Ffff\n"
          ],
          "name": "stdout"
        }
      ]
    },
    {
      "cell_type": "code",
      "metadata": {
        "id": "OFabZdq4Jcn8"
      },
      "source": [
        ""
      ],
      "execution_count": null,
      "outputs": []
    }
  ]
}