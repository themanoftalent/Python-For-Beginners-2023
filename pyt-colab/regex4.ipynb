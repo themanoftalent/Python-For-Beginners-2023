{
  "nbformat": 4,
  "nbformat_minor": 0,
  "metadata": {
    "colab": {
      "name": "regex3 .ipynb",
      "provenance": [],
      "collapsed_sections": [],
      "authorship_tag": "ABX9TyOzgccyhmj++ewuXlZMKn4c",
      "include_colab_link": true
    },
    "kernelspec": {
      "name": "python3",
      "display_name": "Python 3"
    },
    "language_info": {
      "name": "python"
    }
  },
  "cells": [
    {
      "cell_type": "markdown",
      "metadata": {
        "id": "view-in-github",
        "colab_type": "text"
      },
      "source": [
        "<a href=\"https://colab.research.google.com/github/themanoftalent/pyt-colab/blob/master/regex4.ipynb\" target=\"_parent\"><img src=\"https://colab.research.google.com/assets/colab-badge.svg\" alt=\"Open In Colab\"/></a>"
      ]
    },
    {
      "cell_type": "code",
      "metadata": {
        "id": "A9tb0lUyWfr9"
      },
      "source": [
        "import re"
      ],
      "execution_count": 1,
      "outputs": []
    },
    {
      "cell_type": "code",
      "metadata": {
        "colab": {
          "base_uri": "https://localhost:8080/"
        },
        "id": "Ra6yw9kqWgkN",
        "outputId": "2206a8d3-c3d4-4f24-d786-272ed4ed048b"
      },
      "source": [
        "#to cehck wheteher an email is valid or not\n",
        "pattern = '[a-zA-Z0-9]+@[a-zA-Z]+\\.(com|edu|net)'\n",
        "user_input = input('Enter an email to check:')\n",
        "\n",
        "if (re.search(pattern, user_input)):\n",
        "  print('Valid email')\n",
        "else:\n",
        "  print('invalid emails')"
      ],
      "execution_count": 7,
      "outputs": [
        {
          "output_type": "stream",
          "text": [
            "Enter an email to check:akif@gmail.com\n",
            "Valid email\n"
          ],
          "name": "stdout"
        }
      ]
    },
    {
      "cell_type": "code",
      "metadata": {
        "id": "RC4RbkI7WycJ"
      },
      "source": [
        ""
      ],
      "execution_count": 6,
      "outputs": []
    }
  ]
}