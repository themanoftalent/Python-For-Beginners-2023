{
  "nbformat": 4,
  "nbformat_minor": 0,
  "metadata": {
    "colab": {
      "name": "tokenlestirme.ipynb",
      "provenance": [],
      "collapsed_sections": [],
      "authorship_tag": "ABX9TyOroxALbJk6VZ5XNz+cOSH9",
      "include_colab_link": true
    },
    "kernelspec": {
      "name": "python3",
      "display_name": "Python 3"
    },
    "language_info": {
      "name": "python"
    }
  },
  "cells": [
    {
      "cell_type": "markdown",
      "metadata": {
        "id": "view-in-github",
        "colab_type": "text"
      },
      "source": [
        "<a href=\"https://colab.research.google.com/github/themanoftalent/pyt-colab/blob/master/TSNE%20word2vec.ipynb\" target=\"_parent\"><img src=\"https://colab.research.google.com/assets/colab-badge.svg\" alt=\"Open In Colab\"/></a>"
      ]
    },
    {
      "cell_type": "code",
      "metadata": {
        "id": "k7MX-UdhUmj3"
      },
      "source": [
        "# !pip install nltk\n",
        "# !pip install gensim"
      ],
      "execution_count": 1,
      "outputs": []
    },
    {
      "cell_type": "code",
      "metadata": {
        "id": "C8I2teQnkEjx"
      },
      "source": [
        "import nltk"
      ],
      "execution_count": 2,
      "outputs": []
    },
    {
      "cell_type": "code",
      "metadata": {
        "colab": {
          "base_uri": "https://localhost:8080/"
        },
        "id": "ltcMdmaSkJcC",
        "outputId": "14ab0850-f318-4e8b-a68f-2423cb888305"
      },
      "source": [
        "nltk.download('stopwords')\n",
        "from nltk.corpus import stopwords"
      ],
      "execution_count": 3,
      "outputs": [
        {
          "output_type": "stream",
          "text": [
            "[nltk_data] Downloading package stopwords to /root/nltk_data...\n",
            "[nltk_data]   Package stopwords is already up-to-date!\n"
          ],
          "name": "stdout"
        }
      ]
    },
    {
      "cell_type": "code",
      "metadata": {
        "colab": {
          "base_uri": "https://localhost:8080/"
        },
        "id": "kzG-rJEKbhll",
        "outputId": "8e88799b-9840-41be-f516-81b3c138bd65"
      },
      "source": [
        "lst_stopwords = stopwords.words(\"english\")\n",
        "lst_stopwords"
      ],
      "execution_count": 4,
      "outputs": [
        {
          "output_type": "execute_result",
          "data": {
            "text/plain": [
              "['i',\n",
              " 'me',\n",
              " 'my',\n",
              " 'myself',\n",
              " 'we',\n",
              " 'our',\n",
              " 'ours',\n",
              " 'ourselves',\n",
              " 'you',\n",
              " \"you're\",\n",
              " \"you've\",\n",
              " \"you'll\",\n",
              " \"you'd\",\n",
              " 'your',\n",
              " 'yours',\n",
              " 'yourself',\n",
              " 'yourselves',\n",
              " 'he',\n",
              " 'him',\n",
              " 'his',\n",
              " 'himself',\n",
              " 'she',\n",
              " \"she's\",\n",
              " 'her',\n",
              " 'hers',\n",
              " 'herself',\n",
              " 'it',\n",
              " \"it's\",\n",
              " 'its',\n",
              " 'itself',\n",
              " 'they',\n",
              " 'them',\n",
              " 'their',\n",
              " 'theirs',\n",
              " 'themselves',\n",
              " 'what',\n",
              " 'which',\n",
              " 'who',\n",
              " 'whom',\n",
              " 'this',\n",
              " 'that',\n",
              " \"that'll\",\n",
              " 'these',\n",
              " 'those',\n",
              " 'am',\n",
              " 'is',\n",
              " 'are',\n",
              " 'was',\n",
              " 'were',\n",
              " 'be',\n",
              " 'been',\n",
              " 'being',\n",
              " 'have',\n",
              " 'has',\n",
              " 'had',\n",
              " 'having',\n",
              " 'do',\n",
              " 'does',\n",
              " 'did',\n",
              " 'doing',\n",
              " 'a',\n",
              " 'an',\n",
              " 'the',\n",
              " 'and',\n",
              " 'but',\n",
              " 'if',\n",
              " 'or',\n",
              " 'because',\n",
              " 'as',\n",
              " 'until',\n",
              " 'while',\n",
              " 'of',\n",
              " 'at',\n",
              " 'by',\n",
              " 'for',\n",
              " 'with',\n",
              " 'about',\n",
              " 'against',\n",
              " 'between',\n",
              " 'into',\n",
              " 'through',\n",
              " 'during',\n",
              " 'before',\n",
              " 'after',\n",
              " 'above',\n",
              " 'below',\n",
              " 'to',\n",
              " 'from',\n",
              " 'up',\n",
              " 'down',\n",
              " 'in',\n",
              " 'out',\n",
              " 'on',\n",
              " 'off',\n",
              " 'over',\n",
              " 'under',\n",
              " 'again',\n",
              " 'further',\n",
              " 'then',\n",
              " 'once',\n",
              " 'here',\n",
              " 'there',\n",
              " 'when',\n",
              " 'where',\n",
              " 'why',\n",
              " 'how',\n",
              " 'all',\n",
              " 'any',\n",
              " 'both',\n",
              " 'each',\n",
              " 'few',\n",
              " 'more',\n",
              " 'most',\n",
              " 'other',\n",
              " 'some',\n",
              " 'such',\n",
              " 'no',\n",
              " 'nor',\n",
              " 'not',\n",
              " 'only',\n",
              " 'own',\n",
              " 'same',\n",
              " 'so',\n",
              " 'than',\n",
              " 'too',\n",
              " 'very',\n",
              " 's',\n",
              " 't',\n",
              " 'can',\n",
              " 'will',\n",
              " 'just',\n",
              " 'don',\n",
              " \"don't\",\n",
              " 'should',\n",
              " \"should've\",\n",
              " 'now',\n",
              " 'd',\n",
              " 'll',\n",
              " 'm',\n",
              " 'o',\n",
              " 're',\n",
              " 've',\n",
              " 'y',\n",
              " 'ain',\n",
              " 'aren',\n",
              " \"aren't\",\n",
              " 'couldn',\n",
              " \"couldn't\",\n",
              " 'didn',\n",
              " \"didn't\",\n",
              " 'doesn',\n",
              " \"doesn't\",\n",
              " 'hadn',\n",
              " \"hadn't\",\n",
              " 'hasn',\n",
              " \"hasn't\",\n",
              " 'haven',\n",
              " \"haven't\",\n",
              " 'isn',\n",
              " \"isn't\",\n",
              " 'ma',\n",
              " 'mightn',\n",
              " \"mightn't\",\n",
              " 'mustn',\n",
              " \"mustn't\",\n",
              " 'needn',\n",
              " \"needn't\",\n",
              " 'shan',\n",
              " \"shan't\",\n",
              " 'shouldn',\n",
              " \"shouldn't\",\n",
              " 'wasn',\n",
              " \"wasn't\",\n",
              " 'weren',\n",
              " \"weren't\",\n",
              " 'won',\n",
              " \"won't\",\n",
              " 'wouldn',\n",
              " \"wouldn't\"]"
            ]
          },
          "metadata": {
            "tags": []
          },
          "execution_count": 4
        }
      ]
    },
    {
      "cell_type": "code",
      "metadata": {
        "colab": {
          "base_uri": "https://localhost:8080/"
        },
        "id": "s71bug1JbmeL",
        "outputId": "223d8c53-fe56-47db-fdd5-be03d3b11860"
      },
      "source": [
        "turkcestp = stopwords.words('turkish')\n",
        "turkcestp"
      ],
      "execution_count": 5,
      "outputs": [
        {
          "output_type": "execute_result",
          "data": {
            "text/plain": [
              "['acaba',\n",
              " 'ama',\n",
              " 'aslında',\n",
              " 'az',\n",
              " 'bazı',\n",
              " 'belki',\n",
              " 'biri',\n",
              " 'birkaç',\n",
              " 'birşey',\n",
              " 'biz',\n",
              " 'bu',\n",
              " 'çok',\n",
              " 'çünkü',\n",
              " 'da',\n",
              " 'daha',\n",
              " 'de',\n",
              " 'defa',\n",
              " 'diye',\n",
              " 'eğer',\n",
              " 'en',\n",
              " 'gibi',\n",
              " 'hem',\n",
              " 'hep',\n",
              " 'hepsi',\n",
              " 'her',\n",
              " 'hiç',\n",
              " 'için',\n",
              " 'ile',\n",
              " 'ise',\n",
              " 'kez',\n",
              " 'ki',\n",
              " 'kim',\n",
              " 'mı',\n",
              " 'mu',\n",
              " 'mü',\n",
              " 'nasıl',\n",
              " 'ne',\n",
              " 'neden',\n",
              " 'nerde',\n",
              " 'nerede',\n",
              " 'nereye',\n",
              " 'niçin',\n",
              " 'niye',\n",
              " 'o',\n",
              " 'sanki',\n",
              " 'şey',\n",
              " 'siz',\n",
              " 'şu',\n",
              " 'tüm',\n",
              " 've',\n",
              " 'veya',\n",
              " 'ya',\n",
              " 'yani']"
            ]
          },
          "metadata": {
            "tags": []
          },
          "execution_count": 5
        }
      ]
    },
    {
      "cell_type": "code",
      "metadata": {
        "id": "eYIOEouckYgs"
      },
      "source": [
        "def find_stop(word):\n",
        "  output=[]\n",
        "  for i in lst_stopwords:\n",
        "    if i==word:\n",
        "      output.append(i)\n",
        "      # print('Yes {0} is matched.'.format(output))\n",
        "  return output"
      ],
      "execution_count": 6,
      "outputs": []
    },
    {
      "cell_type": "code",
      "metadata": {
        "colab": {
          "base_uri": "https://localhost:8080/"
        },
        "id": "DFSjZjFmkuIR",
        "outputId": "21446f48-4d2d-4ddc-cee7-66bcd4acc36c"
      },
      "source": [
        "find_stop('and')"
      ],
      "execution_count": 7,
      "outputs": [
        {
          "output_type": "execute_result",
          "data": {
            "text/plain": [
              "['and']"
            ]
          },
          "metadata": {
            "tags": []
          },
          "execution_count": 7
        }
      ]
    },
    {
      "cell_type": "code",
      "metadata": {
        "colab": {
          "base_uri": "https://localhost:8080/"
        },
        "id": "AFlnvokGlVOW",
        "outputId": "209d41dd-7fff-400e-d30b-ead7db1574f7"
      },
      "source": [
        "find_stop('same')"
      ],
      "execution_count": 8,
      "outputs": [
        {
          "output_type": "execute_result",
          "data": {
            "text/plain": [
              "['same']"
            ]
          },
          "metadata": {
            "tags": []
          },
          "execution_count": 8
        }
      ]
    },
    {
      "cell_type": "code",
      "metadata": {
        "colab": {
          "base_uri": "https://localhost:8080/"
        },
        "id": "HcZJIsEtlZUq",
        "outputId": "98fdaf7a-54d7-4ddc-b57c-66c31242e762"
      },
      "source": [
        "find_stop('lish')"
      ],
      "execution_count": 9,
      "outputs": [
        {
          "output_type": "execute_result",
          "data": {
            "text/plain": [
              "[]"
            ]
          },
          "metadata": {
            "tags": []
          },
          "execution_count": 9
        }
      ]
    },
    {
      "cell_type": "code",
      "metadata": {
        "id": "1eV1X12il1Gc"
      },
      "source": [
        "# #import the pandas library\n",
        "# import pandas as pd\n",
        "# import matplotlib.pyplot as plt\n",
        "# #import the count vectorizer class\n",
        "# from sklearn.feature_extraction.text import CountVectorizer\n",
        "# # instantiate the class\n",
        "# vectorizer = CountVectorizer()\n",
        "# #define the corpus\n",
        "# # corpus = ['Mike is a good boy. The boy Mike loves to be a boy']\n",
        "# with open('hurriyet.txt','r',encoding='utf-8') as f:\n",
        "#   corpus=f.read()\n",
        "#   corpus=corpus.split('\\n')\n",
        "# #fit the vectorizer on the corpus\n",
        "# vectorizer.fit(corpus)\n",
        "# #transform the fitted corpus\n",
        "# transformed_corpus = vectorizer.transform(corpus)\n",
        "# #print the transformed data in matrix form\n",
        "# # print(transformed_corpus.toarray(),)\n",
        "\n",
        "\n",
        "# #define the column names\n",
        "# columns=vectorizer.get_feature_names()\n",
        "# #convert the array to a dataframe\n",
        "# pd.DataFrame(transformed_corpus.toarray(), columns=columns)\n"
      ],
      "execution_count": 10,
      "outputs": []
    },
    {
      "cell_type": "code",
      "metadata": {
        "id": "unG5xG1cptWg"
      },
      "source": [
        "from gensim.models import Word2Vec"
      ],
      "execution_count": 11,
      "outputs": []
    },
    {
      "cell_type": "code",
      "metadata": {
        "id": "Xl01inDCpw7e"
      },
      "source": [
        "from sklearn.manifold import TSNE"
      ],
      "execution_count": 12,
      "outputs": []
    },
    {
      "cell_type": "code",
      "metadata": {
        "id": "vxbGFZeXrNqc"
      },
      "source": [
        "with open('hurriyet.txt', 'r', encoding='utf-8') as f:\n",
        "  readF= f.read()\n",
        "  readTxt = readF.split('\\n')"
      ],
      "execution_count": 13,
      "outputs": []
    },
    {
      "cell_type": "code",
      "metadata": {
        "id": "5B4umpMXth82"
      },
      "source": [
        "corpuss = []\n",
        "for cumle in readTxt:\n",
        "  corpuss.append(cumle.split())"
      ],
      "execution_count": 14,
      "outputs": []
    },
    {
      "cell_type": "code",
      "metadata": {
        "id": "dWBQPXx7rZoR"
      },
      "source": [
        "model = Word2Vec(corpuss,size=100,window=5,min_count=5,seed=1,sg=1)"
      ],
      "execution_count": 15,
      "outputs": []
    },
    {
      "cell_type": "code",
      "metadata": {
        "colab": {
          "base_uri": "https://localhost:8080/"
        },
        "id": "AtvY5zn2svi3",
        "outputId": "59756514-20f4-4bda-973a-ca8537134ef3"
      },
      "source": [
        "model.wv['musevi']"
      ],
      "execution_count": 16,
      "outputs": [
        {
          "output_type": "execute_result",
          "data": {
            "text/plain": [
              "array([-0.27272573,  0.3125299 , -0.6932574 ,  0.48660535,  0.14805423,\n",
              "       -0.15138134, -0.18266453, -0.10798585, -0.5151524 ,  0.320154  ,\n",
              "       -0.20567156, -0.24857576,  0.31767198,  0.7723193 ,  0.2637777 ,\n",
              "       -0.11034942,  0.43700448,  0.52215743, -0.0480407 , -0.66139305,\n",
              "       -0.21180904, -0.13438946, -0.19230822,  0.4298561 , -0.16933368,\n",
              "       -0.503127  ,  0.12350286, -0.697954  ,  0.32235378,  0.76748693,\n",
              "        0.06025788,  0.11352906, -0.07195154, -0.09327042, -0.41345668,\n",
              "        0.09966516, -0.47148442, -0.01212268,  0.61284953,  0.25019947,\n",
              "        0.07162276, -0.04556533, -0.25173044,  0.07841063, -0.03763343,\n",
              "       -0.06793942, -0.0276277 ,  0.24705617, -0.0131061 , -0.19967024,\n",
              "        0.21233271,  0.01795357, -0.02463062, -0.12878588, -0.21378815,\n",
              "       -0.01785122, -0.6551599 , -0.20661946,  0.28020808,  0.26970243,\n",
              "       -0.07099386, -0.14483796,  0.05692654,  0.29108366, -0.24440332,\n",
              "        0.02092986, -0.0450559 , -0.32016286, -0.08273959, -0.08474465,\n",
              "       -0.6415625 , -0.19523615, -0.40885305, -0.0342914 , -0.37164354,\n",
              "        0.19300658,  0.03374232, -0.24211252, -0.38547847, -0.05027664,\n",
              "        0.6066909 ,  0.05018365,  0.05768859,  0.38739547,  0.13795   ,\n",
              "        0.5459298 ,  0.1617205 ,  0.2885201 ,  0.3065646 ,  0.27807963,\n",
              "       -0.11769659, -0.28347668, -0.13670023,  0.03757652, -0.35989302,\n",
              "        0.2091568 ,  0.05400971, -0.41332647, -0.48873812,  0.05818187],\n",
              "      dtype=float32)"
            ]
          },
          "metadata": {
            "tags": []
          },
          "execution_count": 16
        }
      ]
    },
    {
      "cell_type": "code",
      "metadata": {
        "colab": {
          "base_uri": "https://localhost:8080/"
        },
        "id": "ByJFmbigtJyj",
        "outputId": "7443cd86-5f2c-4573-a09a-9c6039949ef1"
      },
      "source": [
        "readTxt[:10]"
      ],
      "execution_count": 17,
      "outputs": [
        {
          "output_type": "execute_result",
          "data": {
            "text/plain": [
              "['iran devlet televizyonu ülkedeki eyaletin sinde yapılan reformcuları protesto amaçlı yürüyüşlere milyonlarca kişinin katıldığını bildirdi ',\n",
              " 'gösterilerde fitnecilere ölüm münafıklara ölüm abd ye ölüm ingiltere ye ölüm sloganları atıldı ',\n",
              " 'dini lider ali hamaney ve cumhurbaşkanı mahmud ahmedinejad ı destekleyen iranlılar son olaylarda yeğeni öldürülen mir hüseyin musevi başta olmak üzere muhalefet liderlerini kınadılar ',\n",
              " 'musevi ye ölüm ve idam idam sloganları duyuldu ',\n",
              " 'muhalefet liderleri kaçtı mı aşure günü yaşanan çatışmalarda devlet kaynaklarına göre u terörist olmak üzere kişi ölmüştü ',\n",
              " 'den fazla kişinin yaralandığı olaylar sırasında en az kişi tutuklanmıştı ',\n",
              " 'öte yandan iran haber ajansı irna muhalif liderler mir hüseyin musevi ve mehdi kerrubi nin başkentten kaçarak ülkenin kuzeyine geçtiğini ileri sürdü ancak muhalefet iddiayı yalanladı ',\n",
              " 'hamaney in bir dönem korumalığını yapan ve şu anda fransa da saklandığı söylenen bir kişinin muhalefete verdiği bilgilere göre münzevi yaşamı na rağmen dini liderin havyara karşı korkunç bir iştahı var ',\n",
              " 'baston ve at meraklısı hamaney aynı zamanda değerli mücevherlerle bezenmiş bastonların ve cins atların koleksiyonunu yapıyor ',\n",
              " 'hamaney in antika bastonlarının sayısı ']"
            ]
          },
          "metadata": {
            "tags": []
          },
          "execution_count": 17
        }
      ]
    },
    {
      "cell_type": "code",
      "metadata": {
        "colab": {
          "base_uri": "https://localhost:8080/"
        },
        "id": "gJNYT0Y-tUxJ",
        "outputId": "aa4afdfe-0870-4429-af64-a3973f440832"
      },
      "source": [
        "model.wv.most_similar('ankara')"
      ],
      "execution_count": 18,
      "outputs": [
        {
          "output_type": "execute_result",
          "data": {
            "text/plain": [
              "[('washington', 0.7166175842285156),\n",
              " ('paçacı', 0.7103355526924133),\n",
              " ('karlov', 0.6927697658538818),\n",
              " ('sinirlioğlu', 0.6870511770248413),\n",
              " ('erdmann', 0.6858969926834106),\n",
              " ('çağrılmıştı', 0.6793258190155029),\n",
              " ('bass', 0.6743332147598267),\n",
              " ('adana', 0.6712427139282227),\n",
              " ('maslahatgüzarı', 0.6698952913284302),\n",
              " ('bakanlığımızca', 0.6691467761993408)]"
            ]
          },
          "metadata": {
            "tags": []
          },
          "execution_count": 18
        }
      ]
    },
    {
      "cell_type": "code",
      "metadata": {
        "colab": {
          "base_uri": "https://localhost:8080/"
        },
        "id": "Pxp5cPACucCW",
        "outputId": "5091a383-077e-4cbb-bdd1-0fde42ef5bb1"
      },
      "source": [
        "model.wv.most_similar('tayyip')"
      ],
      "execution_count": 19,
      "outputs": [
        {
          "output_type": "execute_result",
          "data": {
            "text/plain": [
              "[('recep', 0.9783965349197388),\n",
              " ('erdoğan', 0.9236539006233215),\n",
              " ('tayip', 0.8243039846420288),\n",
              " ('cumhurbaşkan', 0.7335134148597717),\n",
              " ('erdogan', 0.730873703956604),\n",
              " ('cumhurbaşkanı', 0.7275041341781616),\n",
              " ('başbakan', 0.7203806638717651),\n",
              " ('giorgi', 0.7182225584983826),\n",
              " ('binali', 0.7168948650360107),\n",
              " ('akdağ', 0.713916540145874)]"
            ]
          },
          "metadata": {
            "tags": []
          },
          "execution_count": 19
        }
      ]
    },
    {
      "cell_type": "code",
      "metadata": {
        "colab": {
          "base_uri": "https://localhost:8080/"
        },
        "id": "9O4LEhh3ue2L",
        "outputId": "69f2447b-b71b-462e-e9d7-b144cbbb88a7"
      },
      "source": [
        "model.wv.most_similar('bilal')"
      ],
      "execution_count": 20,
      "outputs": [
        {
          "output_type": "execute_result",
          "data": {
            "text/plain": [
              "[('hadfi', 0.8173844814300537),\n",
              " ('abdülmecid', 0.8025946617126465),\n",
              " ('peker', 0.7997481822967529),\n",
              " ('ümmü', 0.7884055376052856),\n",
              " ('furkan', 0.7850779294967651),\n",
              " ('panahi', 0.7794739007949829),\n",
              " ('eğilmez', 0.7789653539657593),\n",
              " ('sıddık', 0.7743409872055054),\n",
              " ('asiye', 0.7741727828979492),\n",
              " ('nikahlı', 0.773348867893219)]"
            ]
          },
          "metadata": {
            "tags": []
          },
          "execution_count": 20
        }
      ]
    },
    {
      "cell_type": "code",
      "metadata": {
        "colab": {
          "base_uri": "https://localhost:8080/"
        },
        "id": "uvwYHHWhl4j1",
        "outputId": "cf3a2ef2-8649-4c26-9b8b-e79779818a50"
      },
      "source": [
        "model.wv.most_similar('istanbul')"
      ],
      "execution_count": 21,
      "outputs": [
        {
          "output_type": "execute_result",
          "data": {
            "text/plain": [
              "[('antalya', 0.7694318294525146),\n",
              " ('trabzon', 0.7387202382087708),\n",
              " ('konya', 0.7371748685836792),\n",
              " ('bursa', 0.7297393679618835),\n",
              " ('adana', 0.7274603247642517),\n",
              " ('muğla', 0.7271708250045776),\n",
              " ('diyarbakır', 0.7190197706222534),\n",
              " ('alanya', 0.694088876247406),\n",
              " ('gökçen', 0.6905044317245483),\n",
              " ('özgünaydın', 0.6884600520133972)]"
            ]
          },
          "metadata": {
            "tags": []
          },
          "execution_count": 21
        }
      ]
    },
    {
      "cell_type": "code",
      "metadata": {
        "id": "auuRJJYHoe7h"
      },
      "source": [
        "import numpy as np\n",
        "import matplotlib.pyplot as plt\n",
        "import seaborn as sns"
      ],
      "execution_count": 57,
      "outputs": []
    },
    {
      "cell_type": "code",
      "metadata": {
        "id": "gSeGAVwGsLkG"
      },
      "source": [
        "plt.rcParams['figure.figsize']=10,5\n",
        "sns.set()"
      ],
      "execution_count": 58,
      "outputs": []
    },
    {
      "cell_type": "code",
      "metadata": {
        "id": "cPoS9EqqmCSh"
      },
      "source": [
        "def close_wordsTnse(model,word):\n",
        "  word_vec = np.empty((1,100))\n",
        "  word_labels =[word]\n",
        "\n",
        "  close_words = model.wv.most_similar(word)\n",
        "\n",
        "  word_vec= np.append(word_vec,np.array([model.wv[word]]),axis=0)\n",
        "\n",
        "  for w, _ in close_words:\n",
        "    word_labels.append(w)\n",
        "    word_vec= np.append(word_vec,np.array([model.wv[w]]),axis=0)\n",
        "\n",
        "\n",
        "  tsne= TSNE(random_state=0)\n",
        "  Y = tsne.fit_transform(word_vec)\n",
        "\n",
        "  x_cords = Y[:,0]\n",
        "  y_cords = Y[:,1]\n",
        "\n",
        "  plt.scatter(x_cords, y_cords)\n",
        "\n",
        "  for label,x,y in zip(word_labels, x_cords,y_cords):\n",
        "    plt.annotate(label, xy = (x,y), xytext=(11,0),textcoords='offset points')\n",
        "\n",
        "  plt.show()"
      ],
      "execution_count": 68,
      "outputs": []
    },
    {
      "cell_type": "code",
      "metadata": {
        "colab": {
          "base_uri": "https://localhost:8080/",
          "height": 322
        },
        "id": "vjg-ey1ymiCR",
        "outputId": "e286c239-5ad5-4d0e-f20e-7216f81bcf55"
      },
      "source": [
        "close_wordsTnse(model,'paris')"
      ],
      "execution_count": 69,
      "outputs": [
        {
          "output_type": "display_data",
          "data": {
            "image/png": "[encoded data removed]",
            "text/plain": [
              "<Figure size 720x360 with 1 Axes>"
            ]
          },
          "metadata": {
            "tags": []
          }
        }
      ]
    },
    {
      "cell_type": "code",
      "metadata": {
        "colab": {
          "base_uri": "https://localhost:8080/",
          "height": 320
        },
        "id": "Vn4CejuIockF",
        "outputId": "7de606a2-fb75-43cc-9289-f20aa9b375ce"
      },
      "source": [
        "close_wordsTnse(model,'kemal')"
      ],
      "execution_count": 50,
      "outputs": [
        {
          "output_type": "display_data",
          "data": {
            "image/png": "[encoded data removed]",
            "text/plain": [
              "<Figure size 720x360 with 1 Axes>"
            ]
          },
          "metadata": {
            "tags": [],
            "needs_background": "light"
          }
        }
      ]
    },
    {
      "cell_type": "code",
      "metadata": {
        "colab": {
          "base_uri": "https://localhost:8080/",
          "height": 320
        },
        "id": "f1anBPAfrgPZ",
        "outputId": "aca53d3d-faf9-45d5-b265-1745e4b87f8c"
      },
      "source": [
        "close_wordsTnse(model,'kudüs')"
      ],
      "execution_count": 51,
      "outputs": [
        {
          "output_type": "display_data",
          "data": {
            "image/png": "[encoded data removed]",
            "text/plain": [
              "<Figure size 720x360 with 1 Axes>"
            ]
          },
          "metadata": {
            "tags": [],
            "needs_background": "light"
          }
        }
      ]
    },
    {
      "cell_type": "code",
      "metadata": {
        "colab": {
          "base_uri": "https://localhost:8080/",
          "height": 320
        },
        "id": "SjGfR7SqrioT",
        "outputId": "432231c4-2053-4299-d50a-a73b90d3f22c"
      },
      "source": [
        "close_wordsTnse(model,'berlin')"
      ],
      "execution_count": 52,
      "outputs": [
        {
          "output_type": "display_data",
          "data": {
            "image/png": "[encoded data removed]",
            "text/plain": [
              "<Figure size 720x360 with 1 Axes>"
            ]
          },
          "metadata": {
            "tags": [],
            "needs_background": "light"
          }
        }
      ]
    },
    {
      "cell_type": "code",
      "metadata": {
        "colab": {
          "base_uri": "https://localhost:8080/",
          "height": 320
        },
        "id": "_4qj2abhr4pl",
        "outputId": "323f775d-bff7-4a97-9670-63f0692cb513"
      },
      "source": [
        "close_wordsTnse(model,'ocak')"
      ],
      "execution_count": 53,
      "outputs": [
        {
          "output_type": "display_data",
          "data": {
            "image/png": "[encoded data removed]",
            "text/plain": [
              "<Figure size 720x360 with 1 Axes>"
            ]
          },
          "metadata": {
            "tags": [],
            "needs_background": "light"
          }
        }
      ]
    },
    {
      "cell_type": "code",
      "metadata": {
        "colab": {
          "base_uri": "https://localhost:8080/",
          "height": 320
        },
        "id": "r_qkmrXPr-LH",
        "outputId": "10b11464-7974-4e57-d6a5-1f6560209892"
      },
      "source": [
        "close_wordsTnse(model,'mustafa')"
      ],
      "execution_count": 54,
      "outputs": [
        {
          "output_type": "display_data",
          "data": {
            "image/png": "[encoded data removed]",
            "text/plain": [
              "<Figure size 720x360 with 1 Axes>"
            ]
          },
          "metadata": {
            "tags": [],
            "needs_background": "light"
          }
        }
      ]
    },
    {
      "cell_type": "code",
      "metadata": {
        "colab": {
          "base_uri": "https://localhost:8080/",
          "height": 320
        },
        "id": "KtqEnfMMsBC3",
        "outputId": "9605712e-20ed-4a23-c597-ee646b8f4118"
      },
      "source": [
        "close_wordsTnse(model,'mi')"
      ],
      "execution_count": 55,
      "outputs": [
        {
          "output_type": "display_data",
          "data": {
            "image/png": "[encoded data removed]",
            "text/plain": [
              "<Figure size 720x360 with 1 Axes>"
            ]
          },
          "metadata": {
            "tags": [],
            "needs_background": "light"
          }
        }
      ]
    },
    {
      "cell_type": "code",
      "metadata": {
        "colab": {
          "base_uri": "https://localhost:8080/",
          "height": 320
        },
        "id": "d-zJC2wQsEIc",
        "outputId": "37d8ad98-84ad-45cc-fb36-c8013f8643a6"
      },
      "source": [
        "close_wordsTnse(model,'ki')"
      ],
      "execution_count": 56,
      "outputs": [
        {
          "output_type": "display_data",
          "data": {
            "image/png": "[encoded data removed]",
            "text/plain": [
              "<Figure size 720x360 with 1 Axes>"
            ]
          },
          "metadata": {
            "tags": [],
            "needs_background": "light"
          }
        }
      ]
    },
    {
      "cell_type": "code",
      "metadata": {
        "id": "yDVsFkVLsGQw"
      },
      "source": [
        ""
      ],
      "execution_count": null,
      "outputs": []
    }
  ]
}