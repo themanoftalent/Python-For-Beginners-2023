{
  "nbformat": 4,
  "nbformat_minor": 0,
  "metadata": {
    "colab": {
      "name": "tokenlestirme.ipynb",
      "provenance": [],
      "collapsed_sections": [],
      "authorship_tag": "ABX9TyOOlN7PJcSX6k3SPkvfzTjR",
      "include_colab_link": true
    },
    "kernelspec": {
      "name": "python3",
      "display_name": "Python 3"
    },
    "language_info": {
      "name": "python"
    }
  },
  "cells": [
    {
      "cell_type": "markdown",
      "metadata": {
        "id": "view-in-github",
        "colab_type": "text"
      },
      "source": [
        "<a href=\"https://colab.research.google.com/github/themanoftalent/pyt-colab/blob/master/post_tag.ipynb\" target=\"_parent\"><img src=\"https://colab.research.google.com/assets/colab-badge.svg\" alt=\"Open In Colab\"/></a>"
      ]
    },
    {
      "cell_type": "code",
      "metadata": {
        "id": "KidtxHX7-AR6"
      },
      "source": [
        "import nltk"
      ],
      "execution_count": 91,
      "outputs": []
    },
    {
      "cell_type": "code",
      "metadata": {
        "colab": {
          "base_uri": "https://localhost:8080/"
        },
        "id": "hnGucOu1-ack",
        "outputId": "4c11501e-e8d5-44bf-ed94-968dafe15045"
      },
      "source": [
        "import nltk\n",
        "nltk.download('averaged_perceptron_tagger')"
      ],
      "execution_count": 95,
      "outputs": [
        {
          "output_type": "stream",
          "text": [
            "[nltk_data] Downloading package averaged_perceptron_tagger to\n",
            "[nltk_data]     /root/nltk_data...\n",
            "[nltk_data]   Unzipping taggers/averaged_perceptron_tagger.zip.\n"
          ],
          "name": "stdout"
        },
        {
          "output_type": "execute_result",
          "data": {
            "text/plain": [
              "True"
            ]
          },
          "metadata": {
            "tags": []
          },
          "execution_count": 95
        }
      ]
    },
    {
      "cell_type": "code",
      "metadata": {
        "id": "mFavYOmJ-C7G"
      },
      "source": [
        "tekist = 'Friedrich Nietzsche was a German philosopher who became one of the most influential of all modern thinkers. His attempts to unmask the motives that underlie traditional Western religion, morality, and philosophy deeply affected generations of theologians, philosophers, psychologists, poets, novelists, and playwrights.'"
      ],
      "execution_count": 96,
      "outputs": []
    },
    {
      "cell_type": "code",
      "metadata": {
        "id": "pLczWXlI-LaY"
      },
      "source": [
        "tokenlestir = word_tokenize(tekist)"
      ],
      "execution_count": 99,
      "outputs": []
    },
    {
      "cell_type": "code",
      "metadata": {
        "id": "A0j7ZDI9-QTU"
      },
      "source": [
        "nltk.pos_tag_sents(tokenlestir)"
      ],
      "execution_count": null,
      "outputs": []
    },
    {
      "cell_type": "code",
      "metadata": {
        "colab": {
          "base_uri": "https://localhost:8080/"
        },
        "id": "ufzeeKGV-XdI",
        "outputId": "31e9c543-d95c-43d1-aaee-cd524cfb64ea"
      },
      "source": [
        "nltk.pos_tag(tokenlestir)"
      ],
      "execution_count": 105,
      "outputs": [
        {
          "output_type": "execute_result",
          "data": {
            "text/plain": [
              "[('Friedrich', 'NNP'),\n",
              " ('Nietzsche', 'NNP'),\n",
              " ('was', 'VBD'),\n",
              " ('a', 'DT'),\n",
              " ('German', 'JJ'),\n",
              " ('philosopher', 'NN'),\n",
              " ('who', 'WP'),\n",
              " ('became', 'VBD'),\n",
              " ('one', 'CD'),\n",
              " ('of', 'IN'),\n",
              " ('the', 'DT'),\n",
              " ('most', 'RBS'),\n",
              " ('influential', 'JJ'),\n",
              " ('of', 'IN'),\n",
              " ('all', 'DT'),\n",
              " ('modern', 'JJ'),\n",
              " ('thinkers', 'NNS'),\n",
              " ('.', '.'),\n",
              " ('His', 'PRP$'),\n",
              " ('attempts', 'NNS'),\n",
              " ('to', 'TO'),\n",
              " ('unmask', 'VB'),\n",
              " ('the', 'DT'),\n",
              " ('motives', 'NNS'),\n",
              " ('that', 'WDT'),\n",
              " ('underlie', 'VBP'),\n",
              " ('traditional', 'JJ'),\n",
              " ('Western', 'JJ'),\n",
              " ('religion', 'NN'),\n",
              " (',', ','),\n",
              " ('morality', 'NN'),\n",
              " (',', ','),\n",
              " ('and', 'CC'),\n",
              " ('philosophy', 'NN'),\n",
              " ('deeply', 'RB'),\n",
              " ('affected', 'JJ'),\n",
              " ('generations', 'NNS'),\n",
              " ('of', 'IN'),\n",
              " ('theologians', 'NNS'),\n",
              " (',', ','),\n",
              " ('philosophers', 'NNS'),\n",
              " (',', ','),\n",
              " ('psychologists', 'NNS'),\n",
              " (',', ','),\n",
              " ('poets', 'NNS'),\n",
              " (',', ','),\n",
              " ('novelists', 'NNS'),\n",
              " (',', ','),\n",
              " ('and', 'CC'),\n",
              " ('playwrights', 'NNS'),\n",
              " ('.', '.')]"
            ]
          },
          "metadata": {
            "tags": []
          },
          "execution_count": 105
        }
      ]
    },
    {
      "cell_type": "code",
      "metadata": {
        "id": "g4ubSS3s-sgU"
      },
      "source": [
        "def tanimla(n):\n",
        "  tokenlestirelim = word_tokenize(n)\n",
        "  cikti=nltk.pos_tag(tokenlestirelim)\n",
        "  print(cikti)"
      ],
      "execution_count": 107,
      "outputs": []
    },
    {
      "cell_type": "code",
      "metadata": {
        "colab": {
          "base_uri": "https://localhost:8080/"
        },
        "id": "-ndgc_Kl_7YS",
        "outputId": "96f4fb1b-3fd4-4dd5-beb6-8d11743546e0"
      },
      "source": [
        "tanimla('Friedrich Nietzsche was a German philosopher who became one of the most influential of all modern thinkers. His attempts to unmask the motives that underlie traditional Western religion, morality, and philosophy deeply affected generations of theologians, philosophers, psychologists, poets, novelists, and playwrights.')"
      ],
      "execution_count": 108,
      "outputs": [
        {
          "output_type": "stream",
          "text": [
            "[('Friedrich', 'NNP'), ('Nietzsche', 'NNP'), ('was', 'VBD'), ('a', 'DT'), ('German', 'JJ'), ('philosopher', 'NN'), ('who', 'WP'), ('became', 'VBD'), ('one', 'CD'), ('of', 'IN'), ('the', 'DT'), ('most', 'RBS'), ('influential', 'JJ'), ('of', 'IN'), ('all', 'DT'), ('modern', 'JJ'), ('thinkers', 'NNS'), ('.', '.'), ('His', 'PRP$'), ('attempts', 'NNS'), ('to', 'TO'), ('unmask', 'VB'), ('the', 'DT'), ('motives', 'NNS'), ('that', 'WDT'), ('underlie', 'VBP'), ('traditional', 'JJ'), ('Western', 'JJ'), ('religion', 'NN'), (',', ','), ('morality', 'NN'), (',', ','), ('and', 'CC'), ('philosophy', 'NN'), ('deeply', 'RB'), ('affected', 'JJ'), ('generations', 'NNS'), ('of', 'IN'), ('theologians', 'NNS'), (',', ','), ('philosophers', 'NNS'), (',', ','), ('psychologists', 'NNS'), (',', ','), ('poets', 'NNS'), (',', ','), ('novelists', 'NNS'), (',', ','), ('and', 'CC'), ('playwrights', 'NNS'), ('.', '.')]\n"
          ],
          "name": "stdout"
        }
      ]
    },
    {
      "cell_type": "code",
      "metadata": {
        "colab": {
          "base_uri": "https://localhost:8080/"
        },
        "id": "Dm0ALXENACDB",
        "outputId": "3974e8c3-54ff-4cff-8a28-4a51cccd650d"
      },
      "source": [
        "tanimla('Mehmet can speak English')"
      ],
      "execution_count": 109,
      "outputs": [
        {
          "output_type": "stream",
          "text": [
            "[('Mehmet', 'NNP'), ('can', 'MD'), ('speak', 'VB'), ('English', 'JJ')]\n"
          ],
          "name": "stdout"
        }
      ]
    },
    {
      "cell_type": "code",
      "metadata": {
        "colab": {
          "base_uri": "https://localhost:8080/"
        },
        "id": "Q618LJApAIQ2",
        "outputId": "4fe3fd34-d536-44b7-d829-8100d6ce4d2d"
      },
      "source": [
        "tanimla('''Dear Dr. Mehmet Akif,Thank you for agreeing to review manuscript ... comments for the author.''')"
      ],
      "execution_count": 112,
      "outputs": [
        {
          "output_type": "stream",
          "text": [
            "[('Dear', 'NNP'), ('Dr.', 'NNP'), ('Mehmet', 'NNP'), ('Akif', 'NNP'), (',', ','), ('Thank', 'NNP'), ('you', 'PRP'), ('for', 'IN'), ('agreeing', 'VBG'), ('to', 'TO'), ('review', 'VB'), ('manuscript', 'NN'), ('...', ':'), ('comments', 'NNS'), ('for', 'IN'), ('the', 'DT'), ('author', 'NN'), ('.', '.')]\n"
          ],
          "name": "stdout"
        }
      ]
    },
    {
      "cell_type": "code",
      "metadata": {
        "id": "Gi0d0wy6AWxZ"
      },
      "source": [
        ""
      ],
      "execution_count": null,
      "outputs": []
    }
  ]
}