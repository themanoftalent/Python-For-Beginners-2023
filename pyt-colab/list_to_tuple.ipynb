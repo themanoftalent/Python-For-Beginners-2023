{
  "nbformat": 4,
  "nbformat_minor": 0,
  "metadata": {
    "colab": {
      "name": "list_to_tuple.ipynb",
      "provenance": [],
      "authorship_tag": "ABX9TyPS8NC0KUCQZv36ROPbBKyx",
      "include_colab_link": true
    },
    "kernelspec": {
      "name": "python3",
      "display_name": "Python 3"
    },
    "language_info": {
      "name": "python"
    }
  },
  "cells": [
    {
      "cell_type": "markdown",
      "metadata": {
        "id": "view-in-github",
        "colab_type": "text"
      },
      "source": [
        "<a href=\"https://colab.research.google.com/github/themanoftalent/pyt-colab/blob/master/list_to_tuple.ipynb\" target=\"_parent\"><img src=\"https://colab.research.google.com/assets/colab-badge.svg\" alt=\"Open In Colab\"/></a>"
      ]
    },
    {
      "cell_type": "code",
      "metadata": {
        "id": "lfWzFWtJuErG"
      },
      "source": [
        "def list_to_tupple(mylist):\n",
        "  \n",
        "  return tuple(mylist)\n",
        " \n"
      ],
      "execution_count": 10,
      "outputs": []
    },
    {
      "cell_type": "code",
      "metadata": {
        "id": "UPOgGVlMuM9E",
        "colab": {
          "base_uri": "https://localhost:8080/"
        },
        "outputId": "8e2f04dc-ebad-411d-bb0c-b933bfd34cfa"
      },
      "source": [
        "list_to_tupple([1,2,3,4,5,6])"
      ],
      "execution_count": 11,
      "outputs": [
        {
          "output_type": "execute_result",
          "data": {
            "text/plain": [
              "(1, 2, 3, 4, 5, 6)"
            ]
          },
          "metadata": {
            "tags": []
          },
          "execution_count": 11
        }
      ]
    },
    {
      "cell_type": "code",
      "metadata": {
        "id": "7gF4qG8VuPld"
      },
      "source": [
        "def tuple_list(n_tuple):\n",
        "  return list(n_tuple)"
      ],
      "execution_count": 12,
      "outputs": []
    },
    {
      "cell_type": "code",
      "metadata": {
        "colab": {
          "base_uri": "https://localhost:8080/"
        },
        "id": "K6cg1cNsvDsT",
        "outputId": "10ac26e7-0c1d-4432-cdd9-6b800cedf2a0"
      },
      "source": [
        "tuple_list((1, 2, 3, 4, 5, 6))"
      ],
      "execution_count": 13,
      "outputs": [
        {
          "output_type": "execute_result",
          "data": {
            "text/plain": [
              "[1, 2, 3, 4, 5, 6]"
            ]
          },
          "metadata": {
            "tags": []
          },
          "execution_count": 13
        }
      ]
    },
    {
      "cell_type": "code",
      "metadata": {
        "id": "opVnZGopvGRb"
      },
      "source": [
        "\n",
        " "
      ],
      "execution_count": 15,
      "outputs": []
    },
    {
      "cell_type": "code",
      "metadata": {
        "id": "xolC2tyfvJ_2"
      },
      "source": [
        ""
      ],
      "execution_count": 15,
      "outputs": []
    },
    {
      "cell_type": "code",
      "metadata": {
        "id": "mXOuWBrWvLUC"
      },
      "source": [
        ""
      ],
      "execution_count": 15,
      "outputs": []
    }
  ]
}