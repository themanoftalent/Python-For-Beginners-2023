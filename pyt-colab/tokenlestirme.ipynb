{
  "nbformat": 4,
  "nbformat_minor": 0,
  "metadata": {
    "colab": {
      "name": "tokenlestirme.ipynb",
      "provenance": [],
      "collapsed_sections": [],
      "authorship_tag": "ABX9TyNOqJv1VmWfLoYVwefwiF1Z",
      "include_colab_link": true
    },
    "kernelspec": {
      "name": "python3",
      "display_name": "Python 3"
    },
    "language_info": {
      "name": "python"
    }
  },
  "cells": [
    {
      "cell_type": "markdown",
      "metadata": {
        "id": "view-in-github",
        "colab_type": "text"
      },
      "source": [
        "<a href=\"https://colab.research.google.com/github/themanoftalent/pyt-colab/blob/master/tokenlestirme.ipynb\" target=\"_parent\"><img src=\"https://colab.research.google.com/assets/colab-badge.svg\" alt=\"Open In Colab\"/></a>"
      ]
    },
    {
      "cell_type": "code",
      "metadata": {
        "id": "qPdbQ4Ql4MHI"
      },
      "source": [
        "import nltk"
      ],
      "execution_count": 10,
      "outputs": []
    },
    {
      "cell_type": "code",
      "metadata": {
        "colab": {
          "base_uri": "https://localhost:8080/"
        },
        "id": "cBvGnYcc4Nne",
        "outputId": "74e3af5c-ac2e-4f7d-bf29-0c22f564aa4b"
      },
      "source": [
        "nltk.download('punkt')"
      ],
      "execution_count": 13,
      "outputs": [
        {
          "output_type": "stream",
          "text": [
            "[nltk_data] Downloading package punkt to /root/nltk_data...\n",
            "[nltk_data]   Package punkt is already up-to-date!\n"
          ],
          "name": "stdout"
        },
        {
          "output_type": "execute_result",
          "data": {
            "text/plain": [
              "True"
            ]
          },
          "metadata": {
            "tags": []
          },
          "execution_count": 13
        }
      ]
    },
    {
      "cell_type": "code",
      "metadata": {
        "id": "s-dzM7kD9s-3"
      },
      "source": [
        "from nltk.tokenize import sent_tokenize, word_tokenize"
      ],
      "execution_count": 14,
      "outputs": []
    },
    {
      "cell_type": "code",
      "metadata": {
        "id": "JtOxcrU_3u3Y"
      },
      "source": [
        "txt = 'Allan is a great man he i so much love you and your dad will have your hands full and will get your back and in the mail for the day for and the week before we were seated at a bar in '"
      ],
      "execution_count": 56,
      "outputs": []
    },
    {
      "cell_type": "code",
      "metadata": {
        "id": "3DKLpI8A31aF"
      },
      "source": [
        "#lets use split method"
      ],
      "execution_count": 16,
      "outputs": []
    },
    {
      "cell_type": "code",
      "metadata": {
        "id": "6OQhIg9z33Hj"
      },
      "source": [
        "txt.split() #but this method is not so good each word is taken once"
      ],
      "execution_count": null,
      "outputs": []
    },
    {
      "cell_type": "code",
      "metadata": {
        "id": "YYAl6yw_36H0"
      },
      "source": [
        "word_tokenize(txt)"
      ],
      "execution_count": null,
      "outputs": []
    },
    {
      "cell_type": "code",
      "metadata": {
        "id": "NmYgDIjO4FZH"
      },
      "source": [
        "alist=sent_tokenize(txt)"
      ],
      "execution_count": 21,
      "outputs": []
    },
    {
      "cell_type": "code",
      "metadata": {
        "colab": {
          "base_uri": "https://localhost:8080/"
        },
        "id": "30mxhPmt4fyr",
        "outputId": "e9127599-f703-4539-985c-6ab25afb67ec"
      },
      "source": [
        "alist"
      ],
      "execution_count": 22,
      "outputs": [
        {
          "output_type": "execute_result",
          "data": {
            "text/plain": [
              "['Allan is a great man he i so much love you and your dad will have your hands full and will get your back in the mail for the day for and the week before we were seated at a bar in']"
            ]
          },
          "metadata": {
            "tags": []
          },
          "execution_count": 22
        }
      ]
    },
    {
      "cell_type": "code",
      "metadata": {
        "colab": {
          "base_uri": "https://localhost:8080/"
        },
        "id": "V-XelxiL4kW8",
        "outputId": "03df2340-ff9f-464d-89e9-0f1e1b8b8b3f"
      },
      "source": [
        "for i in alist:\n",
        "  print(i)"
      ],
      "execution_count": 23,
      "outputs": [
        {
          "output_type": "stream",
          "text": [
            "Allan is a great man he i so much love you and your dad will have your hands full and will get your back in the mail for the day for and the week before we were seated at a bar in\n"
          ],
          "name": "stdout"
        }
      ]
    },
    {
      "cell_type": "code",
      "metadata": {
        "id": "XboWvj1M4oaL"
      },
      "source": [
        "for i in word_tokenize(txt):\n",
        "  print(i)"
      ],
      "execution_count": null,
      "outputs": []
    },
    {
      "cell_type": "code",
      "metadata": {
        "id": "3SakdlU04sZ7"
      },
      "source": [
        "import time\n",
        "start= time.time()\n",
        "def token(n):\n",
        "  word=[]\n",
        "\n",
        "  for i in word_tokenize(txt):\n",
        "    if i =='man':\n",
        "      word.append(i)\n",
        "      print(word)\n",
        "    else:\n",
        "      pass\n",
        "time.sleep(1)"
      ],
      "execution_count": 40,
      "outputs": []
    },
    {
      "cell_type": "code",
      "metadata": {
        "colab": {
          "base_uri": "https://localhost:8080/"
        },
        "id": "GUWqHC5a4-zg",
        "outputId": "895b4818-b9fc-446a-c616-20e4ef9fcb39"
      },
      "source": [
        "\n",
        "token('Allan is a great man he i so much love you and your dad will have your hands full and will get your back in the mail for the day for and the week before we were seated at a bar in ')\n",
        "stop=time.time()\n",
        "dura = stop-start\n",
        "print('{:.3f}'.format(dura))\n"
      ],
      "execution_count": 41,
      "outputs": [
        {
          "output_type": "stream",
          "text": [
            "['man']\n",
            "1.016\n"
          ],
          "name": "stdout"
        }
      ]
    },
    {
      "cell_type": "code",
      "metadata": {
        "id": "7EIXczU49aFr"
      },
      "source": [
        "##########################################\n",
        "# STOPWORDS"
      ],
      "execution_count": 90,
      "outputs": []
    },
    {
      "cell_type": "code",
      "metadata": {
        "id": "BjStcIvU6Ben"
      },
      "source": [
        "# stopwords\n",
        "from nltk.corpus import stopwords"
      ],
      "execution_count": 43,
      "outputs": []
    },
    {
      "cell_type": "code",
      "metadata": {
        "colab": {
          "base_uri": "https://localhost:8080/"
        },
        "id": "fcjwVf0h5F0-",
        "outputId": "a7b4f0a1-dee4-41f3-edf6-e9727164eb88"
      },
      "source": [
        "nltk.download('stopwords')"
      ],
      "execution_count": 44,
      "outputs": [
        {
          "output_type": "stream",
          "text": [
            "[nltk_data] Downloading package stopwords to /root/nltk_data...\n",
            "[nltk_data]   Package stopwords is already up-to-date!\n"
          ],
          "name": "stdout"
        },
        {
          "output_type": "execute_result",
          "data": {
            "text/plain": [
              "True"
            ]
          },
          "metadata": {
            "tags": []
          },
          "execution_count": 44
        }
      ]
    },
    {
      "cell_type": "code",
      "metadata": {
        "colab": {
          "base_uri": "https://localhost:8080/"
        },
        "id": "cUIjTaOD53Mt",
        "outputId": "6c4179c7-4ea2-4afe-d12f-9f0d53b1438a"
      },
      "source": [
        "len(stopwords.words('english'))"
      ],
      "execution_count": 46,
      "outputs": [
        {
          "output_type": "execute_result",
          "data": {
            "text/plain": [
              "179"
            ]
          },
          "metadata": {
            "tags": []
          },
          "execution_count": 46
        }
      ]
    },
    {
      "cell_type": "code",
      "metadata": {
        "id": "ca7uIpxE6Nis"
      },
      "source": [
        "stopwords.words('turkish')"
      ],
      "execution_count": null,
      "outputs": []
    },
    {
      "cell_type": "code",
      "metadata": {
        "id": "IqdQLixc7zj_"
      },
      "source": [
        "#######\n",
        "tekist = 'Yapay zeka, and, in, on, derin öğrenme kullanarak natural language processing kavramlarını anlayın ve Python, Keras ile NLP yazın.'"
      ],
      "execution_count": 68,
      "outputs": []
    },
    {
      "cell_type": "code",
      "metadata": {
        "id": "MOJfiyg56U7C"
      },
      "source": [
        "kelime= word_tokenize(tekist)"
      ],
      "execution_count": 69,
      "outputs": []
    },
    {
      "cell_type": "code",
      "metadata": {
        "id": "RwwkL-2x7RTt"
      },
      "source": [
        "stopkelime= stopwords.words('english')"
      ],
      "execution_count": 70,
      "outputs": []
    },
    {
      "cell_type": "code",
      "metadata": {
        "id": "WJAoezDC6p9V"
      },
      "source": [
        "output = []\n",
        "for wrd in kelime:\n",
        "  if wrd not in stopkelime:\n",
        "    output.append(wrd)"
      ],
      "execution_count": 71,
      "outputs": []
    },
    {
      "cell_type": "code",
      "metadata": {
        "colab": {
          "base_uri": "https://localhost:8080/"
        },
        "id": "o68SEosz657Z",
        "outputId": "099dc24a-0909-40c5-b301-5b25487c8b6f"
      },
      "source": [
        "output"
      ],
      "execution_count": 72,
      "outputs": [
        {
          "output_type": "execute_result",
          "data": {
            "text/plain": [
              "['Yapay',\n",
              " 'zeka',\n",
              " ',',\n",
              " ',',\n",
              " ',',\n",
              " ',',\n",
              " 'derin',\n",
              " 'öğrenme',\n",
              " 'kullanarak',\n",
              " 'natural',\n",
              " 'language',\n",
              " 'processing',\n",
              " 'kavramlarını',\n",
              " 'anlayın',\n",
              " 'Python',\n",
              " ',',\n",
              " 'Keras',\n",
              " 'ile',\n",
              " 'NLP',\n",
              " 'yazın',\n",
              " '.']"
            ]
          },
          "metadata": {
            "tags": []
          },
          "execution_count": 72
        }
      ]
    },
    {
      "cell_type": "code",
      "metadata": {
        "id": "WwNtlqeo7Y5F"
      },
      "source": [
        "#if in \n",
        "outputs = []\n",
        "for wrds in kelime:\n",
        "  if wrds in stopkelime:\n",
        "    output.append(wrds)"
      ],
      "execution_count": 73,
      "outputs": []
    },
    {
      "cell_type": "code",
      "metadata": {
        "colab": {
          "base_uri": "https://localhost:8080/"
        },
        "id": "rnNk4rQ27e6i",
        "outputId": "3cdc4933-8e89-436b-8278-b08ce612b342"
      },
      "source": [
        "outputs"
      ],
      "execution_count": 74,
      "outputs": [
        {
          "output_type": "execute_result",
          "data": {
            "text/plain": [
              "[]"
            ]
          },
          "metadata": {
            "tags": []
          },
          "execution_count": 74
        }
      ]
    },
    {
      "cell_type": "code",
      "metadata": {
        "id": "TzaT2fEL7gSZ"
      },
      "source": [
        "#############\n",
        "#porterstemmer"
      ],
      "execution_count": 76,
      "outputs": []
    },
    {
      "cell_type": "code",
      "metadata": {
        "id": "u3Yoa1sV8GzG"
      },
      "source": [
        "from nltk.stem import PorterStemmer"
      ],
      "execution_count": 77,
      "outputs": []
    },
    {
      "cell_type": "code",
      "metadata": {
        "id": "_CU5V0AC8NQa"
      },
      "source": [
        "ps = PorterStemmer()"
      ],
      "execution_count": 78,
      "outputs": []
    },
    {
      "cell_type": "code",
      "metadata": {
        "id": "8ytiN0998SfQ"
      },
      "source": [
        "wordis = ['drive','driving','drove','driver','drives','cats','dogs']"
      ],
      "execution_count": 80,
      "outputs": []
    },
    {
      "cell_type": "code",
      "metadata": {
        "colab": {
          "base_uri": "https://localhost:8080/"
        },
        "id": "2hBTG9cU8S-O",
        "outputId": "42bdc0a1-ed3f-4bee-a23f-fa25dcaf6493"
      },
      "source": [
        "for w in wordis:\n",
        "  print(ps.stem(w))"
      ],
      "execution_count": 85,
      "outputs": [
        {
          "output_type": "stream",
          "text": [
            "drive\n",
            "drive\n",
            "drove\n",
            "driver\n",
            "drive\n",
            "cat\n",
            "dog\n"
          ],
          "name": "stdout"
        }
      ]
    },
    {
      "cell_type": "code",
      "metadata": {
        "id": "THFjM-1q8gM3"
      },
      "source": [
        "new_kelime = ['swimming','swum','swam','swimmer','swams','dogs','cats','children','childs']"
      ],
      "execution_count": 88,
      "outputs": []
    },
    {
      "cell_type": "code",
      "metadata": {
        "colab": {
          "base_uri": "https://localhost:8080/"
        },
        "id": "8tuRA4-E8_0w",
        "outputId": "183753bb-1345-47b6-e611-ef2359ca28f6"
      },
      "source": [
        "for nk in new_kelime:\n",
        "  print(ps.stem(nk))"
      ],
      "execution_count": 89,
      "outputs": [
        {
          "output_type": "stream",
          "text": [
            "swim\n",
            "swum\n",
            "swam\n",
            "swimmer\n",
            "swam\n",
            "dog\n",
            "cat\n",
            "children\n",
            "child\n"
          ],
          "name": "stdout"
        }
      ]
    },
    {
      "cell_type": "code",
      "metadata": {
        "id": "f8tX9TZW9ImP"
      },
      "source": [
        ""
      ],
      "execution_count": null,
      "outputs": []
    }
  ]
}