{
  "nbformat": 4,
  "nbformat_minor": 0,
  "metadata": {
    "colab": {
      "name": "Division by a number.ipynb",
      "provenance": [],
      "collapsed_sections": [],
      "authorship_tag": "ABX9TyO4lQQ6cK1keTQ2gT7v+gTT",
      "include_colab_link": true
    },
    "kernelspec": {
      "name": "python3",
      "display_name": "Python 3"
    },
    "language_info": {
      "name": "python"
    }
  },
  "cells": [
    {
      "cell_type": "markdown",
      "metadata": {
        "id": "view-in-github",
        "colab_type": "text"
      },
      "source": [
        "<a href=\"https://colab.research.google.com/github/themanoftalent/pyt-colab/blob/master/Division_by_a_number.ipynb\" target=\"_parent\"><img src=\"https://colab.research.google.com/assets/colab-badge.svg\" alt=\"Open In Colab\"/></a>"
      ]
    },
    {
      "cell_type": "markdown",
      "metadata": {
        "id": "nGSs0fYqq0F2"
      },
      "source": [
        "\n",
        "# When you divide the successive powers of `10` by `13` you get the following remainders of the integer divisions:\n",
        "\n",
        "# `1, 10, 9, 12, 3, 4`.\n",
        "\n",
        "# Then the whole pattern repeats.\n",
        "\n",
        "# Hence the following method: Multiply the right most digit of the number with the left most number in the sequence shown above, the second right most digit to the second left most digit of the number in the sequence. The cycle goes on and you sum all these products. Repeat this process until the sequence of sums is stationary.\n",
        "\n",
        "# ...........................................................................\n",
        "\n",
        "# Example: What is the remainder when `1234567` is divided by `13`?\n",
        "\n",
        "# `7×1 + 6×10 + 5×9 + 4×12 + 3×3 + 2×4 + 1×1 = 178`\n",
        "\n",
        "# We repeat the process with 178:\n",
        "\n",
        "# `8x1 + 7x10 + 1x9 = 87`\n",
        "\n",
        "# and again with 87:\n",
        "\n",
        "# `7x1 + 8x10 = 87`\n",
        "\n",
        "# ...........................................................................\n",
        "\n",
        "# From now on the sequence is stationary and the remainder of `1234567` by `13` is the same as the remainder of `87` by `13`: `9`\n",
        "\n",
        "# Call `thirt` the function which processes this sequence of operations on an integer `n (>=0)`. `thirt` will return the stationary number.\n",
        "\n",
        "# `thirt(1234567)` calculates 178, then 87, then 87 and returns `87`.\n",
        "\n",
        "# `thirt(321)` calculates 48, 48 and returns `48`\n"
      ]
    },
    {
      "cell_type": "code",
      "metadata": {
        "id": "5NwsBbbSpvi3"
      },
      "source": [
        "def thirt(n):\n",
        "    pattern = [1, 10, 9, 12, 3, 4]\n",
        "    sum = 0\n",
        "\n",
        "    while True:\n",
        "        current_sum = 0\n",
        "        for index, digit in enumerate(str(n)[::-1]):\n",
        "            current_index = index % len(pattern)\n",
        "            current_sum += int(digit) * pattern[current_index]\n",
        "\n",
        "        if sum == current_sum:\n",
        "            return sum\n",
        "\n",
        "        sum = current_sum\n",
        "        n = current_sum"
      ],
      "execution_count": 17,
      "outputs": []
    },
    {
      "cell_type": "code",
      "metadata": {
        "colab": {
          "base_uri": "https://localhost:8080/"
        },
        "id": "Ee-mmJDmpxcj",
        "outputId": "8d17a9e6-4a5b-4fb2-863f-a6942f2ac54f"
      },
      "source": [
        "thirt(321)"
      ],
      "execution_count": 18,
      "outputs": [
        {
          "output_type": "execute_result",
          "data": {
            "text/plain": [
              "48"
            ]
          },
          "metadata": {
            "tags": []
          },
          "execution_count": 18
        }
      ]
    },
    {
      "cell_type": "code",
      "metadata": {
        "id": "kHtcvft3qgNb"
      },
      "source": [
        ""
      ],
      "execution_count": null,
      "outputs": []
    }
  ]
}