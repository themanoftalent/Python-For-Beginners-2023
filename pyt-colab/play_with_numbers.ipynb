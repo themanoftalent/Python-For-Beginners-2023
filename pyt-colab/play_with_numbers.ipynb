{
  "nbformat": 4,
  "nbformat_minor": 0,
  "metadata": {
    "colab": {
      "name": "play with numbers.ipynb",
      "provenance": [],
      "authorship_tag": "ABX9TyNKkKfll784oA4zwksXVG6P",
      "include_colab_link": true
    },
    "kernelspec": {
      "name": "python3",
      "display_name": "Python 3"
    },
    "language_info": {
      "name": "python"
    }
  },
  "cells": [
    {
      "cell_type": "markdown",
      "metadata": {
        "id": "view-in-github",
        "colab_type": "text"
      },
      "source": [
        "<a href=\"https://colab.research.google.com/github/themanoftalent/pyt-colab/blob/master/play_with_numbers.ipynb\" target=\"_parent\"><img src=\"https://colab.research.google.com/assets/colab-badge.svg\" alt=\"Open In Colab\"/></a>"
      ]
    },
    {
      "cell_type": "code",
      "metadata": {
        "colab": {
          "base_uri": "https://localhost:8080/"
        },
        "id": "Jvpi2r2djlX2",
        "outputId": "1ad86166-b141-4185-d1ca-107dbe2278eb"
      },
      "source": [
        "import time\n",
        "\n",
        "start = time.time()\n",
        "def dig_pow(n, p):\n",
        "\n",
        "    sum = str(n)\n",
        "    output = 0\n",
        "\n",
        "    for i in sum:\n",
        "        output += int(i)**p\n",
        "        p += 1\n",
        "    time.sleep(1)\n",
        "    if output % n == 0:\n",
        "        return output / n\n",
        "    return -1\n",
        "\n",
        "\n",
        "stop = time.time()\n",
        "\n",
        "print('The passed time is {0:.4f}'.format(stop-start))"
      ],
      "execution_count": 24,
      "outputs": [
        {
          "output_type": "stream",
          "text": [
            "The passed time is 0.0001\n"
          ],
          "name": "stdout"
        }
      ]
    },
    {
      "cell_type": "code",
      "metadata": {
        "colab": {
          "base_uri": "https://localhost:8080/"
        },
        "id": "BGRgBk4qk9i6",
        "outputId": "7e57846c-a213-4e6a-8070-cb15eb720c49"
      },
      "source": [
        "dig_pow(89, 1) #should return 1 since 8¹ + 9² = 89 = 89 * 1"
      ],
      "execution_count": 25,
      "outputs": [
        {
          "output_type": "execute_result",
          "data": {
            "text/plain": [
              "1.0"
            ]
          },
          "metadata": {
            "tags": []
          },
          "execution_count": 25
        }
      ]
    },
    {
      "cell_type": "code",
      "metadata": {
        "colab": {
          "base_uri": "https://localhost:8080/"
        },
        "id": "ApXngSUAlGL-",
        "outputId": "b8770d63-e498-4f17-b367-c8b3fecd3966"
      },
      "source": [
        "dig_pow(92, 1) #should return -1 since there is no k such as 9¹ + 2² equals 92 * k"
      ],
      "execution_count": 26,
      "outputs": [
        {
          "output_type": "execute_result",
          "data": {
            "text/plain": [
              "-1"
            ]
          },
          "metadata": {
            "tags": []
          },
          "execution_count": 26
        }
      ]
    },
    {
      "cell_type": "code",
      "metadata": {
        "colab": {
          "base_uri": "https://localhost:8080/"
        },
        "id": "Gk7Vv18blI2i",
        "outputId": "c2f523e2-eae2-4b76-a73e-64ab883fb2ef"
      },
      "source": [
        "dig_pow(695, 2) #should return 2 since 6² + 9³ + 5⁴= 1390 = 695 * 2"
      ],
      "execution_count": 27,
      "outputs": [
        {
          "output_type": "execute_result",
          "data": {
            "text/plain": [
              "2.0"
            ]
          },
          "metadata": {
            "tags": []
          },
          "execution_count": 27
        }
      ]
    },
    {
      "cell_type": "code",
      "metadata": {
        "colab": {
          "base_uri": "https://localhost:8080/"
        },
        "id": "r5o6vvC1lJ-e",
        "outputId": "c3b63701-62e0-4c0d-ff38-8d8cdd9e92df"
      },
      "source": [
        "dig_pow(46288, 3) #should return 51 since 4³ + 6⁴+ 2⁵ + 8⁶ + 8⁷ = 2360688 = 46288 * 51"
      ],
      "execution_count": 28,
      "outputs": [
        {
          "output_type": "execute_result",
          "data": {
            "text/plain": [
              "51.0"
            ]
          },
          "metadata": {
            "tags": []
          },
          "execution_count": 28
        }
      ]
    },
    {
      "cell_type": "code",
      "metadata": {
        "colab": {
          "base_uri": "https://localhost:8080/"
        },
        "id": "cMYj3jLvlKhv",
        "outputId": "ed049dd8-ed65-49aa-b5c3-6d761645e914"
      },
      "source": [
        "stop = time.time()\n",
        "\n",
        "print('The passed time is {0:.4f}'.format(stop-start))"
      ],
      "execution_count": 29,
      "outputs": [
        {
          "output_type": "stream",
          "text": [
            "The passed time is 4.6381\n"
          ],
          "name": "stdout"
        }
      ]
    },
    {
      "cell_type": "code",
      "metadata": {
        "id": "dhjpmlo0l-OL"
      },
      "source": [
        ""
      ],
      "execution_count": 29,
      "outputs": []
    }
  ]
}