{
  "nbformat": 4,
  "nbformat_minor": 0,
  "metadata": {
    "colab": {
      "name": "Somemorecodes.ipynb",
      "provenance": [],
      "authorship_tag": "ABX9TyPE7rCsFd54yTB8Z43tGbTe",
      "include_colab_link": true
    },
    "kernelspec": {
      "name": "python3",
      "display_name": "Python 3"
    },
    "language_info": {
      "name": "python"
    }
  },
  "cells": [
    {
      "cell_type": "markdown",
      "metadata": {
        "id": "view-in-github",
        "colab_type": "text"
      },
      "source": [
        "<a href=\"https://colab.research.google.com/github/themanoftalent/pyt-colab/blob/master/Somemorecodes.ipynb\" target=\"_parent\"><img src=\"https://colab.research.google.com/assets/colab-badge.svg\" alt=\"Open In Colab\"/></a>"
      ]
    },
    {
      "cell_type": "code",
      "metadata": {
        "colab": {
          "base_uri": "https://localhost:8080/"
        },
        "id": "DyshUyYA9Aq0",
        "outputId": "a5a4dadc-de89-403e-8667-3090d21aabfa"
      },
      "source": [
        "class Add(int):\n",
        "\n",
        "  def __init__(self,num):\n",
        "    self.num=num\n",
        "  \n",
        "  def multiple35(self):\n",
        "    return sum(i for i in range(self.num) if i%3==0 or i%5==0)\n",
        "\n",
        "  def __call__(self,n):\n",
        "    return Add(self+n)\n",
        "\n",
        "  def send_zeros(self,zero):\n",
        "    return sorted(zero, key = lambda x : x == 0 and x != bool)\n",
        "\n",
        "  def sortingNUmbers(self,nums):\n",
        "    \n",
        "    my_list=[]\n",
        "    for i in nums:\n",
        "      if i < 50:\n",
        "        my_list.append(i)\n",
        "      else:\n",
        "        pass\n",
        "    return sorted(my_list)\n",
        "  \n",
        "\n",
        "A1=Add(10)\n",
        "print('All the divison is ',A1.multiple35())\n",
        "print('Zeros are sent to the end  ',A1.send_zeros([1,0,0,9,0,6,0,3,0,3,55,6,78,0,23,3]))\n",
        "print('The sorted list is ',A1.sortingNUmbers([9,4,5,7,3,8,3,8,9,99,7,55,443,32,2,1,5,6,4,8,9,11,14,12]))\n",
        "\n",
        "\n",
        "if __name__=='__main__':\n",
        "  print('The sum of succesion numbers are  ',Add(34)(54)(23)(34)(99))"
      ],
      "execution_count": 25,
      "outputs": [
        {
          "output_type": "stream",
          "text": [
            "All the divison is  23\n",
            "Zeros are sent to the end   [1, 9, 6, 3, 3, 55, 6, 78, 23, 3, 0, 0, 0, 0, 0, 0]\n",
            "The sorted list is  [1, 2, 3, 3, 4, 4, 5, 5, 6, 7, 7, 8, 8, 8, 9, 9, 9, 11, 12, 14, 32]\n",
            "The sum of succesion numbers are   244\n"
          ],
          "name": "stdout"
        }
      ]
    },
    {
      "cell_type": "code",
      "metadata": {
        "id": "QvzB-n-q9TmU"
      },
      "source": [
        "# def xsortingNUmbers(nums):\n",
        "#   my_list=[]\n",
        "#   for i in nums:\n",
        "#     if i < 50:\n",
        "\n",
        "#       my_list.append(i)\n",
        "#     else:\n",
        "#       pass\n",
        "#   return sorted(my_list)\n",
        "\n",
        "\n",
        "# print(xsortingNUmbers([9,4,5,7,3,8,3,8,9,99,7,55,443,32,2,1,5,6,4,8,9,11,14,12]))"
      ],
      "execution_count": 27,
      "outputs": []
    },
    {
      "cell_type": "code",
      "metadata": {
        "id": "YIkLU_etDOCh"
      },
      "source": [
        ""
      ],
      "execution_count": null,
      "outputs": []
    }
  ]
}