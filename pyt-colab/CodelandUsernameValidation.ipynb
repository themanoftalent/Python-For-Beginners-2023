{
  "nbformat": 4,
  "nbformat_minor": 0,
  "metadata": {
    "colab": {
      "name": "CodelandUsernameValidation.ipynb",
      "provenance": [],
      "collapsed_sections": [],
      "authorship_tag": "ABX9TyNvHUBbOlQ7ffWchnHC0P2T",
      "include_colab_link": true
    },
    "kernelspec": {
      "name": "python3",
      "display_name": "Python 3"
    },
    "language_info": {
      "name": "python"
    }
  },
  "cells": [
    {
      "cell_type": "markdown",
      "metadata": {
        "id": "view-in-github",
        "colab_type": "text"
      },
      "source": [
        "<a href=\"https://colab.research.google.com/github/themanoftalent/pyt-colab/blob/master/CodelandUsernameValidation.ipynb\" target=\"_parent\"><img src=\"https://colab.research.google.com/assets/colab-badge.svg\" alt=\"Open In Colab\"/></a>"
      ]
    },
    {
      "cell_type": "markdown",
      "metadata": {
        "id": "VaSwLjrg2Lwo"
      },
      "source": [
        "Codeland Username Validation\n",
        "Have the function CodelandUsernameValidation(str) take the str parameter being passed and determine if the string is a valid username according to the following rules:\n",
        "\n",
        "1. The username is between 4 and 25 characters.\n",
        "2. It must start with a letter.\n",
        "3. It can only contain letters, numbers, and the underscore character.\n",
        "4. It cannot end with an underscore character.\n",
        "\n",
        "If the username is valid then your program should return the string true, otherwise return the string false."
      ]
    },
    {
      "cell_type": "code",
      "metadata": {
        "colab": {
          "base_uri": "https://localhost:8080/"
        },
        "id": "14elw6H12Kzo",
        "outputId": "1a2229f3-9015-4e64-f867-8817e2f11abe"
      },
      "source": [
        "#solution 1\n",
        "import re\n",
        "\n",
        "def CodelandUsernameValidation(str):\n",
        "  pattern = re.compile(r\"^[a-zA-Z][\\w_]{2,23}[^_]$\")\n",
        "  res = pattern.match(str)\n",
        "  str = True if res else False\n",
        "  return str\n",
        "\n",
        "# keep this function call here \n",
        "print(CodelandUsernameValidation(input()))"
      ],
      "execution_count": 5,
      "outputs": [
        {
          "output_type": "stream",
          "text": [
            "__sadna\n",
            "False\n"
          ],
          "name": "stdout"
        }
      ]
    },
    {
      "cell_type": "code",
      "metadata": {
        "id": "FCm4MT9M24Cw"
      },
      "source": [
        "##########"
      ],
      "execution_count": 6,
      "outputs": []
    },
    {
      "cell_type": "code",
      "metadata": {
        "colab": {
          "base_uri": "https://localhost:8080/"
        },
        "id": "JAxCxwLH2Mbw",
        "outputId": "c49e01f0-6a6c-40c7-9139-6b527ce13c46"
      },
      "source": [
        "#solution 2\n",
        "def CodelandUsernameValidation(s):\n",
        "  if len(s)>4 and len(s)<25 and s[0].isalpha() and [i for i in s if i.isalnum() or i==\"_\"]!=[] and s[-1]!=\"_\":\n",
        "    return True\n",
        "  else:\n",
        "    return False\n",
        "# keep this function call here \n",
        "print(CodelandUsernameValidation(input()))"
      ],
      "execution_count": 2,
      "outputs": [
        {
          "output_type": "stream",
          "text": [
            "etertyer\n",
            "True\n"
          ],
          "name": "stdout"
        }
      ]
    },
    {
      "cell_type": "code",
      "metadata": {
        "colab": {
          "base_uri": "https://localhost:8080/"
        },
        "id": "de5-yee92aLB",
        "outputId": "e9ee04ce-ef98-4188-b471-74f4a5c1ca0a"
      },
      "source": [
        "#solution 3\n",
        "def CodelandUsernameValidation(str):\n",
        "  valid = 'true'\n",
        "  if len(str) < 4 or len(str) > 25:\n",
        "    valid = 'false'\n",
        "  elif str[0].isalpha() == False:\n",
        "    valid = 'false'\n",
        "  elif str[-1] == '_':\n",
        "    valid = 'false'\n",
        "\n",
        "  for character in str:\n",
        "    if character.isalpha() or character in ['1', '2', '3', '4', '5', '6', '7', '8', '9', '0'] or character == '_':\n",
        "      continue\n",
        "    else:\n",
        "      valid = 'false'\n",
        "      break\n",
        "\n",
        "  # code goes here\n",
        "  return valid\n",
        "\n",
        "# keep this function call here \n",
        "print(CodelandUsernameValidation(input()))"
      ],
      "execution_count": 3,
      "outputs": [
        {
          "output_type": "stream",
          "text": [
            "dskfhsahf\n",
            "true\n"
          ],
          "name": "stdout"
        }
      ]
    },
    {
      "cell_type": "code",
      "metadata": {
        "id": "_LMwyp9M2mKP"
      },
      "source": [
        ""
      ],
      "execution_count": null,
      "outputs": []
    }
  ]
}