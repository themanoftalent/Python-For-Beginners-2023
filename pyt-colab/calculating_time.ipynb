{
  "nbformat": 4,
  "nbformat_minor": 0,
  "metadata": {
    "colab": {
      "name": "calculating time.ipynb",
      "provenance": [],
      "authorship_tag": "ABX9TyPMk57A6N054dyvi+EY7Fjg",
      "include_colab_link": true
    },
    "kernelspec": {
      "name": "python3",
      "display_name": "Python 3"
    },
    "language_info": {
      "name": "python"
    }
  },
  "cells": [
    {
      "cell_type": "markdown",
      "metadata": {
        "id": "view-in-github",
        "colab_type": "text"
      },
      "source": [
        "<a href=\"https://colab.research.google.com/github/themanoftalent/pyt-colab/blob/master/calculating_time.ipynb\" target=\"_parent\"><img src=\"https://colab.research.google.com/assets/colab-badge.svg\" alt=\"Open In Colab\"/></a>"
      ]
    },
    {
      "cell_type": "code",
      "metadata": {
        "id": "xxJqvaVYVaT_"
      },
      "source": [
        "import string\n",
        "def toJaneCase(word):\n",
        "  return string.capwords(word)\n",
        "\n"
      ],
      "execution_count": 1,
      "outputs": []
    },
    {
      "cell_type": "code",
      "metadata": {
        "colab": {
          "base_uri": "https://localhost:8080/",
          "height": 35
        },
        "id": "xVXYl8xEV9BE",
        "outputId": "868fb48d-007b-4c1f-d105-d9399c3c2155"
      },
      "source": [
        "toJaneCase('Hello man we must')"
      ],
      "execution_count": 2,
      "outputs": [
        {
          "output_type": "execute_result",
          "data": {
            "application/vnd.google.colaboratory.intrinsic+json": {
              "type": "string"
            },
            "text/plain": [
              "'Hello Man We Must'"
            ]
          },
          "metadata": {
            "tags": []
          },
          "execution_count": 2
        }
      ]
    },
    {
      "cell_type": "code",
      "metadata": {
        "id": "VdMYjjW9V_yI"
      },
      "source": [
        "def factorial(n):\n",
        "\n",
        "  if n<=1:\n",
        "    return 1\n",
        "  else:\n",
        "    return n* factorial(n-1)\n"
      ],
      "execution_count": 3,
      "outputs": []
    },
    {
      "cell_type": "code",
      "metadata": {
        "colab": {
          "base_uri": "https://localhost:8080/"
        },
        "id": "5Xek463uWNra",
        "outputId": "1a3e62cb-9a5b-4049-ff86-b79aa2452643"
      },
      "source": [
        "factorial(5)"
      ],
      "execution_count": 4,
      "outputs": [
        {
          "output_type": "execute_result",
          "data": {
            "text/plain": [
              "120"
            ]
          },
          "metadata": {
            "tags": []
          },
          "execution_count": 4
        }
      ]
    },
    {
      "cell_type": "code",
      "metadata": {
        "colab": {
          "base_uri": "https://localhost:8080/"
        },
        "id": "LYnsTr1EXf-r",
        "outputId": "ca58ad21-7f1d-4d73-bc0b-fb9463656ed3"
      },
      "source": [
        "recur_fibo(6)"
      ],
      "execution_count": 39,
      "outputs": [
        {
          "output_type": "execute_result",
          "data": {
            "text/plain": [
              "8"
            ]
          },
          "metadata": {
            "tags": []
          },
          "execution_count": 39
        }
      ]
    },
    {
      "cell_type": "code",
      "metadata": {
        "colab": {
          "base_uri": "https://localhost:8080/"
        },
        "id": "bgpQzLIGXhwl",
        "outputId": "f801ba11-33c7-4e2d-f69f-3b51b358478c"
      },
      "source": [
        "import time\n",
        "\n",
        "# starting time\n",
        "start = time.time()\n",
        "\n",
        "# program body starts\n",
        "for i in range(10):\n",
        "    print(i)\n",
        "\n",
        "# sleeping for 1 sec to get 10 sec runtime\n",
        "time.sleep(1)\n",
        "\n",
        "# program body ends\n",
        "\n",
        "# end time\n",
        "end = time.time()\n",
        "\n",
        "# total time taken\n",
        "print(f\"Runtime of the program is {end - start}\")"
      ],
      "execution_count": 74,
      "outputs": [
        {
          "output_type": "stream",
          "text": [
            "0\n",
            "1\n",
            "2\n",
            "3\n",
            "4\n",
            "5\n",
            "6\n",
            "7\n",
            "8\n",
            "9\n",
            "Runtime of the program is 1.0088896751403809\n"
          ],
          "name": "stdout"
        }
      ]
    },
    {
      "cell_type": "code",
      "metadata": {
        "id": "KlzOxT8semg7"
      },
      "source": [
        "# import time\n",
        "# start =time.time()\n",
        "# def recur_fibo(n):\n",
        "\n",
        "   \n",
        "#    if n <= 1:\n",
        "#        return n\n",
        "#    else:\n",
        "#        return recur_fibo(n-1) + recur_fibo(n-2)\n",
        "\n",
        "# time.sleep(1)\n",
        "\n",
        "# nterms = 50\n",
        "# endtime= time.time()\n",
        "# for i in range(nterms):\n",
        "#        print(recur_fibo(i))\n",
        "# print('The run time of the program is : ',round(endtime-start,3))"
      ],
      "execution_count": 58,
      "outputs": []
    },
    {
      "cell_type": "code",
      "metadata": {
        "id": "wAUiXYsfenu8"
      },
      "source": [
        ""
      ],
      "execution_count": 58,
      "outputs": []
    },
    {
      "cell_type": "code",
      "metadata": {
        "colab": {
          "base_uri": "https://localhost:8080/"
        },
        "id": "I65fSA34ep8C",
        "outputId": "d695100a-549b-43d7-f402-270cf1b14ea4"
      },
      "source": [
        "import math\n",
        "import timeit\n",
        "\n",
        "start = timeit.default_timer()\n",
        "\n",
        "print(\"Floating point {0:10.3f}\".format(math.pi))\n",
        "\n",
        "stop=timeit.default_timer()\n",
        "print('Time {0:.4f}: '.format(stop - start))"
      ],
      "execution_count": 73,
      "outputs": [
        {
          "output_type": "stream",
          "text": [
            "Floating point      3.142\n",
            "Time 0.0005: \n"
          ],
          "name": "stdout"
        }
      ]
    },
    {
      "cell_type": "code",
      "metadata": {
        "id": "ivIotdSkeptE"
      },
      "source": [
        ""
      ],
      "execution_count": 66,
      "outputs": []
    },
    {
      "cell_type": "code",
      "metadata": {
        "id": "u7kwMP9xhgLs"
      },
      "source": [
        ""
      ],
      "execution_count": null,
      "outputs": []
    }
  ]
}