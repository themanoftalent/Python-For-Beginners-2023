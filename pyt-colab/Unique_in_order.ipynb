{
  "nbformat": 4,
  "nbformat_minor": 0,
  "metadata": {
    "colab": {
      "name": "Unique in order.ipynb",
      "provenance": [],
      "authorship_tag": "ABX9TyN7X0nnbQLSJjqeYBNR6Xze",
      "include_colab_link": true
    },
    "kernelspec": {
      "name": "python3",
      "display_name": "Python 3"
    },
    "language_info": {
      "name": "python"
    }
  },
  "cells": [
    {
      "cell_type": "markdown",
      "metadata": {
        "id": "view-in-github",
        "colab_type": "text"
      },
      "source": [
        "<a href=\"https://colab.research.google.com/github/themanoftalent/pyt-colab/blob/master/Unique_in_order.ipynb\" target=\"_parent\"><img src=\"https://colab.research.google.com/assets/colab-badge.svg\" alt=\"Open In Colab\"/></a>"
      ]
    },
    {
      "cell_type": "code",
      "metadata": {
        "id": "mvYvTfVlJ-rH"
      },
      "source": [
        ""
      ],
      "execution_count": 7,
      "outputs": []
    },
    {
      "cell_type": "code",
      "metadata": {
        "colab": {
          "base_uri": "https://localhost:8080/"
        },
        "id": "jwfeNtdgLamK",
        "outputId": "a1a8920a-2723-4d69-8303-0c42b2258806"
      },
      "source": [
        "def unique_in_order(\n",
        "  iterable):\n",
        "    \n",
        "    output=[]\n",
        "    for x in iterable:\n",
        "\n",
        "        if len(output) <1 or not x == output[len(output)-1]:\n",
        "           output.append(x)\n",
        "    return output\n",
        "        \n",
        "   \n",
        "        \n",
        "print(unique_in_order('AAAABBBCCDAABBB'))\n",
        "print('The sum of the letters is' ,len(unique_in_order('AAAABBBCCDAABBB')))\n",
        "        "
      ],
      "execution_count": 43,
      "outputs": [
        {
          "output_type": "stream",
          "text": [
            "['A', 'B', 'C', 'D', 'A', 'B']\n",
            "The sum of the letters is 6\n"
          ],
          "name": "stdout"
        }
      ]
    },
    {
      "cell_type": "markdown",
      "metadata": {
        "id": "Hir6NUmMOCMh"
      },
      "source": [
        "Another solution"
      ]
    },
    {
      "cell_type": "code",
      "metadata": {
        "id": "iYQi384VMUy9"
      },
      "source": [
        "def unique_in_order(iterable):\n",
        "    output = []\n",
        "    \n",
        "    for item in iterable:\n",
        "        if len(output) == 0 or item != output[-1]:\n",
        "            output.append(item)\n",
        "    return output"
      ],
      "execution_count": 48,
      "outputs": []
    },
    {
      "cell_type": "code",
      "metadata": {
        "colab": {
          "base_uri": "https://localhost:8080/"
        },
        "id": "3trIboPjOETM",
        "outputId": "4ff2a6b8-4419-433a-e925-05ee50b92fe9"
      },
      "source": [
        "unique_in_order('AAAABBBCCDAABBB')"
      ],
      "execution_count": 49,
      "outputs": [
        {
          "output_type": "execute_result",
          "data": {
            "text/plain": [
              "['A', 'B', 'C', 'D', 'A', 'B']"
            ]
          },
          "metadata": {
            "tags": []
          },
          "execution_count": 49
        }
      ]
    },
    {
      "cell_type": "code",
      "metadata": {
        "id": "TkYJMRW1ONVY"
      },
      "source": [
        ""
      ],
      "execution_count": null,
      "outputs": []
    }
  ]
}