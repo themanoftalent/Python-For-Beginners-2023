{
  "nbformat": 4,
  "nbformat_minor": 0,
  "metadata": {
    "colab": {
      "name": "zipcode underscore .ipynb",
      "provenance": [],
      "collapsed_sections": [],
      "authorship_tag": "ABX9TyOHeAoZLKGny26JRH9SKO9z",
      "include_colab_link": true
    },
    "kernelspec": {
      "name": "python3",
      "display_name": "Python 3"
    },
    "language_info": {
      "name": "python"
    }
  },
  "cells": [
    {
      "cell_type": "markdown",
      "metadata": {
        "id": "view-in-github",
        "colab_type": "text"
      },
      "source": [
        "<a href=\"https://colab.research.google.com/github/themanoftalent/pyt-colab/blob/master/zipcode_underscore_.ipynb\" target=\"_parent\"><img src=\"https://colab.research.google.com/assets/colab-badge.svg\" alt=\"Open In Colab\"/></a>"
      ]
    },
    {
      "cell_type": "code",
      "metadata": {
        "id": "A9tb0lUyWfr9",
        "colab": {
          "base_uri": "https://localhost:8080/"
        },
        "outputId": "5fff65ff-2c23-4ab0-ebb4-c0ccca1fc74e"
      },
      "source": [
        "# using zipcode\n",
        "\n",
        "names = ['Peter', 'Clark', 'Wade']\n",
        "heroes = ['spiderman', 'superman', 'deadpool']\n",
        "universe = ['marvel','DC','marvel']\n",
        "\n",
        "for _, hero, uni in zip(names, heroes,universe):\n",
        "    print(f'{_} is in real {hero} in {uni} universe',end='.')"
      ],
      "execution_count": 8,
      "outputs": [
        {
          "output_type": "stream",
          "text": [
            "Peter is in real spiderman in marvel universe.Clark is in real superman in DC universe.Wade is in real deadpool in marvel universe."
          ],
          "name": "stdout"
        }
      ]
    },
    {
      "cell_type": "code",
      "metadata": {
        "id": "Ra6yw9kqWgkN"
      },
      "source": [
        ""
      ],
      "execution_count": 1,
      "outputs": []
    },
    {
      "cell_type": "code",
      "metadata": {
        "id": "RC4RbkI7WycJ"
      },
      "source": [
        ""
      ],
      "execution_count": null,
      "outputs": []
    }
  ]
}