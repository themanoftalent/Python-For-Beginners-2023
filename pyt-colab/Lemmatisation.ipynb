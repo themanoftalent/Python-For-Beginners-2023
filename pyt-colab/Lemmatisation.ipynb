{
  "nbformat": 4,
  "nbformat_minor": 0,
  "metadata": {
    "colab": {
      "name": "tokenlestirme.ipynb",
      "provenance": [],
      "collapsed_sections": [],
      "authorship_tag": "ABX9TyORJjgz/Fe2mUATvhwSdSQC",
      "include_colab_link": true
    },
    "kernelspec": {
      "name": "python3",
      "display_name": "Python 3"
    },
    "language_info": {
      "name": "python"
    }
  },
  "cells": [
    {
      "cell_type": "markdown",
      "metadata": {
        "id": "view-in-github",
        "colab_type": "text"
      },
      "source": [
        "<a href=\"https://colab.research.google.com/github/themanoftalent/pyt-colab/blob/master/Lemmatisation.ipynb\" target=\"_parent\"><img src=\"https://colab.research.google.com/assets/colab-badge.svg\" alt=\"Open In Colab\"/></a>"
      ]
    },
    {
      "cell_type": "code",
      "metadata": {
        "colab": {
          "base_uri": "https://localhost:8080/"
        },
        "id": "YaD6x24KJ8bP",
        "outputId": "8f5bdd75-1e7b-4625-8c56-0c3127479057"
      },
      "source": [
        "import nltk\n",
        "nltk.download('wordnet')"
      ],
      "execution_count": 179,
      "outputs": [
        {
          "output_type": "stream",
          "text": [
            "[nltk_data] Downloading package wordnet to /root/nltk_data...\n",
            "[nltk_data]   Unzipping corpora/wordnet.zip.\n"
          ],
          "name": "stdout"
        },
        {
          "output_type": "execute_result",
          "data": {
            "text/plain": [
              "True"
            ]
          },
          "metadata": {
            "tags": []
          },
          "execution_count": 179
        }
      ]
    },
    {
      "cell_type": "code",
      "metadata": {
        "id": "FVA_jTyXUQkc"
      },
      "source": [
        "from nltk.stem import WordNetLemmatizer,PorterStemmer"
      ],
      "execution_count": 184,
      "outputs": []
    },
    {
      "cell_type": "code",
      "metadata": {
        "id": "NzJstckyUq6u"
      },
      "source": [
        "lem = WordNetLemmatizer()"
      ],
      "execution_count": 181,
      "outputs": []
    },
    {
      "cell_type": "code",
      "metadata": {
        "id": "pwsp8sCSU7B-"
      },
      "source": [
        "ps = PorterStemmer()"
      ],
      "execution_count": 185,
      "outputs": []
    },
    {
      "cell_type": "code",
      "metadata": {
        "id": "sq-ZbMMYUTmE"
      },
      "source": [
        "words=['swim','swam','swum','swims','swimming','dogs','cats','children']"
      ],
      "execution_count": 182,
      "outputs": []
    },
    {
      "cell_type": "code",
      "metadata": {
        "colab": {
          "base_uri": "https://localhost:8080/"
        },
        "id": "qtYjwPUWUgZO",
        "outputId": "e288d13e-6068-487d-e306-4b6f9621358f"
      },
      "source": [
        "#koken bulma\n",
        "for word in words:\n",
        "  print(lem.lemmatize(word))"
      ],
      "execution_count": 183,
      "outputs": [
        {
          "output_type": "stream",
          "text": [
            "swim\n",
            "swam\n",
            "swum\n",
            "swim\n",
            "swimming\n",
            "dog\n",
            "cat\n",
            "child\n"
          ],
          "name": "stdout"
        }
      ]
    },
    {
      "cell_type": "code",
      "metadata": {
        "colab": {
          "base_uri": "https://localhost:8080/",
          "height": 35
        },
        "id": "LsoS_FBjVEuD",
        "outputId": "6710efed-daf1-45a7-e79f-cf20ec968fab"
      },
      "source": [
        "lem.lemmatize('drove','v')"
      ],
      "execution_count": 187,
      "outputs": [
        {
          "output_type": "execute_result",
          "data": {
            "application/vnd.google.colaboratory.intrinsic+json": {
              "type": "string"
            },
            "text/plain": [
              "'drive'"
            ]
          },
          "metadata": {
            "tags": []
          },
          "execution_count": 187
        }
      ]
    },
    {
      "cell_type": "code",
      "metadata": {
        "colab": {
          "base_uri": "https://localhost:8080/"
        },
        "id": "vjehCopmUwVy",
        "outputId": "afea4f33-6868-477b-f4d7-b83135f63fd9"
      },
      "source": [
        "for i in words:\n",
        "  print(ps.stem(i))"
      ],
      "execution_count": 186,
      "outputs": [
        {
          "output_type": "stream",
          "text": [
            "swim\n",
            "swam\n",
            "swum\n",
            "swim\n",
            "swim\n",
            "dog\n",
            "cat\n",
            "children\n"
          ],
          "name": "stdout"
        }
      ]
    },
    {
      "cell_type": "code",
      "metadata": {
        "id": "6EBeieXcVAAQ"
      },
      "source": [
        "ps.stem('drove','v') #impossible "
      ],
      "execution_count": null,
      "outputs": []
    },
    {
      "cell_type": "code",
      "metadata": {
        "id": "J-P1r7Q7VLz7"
      },
      "source": [
        ""
      ],
      "execution_count": null,
      "outputs": []
    }
  ]
}