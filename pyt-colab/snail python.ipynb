{
  "nbformat": 4,
  "nbformat_minor": 0,
  "metadata": {
    "colab": {
      "name": "Untitled15.ipynb",
      "provenance": [],
      "authorship_tag": "ABX9TyMeaFx59Aw4DAgBOfPpAReI",
      "include_colab_link": true
    },
    "kernelspec": {
      "name": "python3",
      "display_name": "Python 3"
    },
    "language_info": {
      "name": "python"
    }
  },
  "cells": [
    {
      "cell_type": "markdown",
      "metadata": {
        "id": "view-in-github",
        "colab_type": "text"
      },
      "source": [
        "<a href=\"https://colab.research.google.com/github/themanoftalent/pyt-colab/blob/master/snail%20python.ipynb\" target=\"_parent\"><img src=\"https://colab.research.google.com/assets/colab-badge.svg\" alt=\"Open In Colab\"/></a>"
      ]
    },
    {
      "cell_type": "markdown",
      "metadata": {
        "id": "BMLgHalWhCx7"
      },
      "source": [
        "Snail python"
      ]
    },
    {
      "cell_type": "code",
      "metadata": {
        "id": "u8ITv-kAhClB"
      },
      "source": [
        "import numpy as np\n",
        "\n",
        "def snail(array):\n",
        "    m = []\n",
        "    array = np.array(array)\n",
        "    while len(array) > 0:\n",
        "        m += array[0].tolist()\n",
        "        array = np.rot90(array[1:])\n",
        "    return m\n",
        "\n",
        "\n",
        "\n",
        "array = [[1,2,3],\n",
        "         [4,5,6],\n",
        "         [7,8,9]]"
      ],
      "execution_count": 40,
      "outputs": []
    },
    {
      "cell_type": "code",
      "metadata": {
        "colab": {
          "base_uri": "https://localhost:8080/"
        },
        "id": "YlfFSgk6hFvD",
        "outputId": "894a5c54-c533-4020-dedf-66369112c9c4"
      },
      "source": [
        "snail(array)"
      ],
      "execution_count": 41,
      "outputs": [
        {
          "output_type": "execute_result",
          "data": {
            "text/plain": [
              "[1, 2, 3, 6, 9, 8, 7, 4, 5]"
            ]
          },
          "metadata": {
            "tags": []
          },
          "execution_count": 41
        }
      ]
    },
    {
      "cell_type": "code",
      "metadata": {
        "colab": {
          "base_uri": "https://localhost:8080/"
        },
        "id": "pBUAVsQDhKEf",
        "outputId": "5bef00c3-2b73-4c8c-a930-d083767c6630"
      },
      "source": [
        "def snails(array):\n",
        "    out = []\n",
        "    while len(array):\n",
        "        out += array.pop(0)\n",
        "        array = list(zip(*array))[::-1] # Rotate\n",
        "    return out\n",
        "\n",
        "\n",
        "snails([[1,2,3],\n",
        "         [4,5,6],\n",
        "         [7,8,9]])"
      ],
      "execution_count": 43,
      "outputs": [
        {
          "output_type": "execute_result",
          "data": {
            "text/plain": [
              "[1, 2, 3, 6, 9, 8, 7, 4, 5]"
            ]
          },
          "metadata": {
            "tags": []
          },
          "execution_count": 43
        }
      ]
    },
    {
      "cell_type": "code",
      "metadata": {
        "id": "v3deSYUvhQFQ"
      },
      "source": [
        ""
      ],
      "execution_count": null,
      "outputs": []
    }
  ]
}