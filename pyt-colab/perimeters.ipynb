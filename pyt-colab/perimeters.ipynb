{
  "nbformat": 4,
  "nbformat_minor": 0,
  "metadata": {
    "colab": {
      "name": "perimeters.ipynb",
      "provenance": [],
      "authorship_tag": "ABX9TyPr75wKqrr8UMUiLM1eOI5V",
      "include_colab_link": true
    },
    "kernelspec": {
      "name": "python3",
      "display_name": "Python 3"
    },
    "language_info": {
      "name": "python"
    }
  },
  "cells": [
    {
      "cell_type": "markdown",
      "metadata": {
        "id": "view-in-github",
        "colab_type": "text"
      },
      "source": [
        "<a href=\"https://colab.research.google.com/github/themanoftalent/pyt-colab/blob/master/perimeters.ipynb\" target=\"_parent\"><img src=\"https://colab.research.google.com/assets/colab-badge.svg\" alt=\"Open In Colab\"/></a>"
      ]
    },
    {
      "cell_type": "code",
      "metadata": {
        "id": "WDjqXkR8lATL"
      },
      "source": [
        "def perimeter(n):\n",
        "    \n",
        "    if n<1 or n==2:\n",
        "      return 1\n",
        "    else:\n",
        "      return perimeter(n-1) + perimeter(n-2)"
      ],
      "execution_count": 80,
      "outputs": []
    },
    {
      "cell_type": "code",
      "metadata": {
        "colab": {
          "base_uri": "https://localhost:8080/"
        },
        "id": "MHfWwgDYlT5S",
        "outputId": "bee7cd79-6a82-4ef6-ea44-0b12beec9397"
      },
      "source": [
        "perimeter(5)"
      ],
      "execution_count": 81,
      "outputs": [
        {
          "output_type": "execute_result",
          "data": {
            "text/plain": [
              "7"
            ]
          },
          "metadata": {
            "tags": []
          },
          "execution_count": 81
        }
      ]
    },
    {
      "cell_type": "code",
      "metadata": {
        "id": "-zplwhXMlVWV"
      },
      "source": [
        "def fibos(n):\n",
        "\n",
        "  if n < 1 or n == 2:\n",
        "    return 1\n",
        "  else:\n",
        "    return fibo(n-1) + fibo(n-2)\n",
        "\n",
        "\n",
        "def perimeters(n):\n",
        "  return sum(fib(n)) * 4"
      ],
      "execution_count": 106,
      "outputs": []
    },
    {
      "cell_type": "code",
      "metadata": {
        "colab": {
          "base_uri": "https://localhost:8080/"
        },
        "id": "WnvyNwRAm54X",
        "outputId": "a04e095f-b2c3-45e0-db97-2b2ee6c876aa"
      },
      "source": [
        "perimeters(5)"
      ],
      "execution_count": 107,
      "outputs": [
        {
          "output_type": "execute_result",
          "data": {
            "text/plain": [
              "80"
            ]
          },
          "metadata": {
            "tags": []
          },
          "execution_count": 107
        }
      ]
    },
    {
      "cell_type": "code",
      "metadata": {
        "id": "S-BKk8Rkm7jn"
      },
      "source": [
        "def fib(n):\n",
        "    a, b = 0, 1\n",
        "\n",
        "    for i in range(n+1):\n",
        "        if i == 0:\n",
        "            yield b \n",
        "        else:\n",
        "            a, b = b, a+b\n",
        "            yield b\n",
        "        \n",
        "\n",
        "def perimeter(n):\n",
        "    return sum(fib(n)) * 4"
      ],
      "execution_count": 108,
      "outputs": []
    },
    {
      "cell_type": "code",
      "metadata": {
        "colab": {
          "base_uri": "https://localhost:8080/"
        },
        "id": "ENlUmImkncB4",
        "outputId": "6307fa90-d1d1-471f-edb2-0e3e7df97984"
      },
      "source": [
        "perimeter(5)"
      ],
      "execution_count": 109,
      "outputs": [
        {
          "output_type": "execute_result",
          "data": {
            "text/plain": [
              "80"
            ]
          },
          "metadata": {
            "tags": []
          },
          "execution_count": 109
        }
      ]
    },
    {
      "cell_type": "code",
      "metadata": {
        "id": "jsq1SVjYndp6"
      },
      "source": [
        ""
      ],
      "execution_count": null,
      "outputs": []
    }
  ]
}