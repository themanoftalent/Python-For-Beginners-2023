{
  "nbformat": 4,
  "nbformat_minor": 0,
  "metadata": {
    "colab": {
      "name": "zipcode .ipynb",
      "provenance": [],
      "collapsed_sections": [],
      "authorship_tag": "ABX9TyOUjesuDuaUXeMH9pu+Cz0I",
      "include_colab_link": true
    },
    "kernelspec": {
      "name": "python3",
      "display_name": "Python 3"
    },
    "language_info": {
      "name": "python"
    }
  },
  "cells": [
    {
      "cell_type": "markdown",
      "metadata": {
        "id": "view-in-github",
        "colab_type": "text"
      },
      "source": [
        "<a href=\"https://colab.research.google.com/github/themanoftalent/pyt-colab/blob/master/zipcode.ipynb\" target=\"_parent\"><img src=\"https://colab.research.google.com/assets/colab-badge.svg\" alt=\"Open In Colab\"/></a>"
      ]
    },
    {
      "cell_type": "code",
      "metadata": {
        "id": "A9tb0lUyWfr9",
        "colab": {
          "base_uri": "https://localhost:8080/"
        },
        "outputId": "029db7e2-7bfc-4688-d923-0ad7867728c4"
      },
      "source": [
        "# using zipcode\n",
        "\n",
        "names = ['Peter', 'Clark', 'Wade']\n",
        "heroes = ['spiderman', 'superman', 'deadpool']\n",
        "\n",
        "for name, hero in zip(names, heroes):\n",
        "    print(f'{name} is in real {hero}')"
      ],
      "execution_count": 1,
      "outputs": [
        {
          "output_type": "stream",
          "text": [
            "Peter is in real spiderman\n",
            "Clark is in real superman\n",
            "Wade is in real deadpool\n"
          ],
          "name": "stdout"
        }
      ]
    },
    {
      "cell_type": "code",
      "metadata": {
        "id": "Ra6yw9kqWgkN"
      },
      "source": [
        ""
      ],
      "execution_count": 1,
      "outputs": []
    },
    {
      "cell_type": "code",
      "metadata": {
        "id": "RC4RbkI7WycJ"
      },
      "source": [
        ""
      ],
      "execution_count": null,
      "outputs": []
    }
  ]
}