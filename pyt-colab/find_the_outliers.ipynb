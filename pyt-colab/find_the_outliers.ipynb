{
  "nbformat": 4,
  "nbformat_minor": 0,
  "metadata": {
    "colab": {
      "name": "find the outliers.ipynb",
      "provenance": [],
      "authorship_tag": "ABX9TyOXc/OE09CsroPgPjClTdZL",
      "include_colab_link": true
    },
    "kernelspec": {
      "name": "python3",
      "display_name": "Python 3"
    },
    "language_info": {
      "name": "python"
    }
  },
  "cells": [
    {
      "cell_type": "markdown",
      "metadata": {
        "id": "view-in-github",
        "colab_type": "text"
      },
      "source": [
        "<a href=\"https://colab.research.google.com/github/themanoftalent/pyt-colab/blob/master/find_the_outliers.ipynb\" target=\"_parent\"><img src=\"https://colab.research.google.com/assets/colab-badge.svg\" alt=\"Open In Colab\"/></a>"
      ]
    },
    {
      "cell_type": "code",
      "metadata": {
        "id": "aXdPB-ouxf5C"
      },
      "source": [
        "def find_outliers(sayilar):\n",
        "\n",
        "  odd=[]\n",
        "  even=[]\n",
        "\n",
        "\n",
        "  for i in sayilar:\n",
        "\n",
        "    if i%2 >0:\n",
        "      odd.append(i)\n",
        "    if i%2==0:\n",
        "      even.append(i)\n",
        "\n",
        "  print(even)\n",
        "  print(odd)\n",
        "\n",
        "  print('The outlier is = ',end='')\n",
        "\n",
        "  if len(even)> len(odd):\n",
        "    print(even)\n",
        "  else:\n",
        "    print(odd)\n"
      ],
      "execution_count": 37,
      "outputs": []
    },
    {
      "cell_type": "code",
      "metadata": {
        "colab": {
          "base_uri": "https://localhost:8080/"
        },
        "id": "ZyONVxSIyKhv",
        "outputId": "82668677-de34-4fc4-a7a2-f7763ac2bc0c"
      },
      "source": [
        "find_outliers([2, 6, 8,13,15,17, 10, 33,6,77,55,66,22])"
      ],
      "execution_count": 38,
      "outputs": [
        {
          "output_type": "stream",
          "text": [
            "[2, 6, 8, 10, 6, 66, 22]\n",
            "[13, 15, 17, 33, 77, 55]\n",
            "The outlier is = [2, 6, 8, 10, 6, 66, 22]\n"
          ],
          "name": "stdout"
        }
      ]
    },
    {
      "cell_type": "code",
      "metadata": {
        "id": "7ZNBQ53nyOaL"
      },
      "source": [
        ""
      ],
      "execution_count": null,
      "outputs": []
    }
  ]
}