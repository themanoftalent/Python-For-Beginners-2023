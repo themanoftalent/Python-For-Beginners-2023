{
  "nbformat": 4,
  "nbformat_minor": 0,
  "metadata": {
    "colab": {
      "name": "save money.ipynb",
      "provenance": [],
      "authorship_tag": "ABX9TyM4swTObKiTSE5u0bd4BnIL",
      "include_colab_link": true
    },
    "kernelspec": {
      "name": "python3",
      "display_name": "Python 3"
    },
    "language_info": {
      "name": "python"
    }
  },
  "cells": [
    {
      "cell_type": "markdown",
      "metadata": {
        "id": "view-in-github",
        "colab_type": "text"
      },
      "source": [
        "<a href=\"https://colab.research.google.com/github/themanoftalent/pyt-colab/blob/master/save_money.ipynb\" target=\"_parent\"><img src=\"https://colab.research.google.com/assets/colab-badge.svg\" alt=\"Open In Colab\"/></a>"
      ]
    },
    {
      "cell_type": "code",
      "metadata": {
        "id": "tY4h71G3V10w"
      },
      "source": [
        "def nbMonths(startPriceOld, startPriceNew, savingperMonth, percentLossByMonth):\n",
        "    months = 0\n",
        "    savings = 0\n",
        "\n",
        "    while startPriceOld + savings < startPriceNew:\n",
        "        months += 1\n",
        "        savings += savingperMonth\n",
        "\n",
        "        # Raise the percentLoss if this is the second month.\n",
        "        if months % 2 == 0:\n",
        "            percentLossByMonth += 0.5\n",
        "            print('this is the month: ', months)\n",
        "\n",
        "        startPriceOld *= ((100 - percentLossByMonth) / 100)\n",
        "        startPriceNew *= ((100 - percentLossByMonth) / 100)\n",
        "\n",
        "    return [months, round(startPriceOld + savings - startPriceNew)]\n"
      ],
      "execution_count": 136,
      "outputs": []
    },
    {
      "cell_type": "code",
      "metadata": {
        "colab": {
          "base_uri": "https://localhost:8080/"
        },
        "id": "Xk752cs2V6Ej",
        "outputId": "eb20fa32-3f44-4f88-802c-ee71b7120d1f"
      },
      "source": [
        "nbMonths(8000, 8000, 1000, 1.5) "
      ],
      "execution_count": 137,
      "outputs": [
        {
          "output_type": "execute_result",
          "data": {
            "text/plain": [
              "[0, 0]"
            ]
          },
          "metadata": {
            "tags": []
          },
          "execution_count": 137
        }
      ]
    },
    {
      "cell_type": "code",
      "metadata": {
        "colab": {
          "base_uri": "https://localhost:8080/"
        },
        "id": "b_qhHgiVV77b",
        "outputId": "4d692d0e-37ca-4e52-ee3e-189bf8370778"
      },
      "source": [
        "nbMonths(12000, 8000, 1000, 1.5)"
      ],
      "execution_count": 138,
      "outputs": [
        {
          "output_type": "execute_result",
          "data": {
            "text/plain": [
              "[0, 4000]"
            ]
          },
          "metadata": {
            "tags": []
          },
          "execution_count": 138
        }
      ]
    }
  ]
}