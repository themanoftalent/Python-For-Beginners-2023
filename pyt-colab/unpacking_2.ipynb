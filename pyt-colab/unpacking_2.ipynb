{
  "nbformat": 4,
  "nbformat_minor": 0,
  "metadata": {
    "colab": {
      "name": "unpacking .ipynb",
      "provenance": [],
      "collapsed_sections": [],
      "authorship_tag": "ABX9TyPHZM0jQ4kqCFzpTHkExrfk",
      "include_colab_link": true
    },
    "kernelspec": {
      "name": "python3",
      "display_name": "Python 3"
    },
    "language_info": {
      "name": "python"
    }
  },
  "cells": [
    {
      "cell_type": "markdown",
      "metadata": {
        "id": "view-in-github",
        "colab_type": "text"
      },
      "source": [
        "<a href=\"https://colab.research.google.com/github/themanoftalent/pyt-colab/blob/master/unpacking_2.ipynb\" target=\"_parent\"><img src=\"https://colab.research.google.com/assets/colab-badge.svg\" alt=\"Open In Colab\"/></a>"
      ]
    },
    {
      "cell_type": "code",
      "metadata": {
        "id": "A9tb0lUyWfr9",
        "colab": {
          "base_uri": "https://localhost:8080/"
        },
        "outputId": "699de067-890e-4f01-feab-6fd1fbd89d66"
      },
      "source": [
        "a,b,c,d,e=(1,2,3,4,5)\n",
        "print(a)\n",
        "print(b)\n",
        "print(c)\n",
        "print(d)\n",
        "print(e)"
      ],
      "execution_count": 11,
      "outputs": [
        {
          "output_type": "stream",
          "text": [
            "1\n",
            "2\n",
            "3\n",
            "4\n",
            "5\n"
          ],
          "name": "stdout"
        }
      ]
    },
    {
      "cell_type": "code",
      "metadata": {
        "colab": {
          "base_uri": "https://localhost:8080/"
        },
        "id": "Ra6yw9kqWgkN",
        "outputId": "a5c9f3b0-fe1a-4da0-b743-136caceea5a5"
      },
      "source": [
        "a,b,c,d,e=(1,_,_,_,_)\n",
        "print(a)\n",
        "# print(b)\n",
        "# print(c)\n",
        "# print(d)\n",
        "# print(e)"
      ],
      "execution_count": 12,
      "outputs": [
        {
          "output_type": "stream",
          "text": [
            "1\n"
          ],
          "name": "stdout"
        }
      ]
    },
    {
      "cell_type": "code",
      "metadata": {
        "id": "RC4RbkI7WycJ",
        "colab": {
          "base_uri": "https://localhost:8080/"
        },
        "outputId": "fb5f7f9c-011d-44c1-a066-e108610f0a48"
      },
      "source": [
        "# * (Asterisks): When defining a function, the * operator can be used to capture an unlimited number \n",
        "# of positional arguments given to the function. These arguments are captured into a tuple. \n",
        "# Python's print and zip functions accept any number of positional arguments.\n",
        "\n",
        "a,b,*c = (1,2,3,4,5)\n",
        "print(a)\n",
        "print(b)\n",
        "print(c)"
      ],
      "execution_count": 15,
      "outputs": [
        {
          "output_type": "stream",
          "text": [
            "1\n",
            "2\n",
            "[3, 4, 5]\n"
          ],
          "name": "stdout"
        }
      ]
    },
    {
      "cell_type": "code",
      "metadata": {
        "id": "8HfJ0f5U7aQn"
      },
      "source": [
        "#########"
      ],
      "execution_count": 17,
      "outputs": []
    },
    {
      "cell_type": "code",
      "metadata": {
        "colab": {
          "base_uri": "https://localhost:8080/"
        },
        "id": "OlUeyRaw62Mg",
        "outputId": "d4c95765-cbba-42bd-b77d-e666a0654ac8"
      },
      "source": [
        "#it is defferent in this case\n",
        "## declaring variables\n",
        "a, b = 2,3\n",
        "\n",
        "## multiplication\n",
        "print(\"Multiplication of 2 and 3 is {}\".format(a * b))\n",
        "\n",
        "## as power operator\n",
        "print(\"2 power 3 is {}\".format(a ** b))"
      ],
      "execution_count": 16,
      "outputs": [
        {
          "output_type": "stream",
          "text": [
            "Multiplication of 2 and 3 is 6\n",
            "2 power 3 is 8\n"
          ],
          "name": "stdout"
        }
      ]
    },
    {
      "cell_type": "code",
      "metadata": {
        "colab": {
          "base_uri": "https://localhost:8080/"
        },
        "id": "mcj7oR2G7YGf",
        "outputId": "d7042825-4d29-4b2a-9a07-22cf495775f2"
      },
      "source": [
        "#and here much different \n",
        "\n",
        "\n",
        "## general approach\n",
        "nums = [i for i in range(1, 6)]\n",
        "a = nums[0]\n",
        "b = nums[1:]\n",
        "print(a, b)"
      ],
      "execution_count": 24,
      "outputs": [
        {
          "output_type": "stream",
          "text": [
            "1 [2, 3, 4, 5]\n"
          ],
          "name": "stdout"
        }
      ]
    },
    {
      "cell_type": "code",
      "metadata": {
        "colab": {
          "base_uri": "https://localhost:8080/"
        },
        "id": "7oo2HFYR7ltQ",
        "outputId": "280afb37-1b05-4dc2-d877-e37cea0e048e"
      },
      "source": [
        "## hard approach\n",
        "squares = [i ** 2 for i in range(1, 10)]\n",
        "a = squares[0:3]\n",
        "b = []\n",
        "for i in range(3, len(squares)):\n",
        "    b.append(squares[i])\n",
        "print(a, b)"
      ],
      "execution_count": 26,
      "outputs": [
        {
          "output_type": "stream",
          "text": [
            "[1, 4, 9] [16, 25, 36, 49, 64, 81]\n"
          ],
          "name": "stdout"
        }
      ]
    },
    {
      "cell_type": "code",
      "metadata": {
        "id": "U17d_Btp7p2j"
      },
      "source": [
        ""
      ],
      "execution_count": null,
      "outputs": []
    }
  ]
}