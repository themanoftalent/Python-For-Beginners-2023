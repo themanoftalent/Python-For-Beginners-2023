{
  "nbformat": 4,
  "nbformat_minor": 0,
  "metadata": {
    "colab": {
      "name": "method that finds the most frequent value in 1d array.ipynb",
      "provenance": [],
      "collapsed_sections": [],
      "authorship_tag": "ABX9TyOmyQNc7VrlNdljPF+lc/e8",
      "include_colab_link": true
    },
    "kernelspec": {
      "name": "python3",
      "display_name": "Python 3"
    },
    "language_info": {
      "name": "python"
    }
  },
  "cells": [
    {
      "cell_type": "markdown",
      "metadata": {
        "id": "view-in-github",
        "colab_type": "text"
      },
      "source": [
        "<a href=\"https://colab.research.google.com/github/themanoftalent/pyt-colab/blob/master/Regex%20finditer.ipynb\" target=\"_parent\"><img src=\"https://colab.research.google.com/assets/colab-badge.svg\" alt=\"Open In Colab\"/></a>"
      ]
    },
    {
      "cell_type": "code",
      "metadata": {
        "id": "ibA51gwHOM88"
      },
      "source": [
        "import re"
      ],
      "execution_count": null,
      "outputs": []
    },
    {
      "cell_type": "code",
      "metadata": {
        "id": "lYf1-aBbON6t"
      },
      "source": [
        "sentence=\"\"\" One of the most important authentication approaches is the iris recognition system (IRS), \n",
        "which is based on the iris of aperson for the authentication.In this paper, we propose a new iris recognition\n",
        " system using a novel feature extraction method. The proposed method, Neighborhood-based Binary Pattern, \n",
        "compares each neighbor of the central pixel withthe next neighbor to encode it by 1 if it is greater \n",
        "or 0 if it is lower than the central pixel. \"\"\""
      ],
      "execution_count": 96,
      "outputs": []
    },
    {
      "cell_type": "code",
      "metadata": {
        "id": "-CZLXLiFOek6"
      },
      "source": [
        "aranan_pattern=\"iris\""
      ],
      "execution_count": 119,
      "outputs": []
    },
    {
      "cell_type": "code",
      "metadata": {
        "id": "tfXZwjOIOhi4"
      },
      "source": [
        "findme=re.search(aranan_pattern,sentence)"
      ],
      "execution_count": 120,
      "outputs": []
    },
    {
      "cell_type": "code",
      "metadata": {
        "id": "eWaaHSjyOm2m",
        "outputId": "324313ad-6bea-4ff6-9d3d-b780a0897ffd",
        "colab": {
          "base_uri": "https://localhost:8080/"
        }
      },
      "source": [
        "findme.span()"
      ],
      "execution_count": 121,
      "outputs": [
        {
          "output_type": "execute_result",
          "data": {
            "text/plain": [
              "(60, 64)"
            ]
          },
          "metadata": {
            "tags": []
          },
          "execution_count": 121
        }
      ]
    },
    {
      "cell_type": "code",
      "metadata": {
        "id": "umXFwiQYOnze",
        "outputId": "787564ff-7d6f-43e2-b8a8-4929c48ebece",
        "colab": {
          "base_uri": "https://localhost:8080/"
        }
      },
      "source": [
        "findme.start()"
      ],
      "execution_count": 122,
      "outputs": [
        {
          "output_type": "execute_result",
          "data": {
            "text/plain": [
              "60"
            ]
          },
          "metadata": {
            "tags": []
          },
          "execution_count": 122
        }
      ]
    },
    {
      "cell_type": "code",
      "metadata": {
        "id": "39TCvSbdO-LQ",
        "outputId": "d4ba3669-2362-49d6-8615-4e679c31a94f",
        "colab": {
          "base_uri": "https://localhost:8080/"
        }
      },
      "source": [
        "findme.end()"
      ],
      "execution_count": 123,
      "outputs": [
        {
          "output_type": "execute_result",
          "data": {
            "text/plain": [
              "64"
            ]
          },
          "metadata": {
            "tags": []
          },
          "execution_count": 123
        }
      ]
    },
    {
      "cell_type": "code",
      "metadata": {
        "id": "ltcD_xM3PAmD"
      },
      "source": [
        "def fidnRe(text):\n",
        "  for eslesen in re.finditer(benzer,text):\n",
        "    print(\"Bulunan kelimeler {0} {1} \".format(eslesen.group(0),eslesen.span()))\n",
        "\n",
        "benzer=\"iris\""
      ],
      "execution_count": 147,
      "outputs": []
    },
    {
      "cell_type": "code",
      "metadata": {
        "id": "RovouzGsPpjv",
        "outputId": "469a55ba-75ec-4016-bd64-f2934cb6ce18",
        "colab": {
          "base_uri": "https://localhost:8080/"
        }
      },
      "source": [
        "sentence=\"\"\" One of the most important authentication approaches is the iris recognition system (IRS), \n",
        "which is based on the iris of aperson for the authentication.In this paper, we propose a new iris recognition\n",
        " system using a novel feature extraction method. The proposed method, Neighborhood-based Binary Pattern, \n",
        "compares each neighbor of the central pixel withthe next neighbor to encode it by 1 if it is greater \n",
        "or 0 if it is lower than the central pixel. \"\"\"\n",
        "\n",
        "fidnRe(sentence)"
      ],
      "execution_count": 148,
      "outputs": [
        {
          "output_type": "stream",
          "text": [
            "Bulunan kelimeler iris (60, 64) \n",
            "Bulunan kelimeler iris (114, 118) \n",
            "Bulunan kelimeler iris (185, 189) \n"
          ],
          "name": "stdout"
        }
      ]
    },
    {
      "cell_type": "code",
      "metadata": {
        "id": "QHky7KWRPwyu"
      },
      "source": [
        ""
      ],
      "execution_count": 148,
      "outputs": []
    }
  ]
}