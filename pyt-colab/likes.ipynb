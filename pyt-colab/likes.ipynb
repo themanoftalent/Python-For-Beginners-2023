{
  "nbformat": 4,
  "nbformat_minor": 0,
  "metadata": {
    "colab": {
      "name": "sorted.ipynb",
      "provenance": [],
      "collapsed_sections": [],
      "authorship_tag": "ABX9TyNTW7Y9BDGWxojuXK1Ay+3J",
      "include_colab_link": true
    },
    "kernelspec": {
      "name": "python3",
      "display_name": "Python 3"
    },
    "language_info": {
      "name": "python"
    }
  },
  "cells": [
    {
      "cell_type": "markdown",
      "metadata": {
        "id": "view-in-github",
        "colab_type": "text"
      },
      "source": [
        "<a href=\"https://colab.research.google.com/github/themanoftalent/pyt-colab/blob/master/likes.ipynb\" target=\"_parent\"><img src=\"https://colab.research.google.com/assets/colab-badge.svg\" alt=\"Open In Colab\"/></a>"
      ]
    },
    {
      "cell_type": "code",
      "metadata": {
        "id": "pkjEQn6gHJqr"
      },
      "source": [
        "def likes(names):\n",
        "    if len(names) == 0:\n",
        "        return \"no one likes this\"\n",
        "    elif len(names) == 1:\n",
        "        return \"{} likes this\".format(names[0])\n",
        "    elif len(names) == 2:\n",
        "        return \"{} and {} like this\".format(names[0], names[1])\n",
        "    elif len(names) == 3:\n",
        "        return \"{}, {} and {} like this\".format(names[0], names[1], names[2])\n",
        "    else:\n",
        "        return \"{}, {} and {} others like this\".format(names[0], names[1], len(names)-2)"
      ],
      "execution_count": 14,
      "outputs": []
    },
    {
      "cell_type": "code",
      "metadata": {
        "colab": {
          "base_uri": "https://localhost:8080/",
          "height": 35
        },
        "id": "L2TlEdsgHKAM",
        "outputId": "6c4a525b-3936-46ff-ab2a-cc5e16e37b2b"
      },
      "source": [
        "likes(['a','b','c','efg',3])"
      ],
      "execution_count": 21,
      "outputs": [
        {
          "output_type": "execute_result",
          "data": {
            "application/vnd.google.colaboratory.intrinsic+json": {
              "type": "string"
            },
            "text/plain": [
              "'a, b and 3 others like this'"
            ]
          },
          "metadata": {
            "tags": []
          },
          "execution_count": 21
        }
      ]
    },
    {
      "cell_type": "code",
      "metadata": {
        "id": "QKQ2AqLpHLlF"
      },
      "source": [
        ""
      ],
      "execution_count": null,
      "outputs": []
    }
  ]
}