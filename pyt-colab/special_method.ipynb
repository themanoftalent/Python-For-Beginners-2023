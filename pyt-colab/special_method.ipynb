{
  "nbformat": 4,
  "nbformat_minor": 0,
  "metadata": {
    "colab": {
      "name": "special_method.ipynb",
      "provenance": [],
      "collapsed_sections": [],
      "authorship_tag": "ABX9TyPPI6wJULoO4CVz7iJWfTrO",
      "include_colab_link": true
    },
    "kernelspec": {
      "name": "python3",
      "display_name": "Python 3"
    },
    "language_info": {
      "name": "python"
    }
  },
  "cells": [
    {
      "cell_type": "markdown",
      "metadata": {
        "id": "view-in-github",
        "colab_type": "text"
      },
      "source": [
        "<a href=\"https://colab.research.google.com/github/themanoftalent/pyt-colab/blob/master/special_method.ipynb\" target=\"_parent\"><img src=\"https://colab.research.google.com/assets/colab-badge.svg\" alt=\"Open In Colab\"/></a>"
      ]
    },
    {
      "cell_type": "code",
      "metadata": {
        "id": "66HNNeQxcaIb",
        "colab": {
          "base_uri": "https://localhost:8080/"
        },
        "outputId": "804a44b3-e19c-4d9f-aa19-fc9cf2f52d59"
      },
      "source": [
        "class Employee:\n",
        "\n",
        "    raise_amt = 1.04\n",
        "\n",
        "    def __init__(self, first, last, pay):\n",
        "        self.first = first\n",
        "        self.last = last\n",
        "        self.email = first + '.' + last + '@email.com'\n",
        "        self.pay = pay\n",
        "\n",
        "    def fullname(self):\n",
        "        return '{} {}'.format(self.first, self.last)\n",
        "\n",
        "    def apply_raise(self):\n",
        "        self.pay = int(self.pay * self.raise_amt)\n",
        "\n",
        "    def __repr__(self):\n",
        "        return \"Employee('{}', '{}', {})\".format(self.first, self.last, self.pay)\n",
        "\n",
        "    def __str__(self):\n",
        "        return '{} - {}'.format(self.fullname(), self.email)\n",
        "\n",
        "    def __add__(self, other):\n",
        "        return self.pay + other.pay\n",
        "\n",
        "    def __len__(self):\n",
        "        return len(self.fullname())\n",
        "\n",
        "\n",
        "emp_1 = Employee('Corey', 'Schafer', 50000)\n",
        "emp_2 = Employee('Test', 'Employee', 60000)\n",
        "\n",
        "# print(emp_1 + emp_2)\n",
        "\n",
        "print(len(emp_1))"
      ],
      "execution_count": 11,
      "outputs": [
        {
          "output_type": "stream",
          "text": [
            "13\n"
          ],
          "name": "stdout"
        }
      ]
    },
    {
      "cell_type": "code",
      "metadata": {
        "id": "sxsLntUvJS5Y"
      },
      "source": [
        ""
      ],
      "execution_count": null,
      "outputs": []
    }
  ]
}