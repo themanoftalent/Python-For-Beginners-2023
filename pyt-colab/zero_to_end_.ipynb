{
  "nbformat": 4,
  "nbformat_minor": 0,
  "metadata": {
    "colab": {
      "name": "zero to end .ipynb",
      "provenance": [],
      "authorship_tag": "ABX9TyOFu8eb0eMXPJofzpsP34QQ",
      "include_colab_link": true
    },
    "kernelspec": {
      "name": "python3",
      "display_name": "Python 3"
    },
    "language_info": {
      "name": "python"
    }
  },
  "cells": [
    {
      "cell_type": "markdown",
      "metadata": {
        "id": "view-in-github",
        "colab_type": "text"
      },
      "source": [
        "<a href=\"https://colab.research.google.com/github/themanoftalent/pyt-colab/blob/master/zero_to_end_.ipynb\" target=\"_parent\"><img src=\"https://colab.research.google.com/assets/colab-badge.svg\" alt=\"Open In Colab\"/></a>"
      ]
    },
    {
      "cell_type": "code",
      "metadata": {
        "colab": {
          "base_uri": "https://localhost:8080/"
        },
        "id": "87yJsO-YjkCZ",
        "outputId": "06ec2bfe-8a6f-41ab-c156-9b011768f663"
      },
      "source": [
        "def moveto_zeros(n):\n",
        "  n.sort(key = lambda x:x == 0)\n",
        "  return n\n",
        "\n",
        "\n",
        "\n",
        "moveto_zeros([0,0,0,2,3,4])"
      ],
      "execution_count": 12,
      "outputs": [
        {
          "output_type": "execute_result",
          "data": {
            "text/plain": [
              "[2, 3, 4, 0, 0, 0]"
            ]
          },
          "metadata": {
            "tags": []
          },
          "execution_count": 12
        }
      ]
    },
    {
      "cell_type": "code",
      "metadata": {
        "id": "o8B6_HSBj0b1"
      },
      "source": [
        "def move_zeros(a):\n",
        "    a.sort(key=lambda v: v == 0)\n",
        "    return a"
      ],
      "execution_count": 7,
      "outputs": []
    },
    {
      "cell_type": "code",
      "metadata": {
        "colab": {
          "base_uri": "https://localhost:8080/"
        },
        "id": "YgEz5U5RkDlW",
        "outputId": "47ed22cb-a602-4be7-cb53-2b0b53a2352d"
      },
      "source": [
        "move_zeros([0,0,0,2,3,4])"
      ],
      "execution_count": 8,
      "outputs": [
        {
          "output_type": "execute_result",
          "data": {
            "text/plain": [
              "[2, 3, 4, 0, 0, 0]"
            ]
          },
          "metadata": {
            "tags": []
          },
          "execution_count": 8
        }
      ]
    },
    {
      "cell_type": "code",
      "metadata": {
        "id": "_qJt7R7TkGIk"
      },
      "source": [
        "def zero_to_end(zero):\n",
        "  return sorted(zero, key= lambda x:x==0 and x != bool)"
      ],
      "execution_count": 16,
      "outputs": []
    },
    {
      "cell_type": "code",
      "metadata": {
        "colab": {
          "base_uri": "https://localhost:8080/"
        },
        "id": "sq0-J0F9kt0S",
        "outputId": "ffb5a2f7-80b5-4ef4-b57b-c4ed329b6ed9"
      },
      "source": [
        "zero_to_end([0,55,0,9,0,67,0,0,2,3,4])"
      ],
      "execution_count": 21,
      "outputs": [
        {
          "output_type": "execute_result",
          "data": {
            "text/plain": [
              "[55, 9, 67, 2, 3, 4, 0, 0, 0, 0, 0]"
            ]
          },
          "metadata": {
            "tags": []
          },
          "execution_count": 21
        }
      ]
    },
    {
      "cell_type": "markdown",
      "metadata": {
        "id": "nT9vVd2Ekw99"
      },
      "source": [
        "what if we sort them again"
      ]
    },
    {
      "cell_type": "code",
      "metadata": {
        "colab": {
          "base_uri": "https://localhost:8080/"
        },
        "id": "6TSil4WmkcQ7",
        "outputId": "5c87afbe-47f1-4517-e577-00b0f945703b"
      },
      "source": [
        "sorted(zero_to_end([0,55,0,9,0,67,0,0,2,3,4]))"
      ],
      "execution_count": 22,
      "outputs": [
        {
          "output_type": "execute_result",
          "data": {
            "text/plain": [
              "[0, 0, 0, 0, 0, 2, 3, 4, 9, 55, 67]"
            ]
          },
          "metadata": {
            "tags": []
          },
          "execution_count": 22
        }
      ]
    },
    {
      "cell_type": "code",
      "metadata": {
        "id": "KgQcn7xAkfzU"
      },
      "source": [
        ""
      ],
      "execution_count": null,
      "outputs": []
    },
    {
      "cell_type": "markdown",
      "metadata": {
        "id": "kDOcyT-jk4Ef"
      },
      "source": [
        "some other solutions"
      ]
    },
    {
      "cell_type": "code",
      "metadata": {
        "id": "o2YZ1El4k5t3"
      },
      "source": [
        "def move_zeros(array):\n",
        "    a_len = len(array)\n",
        "    array = [v for v in array if type(v) is bool or v != 0]\n",
        "    array.extend([0]*(a_len-len(array)))\n",
        "    return array"
      ],
      "execution_count": 23,
      "outputs": []
    },
    {
      "cell_type": "code",
      "metadata": {
        "id": "Lv-a6fEwk6FF"
      },
      "source": [
        "def move_zeros(array):\n",
        "    without_zeros = list(filter(lambda n: not n == 0 or n is False, array))\n",
        "    for i in range(len(array) - len(without_zeros)):\n",
        "        without_zeros.append(0)\n",
        "    return without_zeros"
      ],
      "execution_count": 24,
      "outputs": []
    },
    {
      "cell_type": "code",
      "metadata": {
        "colab": {
          "base_uri": "https://localhost:8080/"
        },
        "id": "J7YVIVcXk8bg",
        "outputId": "d34dd217-3650-42b9-f4ec-5bfe94f9d9e5"
      },
      "source": [
        "import timeit\n",
        "start= timeit.default_timer()\n",
        "\n",
        "\n",
        "def move_zeros(array):\n",
        "    \n",
        "    '''Returns an array of integers with the 0's at the end\n",
        "       input: an array of integers\n",
        "       output: an array of integers'''#\n",
        "    \n",
        "    for i in array: #traverse the array\n",
        "        if i == 0: #checks if 'i' is equal to 0\n",
        "            array.remove(0) #remove a 0 everytime we find one\n",
        "            array.append(0) #appends a 0 everytime we find one\n",
        "    return array #returns the updated array\n",
        "\n",
        "\n",
        "stop= timeit.default_timer()\n",
        "print(stop-start)"
      ],
      "execution_count": 27,
      "outputs": [
        {
          "output_type": "stream",
          "text": [
            "0.00011534399982338073\n"
          ],
          "name": "stdout"
        }
      ]
    },
    {
      "cell_type": "code",
      "metadata": {
        "colab": {
          "base_uri": "https://localhost:8080/"
        },
        "id": "uG3hrqU8lIE9",
        "outputId": "51c2525c-2fb4-43b8-f324-28105e439442"
      },
      "source": [
        "move_zeros([0,55,0,9,0,67,0,0,2,3,4])"
      ],
      "execution_count": 26,
      "outputs": [
        {
          "output_type": "execute_result",
          "data": {
            "text/plain": [
              "[55, 9, 67, 2, 3, 4, 0, 0, 0, 0, 0]"
            ]
          },
          "metadata": {
            "tags": []
          },
          "execution_count": 26
        }
      ]
    },
    {
      "cell_type": "code",
      "metadata": {
        "id": "HNXE1hNilLOY"
      },
      "source": [
        ""
      ],
      "execution_count": null,
      "outputs": []
    }
  ]
}