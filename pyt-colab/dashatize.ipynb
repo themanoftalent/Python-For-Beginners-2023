{
  "nbformat": 4,
  "nbformat_minor": 0,
  "metadata": {
    "colab": {
      "name": "Division by a number.ipynb",
      "provenance": [],
      "collapsed_sections": [],
      "authorship_tag": "ABX9TyMSrMrdFsIuP8UCP6fCmqtL",
      "include_colab_link": true
    },
    "kernelspec": {
      "name": "python3",
      "display_name": "Python 3"
    },
    "language_info": {
      "name": "python"
    }
  },
  "cells": [
    {
      "cell_type": "markdown",
      "metadata": {
        "id": "view-in-github",
        "colab_type": "text"
      },
      "source": [
        "<a href=\"https://colab.research.google.com/github/themanoftalent/pyt-colab/blob/master/dashatize.ipynb\" target=\"_parent\"><img src=\"https://colab.research.google.com/assets/colab-badge.svg\" alt=\"Open In Colab\"/></a>"
      ]
    },
    {
      "cell_type": "markdown",
      "metadata": {
        "id": "mBudonUnrdhN"
      },
      "source": [
        "Counting duplicates"
      ]
    },
    {
      "cell_type": "code",
      "metadata": {
        "id": "D2EbZB5SrfMR"
      },
      "source": [
        "def dashatize(num):\n",
        "    # if not num and not (num == 0):\n",
        "    #     return 'None'\n",
        "\n",
        "    result = '-'.join(str(abs(num)))\n",
        "    copy_result = result[:]\n",
        "    occurrences = 0\n",
        "\n",
        "    for index, value in enumerate(result):\n",
        "        if value == '-':\n",
        "            # Check if there is need to be a '-' here.\n",
        "            if int(result[index - 1]) % 2 == 0 and int(result[index + 1]) % 2 == 0:\n",
        "                copy_result = copy_result[:index - occurrences] + copy_result[index + 1 - occurrences:]\n",
        "                occurrences += 1\n",
        "\n",
        "    return copy_result\n"
      ],
      "execution_count": 51,
      "outputs": []
    },
    {
      "cell_type": "code",
      "metadata": {
        "colab": {
          "base_uri": "https://localhost:8080/",
          "height": 35
        },
        "id": "lsKaKMMXrfol",
        "outputId": "ab57359d-e6f3-4d7c-bfb2-dee915831dd3"
      },
      "source": [
        "dashatize(2143)"
      ],
      "execution_count": 52,
      "outputs": [
        {
          "output_type": "execute_result",
          "data": {
            "application/vnd.google.colaboratory.intrinsic+json": {
              "type": "string"
            },
            "text/plain": [
              "'2-1-4-3'"
            ]
          },
          "metadata": {
            "tags": []
          },
          "execution_count": 52
        }
      ]
    },
    {
      "cell_type": "code",
      "metadata": {
        "colab": {
          "base_uri": "https://localhost:8080/",
          "height": 35
        },
        "id": "LD-P8dlerkNu",
        "outputId": "81565bb1-7260-42d3-f12f-3342e3f37e40"
      },
      "source": [
        "dashatize(0000)"
      ],
      "execution_count": 53,
      "outputs": [
        {
          "output_type": "execute_result",
          "data": {
            "application/vnd.google.colaboratory.intrinsic+json": {
              "type": "string"
            },
            "text/plain": [
              "'0'"
            ]
          },
          "metadata": {
            "tags": []
          },
          "execution_count": 53
        }
      ]
    },
    {
      "cell_type": "code",
      "metadata": {
        "id": "KVT7iGVcsOou"
      },
      "source": [
        ""
      ],
      "execution_count": null,
      "outputs": []
    }
  ]
}