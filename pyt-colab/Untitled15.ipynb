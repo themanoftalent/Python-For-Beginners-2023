{
  "nbformat": 4,
  "nbformat_minor": 0,
  "metadata": {
    "colab": {
      "name": "Untitled15.ipynb",
      "provenance": [],
      "authorship_tag": "ABX9TyMX53MrK/bapHVd/GxjPVFg",
      "include_colab_link": true
    },
    "kernelspec": {
      "name": "python3",
      "display_name": "Python 3"
    },
    "language_info": {
      "name": "python"
    }
  },
  "cells": [
    {
      "cell_type": "markdown",
      "metadata": {
        "id": "view-in-github",
        "colab_type": "text"
      },
      "source": [
        "<a href=\"https://colab.research.google.com/github/themanoftalent/pyt-colab/blob/master/Untitled15.ipynb\" target=\"_parent\"><img src=\"https://colab.research.google.com/assets/colab-badge.svg\" alt=\"Open In Colab\"/></a>"
      ]
    },
    {
      "cell_type": "code",
      "metadata": {
        "colab": {
          "base_uri": "https://localhost:8080/"
        },
        "id": "DyshUyYA9Aq0",
        "outputId": "b577c211-e802-4a5d-cbc7-511894eacdfa"
      },
      "source": [
        "class Add(int):\n",
        "\n",
        "  def __init__(self,num):\n",
        "    self.num=num\n",
        "  \n",
        "  def multiple35(self):\n",
        "    return sum(x for x in range(self.num) if x%3==0 or x%5==0)\n",
        "\n",
        "  def __call__(self,n):\n",
        "    return Add(self+n)\n",
        "\n",
        "\n",
        "A1=Add(15)\n",
        "print(A1.multiple35())\n",
        "\n",
        "\n",
        "if __name__=='__main__':\n",
        "  print(Add(34)(54)(23)(34)(99))"
      ],
      "execution_count": 14,
      "outputs": [
        {
          "output_type": "stream",
          "text": [
            "45\n",
            "244\n"
          ],
          "name": "stdout"
        }
      ]
    },
    {
      "cell_type": "code",
      "metadata": {
        "id": "QvzB-n-q9TmU"
      },
      "source": [
        ""
      ],
      "execution_count": null,
      "outputs": []
    }
  ]
}