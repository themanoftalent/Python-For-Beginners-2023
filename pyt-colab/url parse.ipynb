{
  "nbformat": 4,
  "nbformat_minor": 0,
  "metadata": {
    "colab": {
      "name": "Untitled15.ipynb",
      "provenance": [],
      "authorship_tag": "ABX9TyNm4SVFwFVT/GOzN+5Z6j+k",
      "include_colab_link": true
    },
    "kernelspec": {
      "name": "python3",
      "display_name": "Python 3"
    },
    "language_info": {
      "name": "python"
    }
  },
  "cells": [
    {
      "cell_type": "markdown",
      "metadata": {
        "id": "view-in-github",
        "colab_type": "text"
      },
      "source": [
        "<a href=\"https://colab.research.google.com/github/themanoftalent/pyt-colab/blob/master/url%20parse.ipynb\" target=\"_parent\"><img src=\"https://colab.research.google.com/assets/colab-badge.svg\" alt=\"Open In Colab\"/></a>"
      ]
    },
    {
      "cell_type": "markdown",
      "metadata": {
        "id": "CVIdywYotM0D"
      },
      "source": [
        "Parsin a url "
      ]
    },
    {
      "cell_type": "code",
      "metadata": {
        "id": "4jWjsTHwTjlc"
      },
      "source": [
        "from urllib.parse import urlparse"
      ],
      "execution_count": 6,
      "outputs": []
    },
    {
      "cell_type": "code",
      "metadata": {
        "colab": {
          "base_uri": "https://localhost:8080/"
        },
        "id": "eLJ3qPT_Y0Z8",
        "outputId": "7c9cf892-af6a-4346-e6b8-38a7f37f87e8"
      },
      "source": [
        "domain = urlparse('https://id.elsevier.com/as/authorization.oauth2?platSite=SD%2Fscience&scope').netloc\n",
        "print(domain)\n"
      ],
      "execution_count": 22,
      "outputs": [
        {
          "output_type": "stream",
          "text": [
            "id.elsevier.com\n"
          ],
          "name": "stdout"
        }
      ]
    },
    {
      "cell_type": "markdown",
      "metadata": {
        "id": "c1p9JiLxtmAz"
      },
      "source": [
        "Another method"
      ]
    },
    {
      "cell_type": "code",
      "metadata": {
        "colab": {
          "base_uri": "https://localhost:8080/"
        },
        "id": "PQRKLIXOtFOI",
        "outputId": "4175f26f-94fa-4846-c2d5-1a9f609ffae7"
      },
      "source": [
        "def domain_name(url):\n",
        "    return url.split(\"www.\")[-1].split(\"//\")[-1].split(\".\")[0]\n",
        "\n",
        "\n",
        "x=domain_name(\"http://github.com/carbonfive/raygun\")\n",
        "print(x) "
      ],
      "execution_count": 15,
      "outputs": [
        {
          "output_type": "stream",
          "text": [
            "github\n"
          ],
          "name": "stdout"
        }
      ]
    },
    {
      "cell_type": "markdown",
      "metadata": {
        "id": "t532OBOStwwg"
      },
      "source": [
        "Another method"
      ]
    },
    {
      "cell_type": "code",
      "metadata": {
        "colab": {
          "base_uri": "https://localhost:8080/"
        },
        "id": "VP1DXu5otqsC",
        "outputId": "bcb41218-6be5-4f67-c0ed-41307907fd1b"
      },
      "source": [
        "import re\n",
        "def domain_names(url):\n",
        "    return re.search('(https?://)?(www\\d?\\.)?(?P<name>[\\w-]+)\\.', url).group('name')\n",
        "\n",
        "\n",
        "x=domain_names(\"http://github.com/carbonfive/raygun\")\n",
        "print(x) "
      ],
      "execution_count": 17,
      "outputs": [
        {
          "output_type": "stream",
          "text": [
            "github\n"
          ],
          "name": "stdout"
        }
      ]
    },
    {
      "cell_type": "markdown",
      "metadata": {
        "id": "RsJI4vFqt9wL"
      },
      "source": [
        "Another method"
      ]
    },
    {
      "cell_type": "code",
      "metadata": {
        "colab": {
          "base_uri": "https://localhost:8080/"
        },
        "id": "JOhUrboit0j4",
        "outputId": "63e99539-d205-4b4c-920e-7a03140544ff"
      },
      "source": [
        "import re\n",
        "def domain_name(url):\n",
        "    return re.search(\"(//|www.)(\\w+)[.]\", url).group(2)\n",
        "\n",
        "\n",
        "x=domain_name(\"http://github.com/carbonfive/raygun\")\n",
        "print(x) "
      ],
      "execution_count": 19,
      "outputs": [
        {
          "output_type": "stream",
          "text": [
            "github\n"
          ],
          "name": "stdout"
        }
      ]
    },
    {
      "cell_type": "code",
      "metadata": {
        "id": "BzCwXvaEt8Zy"
      },
      "source": [
        ""
      ],
      "execution_count": null,
      "outputs": []
    }
  ]
}