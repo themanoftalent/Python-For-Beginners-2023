{
  "nbformat": 4,
  "nbformat_minor": 0,
  "metadata": {
    "colab": {
      "name": "categorzie people.ipynb",
      "provenance": [],
      "authorship_tag": "ABX9TyOt9ftKzte5xXVqCmE/3Ssm",
      "include_colab_link": true
    },
    "kernelspec": {
      "name": "python3",
      "display_name": "Python 3"
    },
    "language_info": {
      "name": "python"
    }
  },
  "cells": [
    {
      "cell_type": "markdown",
      "metadata": {
        "id": "view-in-github",
        "colab_type": "text"
      },
      "source": [
        "<a href=\"https://colab.research.google.com/github/themanoftalent/pyt-colab/blob/master/categorzie_people.ipynb\" target=\"_parent\"><img src=\"https://colab.research.google.com/assets/colab-badge.svg\" alt=\"Open In Colab\"/></a>"
      ]
    },
    {
      "cell_type": "code",
      "metadata": {
        "colab": {
          "base_uri": "https://localhost:8080/"
        },
        "id": "GKxJPQ_Tj_Gk",
        "outputId": "1da4d566-c0a3-4831-e82c-34d9d75a95cb"
      },
      "source": [
        "def openOrSenior(data):\n",
        "    return ['Senior' if person[0] >= 55 and person[1] > 7 or person[2] < 89 else 'Open' for person in data]\n",
        "\n",
        "\n",
        "\n",
        "\n",
        "x = openOrSenior([[18, 20,90], [45, 2,90], [61, 12,90], [37, 6,90], [21, 21,90], [78, 9,90]])\n",
        "print(x)"
      ],
      "execution_count": 142,
      "outputs": [
        {
          "output_type": "stream",
          "text": [
            "['Open', 'Open', 'Senior', 'Open', 'Open', 'Senior']\n"
          ],
          "name": "stdout"
        }
      ]
    },
    {
      "cell_type": "code",
      "metadata": {
        "id": "gyt4Km8pkZnn"
      },
      "source": [
        ""
      ],
      "execution_count": null,
      "outputs": []
    }
  ]
}