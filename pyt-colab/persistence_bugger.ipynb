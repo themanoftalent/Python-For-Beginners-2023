{
  "nbformat": 4,
  "nbformat_minor": 0,
  "metadata": {
    "colab": {
      "name": "persistence bugger.ipynb",
      "provenance": [],
      "authorship_tag": "ABX9TyO6bhpJP1eP3L2i6zCFMRs5",
      "include_colab_link": true
    },
    "kernelspec": {
      "name": "python3",
      "display_name": "Python 3"
    },
    "language_info": {
      "name": "python"
    }
  },
  "cells": [
    {
      "cell_type": "markdown",
      "metadata": {
        "id": "view-in-github",
        "colab_type": "text"
      },
      "source": [
        "<a href=\"https://colab.research.google.com/github/themanoftalent/pyt-colab/blob/master/persistence_bugger.ipynb\" target=\"_parent\"><img src=\"https://colab.research.google.com/assets/colab-badge.svg\" alt=\"Open In Colab\"/></a>"
      ]
    },
    {
      "cell_type": "code",
      "metadata": {
        "id": "oUsudOuvntTO"
      },
      "source": [
        "\"\"\"Pozitif bir parametre numarası alan ve çarpımsal kalıcılığını döndüren bir fonksiyon yazilsin, \n",
        "bu sayı tek bir rakama ulaşana kadar çarpmanız gereken sayıdır.\"\"\"\n",
        "#kac carpani oldugu bulunmasi\n",
        "def persistence(n):\n",
        "    if n < 10: return 0\n",
        "    mult = 1\n",
        "    while(n > 0):\n",
        "        mult = n%10 * mult\n",
        "        n = n//10\n",
        "    return persistence(mult) + 1"
      ],
      "execution_count": 23,
      "outputs": []
    },
    {
      "cell_type": "code",
      "metadata": {
        "colab": {
          "base_uri": "https://localhost:8080/"
        },
        "id": "4zbCUa4CnwMj",
        "outputId": "53bd8400-7ada-492a-d215-dec09972b35b"
      },
      "source": [
        "persistence(934)"
      ],
      "execution_count": 24,
      "outputs": [
        {
          "output_type": "execute_result",
          "data": {
            "text/plain": [
              "2"
            ]
          },
          "metadata": {
            "tags": []
          },
          "execution_count": 24
        }
      ]
    },
    {
      "cell_type": "code",
      "metadata": {
        "colab": {
          "base_uri": "https://localhost:8080/"
        },
        "id": "7iMYDm88n0Hb",
        "outputId": "6df62085-689f-450e-c719-01fb51338076"
      },
      "source": [
        "persistence(3)"
      ],
      "execution_count": 25,
      "outputs": [
        {
          "output_type": "execute_result",
          "data": {
            "text/plain": [
              "0"
            ]
          },
          "metadata": {
            "tags": []
          },
          "execution_count": 25
        }
      ]
    },
    {
      "cell_type": "code",
      "metadata": {
        "colab": {
          "base_uri": "https://localhost:8080/"
        },
        "id": "7lkq55HwoMB5",
        "outputId": "6b7369ed-c5e4-4875-dc6a-00550c84988e"
      },
      "source": [
        "persistence(999)"
      ],
      "execution_count": 26,
      "outputs": [
        {
          "output_type": "execute_result",
          "data": {
            "text/plain": [
              "4"
            ]
          },
          "metadata": {
            "tags": []
          },
          "execution_count": 26
        }
      ]
    },
    {
      "cell_type": "code",
      "metadata": {
        "id": "12FUFzlnoOFU"
      },
      "source": [
        ""
      ],
      "execution_count": 26,
      "outputs": []
    }
  ]
}