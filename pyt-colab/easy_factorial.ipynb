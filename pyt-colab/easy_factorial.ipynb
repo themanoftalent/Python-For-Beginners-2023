{
  "nbformat": 4,
  "nbformat_minor": 0,
  "metadata": {
    "colab": {
      "name": "easy_factorial.ipynb",
      "provenance": [],
      "authorship_tag": "ABX9TyOsaVr53aMiTVL0Cn4xGKv4",
      "include_colab_link": true
    },
    "kernelspec": {
      "name": "python3",
      "display_name": "Python 3"
    },
    "language_info": {
      "name": "python"
    }
  },
  "cells": [
    {
      "cell_type": "markdown",
      "metadata": {
        "id": "view-in-github",
        "colab_type": "text"
      },
      "source": [
        "<a href=\"https://colab.research.google.com/github/themanoftalent/pyt-colab/blob/master/easy_factorial.ipynb\" target=\"_parent\"><img src=\"https://colab.research.google.com/assets/colab-badge.svg\" alt=\"Open In Colab\"/></a>"
      ]
    },
    {
      "cell_type": "code",
      "metadata": {
        "id": "gEN91fYTmyCH"
      },
      "source": [
        "def factorial(n):\n",
        "\n",
        "  if n <= 1:\n",
        "    return 1\n",
        "  else:\n",
        "    return (n* factorial-1)"
      ],
      "execution_count": 1,
      "outputs": []
    },
    {
      "cell_type": "code",
      "metadata": {
        "colab": {
          "base_uri": "https://localhost:8080/"
        },
        "id": "nQahv1v1nCrt",
        "outputId": "bf35cb39-3395-4d7b-a463-1c0efaf2eb61"
      },
      "source": [
        "def filter_list(lst):\n",
        "\n",
        "  return [x for x in lst if isinstance(x, int) and x >= 0]\n",
        "\n",
        "\n",
        "x = filter_list([1, -3, \"idk\", 6, 'a'])\n",
        "print(x)"
      ],
      "execution_count": 4,
      "outputs": [
        {
          "output_type": "stream",
          "text": [
            "[1, 6]\n"
          ],
          "name": "stdout"
        }
      ]
    },
    {
      "cell_type": "code",
      "metadata": {
        "id": "chmU8MIG4oQH"
      },
      "source": [
        ""
      ],
      "execution_count": 40,
      "outputs": []
    },
    {
      "cell_type": "code",
      "metadata": {
        "colab": {
          "base_uri": "https://localhost:8080/"
        },
        "id": "xMAdhyOL9QSH",
        "outputId": "39c718d6-9aab-45ec-a30e-745957418700"
      },
      "source": [
        "class AddRemove:\n",
        "\n",
        "  def __init__(self, lst):\n",
        "    self.lst = lst\n",
        "    # self.word = word\n",
        "\n",
        "  def filter_list(self):\n",
        "    return [x for x in self.lst if isinstance(x, int) and x >= 0]\n",
        "\n",
        "  def demisvowels(self, word):\n",
        "    self.word = word\n",
        "\n",
        "    my_list = list(word)\n",
        "    vowels = ['a', 'e', 'i', 'o', 'u', 'A', 'E', 'I', 'O', 'U']\n",
        "\n",
        "    for letter in my_list:\n",
        "      for v in vowels:\n",
        "        if v == letter:\n",
        "          my_list.remove(letter)\n",
        "    return ''.join(my_list)\n",
        "\n",
        "\n",
        "\n",
        "\n",
        "a1 = AddRemove([1, -3, \"idk\", 6, 'a'])\n",
        "a2 = AddRemove('')\n",
        "\n",
        "\n",
        "\n",
        "print(a1.filter_list())\n",
        "print(a2.demisvowels('sel'))\n",
        "\n"
      ],
      "execution_count": 43,
      "outputs": [
        {
          "output_type": "stream",
          "text": [
            "[1, 6]\n",
            "sl\n"
          ],
          "name": "stdout"
        }
      ]
    },
    {
      "cell_type": "code",
      "metadata": {
        "id": "s7K_TLeeB7Yi"
      },
      "source": [
        ""
      ],
      "execution_count": null,
      "outputs": []
    }
  ]
}