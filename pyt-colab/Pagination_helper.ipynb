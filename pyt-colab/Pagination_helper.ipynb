{
  "nbformat": 4,
  "nbformat_minor": 0,
  "metadata": {
    "colab": {
      "name": "Pagination helper.ipynb",
      "provenance": [],
      "authorship_tag": "ABX9TyMM3XKahXFfxTuBWdfmgwFu",
      "include_colab_link": true
    },
    "kernelspec": {
      "name": "python3",
      "display_name": "Python 3"
    },
    "language_info": {
      "name": "python"
    }
  },
  "cells": [
    {
      "cell_type": "markdown",
      "metadata": {
        "id": "view-in-github",
        "colab_type": "text"
      },
      "source": [
        "<a href=\"https://colab.research.google.com/github/themanoftalent/pyt-colab/blob/master/Pagination_helper.ipynb\" target=\"_parent\"><img src=\"https://colab.research.google.com/assets/colab-badge.svg\" alt=\"Open In Colab\"/></a>"
      ]
    },
    {
      "cell_type": "code",
      "metadata": {
        "id": "Qm5F9NIj1Whg"
      },
      "source": [
        "class PaginationHelper:\n",
        "    def __init__(self, collection, items_per_page):\n",
        "        self._item_count = len(collection)\n",
        "        self.items_per_page = items_per_page\n",
        "\n",
        "    def item_count(self):\n",
        "        return self._item_count\n",
        "\n",
        "    def page_count(self):\n",
        "        return -(self._item_count // -self.items_per_page)\n",
        "\n",
        "    def page_item_count(self, page_index):\n",
        "        return min(self.items_per_page, self._item_count - page_index * self.items_per_page) \\\n",
        "            if 0 <= page_index < self.page_count() else -1\n",
        "\n",
        "    def page_index(self, item_index):\n",
        "        return item_index // self.items_per_page \\\n",
        "            if 0 <= item_index < self._item_count else -1\n",
        "\n",
        "helper = PaginationHelper(['a','b','c','d','e','f'], 10)\n"
      ],
      "execution_count": 8,
      "outputs": []
    },
    {
      "cell_type": "code",
      "metadata": {
        "colab": {
          "base_uri": "https://localhost:8080/"
        },
        "id": "vT6-v9ZK1cxj",
        "outputId": "d3a97c34-3f7a-481b-e21f-b04242e4990e"
      },
      "source": [
        "print(helper.page_count())\n",
        "print(helper.item_count())\n",
        "print(helper.page_item_count(0))\n",
        "print(helper.page_item_count(1))\n",
        "print(helper.page_item_count(2) )\n",
        "print(helper.page_index(5))\n",
        "print(helper.page_index(2))\n",
        "print(helper.page_index(20) )\n",
        "print(helper.page_index(-10))"
      ],
      "execution_count": 9,
      "outputs": [
        {
          "output_type": "stream",
          "text": [
            "1\n",
            "6\n",
            "6\n",
            "-1\n",
            "-1\n",
            "0\n",
            "0\n",
            "-1\n",
            "-1\n"
          ],
          "name": "stdout"
        }
      ]
    },
    {
      "cell_type": "code",
      "metadata": {
        "id": "LJyemrQN1eY8"
      },
      "source": [
        ""
      ],
      "execution_count": null,
      "outputs": []
    }
  ]
}