{
  "nbformat": 4,
  "nbformat_minor": 0,
  "metadata": {
    "colab": {
      "name": "put_in_order.ipynb",
      "provenance": [],
      "authorship_tag": "ABX9TyOd2f5eqGLlfY0gZosT9OAw",
      "include_colab_link": true
    },
    "kernelspec": {
      "name": "python3",
      "display_name": "Python 3"
    },
    "language_info": {
      "name": "python"
    }
  },
  "cells": [
    {
      "cell_type": "markdown",
      "metadata": {
        "id": "view-in-github",
        "colab_type": "text"
      },
      "source": [
        "<a href=\"https://colab.research.google.com/github/themanoftalent/pyt-colab/blob/master/put_in_order.ipynb\" target=\"_parent\"><img src=\"https://colab.research.google.com/assets/colab-badge.svg\" alt=\"Open In Colab\"/></a>"
      ]
    },
    {
      "cell_type": "code",
      "metadata": {
        "id": "QWreEziNBpK2"
      },
      "source": [
        "import operator\n",
        "def order(sentence):\n",
        "    array = sentence.split()\n",
        "\n",
        "    keep_list = \"\"\n",
        "\n",
        "    a_dict = {\"1\":\"NONE\", \"2\":\"NONE\", \"3\":\"NONE\", \"4\":\"NONE\", \"5\":\"NONE\", \"6\":\"NONE\", \"7\":\"NONE\", \"8\":\"NONE\", \"9\":\"NONE\", }\n",
        "\n",
        "    for word in array:\n",
        "        for char in word:\n",
        "            if(char.isdigit() and int(char) <= 9):\n",
        "                a_dict[char] = word\n",
        "\n",
        "    sorted_dict = sorted(a_dict.items())\n",
        "\n",
        "    for s in sorted_dict:\n",
        "\n",
        "        if(s[1] != \"NONE\"):\n",
        "            keep_list = keep_list + s[1]+\" \"\n",
        "\n",
        "    keep_list = keep_list[:-1]\n",
        "    return keep_list"
      ],
      "execution_count": 3,
      "outputs": []
    },
    {
      "cell_type": "code",
      "metadata": {
        "colab": {
          "base_uri": "https://localhost:8080/",
          "height": 35
        },
        "id": "Hg4iWsVCCBUo",
        "outputId": "f85cb664-8b02-4abb-ba7d-0a49e0743665"
      },
      "source": [
        "order(\"4of Fo1r pe6ople g3ood th5e the2\" )"
      ],
      "execution_count": 4,
      "outputs": [
        {
          "output_type": "execute_result",
          "data": {
            "application/vnd.google.colaboratory.intrinsic+json": {
              "type": "string"
            },
            "text/plain": [
              "'Fo1r the2 g3ood 4of th5e pe6ople'"
            ]
          },
          "metadata": {
            "tags": []
          },
          "execution_count": 4
        }
      ]
    },
    {
      "cell_type": "markdown",
      "metadata": {
        "id": "XTKKV3teDNl_"
      },
      "source": [
        "Another solution"
      ]
    },
    {
      "cell_type": "code",
      "metadata": {
        "id": "WlP2JWk8CEQo"
      },
      "source": [
        "def order(sentence):\n",
        "    def sort_key(s):\n",
        "        return next(c for c in s if c.isdigit())\n",
        "    return ' '.join(sorted(sentence.split(), key=sort_key))"
      ],
      "execution_count": 5,
      "outputs": []
    },
    {
      "cell_type": "code",
      "metadata": {
        "colab": {
          "base_uri": "https://localhost:8080/",
          "height": 35
        },
        "id": "E32fqXBcDLKo",
        "outputId": "ffd4a0aa-c89f-4a8b-b053-c3055fd8df6d"
      },
      "source": [
        "order(\"4of Fo1r pe6ople g3ood th5e the2\" )"
      ],
      "execution_count": 6,
      "outputs": [
        {
          "output_type": "execute_result",
          "data": {
            "application/vnd.google.colaboratory.intrinsic+json": {
              "type": "string"
            },
            "text/plain": [
              "'Fo1r the2 g3ood 4of th5e pe6ople'"
            ]
          },
          "metadata": {
            "tags": []
          },
          "execution_count": 6
        }
      ]
    },
    {
      "cell_type": "markdown",
      "metadata": {
        "id": "4jgR0k-pDWnz"
      },
      "source": [
        "Another solution"
      ]
    },
    {
      "cell_type": "code",
      "metadata": {
        "id": "UtXvEeYCDMYc"
      },
      "source": [
        "def order(sentence):\n",
        "    data = sentence.split()\n",
        "    result = []\n",
        "\n",
        "    for word in data:\n",
        "        for letter in word:\n",
        "            if letter.isdigit():\n",
        "                result.append([int(letter), word])\n",
        "\n",
        "    return \" \".join([x[1] for x in sorted(result)])"
      ],
      "execution_count": 13,
      "outputs": []
    },
    {
      "cell_type": "code",
      "metadata": {
        "colab": {
          "base_uri": "https://localhost:8080/",
          "height": 35
        },
        "id": "08I2MGFMDVHI",
        "outputId": "75f877b6-f07e-4d40-a361-f32984a0446d"
      },
      "source": [
        "order(\"4of Fo1r pe6ople g3ood th5e the2\" )"
      ],
      "execution_count": 14,
      "outputs": [
        {
          "output_type": "execute_result",
          "data": {
            "application/vnd.google.colaboratory.intrinsic+json": {
              "type": "string"
            },
            "text/plain": [
              "'Fo1r the2 g3ood 4of th5e pe6ople'"
            ]
          },
          "metadata": {
            "tags": []
          },
          "execution_count": 14
        }
      ]
    },
    {
      "cell_type": "code",
      "metadata": {
        "id": "qj1driODDWGC"
      },
      "source": [
        ""
      ],
      "execution_count": null,
      "outputs": []
    }
  ]
}