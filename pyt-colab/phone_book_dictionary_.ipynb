{
  "nbformat": 4,
  "nbformat_minor": 0,
  "metadata": {
    "colab": {
      "name": "phone book dictionary  .ipynb",
      "provenance": [],
      "collapsed_sections": [],
      "authorship_tag": "ABX9TyPnoybIJFySoEaaJbV70Cmz",
      "include_colab_link": true
    },
    "kernelspec": {
      "name": "python3",
      "display_name": "Python 3"
    },
    "language_info": {
      "name": "python"
    }
  },
  "cells": [
    {
      "cell_type": "markdown",
      "metadata": {
        "id": "view-in-github",
        "colab_type": "text"
      },
      "source": [
        "<a href=\"https://colab.research.google.com/github/themanoftalent/pyt-colab/blob/master/phone_book_dictionary_.ipynb\" target=\"_parent\"><img src=\"https://colab.research.google.com/assets/colab-badge.svg\" alt=\"Open In Colab\"/></a>"
      ]
    },
    {
      "cell_type": "markdown",
      "metadata": {
        "id": "xcPZ1M6MLxBH"
      },
      "source": [
        "Task\n",
        "Given  names and phone numbers, assemble a phone book that maps friends' names to their respective phone numbers. You will then be given an unknown number of names to query your phone book for. For each  queried, print the associated entry from your phone book on a new line in the form name=phoneNumber; if an entry for  is not found, print Not found instead."
      ]
    },
    {
      "cell_type": "code",
      "metadata": {
        "id": "fokOG0YjLwyT"
      },
      "source": [
        "number = int(input())\n",
        "name_numbers = [input().split() for _ in range(number)]\n",
        "phone_book = {person: phone for person,phone in name_numbers}\n",
        "\n",
        "while True:\n",
        "    try:\n",
        "        name = input()\n",
        "        if name in phone_book:\n",
        "            print('%s=%s' % (name, phone_book[name]))\n",
        "        else:\n",
        "            print('Not found')\n",
        "    except:\n",
        "        break"
      ],
      "execution_count": null,
      "outputs": []
    },
    {
      "cell_type": "code",
      "metadata": {
        "id": "LhxfMchELyFK"
      },
      "source": [
        "\n"
      ],
      "execution_count": null,
      "outputs": []
    }
  ]
}