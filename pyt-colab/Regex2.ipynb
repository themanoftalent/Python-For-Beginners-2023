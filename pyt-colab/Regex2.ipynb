{
  "nbformat": 4,
  "nbformat_minor": 0,
  "metadata": {
    "colab": {
      "name": "Untitled15.ipynb",
      "provenance": [],
      "authorship_tag": "ABX9TyNPaHslq6mRWtNZvCMFOJJL",
      "include_colab_link": true
    },
    "kernelspec": {
      "name": "python3",
      "display_name": "Python 3"
    },
    "language_info": {
      "name": "python"
    }
  },
  "cells": [
    {
      "cell_type": "markdown",
      "metadata": {
        "id": "view-in-github",
        "colab_type": "text"
      },
      "source": [
        "<a href=\"https://colab.research.google.com/github/themanoftalent/pyt-colab/blob/master/Regex2.ipynb\" target=\"_parent\"><img src=\"https://colab.research.google.com/assets/colab-badge.svg\" alt=\"Open In Colab\"/></a>"
      ]
    },
    {
      "cell_type": "markdown",
      "metadata": {
        "id": "TqcITJzGZVfe"
      },
      "source": [
        "**Rules**\n",
        "\n",
        ".       - Any Character Except New Line <br>\n",
        "\\d      - Digit (0-9)<br>\n",
        "\\D      - Not a Digit (0-9)<br>\n",
        "\\w      - Word Character (a-z, A-Z, 0-9, _ )<br>\n",
        "\\W      - Not a Word Character<br>\n",
        "\\s      - Whitespace (space, tab, newline)<br>\n",
        "\\S      - Not Whitespace (space, tab, newline)<br>\n",
        "#anchors<br>\n",
        "\\b      - Word Boundary<br>\n",
        "\\B      - Not a Word Boundary<br>\n",
        "^       - Beginning of a String<br>\n",
        "$       - End of a String<br>\n",
        "<br>\n",
        "[]      - Matches Characters in brackets<br>\n",
        "[^ ]    - Matches Characters NOT in brackets<br>\n",
        "|       - Either Or<br>\n",
        "( )     - Group<br>\n",
        "Quantifiers:<br>\n",
        "*       - 0 or More<br>\n",
        "+       - 1 or More<br>\n",
        "?       - 0 or One<br>\n",
        "{3}     - Exact Number<br>\n",
        "{3,4}   - Range of Numbers (Minimum, Maximum)<br>\n",
        "\n",
        "#### Sample Regexs ####\n",
        "\n",
        "[a-zA-Z0-9_.+-]+@[a-zA-Z0-9-]+\\.[a-zA-Z0-9-.]+<br>\n"
      ]
    },
    {
      "cell_type": "code",
      "metadata": {
        "id": "j2IibeAfXa6n"
      },
      "source": [
        "import re"
      ],
      "execution_count": 2,
      "outputs": []
    },
    {
      "cell_type": "code",
      "metadata": {
        "id": "8nCZr07-Xbup"
      },
      "source": [
        "text_to_search = '''\n",
        "abcdefghijklmnopqurtuvwxyz\n",
        "ABCDEFGHIJKLMNOPQRSTUVWXYZ\n",
        "1234567890\n",
        "Ha HaHa\n",
        "MetaCharacters (Need to be escaped):\n",
        ". ^ $ * + ? { } [ ] \\ | ( )\n",
        "coreyms.com\n",
        "321-555-4321\n",
        "123.555.1234\n",
        "123*555*1234\n",
        "800-555-1234\n",
        "900-555-1234\n",
        "Mr. Schafer\n",
        "Mr Smith\n",
        "Ms Davis\n",
        "Mrs. Robinson\n",
        "Mr. T\n",
        "'''"
      ],
      "execution_count": 3,
      "outputs": []
    },
    {
      "cell_type": "code",
      "metadata": {
        "id": "fbxbdiazXhw-"
      },
      "source": [
        "sentence = 'Start a sentence then bring it to end'"
      ],
      "execution_count": 4,
      "outputs": []
    },
    {
      "cell_type": "code",
      "metadata": {
        "colab": {
          "base_uri": "https://localhost:8080/"
        },
        "id": "hOeQcNGOXiRH",
        "outputId": "a2f0f6be-3197-4738-cdfd-e0bb4645c2dd"
      },
      "source": [
        "\n",
        "patters= re.compile(r'M[r|s|rs]')\n",
        "mathcing = patters.finditer(text_to_search)\n",
        "for m in mathcing:\n",
        "  print(m)"
      ],
      "execution_count": 5,
      "outputs": [
        {
          "output_type": "stream",
          "text": [
            "<re.Match object; span=(216, 218), match='Mr'>\n",
            "<re.Match object; span=(228, 230), match='Mr'>\n",
            "<re.Match object; span=(237, 239), match='Ms'>\n",
            "<re.Match object; span=(246, 248), match='Mr'>\n",
            "<re.Match object; span=(260, 262), match='Mr'>\n"
          ],
          "name": "stdout"
        }
      ]
    },
    {
      "cell_type": "code",
      "metadata": {
        "colab": {
          "base_uri": "https://localhost:8080/"
        },
        "id": "pIbcWkwtX676",
        "outputId": "1baa5efe-9cbd-4752-aaa0-d373fe986fec"
      },
      "source": [
        "patpat=re.compile(r'.')\n",
        "matchme= patpat.finditer(text_to_search)\n",
        "for m in matchme:\n",
        "  print(m)"
      ],
      "execution_count": 6,
      "outputs": [
        {
          "output_type": "stream",
          "text": [
            "<re.Match object; span=(1, 2), match='a'>\n",
            "<re.Match object; span=(2, 3), match='b'>\n",
            "<re.Match object; span=(3, 4), match='c'>\n",
            "<re.Match object; span=(4, 5), match='d'>\n",
            "<re.Match object; span=(5, 6), match='e'>\n",
            "<re.Match object; span=(6, 7), match='f'>\n",
            "<re.Match object; span=(7, 8), match='g'>\n",
            "<re.Match object; span=(8, 9), match='h'>\n",
            "<re.Match object; span=(9, 10), match='i'>\n",
            "<re.Match object; span=(10, 11), match='j'>\n",
            "<re.Match object; span=(11, 12), match='k'>\n",
            "<re.Match object; span=(12, 13), match='l'>\n",
            "<re.Match object; span=(13, 14), match='m'>\n",
            "<re.Match object; span=(14, 15), match='n'>\n",
            "<re.Match object; span=(15, 16), match='o'>\n",
            "<re.Match object; span=(16, 17), match='p'>\n",
            "<re.Match object; span=(17, 18), match='q'>\n",
            "<re.Match object; span=(18, 19), match='u'>\n",
            "<re.Match object; span=(19, 20), match='r'>\n",
            "<re.Match object; span=(20, 21), match='t'>\n",
            "<re.Match object; span=(21, 22), match='u'>\n",
            "<re.Match object; span=(22, 23), match='v'>\n",
            "<re.Match object; span=(23, 24), match='w'>\n",
            "<re.Match object; span=(24, 25), match='x'>\n",
            "<re.Match object; span=(25, 26), match='y'>\n",
            "<re.Match object; span=(26, 27), match='z'>\n",
            "<re.Match object; span=(28, 29), match='A'>\n",
            "<re.Match object; span=(29, 30), match='B'>\n",
            "<re.Match object; span=(30, 31), match='C'>\n",
            "<re.Match object; span=(31, 32), match='D'>\n",
            "<re.Match object; span=(32, 33), match='E'>\n",
            "<re.Match object; span=(33, 34), match='F'>\n",
            "<re.Match object; span=(34, 35), match='G'>\n",
            "<re.Match object; span=(35, 36), match='H'>\n",
            "<re.Match object; span=(36, 37), match='I'>\n",
            "<re.Match object; span=(37, 38), match='J'>\n",
            "<re.Match object; span=(38, 39), match='K'>\n",
            "<re.Match object; span=(39, 40), match='L'>\n",
            "<re.Match object; span=(40, 41), match='M'>\n",
            "<re.Match object; span=(41, 42), match='N'>\n",
            "<re.Match object; span=(42, 43), match='O'>\n",
            "<re.Match object; span=(43, 44), match='P'>\n",
            "<re.Match object; span=(44, 45), match='Q'>\n",
            "<re.Match object; span=(45, 46), match='R'>\n",
            "<re.Match object; span=(46, 47), match='S'>\n",
            "<re.Match object; span=(47, 48), match='T'>\n",
            "<re.Match object; span=(48, 49), match='U'>\n",
            "<re.Match object; span=(49, 50), match='V'>\n",
            "<re.Match object; span=(50, 51), match='W'>\n",
            "<re.Match object; span=(51, 52), match='X'>\n",
            "<re.Match object; span=(52, 53), match='Y'>\n",
            "<re.Match object; span=(53, 54), match='Z'>\n",
            "<re.Match object; span=(55, 56), match='1'>\n",
            "<re.Match object; span=(56, 57), match='2'>\n",
            "<re.Match object; span=(57, 58), match='3'>\n",
            "<re.Match object; span=(58, 59), match='4'>\n",
            "<re.Match object; span=(59, 60), match='5'>\n",
            "<re.Match object; span=(60, 61), match='6'>\n",
            "<re.Match object; span=(61, 62), match='7'>\n",
            "<re.Match object; span=(62, 63), match='8'>\n",
            "<re.Match object; span=(63, 64), match='9'>\n",
            "<re.Match object; span=(64, 65), match='0'>\n",
            "<re.Match object; span=(66, 67), match='H'>\n",
            "<re.Match object; span=(67, 68), match='a'>\n",
            "<re.Match object; span=(68, 69), match=' '>\n",
            "<re.Match object; span=(69, 70), match='H'>\n",
            "<re.Match object; span=(70, 71), match='a'>\n",
            "<re.Match object; span=(71, 72), match='H'>\n",
            "<re.Match object; span=(72, 73), match='a'>\n",
            "<re.Match object; span=(74, 75), match='M'>\n",
            "<re.Match object; span=(75, 76), match='e'>\n",
            "<re.Match object; span=(76, 77), match='t'>\n",
            "<re.Match object; span=(77, 78), match='a'>\n",
            "<re.Match object; span=(78, 79), match='C'>\n",
            "<re.Match object; span=(79, 80), match='h'>\n",
            "<re.Match object; span=(80, 81), match='a'>\n",
            "<re.Match object; span=(81, 82), match='r'>\n",
            "<re.Match object; span=(82, 83), match='a'>\n",
            "<re.Match object; span=(83, 84), match='c'>\n",
            "<re.Match object; span=(84, 85), match='t'>\n",
            "<re.Match object; span=(85, 86), match='e'>\n",
            "<re.Match object; span=(86, 87), match='r'>\n",
            "<re.Match object; span=(87, 88), match='s'>\n",
            "<re.Match object; span=(88, 89), match=' '>\n",
            "<re.Match object; span=(89, 90), match='('>\n",
            "<re.Match object; span=(90, 91), match='N'>\n",
            "<re.Match object; span=(91, 92), match='e'>\n",
            "<re.Match object; span=(92, 93), match='e'>\n",
            "<re.Match object; span=(93, 94), match='d'>\n",
            "<re.Match object; span=(94, 95), match=' '>\n",
            "<re.Match object; span=(95, 96), match='t'>\n",
            "<re.Match object; span=(96, 97), match='o'>\n",
            "<re.Match object; span=(97, 98), match=' '>\n",
            "<re.Match object; span=(98, 99), match='b'>\n",
            "<re.Match object; span=(99, 100), match='e'>\n",
            "<re.Match object; span=(100, 101), match=' '>\n",
            "<re.Match object; span=(101, 102), match='e'>\n",
            "<re.Match object; span=(102, 103), match='s'>\n",
            "<re.Match object; span=(103, 104), match='c'>\n",
            "<re.Match object; span=(104, 105), match='a'>\n",
            "<re.Match object; span=(105, 106), match='p'>\n",
            "<re.Match object; span=(106, 107), match='e'>\n",
            "<re.Match object; span=(107, 108), match='d'>\n",
            "<re.Match object; span=(108, 109), match=')'>\n",
            "<re.Match object; span=(109, 110), match=':'>\n",
            "<re.Match object; span=(111, 112), match='.'>\n",
            "<re.Match object; span=(112, 113), match=' '>\n",
            "<re.Match object; span=(113, 114), match='^'>\n",
            "<re.Match object; span=(114, 115), match=' '>\n",
            "<re.Match object; span=(115, 116), match='$'>\n",
            "<re.Match object; span=(116, 117), match=' '>\n",
            "<re.Match object; span=(117, 118), match='*'>\n",
            "<re.Match object; span=(118, 119), match=' '>\n",
            "<re.Match object; span=(119, 120), match='+'>\n",
            "<re.Match object; span=(120, 121), match=' '>\n",
            "<re.Match object; span=(121, 122), match='?'>\n",
            "<re.Match object; span=(122, 123), match=' '>\n",
            "<re.Match object; span=(123, 124), match='{'>\n",
            "<re.Match object; span=(124, 125), match=' '>\n",
            "<re.Match object; span=(125, 126), match='}'>\n",
            "<re.Match object; span=(126, 127), match=' '>\n",
            "<re.Match object; span=(127, 128), match='['>\n",
            "<re.Match object; span=(128, 129), match=' '>\n",
            "<re.Match object; span=(129, 130), match=']'>\n",
            "<re.Match object; span=(130, 131), match=' '>\n",
            "<re.Match object; span=(131, 132), match='\\\\'>\n",
            "<re.Match object; span=(132, 133), match=' '>\n",
            "<re.Match object; span=(133, 134), match='|'>\n",
            "<re.Match object; span=(134, 135), match=' '>\n",
            "<re.Match object; span=(135, 136), match='('>\n",
            "<re.Match object; span=(136, 137), match=' '>\n",
            "<re.Match object; span=(137, 138), match=')'>\n",
            "<re.Match object; span=(139, 140), match='c'>\n",
            "<re.Match object; span=(140, 141), match='o'>\n",
            "<re.Match object; span=(141, 142), match='r'>\n",
            "<re.Match object; span=(142, 143), match='e'>\n",
            "<re.Match object; span=(143, 144), match='y'>\n",
            "<re.Match object; span=(144, 145), match='m'>\n",
            "<re.Match object; span=(145, 146), match='s'>\n",
            "<re.Match object; span=(146, 147), match='.'>\n",
            "<re.Match object; span=(147, 148), match='c'>\n",
            "<re.Match object; span=(148, 149), match='o'>\n",
            "<re.Match object; span=(149, 150), match='m'>\n",
            "<re.Match object; span=(151, 152), match='3'>\n",
            "<re.Match object; span=(152, 153), match='2'>\n",
            "<re.Match object; span=(153, 154), match='1'>\n",
            "<re.Match object; span=(154, 155), match='-'>\n",
            "<re.Match object; span=(155, 156), match='5'>\n",
            "<re.Match object; span=(156, 157), match='5'>\n",
            "<re.Match object; span=(157, 158), match='5'>\n",
            "<re.Match object; span=(158, 159), match='-'>\n",
            "<re.Match object; span=(159, 160), match='4'>\n",
            "<re.Match object; span=(160, 161), match='3'>\n",
            "<re.Match object; span=(161, 162), match='2'>\n",
            "<re.Match object; span=(162, 163), match='1'>\n",
            "<re.Match object; span=(164, 165), match='1'>\n",
            "<re.Match object; span=(165, 166), match='2'>\n",
            "<re.Match object; span=(166, 167), match='3'>\n",
            "<re.Match object; span=(167, 168), match='.'>\n",
            "<re.Match object; span=(168, 169), match='5'>\n",
            "<re.Match object; span=(169, 170), match='5'>\n",
            "<re.Match object; span=(170, 171), match='5'>\n",
            "<re.Match object; span=(171, 172), match='.'>\n",
            "<re.Match object; span=(172, 173), match='1'>\n",
            "<re.Match object; span=(173, 174), match='2'>\n",
            "<re.Match object; span=(174, 175), match='3'>\n",
            "<re.Match object; span=(175, 176), match='4'>\n",
            "<re.Match object; span=(177, 178), match='1'>\n",
            "<re.Match object; span=(178, 179), match='2'>\n",
            "<re.Match object; span=(179, 180), match='3'>\n",
            "<re.Match object; span=(180, 181), match='*'>\n",
            "<re.Match object; span=(181, 182), match='5'>\n",
            "<re.Match object; span=(182, 183), match='5'>\n",
            "<re.Match object; span=(183, 184), match='5'>\n",
            "<re.Match object; span=(184, 185), match='*'>\n",
            "<re.Match object; span=(185, 186), match='1'>\n",
            "<re.Match object; span=(186, 187), match='2'>\n",
            "<re.Match object; span=(187, 188), match='3'>\n",
            "<re.Match object; span=(188, 189), match='4'>\n",
            "<re.Match object; span=(190, 191), match='8'>\n",
            "<re.Match object; span=(191, 192), match='0'>\n",
            "<re.Match object; span=(192, 193), match='0'>\n",
            "<re.Match object; span=(193, 194), match='-'>\n",
            "<re.Match object; span=(194, 195), match='5'>\n",
            "<re.Match object; span=(195, 196), match='5'>\n",
            "<re.Match object; span=(196, 197), match='5'>\n",
            "<re.Match object; span=(197, 198), match='-'>\n",
            "<re.Match object; span=(198, 199), match='1'>\n",
            "<re.Match object; span=(199, 200), match='2'>\n",
            "<re.Match object; span=(200, 201), match='3'>\n",
            "<re.Match object; span=(201, 202), match='4'>\n",
            "<re.Match object; span=(203, 204), match='9'>\n",
            "<re.Match object; span=(204, 205), match='0'>\n",
            "<re.Match object; span=(205, 206), match='0'>\n",
            "<re.Match object; span=(206, 207), match='-'>\n",
            "<re.Match object; span=(207, 208), match='5'>\n",
            "<re.Match object; span=(208, 209), match='5'>\n",
            "<re.Match object; span=(209, 210), match='5'>\n",
            "<re.Match object; span=(210, 211), match='-'>\n",
            "<re.Match object; span=(211, 212), match='1'>\n",
            "<re.Match object; span=(212, 213), match='2'>\n",
            "<re.Match object; span=(213, 214), match='3'>\n",
            "<re.Match object; span=(214, 215), match='4'>\n",
            "<re.Match object; span=(216, 217), match='M'>\n",
            "<re.Match object; span=(217, 218), match='r'>\n",
            "<re.Match object; span=(218, 219), match='.'>\n",
            "<re.Match object; span=(219, 220), match=' '>\n",
            "<re.Match object; span=(220, 221), match='S'>\n",
            "<re.Match object; span=(221, 222), match='c'>\n",
            "<re.Match object; span=(222, 223), match='h'>\n",
            "<re.Match object; span=(223, 224), match='a'>\n",
            "<re.Match object; span=(224, 225), match='f'>\n",
            "<re.Match object; span=(225, 226), match='e'>\n",
            "<re.Match object; span=(226, 227), match='r'>\n",
            "<re.Match object; span=(228, 229), match='M'>\n",
            "<re.Match object; span=(229, 230), match='r'>\n",
            "<re.Match object; span=(230, 231), match=' '>\n",
            "<re.Match object; span=(231, 232), match='S'>\n",
            "<re.Match object; span=(232, 233), match='m'>\n",
            "<re.Match object; span=(233, 234), match='i'>\n",
            "<re.Match object; span=(234, 235), match='t'>\n",
            "<re.Match object; span=(235, 236), match='h'>\n",
            "<re.Match object; span=(237, 238), match='M'>\n",
            "<re.Match object; span=(238, 239), match='s'>\n",
            "<re.Match object; span=(239, 240), match=' '>\n",
            "<re.Match object; span=(240, 241), match='D'>\n",
            "<re.Match object; span=(241, 242), match='a'>\n",
            "<re.Match object; span=(242, 243), match='v'>\n",
            "<re.Match object; span=(243, 244), match='i'>\n",
            "<re.Match object; span=(244, 245), match='s'>\n",
            "<re.Match object; span=(246, 247), match='M'>\n",
            "<re.Match object; span=(247, 248), match='r'>\n",
            "<re.Match object; span=(248, 249), match='s'>\n",
            "<re.Match object; span=(249, 250), match='.'>\n",
            "<re.Match object; span=(250, 251), match=' '>\n",
            "<re.Match object; span=(251, 252), match='R'>\n",
            "<re.Match object; span=(252, 253), match='o'>\n",
            "<re.Match object; span=(253, 254), match='b'>\n",
            "<re.Match object; span=(254, 255), match='i'>\n",
            "<re.Match object; span=(255, 256), match='n'>\n",
            "<re.Match object; span=(256, 257), match='s'>\n",
            "<re.Match object; span=(257, 258), match='o'>\n",
            "<re.Match object; span=(258, 259), match='n'>\n",
            "<re.Match object; span=(260, 261), match='M'>\n",
            "<re.Match object; span=(261, 262), match='r'>\n",
            "<re.Match object; span=(262, 263), match='.'>\n",
            "<re.Match object; span=(263, 264), match=' '>\n",
            "<re.Match object; span=(264, 265), match='T'>\n"
          ],
          "name": "stdout"
        }
      ]
    },
    {
      "cell_type": "code",
      "metadata": {
        "colab": {
          "base_uri": "https://localhost:8080/"
        },
        "id": "fqh6-7ixYbde",
        "outputId": "7bb59130-d48c-4068-8bb2-fbd8ab2e3ab4"
      },
      "source": [
        "patpat=re.compile(r'\\.')\n",
        "matchme= patpat.finditer(text_to_search)\n",
        "for m in matchme:\n",
        "  print(m)"
      ],
      "execution_count": 7,
      "outputs": [
        {
          "output_type": "stream",
          "text": [
            "<re.Match object; span=(111, 112), match='.'>\n",
            "<re.Match object; span=(146, 147), match='.'>\n",
            "<re.Match object; span=(167, 168), match='.'>\n",
            "<re.Match object; span=(171, 172), match='.'>\n",
            "<re.Match object; span=(218, 219), match='.'>\n",
            "<re.Match object; span=(249, 250), match='.'>\n",
            "<re.Match object; span=(262, 263), match='.'>\n"
          ],
          "name": "stdout"
        }
      ]
    },
    {
      "cell_type": "code",
      "metadata": {
        "colab": {
          "base_uri": "https://localhost:8080/"
        },
        "id": "-XB6hEvbY_Ne",
        "outputId": "312b3a16-05c0-4651-aa0e-8a40cba469ab"
      },
      "source": [
        "patpat=re.compile(r'\\s')\n",
        "matchme= patpat.finditer(text_to_search)\n",
        "for m in matchme:\n",
        "  print(m)"
      ],
      "execution_count": 8,
      "outputs": [
        {
          "output_type": "stream",
          "text": [
            "<re.Match object; span=(0, 1), match='\\n'>\n",
            "<re.Match object; span=(27, 28), match='\\n'>\n",
            "<re.Match object; span=(54, 55), match='\\n'>\n",
            "<re.Match object; span=(65, 66), match='\\n'>\n",
            "<re.Match object; span=(68, 69), match=' '>\n",
            "<re.Match object; span=(73, 74), match='\\n'>\n",
            "<re.Match object; span=(88, 89), match=' '>\n",
            "<re.Match object; span=(94, 95), match=' '>\n",
            "<re.Match object; span=(97, 98), match=' '>\n",
            "<re.Match object; span=(100, 101), match=' '>\n",
            "<re.Match object; span=(110, 111), match='\\n'>\n",
            "<re.Match object; span=(112, 113), match=' '>\n",
            "<re.Match object; span=(114, 115), match=' '>\n",
            "<re.Match object; span=(116, 117), match=' '>\n",
            "<re.Match object; span=(118, 119), match=' '>\n",
            "<re.Match object; span=(120, 121), match=' '>\n",
            "<re.Match object; span=(122, 123), match=' '>\n",
            "<re.Match object; span=(124, 125), match=' '>\n",
            "<re.Match object; span=(126, 127), match=' '>\n",
            "<re.Match object; span=(128, 129), match=' '>\n",
            "<re.Match object; span=(130, 131), match=' '>\n",
            "<re.Match object; span=(132, 133), match=' '>\n",
            "<re.Match object; span=(134, 135), match=' '>\n",
            "<re.Match object; span=(136, 137), match=' '>\n",
            "<re.Match object; span=(138, 139), match='\\n'>\n",
            "<re.Match object; span=(150, 151), match='\\n'>\n",
            "<re.Match object; span=(163, 164), match='\\n'>\n",
            "<re.Match object; span=(176, 177), match='\\n'>\n",
            "<re.Match object; span=(189, 190), match='\\n'>\n",
            "<re.Match object; span=(202, 203), match='\\n'>\n",
            "<re.Match object; span=(215, 216), match='\\n'>\n",
            "<re.Match object; span=(219, 220), match=' '>\n",
            "<re.Match object; span=(227, 228), match='\\n'>\n",
            "<re.Match object; span=(230, 231), match=' '>\n",
            "<re.Match object; span=(236, 237), match='\\n'>\n",
            "<re.Match object; span=(239, 240), match=' '>\n",
            "<re.Match object; span=(245, 246), match='\\n'>\n",
            "<re.Match object; span=(250, 251), match=' '>\n",
            "<re.Match object; span=(259, 260), match='\\n'>\n",
            "<re.Match object; span=(263, 264), match=' '>\n",
            "<re.Match object; span=(265, 266), match='\\n'>\n"
          ],
          "name": "stdout"
        }
      ]
    },
    {
      "cell_type": "code",
      "metadata": {
        "colab": {
          "base_uri": "https://localhost:8080/"
        },
        "id": "v5TJj4kQZA_2",
        "outputId": "ff4cf764-cb41-4f37-9625-57ff99f04644"
      },
      "source": [
        "patpat=re.compile(r'\\S')\n",
        "matchme= patpat.finditer(text_to_search)\n",
        "for m in matchme:\n",
        "  print(m)"
      ],
      "execution_count": 9,
      "outputs": [
        {
          "output_type": "stream",
          "text": [
            "<re.Match object; span=(1, 2), match='a'>\n",
            "<re.Match object; span=(2, 3), match='b'>\n",
            "<re.Match object; span=(3, 4), match='c'>\n",
            "<re.Match object; span=(4, 5), match='d'>\n",
            "<re.Match object; span=(5, 6), match='e'>\n",
            "<re.Match object; span=(6, 7), match='f'>\n",
            "<re.Match object; span=(7, 8), match='g'>\n",
            "<re.Match object; span=(8, 9), match='h'>\n",
            "<re.Match object; span=(9, 10), match='i'>\n",
            "<re.Match object; span=(10, 11), match='j'>\n",
            "<re.Match object; span=(11, 12), match='k'>\n",
            "<re.Match object; span=(12, 13), match='l'>\n",
            "<re.Match object; span=(13, 14), match='m'>\n",
            "<re.Match object; span=(14, 15), match='n'>\n",
            "<re.Match object; span=(15, 16), match='o'>\n",
            "<re.Match object; span=(16, 17), match='p'>\n",
            "<re.Match object; span=(17, 18), match='q'>\n",
            "<re.Match object; span=(18, 19), match='u'>\n",
            "<re.Match object; span=(19, 20), match='r'>\n",
            "<re.Match object; span=(20, 21), match='t'>\n",
            "<re.Match object; span=(21, 22), match='u'>\n",
            "<re.Match object; span=(22, 23), match='v'>\n",
            "<re.Match object; span=(23, 24), match='w'>\n",
            "<re.Match object; span=(24, 25), match='x'>\n",
            "<re.Match object; span=(25, 26), match='y'>\n",
            "<re.Match object; span=(26, 27), match='z'>\n",
            "<re.Match object; span=(28, 29), match='A'>\n",
            "<re.Match object; span=(29, 30), match='B'>\n",
            "<re.Match object; span=(30, 31), match='C'>\n",
            "<re.Match object; span=(31, 32), match='D'>\n",
            "<re.Match object; span=(32, 33), match='E'>\n",
            "<re.Match object; span=(33, 34), match='F'>\n",
            "<re.Match object; span=(34, 35), match='G'>\n",
            "<re.Match object; span=(35, 36), match='H'>\n",
            "<re.Match object; span=(36, 37), match='I'>\n",
            "<re.Match object; span=(37, 38), match='J'>\n",
            "<re.Match object; span=(38, 39), match='K'>\n",
            "<re.Match object; span=(39, 40), match='L'>\n",
            "<re.Match object; span=(40, 41), match='M'>\n",
            "<re.Match object; span=(41, 42), match='N'>\n",
            "<re.Match object; span=(42, 43), match='O'>\n",
            "<re.Match object; span=(43, 44), match='P'>\n",
            "<re.Match object; span=(44, 45), match='Q'>\n",
            "<re.Match object; span=(45, 46), match='R'>\n",
            "<re.Match object; span=(46, 47), match='S'>\n",
            "<re.Match object; span=(47, 48), match='T'>\n",
            "<re.Match object; span=(48, 49), match='U'>\n",
            "<re.Match object; span=(49, 50), match='V'>\n",
            "<re.Match object; span=(50, 51), match='W'>\n",
            "<re.Match object; span=(51, 52), match='X'>\n",
            "<re.Match object; span=(52, 53), match='Y'>\n",
            "<re.Match object; span=(53, 54), match='Z'>\n",
            "<re.Match object; span=(55, 56), match='1'>\n",
            "<re.Match object; span=(56, 57), match='2'>\n",
            "<re.Match object; span=(57, 58), match='3'>\n",
            "<re.Match object; span=(58, 59), match='4'>\n",
            "<re.Match object; span=(59, 60), match='5'>\n",
            "<re.Match object; span=(60, 61), match='6'>\n",
            "<re.Match object; span=(61, 62), match='7'>\n",
            "<re.Match object; span=(62, 63), match='8'>\n",
            "<re.Match object; span=(63, 64), match='9'>\n",
            "<re.Match object; span=(64, 65), match='0'>\n",
            "<re.Match object; span=(66, 67), match='H'>\n",
            "<re.Match object; span=(67, 68), match='a'>\n",
            "<re.Match object; span=(69, 70), match='H'>\n",
            "<re.Match object; span=(70, 71), match='a'>\n",
            "<re.Match object; span=(71, 72), match='H'>\n",
            "<re.Match object; span=(72, 73), match='a'>\n",
            "<re.Match object; span=(74, 75), match='M'>\n",
            "<re.Match object; span=(75, 76), match='e'>\n",
            "<re.Match object; span=(76, 77), match='t'>\n",
            "<re.Match object; span=(77, 78), match='a'>\n",
            "<re.Match object; span=(78, 79), match='C'>\n",
            "<re.Match object; span=(79, 80), match='h'>\n",
            "<re.Match object; span=(80, 81), match='a'>\n",
            "<re.Match object; span=(81, 82), match='r'>\n",
            "<re.Match object; span=(82, 83), match='a'>\n",
            "<re.Match object; span=(83, 84), match='c'>\n",
            "<re.Match object; span=(84, 85), match='t'>\n",
            "<re.Match object; span=(85, 86), match='e'>\n",
            "<re.Match object; span=(86, 87), match='r'>\n",
            "<re.Match object; span=(87, 88), match='s'>\n",
            "<re.Match object; span=(89, 90), match='('>\n",
            "<re.Match object; span=(90, 91), match='N'>\n",
            "<re.Match object; span=(91, 92), match='e'>\n",
            "<re.Match object; span=(92, 93), match='e'>\n",
            "<re.Match object; span=(93, 94), match='d'>\n",
            "<re.Match object; span=(95, 96), match='t'>\n",
            "<re.Match object; span=(96, 97), match='o'>\n",
            "<re.Match object; span=(98, 99), match='b'>\n",
            "<re.Match object; span=(99, 100), match='e'>\n",
            "<re.Match object; span=(101, 102), match='e'>\n",
            "<re.Match object; span=(102, 103), match='s'>\n",
            "<re.Match object; span=(103, 104), match='c'>\n",
            "<re.Match object; span=(104, 105), match='a'>\n",
            "<re.Match object; span=(105, 106), match='p'>\n",
            "<re.Match object; span=(106, 107), match='e'>\n",
            "<re.Match object; span=(107, 108), match='d'>\n",
            "<re.Match object; span=(108, 109), match=')'>\n",
            "<re.Match object; span=(109, 110), match=':'>\n",
            "<re.Match object; span=(111, 112), match='.'>\n",
            "<re.Match object; span=(113, 114), match='^'>\n",
            "<re.Match object; span=(115, 116), match='$'>\n",
            "<re.Match object; span=(117, 118), match='*'>\n",
            "<re.Match object; span=(119, 120), match='+'>\n",
            "<re.Match object; span=(121, 122), match='?'>\n",
            "<re.Match object; span=(123, 124), match='{'>\n",
            "<re.Match object; span=(125, 126), match='}'>\n",
            "<re.Match object; span=(127, 128), match='['>\n",
            "<re.Match object; span=(129, 130), match=']'>\n",
            "<re.Match object; span=(131, 132), match='\\\\'>\n",
            "<re.Match object; span=(133, 134), match='|'>\n",
            "<re.Match object; span=(135, 136), match='('>\n",
            "<re.Match object; span=(137, 138), match=')'>\n",
            "<re.Match object; span=(139, 140), match='c'>\n",
            "<re.Match object; span=(140, 141), match='o'>\n",
            "<re.Match object; span=(141, 142), match='r'>\n",
            "<re.Match object; span=(142, 143), match='e'>\n",
            "<re.Match object; span=(143, 144), match='y'>\n",
            "<re.Match object; span=(144, 145), match='m'>\n",
            "<re.Match object; span=(145, 146), match='s'>\n",
            "<re.Match object; span=(146, 147), match='.'>\n",
            "<re.Match object; span=(147, 148), match='c'>\n",
            "<re.Match object; span=(148, 149), match='o'>\n",
            "<re.Match object; span=(149, 150), match='m'>\n",
            "<re.Match object; span=(151, 152), match='3'>\n",
            "<re.Match object; span=(152, 153), match='2'>\n",
            "<re.Match object; span=(153, 154), match='1'>\n",
            "<re.Match object; span=(154, 155), match='-'>\n",
            "<re.Match object; span=(155, 156), match='5'>\n",
            "<re.Match object; span=(156, 157), match='5'>\n",
            "<re.Match object; span=(157, 158), match='5'>\n",
            "<re.Match object; span=(158, 159), match='-'>\n",
            "<re.Match object; span=(159, 160), match='4'>\n",
            "<re.Match object; span=(160, 161), match='3'>\n",
            "<re.Match object; span=(161, 162), match='2'>\n",
            "<re.Match object; span=(162, 163), match='1'>\n",
            "<re.Match object; span=(164, 165), match='1'>\n",
            "<re.Match object; span=(165, 166), match='2'>\n",
            "<re.Match object; span=(166, 167), match='3'>\n",
            "<re.Match object; span=(167, 168), match='.'>\n",
            "<re.Match object; span=(168, 169), match='5'>\n",
            "<re.Match object; span=(169, 170), match='5'>\n",
            "<re.Match object; span=(170, 171), match='5'>\n",
            "<re.Match object; span=(171, 172), match='.'>\n",
            "<re.Match object; span=(172, 173), match='1'>\n",
            "<re.Match object; span=(173, 174), match='2'>\n",
            "<re.Match object; span=(174, 175), match='3'>\n",
            "<re.Match object; span=(175, 176), match='4'>\n",
            "<re.Match object; span=(177, 178), match='1'>\n",
            "<re.Match object; span=(178, 179), match='2'>\n",
            "<re.Match object; span=(179, 180), match='3'>\n",
            "<re.Match object; span=(180, 181), match='*'>\n",
            "<re.Match object; span=(181, 182), match='5'>\n",
            "<re.Match object; span=(182, 183), match='5'>\n",
            "<re.Match object; span=(183, 184), match='5'>\n",
            "<re.Match object; span=(184, 185), match='*'>\n",
            "<re.Match object; span=(185, 186), match='1'>\n",
            "<re.Match object; span=(186, 187), match='2'>\n",
            "<re.Match object; span=(187, 188), match='3'>\n",
            "<re.Match object; span=(188, 189), match='4'>\n",
            "<re.Match object; span=(190, 191), match='8'>\n",
            "<re.Match object; span=(191, 192), match='0'>\n",
            "<re.Match object; span=(192, 193), match='0'>\n",
            "<re.Match object; span=(193, 194), match='-'>\n",
            "<re.Match object; span=(194, 195), match='5'>\n",
            "<re.Match object; span=(195, 196), match='5'>\n",
            "<re.Match object; span=(196, 197), match='5'>\n",
            "<re.Match object; span=(197, 198), match='-'>\n",
            "<re.Match object; span=(198, 199), match='1'>\n",
            "<re.Match object; span=(199, 200), match='2'>\n",
            "<re.Match object; span=(200, 201), match='3'>\n",
            "<re.Match object; span=(201, 202), match='4'>\n",
            "<re.Match object; span=(203, 204), match='9'>\n",
            "<re.Match object; span=(204, 205), match='0'>\n",
            "<re.Match object; span=(205, 206), match='0'>\n",
            "<re.Match object; span=(206, 207), match='-'>\n",
            "<re.Match object; span=(207, 208), match='5'>\n",
            "<re.Match object; span=(208, 209), match='5'>\n",
            "<re.Match object; span=(209, 210), match='5'>\n",
            "<re.Match object; span=(210, 211), match='-'>\n",
            "<re.Match object; span=(211, 212), match='1'>\n",
            "<re.Match object; span=(212, 213), match='2'>\n",
            "<re.Match object; span=(213, 214), match='3'>\n",
            "<re.Match object; span=(214, 215), match='4'>\n",
            "<re.Match object; span=(216, 217), match='M'>\n",
            "<re.Match object; span=(217, 218), match='r'>\n",
            "<re.Match object; span=(218, 219), match='.'>\n",
            "<re.Match object; span=(220, 221), match='S'>\n",
            "<re.Match object; span=(221, 222), match='c'>\n",
            "<re.Match object; span=(222, 223), match='h'>\n",
            "<re.Match object; span=(223, 224), match='a'>\n",
            "<re.Match object; span=(224, 225), match='f'>\n",
            "<re.Match object; span=(225, 226), match='e'>\n",
            "<re.Match object; span=(226, 227), match='r'>\n",
            "<re.Match object; span=(228, 229), match='M'>\n",
            "<re.Match object; span=(229, 230), match='r'>\n",
            "<re.Match object; span=(231, 232), match='S'>\n",
            "<re.Match object; span=(232, 233), match='m'>\n",
            "<re.Match object; span=(233, 234), match='i'>\n",
            "<re.Match object; span=(234, 235), match='t'>\n",
            "<re.Match object; span=(235, 236), match='h'>\n",
            "<re.Match object; span=(237, 238), match='M'>\n",
            "<re.Match object; span=(238, 239), match='s'>\n",
            "<re.Match object; span=(240, 241), match='D'>\n",
            "<re.Match object; span=(241, 242), match='a'>\n",
            "<re.Match object; span=(242, 243), match='v'>\n",
            "<re.Match object; span=(243, 244), match='i'>\n",
            "<re.Match object; span=(244, 245), match='s'>\n",
            "<re.Match object; span=(246, 247), match='M'>\n",
            "<re.Match object; span=(247, 248), match='r'>\n",
            "<re.Match object; span=(248, 249), match='s'>\n",
            "<re.Match object; span=(249, 250), match='.'>\n",
            "<re.Match object; span=(251, 252), match='R'>\n",
            "<re.Match object; span=(252, 253), match='o'>\n",
            "<re.Match object; span=(253, 254), match='b'>\n",
            "<re.Match object; span=(254, 255), match='i'>\n",
            "<re.Match object; span=(255, 256), match='n'>\n",
            "<re.Match object; span=(256, 257), match='s'>\n",
            "<re.Match object; span=(257, 258), match='o'>\n",
            "<re.Match object; span=(258, 259), match='n'>\n",
            "<re.Match object; span=(260, 261), match='M'>\n",
            "<re.Match object; span=(261, 262), match='r'>\n",
            "<re.Match object; span=(262, 263), match='.'>\n",
            "<re.Match object; span=(264, 265), match='T'>\n"
          ],
          "name": "stdout"
        }
      ]
    },
    {
      "cell_type": "code",
      "metadata": {
        "colab": {
          "base_uri": "https://localhost:8080/"
        },
        "id": "Lr3B-vtHZEsS",
        "outputId": "8bee197f-87af-4690-e7c5-64e20929cd25"
      },
      "source": [
        "import re\n",
        "\n",
        "\n",
        "txt = 'The women in red is coming here tonight'\n",
        "x = re.sub(\"\\s\", \"-\", txt)\n",
        "print(x)\n",
        "\n",
        "findi = re.compile(r'^T\\w+\\s\\S+')\n",
        "matv = findi.finditer(txt)\n",
        "for ma in matv:\n",
        "  print(ma)"
      ],
      "execution_count": 10,
      "outputs": [
        {
          "output_type": "stream",
          "text": [
            "The-women-in-red-is-coming-here-tonight\n",
            "<re.Match object; span=(0, 9), match='The women'>\n"
          ],
          "name": "stdout"
        }
      ]
    },
    {
      "cell_type": "code",
      "metadata": {
        "colab": {
          "base_uri": "https://localhost:8080/"
        },
        "id": "MxTJ0ldJZRYJ",
        "outputId": "da012018-461b-4990-9c43-3cc3b6f4c2ad"
      },
      "source": [
        "import re\n",
        "\n",
        "\n",
        "txt = 'The she women in red is coming here tonight'\n",
        "x = re.sub(\"\\s\", \"-\", txt)\n",
        "print(x)\n",
        "\n",
        "findi = re.compile(r'[^T]\\W')\n",
        "matv = findi.finditer(txt)\n",
        "for ma in matv:\n",
        "  print(ma)"
      ],
      "execution_count": 11,
      "outputs": [
        {
          "output_type": "stream",
          "text": [
            "The-she-women-in-red-is-coming-here-tonight\n",
            "<re.Match object; span=(2, 4), match='e '>\n",
            "<re.Match object; span=(6, 8), match='e '>\n",
            "<re.Match object; span=(12, 14), match='n '>\n",
            "<re.Match object; span=(15, 17), match='n '>\n",
            "<re.Match object; span=(19, 21), match='d '>\n",
            "<re.Match object; span=(22, 24), match='s '>\n",
            "<re.Match object; span=(29, 31), match='g '>\n",
            "<re.Match object; span=(34, 36), match='e '>\n"
          ],
          "name": "stdout"
        }
      ]
    },
    {
      "cell_type": "code",
      "metadata": {
        "colab": {
          "base_uri": "https://localhost:8080/"
        },
        "id": "wxPcmYe1gOqV",
        "outputId": "cb27b9ad-7f6f-432c-ebf9-65924428ede2"
      },
      "source": [
        "import re\n",
        "\n",
        "txt = \"The she women in red is coming here tonight\"\n",
        "x = re.sub(\"\\s\", \"_\", txt, 2)\n",
        "print(x)"
      ],
      "execution_count": 12,
      "outputs": [
        {
          "output_type": "stream",
          "text": [
            "The_she_women in red is coming here tonight\n"
          ],
          "name": "stdout"
        }
      ]
    },
    {
      "cell_type": "code",
      "metadata": {
        "colab": {
          "base_uri": "https://localhost:8080/"
        },
        "id": "8p8fzhZoiCMK",
        "outputId": "39607697-e0f1-4045-d70b-dca0054a48b1"
      },
      "source": [
        "import re\n",
        "\n",
        "txt = \"The she women in red is coming here tonight\"\n",
        "x = re.search(\"women\", txt)\n",
        "print(x) "
      ],
      "execution_count": 13,
      "outputs": [
        {
          "output_type": "stream",
          "text": [
            "<re.Match object; span=(8, 13), match='women'>\n"
          ],
          "name": "stdout"
        }
      ]
    },
    {
      "cell_type": "code",
      "metadata": {
        "id": "lNFmOpcViYPl"
      },
      "source": [
        ""
      ],
      "execution_count": 13,
      "outputs": []
    },
    {
      "cell_type": "code",
      "metadata": {
        "colab": {
          "base_uri": "https://localhost:8080/"
        },
        "id": "sR1h6zVJiQDA",
        "outputId": "6c38954e-cdea-44cf-ee97-94def290f304"
      },
      "source": [
        "print(txt[8:13]) #span=(8, 13)"
      ],
      "execution_count": 14,
      "outputs": [
        {
          "output_type": "stream",
          "text": [
            "women\n"
          ],
          "name": "stdout"
        }
      ]
    },
    {
      "cell_type": "code",
      "metadata": {
        "colab": {
          "base_uri": "https://localhost:8080/"
        },
        "id": "pIuA2EHuiaVx",
        "outputId": "7c72ca07-fe43-4f2d-83ef-ecdaa2daa9f6"
      },
      "source": [
        "import re\n",
        "\n",
        "txt = \"The she women in red is coming here tonight\"\n",
        "x = re.search(r\"\\bs\\w?\", txt)\n",
        "print(x.span())"
      ],
      "execution_count": 15,
      "outputs": [
        {
          "output_type": "stream",
          "text": [
            "(4, 6)\n"
          ],
          "name": "stdout"
        }
      ]
    },
    {
      "cell_type": "code",
      "metadata": {
        "colab": {
          "base_uri": "https://localhost:8080/"
        },
        "id": "ez1L0NbcilSm",
        "outputId": "3a895dd3-e0f4-445b-fe2a-6b0401a49d29"
      },
      "source": [
        "import re\n",
        "\n",
        "txt = \"The she women in red is coming here tonight\"\n",
        "x = re.search(r'\\bw\\w+', txt)\n",
        "print(x.string)"
      ],
      "execution_count": 16,
      "outputs": [
        {
          "output_type": "stream",
          "text": [
            "The she women in red is coming here tonight\n"
          ],
          "name": "stdout"
        }
      ]
    },
    {
      "cell_type": "code",
      "metadata": {
        "colab": {
          "base_uri": "https://localhost:8080/"
        },
        "id": "YVKRGNOviyZE",
        "outputId": "df82adac-faa6-470f-c1b0-c5c38177057f"
      },
      "source": [
        "import re\n",
        "\n",
        "txt = \"The she women in red is coming here tonight\"\n",
        "x = re.search(r\"\\bt\\w+\", txt)\n",
        "print(x.group())"
      ],
      "execution_count": 17,
      "outputs": [
        {
          "output_type": "stream",
          "text": [
            "tonight\n"
          ],
          "name": "stdout"
        }
      ]
    },
    {
      "cell_type": "code",
      "metadata": {
        "colab": {
          "base_uri": "https://localhost:8080/"
        },
        "id": "HcIAbhIEjFJ5",
        "outputId": "7468c2dd-aad3-48f6-c5d9-915a1aa45df0"
      },
      "source": [
        "import re\n",
        "\n",
        "pattern = '^a...s$'\n",
        "test_string = 'abyss'\n",
        "result = re.match(pattern, test_string)\n",
        "\n",
        "if result:\n",
        "  print(\"Search successful.\")\n",
        "else:\n",
        "  print(\"Search unsuccessful.\")\t"
      ],
      "execution_count": 18,
      "outputs": [
        {
          "output_type": "stream",
          "text": [
            "Search successful.\n"
          ],
          "name": "stdout"
        }
      ]
    },
    {
      "cell_type": "code",
      "metadata": {
        "colab": {
          "base_uri": "https://localhost:8080/"
        },
        "id": "2fEUmR9Vjoys",
        "outputId": "d83ebad4-b652-483a-d481-b11bb064a4b6"
      },
      "source": [
        "import re\n",
        "\n",
        "line = \"Cats are smarter, cleverer than dogs\"\n",
        "\n",
        "patterns = re.match( r'(.*) are (.*?) .*', line, re.M|re.I)\n",
        "\n",
        "if patterns:\n",
        "   print (\"patterns.group() : \", patterns.group())\n",
        "   print (\"patterns.group(1) : \", patterns.group(1))\n",
        "   print (\"patterns.group(2) : \", patterns.group(2))\n",
        "\n",
        "else:\n",
        "   print (\"No match!!\")"
      ],
      "execution_count": 20,
      "outputs": [
        {
          "output_type": "stream",
          "text": [
            "patterns.group() :  Cats are smarter, cleverer than dogs\n",
            "patterns.group(1) :  Cats\n",
            "patterns.group(2) :  smarter,\n"
          ],
          "name": "stdout"
        }
      ]
    },
    {
      "cell_type": "code",
      "metadata": {
        "colab": {
          "base_uri": "https://localhost:8080/",
          "height": 35
        },
        "id": "ipNp4RJij7Hb",
        "outputId": "95108af0-b3e7-4d6c-f70a-18980d2d4a85"
      },
      "source": [
        "re.search(r'cake$', \"Cake! Let's eat cake\").group()"
      ],
      "execution_count": 21,
      "outputs": [
        {
          "output_type": "execute_result",
          "data": {
            "application/vnd.google.colaboratory.intrinsic+json": {
              "type": "string"
            },
            "text/plain": [
              "'cake'"
            ]
          },
          "metadata": {
            "tags": []
          },
          "execution_count": 21
        }
      ]
    },
    {
      "cell_type": "code",
      "metadata": {
        "colab": {
          "base_uri": "https://localhost:8080/",
          "height": 35
        },
        "id": "_lsrX5H8eCwX",
        "outputId": "d0cbd970-b51e-4cdb-9bfb-698c6cb21f2a"
      },
      "source": [
        "re.search(r'[0-6]', 'Number: 5').group()"
      ],
      "execution_count": 22,
      "outputs": [
        {
          "output_type": "execute_result",
          "data": {
            "application/vnd.google.colaboratory.intrinsic+json": {
              "type": "string"
            },
            "text/plain": [
              "'5'"
            ]
          },
          "metadata": {
            "tags": []
          },
          "execution_count": 22
        }
      ]
    },
    {
      "cell_type": "code",
      "metadata": {
        "colab": {
          "base_uri": "https://localhost:8080/",
          "height": 35
        },
        "id": "_lE80jQ9eLy6",
        "outputId": "3e867989-5a32-41f9-932d-39ba8bfd52a3"
      },
      "source": [
        "re.search(r'Number: [^5]', 'Number: 0').group()"
      ],
      "execution_count": 23,
      "outputs": [
        {
          "output_type": "execute_result",
          "data": {
            "application/vnd.google.colaboratory.intrinsic+json": {
              "type": "string"
            },
            "text/plain": [
              "'Number: 0'"
            ]
          },
          "metadata": {
            "tags": []
          },
          "execution_count": 23
        }
      ]
    },
    {
      "cell_type": "code",
      "metadata": {
        "colab": {
          "base_uri": "https://localhost:8080/"
        },
        "id": "Gf30PomNeQiF",
        "outputId": "8197aaa1-6929-4a9e-8c0e-9a817808f6dc"
      },
      "source": [
        "print(\"Lowercase w:\", re.search(r'Co\\wk\\we', 'Cookie').group())"
      ],
      "execution_count": 24,
      "outputs": [
        {
          "output_type": "stream",
          "text": [
            "Lowercase w: Cookie\n"
          ],
          "name": "stdout"
        }
      ]
    },
    {
      "cell_type": "code",
      "metadata": {
        "colab": {
          "base_uri": "https://localhost:8080/"
        },
        "id": "5hE_tB9DegPD",
        "outputId": "dbc1663a-ca3a-4a48-d1a0-5e9ab990b792"
      },
      "source": [
        "## Matches any character except single letter, digit or underscore\n",
        "print(\"Uppercase W:\", re.search(r'C\\Wke', 'C@ke').group())"
      ],
      "execution_count": 25,
      "outputs": [
        {
          "output_type": "stream",
          "text": [
            "Uppercase W: C@ke\n"
          ],
          "name": "stdout"
        }
      ]
    },
    {
      "cell_type": "code",
      "metadata": {
        "colab": {
          "base_uri": "https://localhost:8080/"
        },
        "id": "gdrESsPEehqc",
        "outputId": "5f2123cd-80d8-468d-ad4e-71de9e6a341e"
      },
      "source": [
        "## Uppercase W won't match single letter, digit\n",
        "print(\"Uppercase W won't match, and return:\", re.search(r'Co\\Wk\\We', 'Cookie'))"
      ],
      "execution_count": 27,
      "outputs": [
        {
          "output_type": "stream",
          "text": [
            "Uppercase W won't match, and return: None\n"
          ],
          "name": "stdout"
        }
      ]
    },
    {
      "cell_type": "markdown",
      "metadata": {
        "id": "SQBZ11I4erB1"
      },
      "source": [
        "RULES\n",
        "<br>\n",
        "\\t - Lowercase t. Matches tab.<br>\n",
        "\\n - Lowercase n. Matches newline.<br>\n",
        "\\r - Lowercase r. Matches return.<br>\n",
        "\\A - Uppercase a. Matches only at the start of the string. Works across multiple lines as well.<br>\n",
        "\\Z - Uppercase z. Matches only at the end of the string.<br>\n",
        "\n",
        "<br><br>\n",
        "{x} - Repeat exactly x number of times.<br>\n",
        "{x,} - Repeat at least x times or more.<br>\n",
        "{x, y} - Repeat at least x times but no more than y times.<br>"
      ]
    },
    {
      "cell_type": "code",
      "metadata": {
        "colab": {
          "base_uri": "https://localhost:8080/",
          "height": 35
        },
        "id": "ZE3XvnsbeiJN",
        "outputId": "4584e43c-91b0-4dd4-808a-8a0fa14b18f8"
      },
      "source": [
        "re.search(r'\\d{1,5}', '1234567890').group()"
      ],
      "execution_count": 33,
      "outputs": [
        {
          "output_type": "execute_result",
          "data": {
            "application/vnd.google.colaboratory.intrinsic+json": {
              "type": "string"
            },
            "text/plain": [
              "'12345'"
            ]
          },
          "metadata": {
            "tags": []
          },
          "execution_count": 33
        }
      ]
    },
    {
      "cell_type": "code",
      "metadata": {
        "colab": {
          "base_uri": "https://localhost:8080/"
        },
        "id": "5tBwXh0ffR4M",
        "outputId": "aab79e1c-eb08-47a9-9feb-934a3105c1b8"
      },
      "source": [
        "statement = 'Please contact us at: abc@mail.com'\n",
        "match = re.search(r'([\\w\\.-]+)@([\\w\\.-]+)', statement)\n",
        "if statement:\n",
        "  print(\"Email address:\", match.group()) \n",
        "  print(\"Username:\", match.group(1)) \n",
        "  print(\"Host:\", match.group(2)) "
      ],
      "execution_count": 34,
      "outputs": [
        {
          "output_type": "stream",
          "text": [
            "Email address: abc@mail.com\n",
            "Username: abc\n",
            "Host: mail.com\n"
          ],
          "name": "stdout"
        }
      ]
    },
    {
      "cell_type": "code",
      "metadata": {
        "colab": {
          "base_uri": "https://localhost:8080/"
        },
        "id": "8uQ5E8T5fn7A",
        "outputId": "eb306fac-a104-4608-8bd4-77ea0e2fe9a6"
      },
      "source": [
        "match = re.search(r'(?P<email>(?P<username>[\\w\\.-]+)@(?P<host>[\\w\\.-]+))', statement)\n",
        "if statement:\n",
        "  print(\"Email address:\", match.group('email'))\n",
        "  print(\"Username:\", match.group('username'))\n",
        "  print(\"Host:\", match.group('host'))"
      ],
      "execution_count": 35,
      "outputs": [
        {
          "output_type": "stream",
          "text": [
            "Email address: abc@mail.com\n",
            "Username: abc\n",
            "Host: mail.com\n"
          ],
          "name": "stdout"
        }
      ]
    },
    {
      "cell_type": "code",
      "metadata": {
        "id": "_cElnY3WgBBI"
      },
      "source": [
        ""
      ],
      "execution_count": null,
      "outputs": []
    }
  ]
}