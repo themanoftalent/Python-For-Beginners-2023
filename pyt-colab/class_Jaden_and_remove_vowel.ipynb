{
  "nbformat": 4,
  "nbformat_minor": 0,
  "metadata": {
    "colab": {
      "name": "class Jaden and remove vowel",
      "provenance": [],
      "authorship_tag": "ABX9TyOkLlDMmCWpqvPVBxvVfENA",
      "include_colab_link": true
    },
    "kernelspec": {
      "name": "python3",
      "display_name": "Python 3"
    },
    "language_info": {
      "name": "python"
    }
  },
  "cells": [
    {
      "cell_type": "markdown",
      "metadata": {
        "id": "view-in-github",
        "colab_type": "text"
      },
      "source": [
        "<a href=\"https://colab.research.google.com/github/themanoftalent/pyt-colab/blob/master/class_Jaden_and_remove_vowel.ipynb\" target=\"_parent\"><img src=\"https://colab.research.google.com/assets/colab-badge.svg\" alt=\"Open In Colab\"/></a>"
      ]
    },
    {
      "cell_type": "code",
      "metadata": {
        "colab": {
          "base_uri": "https://localhost:8080/"
        },
        "id": "fIJbtHlm2zGx",
        "outputId": "98869d96-bc88-4cb5-acab-cc78b4595e7f"
      },
      "source": [
        "import re\n",
        "import string\n",
        "class Allinone:\n",
        "    \n",
        "    def __init__(self,s,word):\n",
        "        self.s = s\n",
        "        self.word = word\n",
        "        \n",
        "    \n",
        "    def removeWovel(self):\n",
        "        \n",
        "        return re.sub('[aeiou]', '', self.s, flags=re.IGNORECASE)\n",
        "    \n",
        "    \n",
        "    def toJadenCase(self):\n",
        "        # self.word = word\n",
        "        return string.capwords(self.word)\n",
        "\n",
        "\n",
        "a1 = Allinone('lol,mean,seen,heen,dean,bean',' ')\n",
        "a2 = Allinone('','This is a man of honor who lives in a house')\n",
        "\n",
        "\n",
        "\n",
        "print(a1.removeWovel())\n",
        "print('')\n",
        "print(a2.toJadenCase())"
      ],
      "execution_count": 2,
      "outputs": [
        {
          "output_type": "stream",
          "text": [
            "ll,mn,sn,hn,dn,bn\n",
            "\n",
            "This Is A Man Of Honor Who Lives In A House\n"
          ],
          "name": "stdout"
        }
      ]
    },
    {
      "cell_type": "code",
      "metadata": {
        "colab": {
          "base_uri": "https://localhost:8080/"
        },
        "id": "PvIc6Oa8255O",
        "outputId": "a24c5ffd-a179-4023-dbba-22f7807ba00a"
      },
      "source": [
        "def factorial(n):\n",
        "\n",
        "  if n <=1:\n",
        "    return 1\n",
        "  else:\n",
        "    return n* factorial (n-1)\n",
        "\n",
        "\n",
        "    \n",
        "\n",
        "veri = int(input(' Enter a number to ='))\n",
        "factorial(veri)"
      ],
      "execution_count": 7,
      "outputs": [
        {
          "output_type": "stream",
          "text": [
            " Enter a number to =5\n"
          ],
          "name": "stdout"
        },
        {
          "output_type": "execute_result",
          "data": {
            "text/plain": [
              "120"
            ]
          },
          "metadata": {
            "tags": []
          },
          "execution_count": 7
        }
      ]
    },
    {
      "cell_type": "code",
      "metadata": {
        "colab": {
          "base_uri": "https://localhost:8080/"
        },
        "id": "EK8pjT663M4q",
        "outputId": "d3eba34e-f6e0-4568-b8c4-f4e2f50247f6"
      },
      "source": [
        "class Fact:\n",
        "\n",
        "  def __init__(self,n):\n",
        "    self.n= n\n",
        "    \n",
        "    \n",
        "  def factorial(self):\n",
        "    \n",
        "    if self.n <=1:\n",
        "      return 1\n",
        "    else:\n",
        "      return self.n* factorial (self.n-1)\n",
        "\n",
        "\n",
        "\n",
        "f1= Fact(5)  \n",
        "print(f1.factorial())\n",
        "\n",
        "f2= Fact(6)  \n",
        "print(f2.factorial())\n",
        "\n",
        "f3= Fact(7)  \n",
        "print(f3.factorial())"
      ],
      "execution_count": 12,
      "outputs": [
        {
          "output_type": "stream",
          "text": [
            "120\n",
            "720\n",
            "5040\n"
          ],
          "name": "stdout"
        }
      ]
    },
    {
      "cell_type": "code",
      "metadata": {
        "id": "_B0KBjaN33Gf"
      },
      "source": [
        ""
      ],
      "execution_count": null,
      "outputs": []
    }
  ]
}