{
  "nbformat": 4,
  "nbformat_minor": 0,
  "metadata": {
    "colab": {
      "name": "Binary Numbersipynb",
      "provenance": [],
      "collapsed_sections": [],
      "authorship_tag": "ABX9TyNRZ6BbfCu5/C2J3iUIMHeV",
      "include_colab_link": true
    },
    "kernelspec": {
      "name": "python3",
      "display_name": "Python 3"
    },
    "language_info": {
      "name": "python"
    }
  },
  "cells": [
    {
      "cell_type": "markdown",
      "metadata": {
        "id": "view-in-github",
        "colab_type": "text"
      },
      "source": [
        "<a href=\"https://colab.research.google.com/github/themanoftalent/pyt-colab/blob/master/Binary_Numbersipynb.ipynb\" target=\"_parent\"><img src=\"https://colab.research.google.com/assets/colab-badge.svg\" alt=\"Open In Colab\"/></a>"
      ]
    },
    {
      "cell_type": "code",
      "metadata": {
        "id": "sxsLntUvJS5Y",
        "colab": {
          "base_uri": "https://localhost:8080/"
        },
        "outputId": "7ee6e5c9-b203-44ce-b726-dc6d23a9e60e"
      },
      "source": [
        "num = int(input())\n",
        "\n",
        "result = 0\n",
        "maximum = 0\n",
        "\n",
        "while num > 0:\n",
        "    if num % 2 == 1:\n",
        "        result += 1\n",
        "        if result > maximum:\n",
        "            maximum = result\n",
        "    else:\n",
        "        result = 0\n",
        "        \n",
        "    num = num // 2\n",
        "\n",
        "print(maximum)"
      ],
      "execution_count": 24,
      "outputs": [
        {
          "output_type": "stream",
          "text": [
            "45\n",
            "2\n"
          ],
          "name": "stdout"
        }
      ]
    },
    {
      "cell_type": "code",
      "metadata": {
        "id": "mwRpfPQQXA9J"
      },
      "source": [
        ""
      ],
      "execution_count": 25,
      "outputs": []
    },
    {
      "cell_type": "code",
      "metadata": {
        "id": "ujwUkLL6B95D"
      },
      "source": [
        ""
      ],
      "execution_count": 20,
      "outputs": []
    }
  ]
}