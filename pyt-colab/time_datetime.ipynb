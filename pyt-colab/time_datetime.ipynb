{
  "nbformat": 4,
  "nbformat_minor": 0,
  "metadata": {
    "colab": {
      "name": "time_datetime.ipynb",
      "provenance": [],
      "authorship_tag": "ABX9TyPVpzqMHOhHzn0i47TrMEsz",
      "include_colab_link": true
    },
    "kernelspec": {
      "name": "python3",
      "display_name": "Python 3"
    },
    "language_info": {
      "name": "python"
    }
  },
  "cells": [
    {
      "cell_type": "markdown",
      "metadata": {
        "id": "view-in-github",
        "colab_type": "text"
      },
      "source": [
        "<a href=\"https://colab.research.google.com/github/themanoftalent/pyt-colab/blob/master/time_datetime.ipynb\" target=\"_parent\"><img src=\"https://colab.research.google.com/assets/colab-badge.svg\" alt=\"Open In Colab\"/></a>"
      ]
    },
    {
      "cell_type": "code",
      "metadata": {
        "id": "Oh0IIacbbxbA"
      },
      "source": [
        "from time import time, ctime"
      ],
      "execution_count": 1,
      "outputs": []
    },
    {
      "cell_type": "code",
      "metadata": {
        "colab": {
          "base_uri": "https://localhost:8080/"
        },
        "id": "Y5bgwUYTb4Ht",
        "outputId": "04948989-aa3f-4f5d-b69d-1e7002016dff"
      },
      "source": [
        "t=time()\n",
        "a=ctime(t)\n",
        "print(a)"
      ],
      "execution_count": 3,
      "outputs": [
        {
          "output_type": "stream",
          "text": [
            "Wed May  5 21:29:54 2021\n"
          ],
          "name": "stdout"
        }
      ]
    },
    {
      "cell_type": "code",
      "metadata": {
        "id": "vGkQbPRRb7Kg"
      },
      "source": [
        ""
      ],
      "execution_count": 7,
      "outputs": []
    },
    {
      "cell_type": "code",
      "metadata": {
        "colab": {
          "base_uri": "https://localhost:8080/"
        },
        "id": "PXsB0_yNcRZE",
        "outputId": "51fb2c35-26e2-4268-b706-75a5ac9bf6c8"
      },
      "source": [
        "from datetime import datetime, timedelta,date\n",
        "now = datetime.now()\n",
        "hrago = now - timedelta(hours=1)\n",
        "yesterday = now - timedelta(days=1)\n",
        "tomorrow = now + timedelta(days=1)\n",
        "dayafter = now + timedelta(days=2)\n",
        "\n",
        "\n",
        "print ((now))              \n",
        "print ((hrago))  \n",
        "print ((yesterday)) \n",
        "print ((tomorrow))\n",
        "print(dayafter)   "
      ],
      "execution_count": 25,
      "outputs": [
        {
          "output_type": "stream",
          "text": [
            "2021-05-05 21:36:48.697723\n",
            "2021-05-05 20:36:48.697723\n",
            "2021-05-04 21:36:48.697723\n",
            "2021-05-06 21:36:48.697723\n",
            "2021-05-07 21:36:48.697723\n"
          ],
          "name": "stdout"
        }
      ]
    },
    {
      "cell_type": "code",
      "metadata": {
        "id": "J9ff9jQxcjj7"
      },
      "source": [
        ""
      ],
      "execution_count": null,
      "outputs": []
    }
  ]
}