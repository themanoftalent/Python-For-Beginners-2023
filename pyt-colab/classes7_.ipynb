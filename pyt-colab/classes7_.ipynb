{
  "nbformat": 4,
  "nbformat_minor": 0,
  "metadata": {
    "colab": {
      "name": "classes7 .ipynb",
      "provenance": [],
      "collapsed_sections": [],
      "authorship_tag": "ABX9TyMPVEwhz9GOkWROHKDGMFdM",
      "include_colab_link": true
    },
    "kernelspec": {
      "name": "python3",
      "display_name": "Python 3"
    },
    "language_info": {
      "name": "python"
    }
  },
  "cells": [
    {
      "cell_type": "markdown",
      "metadata": {
        "id": "view-in-github",
        "colab_type": "text"
      },
      "source": [
        "<a href=\"https://colab.research.google.com/github/themanoftalent/pyt-colab/blob/master/classes7_.ipynb\" target=\"_parent\"><img src=\"https://colab.research.google.com/assets/colab-badge.svg\" alt=\"Open In Colab\"/></a>"
      ]
    },
    {
      "cell_type": "code",
      "metadata": {
        "id": "66HNNeQxcaIb",
        "colab": {
          "base_uri": "https://localhost:8080/"
        },
        "outputId": "e02c2c3d-89e1-4427-af0d-cbc8be7e19a2"
      },
      "source": [
        "class Employee:\n",
        "    def __init__(self,name,surname,payment):\n",
        "        self.name=name\n",
        "        self.surname=surname\n",
        "        self.payment = payment\n",
        "    \n",
        "\n",
        "    def showFullname(self):\n",
        "        return self.name,self.surname\n",
        "    \n",
        "emp_1= Employee(\"Ahmet\",\"Cankaya\",3562)\n",
        "print(emp_1.showFullname())"
      ],
      "execution_count": 2,
      "outputs": [
        {
          "output_type": "stream",
          "text": [
            "('Ahmet', 'Cankaya')\n"
          ],
          "name": "stdout"
        }
      ]
    },
    {
      "cell_type": "code",
      "metadata": {
        "id": "sxsLntUvJS5Y"
      },
      "source": [
        ""
      ],
      "execution_count": null,
      "outputs": []
    }
  ]
}