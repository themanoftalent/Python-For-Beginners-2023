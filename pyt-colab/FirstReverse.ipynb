{
  "nbformat": 4,
  "nbformat_minor": 0,
  "metadata": {
    "colab": {
      "name": "tokenlestirme.ipynb",
      "provenance": [],
      "collapsed_sections": [],
      "authorship_tag": "ABX9TyPtaCmwKd7Le01FvYl4tzGW",
      "include_colab_link": true
    },
    "kernelspec": {
      "name": "python3",
      "display_name": "Python 3"
    },
    "language_info": {
      "name": "python"
    }
  },
  "cells": [
    {
      "cell_type": "markdown",
      "metadata": {
        "id": "view-in-github",
        "colab_type": "text"
      },
      "source": [
        "<a href=\"https://colab.research.google.com/github/themanoftalent/pyt-colab/blob/master/FirstReverse.ipynb\" target=\"_parent\"><img src=\"https://colab.research.google.com/assets/colab-badge.svg\" alt=\"Open In Colab\"/></a>"
      ]
    },
    {
      "cell_type": "markdown",
      "metadata": {
        "id": "AKIJohv8ot7e"
      },
      "source": [
        "First Reverse"
      ]
    },
    {
      "cell_type": "code",
      "metadata": {
        "colab": {
          "base_uri": "https://localhost:8080/",
          "height": 35
        },
        "id": "ErBTH0A9g_tW",
        "outputId": "19305548-8fe8-4c2f-fbe8-c42e2a1bc1f1"
      },
      "source": [
        "def FirstReverse(strParam):\n",
        "  reverse_string= ''\n",
        "  for word in strParam:\n",
        "    reverse_string = word + reverse_string #once word geliyor daha sonra skt ters geliyor \n",
        "  return reverse_string\n",
        "\n",
        "FirstReverse('hey')"
      ],
      "execution_count": 71,
      "outputs": [
        {
          "output_type": "execute_result",
          "data": {
            "application/vnd.google.colaboratory.intrinsic+json": {
              "type": "string"
            },
            "text/plain": [
              "'yeh'"
            ]
          },
          "metadata": {
            "tags": []
          },
          "execution_count": 71
        }
      ]
    },
    {
      "cell_type": "markdown",
      "metadata": {
        "id": "PlWBY36-oqzw"
      },
      "source": [
        "FirstFactorial"
      ]
    },
    {
      "cell_type": "code",
      "metadata": {
        "colab": {
          "base_uri": "https://localhost:8080/"
        },
        "id": "enHXF1eyg-Vz",
        "outputId": "adbf94ce-af62-4533-9549-5af175e4f2e8"
      },
      "source": [
        "def FirstFactorial(num):\n",
        "\n",
        "  if num <= 1:\n",
        "    return 1\n",
        "  else:\n",
        "    return num * FirstFactorial (num -1) \n",
        "  return num\n",
        "  \n",
        "\n",
        "# keep this function call here \n",
        "print(FirstFactorial(int(input())))"
      ],
      "execution_count": 10,
      "outputs": [
        {
          "output_type": "stream",
          "text": [
            "4\n",
            "24\n"
          ],
          "name": "stdout"
        }
      ]
    }
  ]
}