{
  "nbformat": 4,
  "nbformat_minor": 0,
  "metadata": {
    "colab": {
      "name": "turkish_mnist_basic.ipynb",
      "provenance": [],
      "collapsed_sections": [],
      "include_colab_link": true
    },
    "kernelspec": {
      "name": "python3",
      "display_name": "Python 3"
    },
    "accelerator": "GPU"
  },
  "cells": [
    {
      "cell_type": "markdown",
      "metadata": {
        "id": "view-in-github",
        "colab_type": "text"
      },
      "source": [
        "<a href=\"https://colab.research.google.com/github/themanoftalent/pyt-colab/blob/master/turkish_mnist_basic.ipynb\" target=\"_parent\"><img src=\"https://colab.research.google.com/assets/colab-badge.svg\" alt=\"Open In Colab\"/></a>"
      ]
    },
    {
      "cell_type": "markdown",
      "metadata": {
        "id": "plZRPPXjdhia",
        "colab_type": "text"
      },
      "source": [
        "import işlemleri ile başlıyoruz\n"
      ]
    },
    {
      "cell_type": "code",
      "metadata": {
        "id": "zI40sC1edUpT",
        "colab_type": "code",
        "colab": {}
      },
      "source": [
        "import tensorflow as tf\n",
        "from tensorflow.examples.tutorials.mnist import input_data\n"
      ],
      "execution_count": 0,
      "outputs": []
    },
    {
      "cell_type": "code",
      "metadata": {
        "id": "lzy-fs0rd4VR",
        "colab_type": "code",
        "outputId": "8ee6a087-9e94-48b2-d4fd-25de32895ed0",
        "colab": {
          "base_uri": "https://localhost:8080/",
          "height": 84
        }
      },
      "source": [
        "#mnist'i bir değişkene atayalım\n",
        "mnist = input_data.read_data_sets(\"data/MNIST/\",one_hot=True)\n",
        "#read_data_sets = 2 değişken girdik. dir ve one hot = 8 = [0,0,0,0,0,0,0,0,1,0]"
      ],
      "execution_count": 0,
      "outputs": [
        {
          "output_type": "stream",
          "text": [
            "Extracting data/MNIST/train-images-idx3-ubyte.gz\n",
            "Extracting data/MNIST/train-labels-idx1-ubyte.gz\n",
            "Extracting data/MNIST/t10k-images-idx3-ubyte.gz\n",
            "Extracting data/MNIST/t10k-labels-idx1-ubyte.gz\n"
          ],
          "name": "stdout"
        }
      ]
    },
    {
      "cell_type": "code",
      "metadata": {
        "id": "vi3PC5OeeudW",
        "colab_type": "code",
        "colab": {}
      },
      "source": [
        "#placeholder = yertutucu. \n",
        "# x = input\n",
        "# y_true = test\n",
        "x = tf.placeholder(tf.float32,[None,784])\n",
        "y_true = tf.placeholder(tf.float32,[None,10]) # None resim sayısının istediğini tutmasını sağlar"
      ],
      "execution_count": 0,
      "outputs": []
    },
    {
      "cell_type": "markdown",
      "metadata": {
        "id": "pBB70fqRgUxw",
        "colab_type": "text"
      },
      "source": [
        "y = x*w + b\n",
        "x = input ( tanımladık )\n",
        "w = weight\n",
        "b = bias \n",
        "Weight ve bias eğitim esnasında optimize edilecek parametrelerdir.\n",
        "\n"
      ]
    },
    {
      "cell_type": "code",
      "metadata": {
        "id": "pLShn8Gygw4W",
        "colab_type": "code",
        "colab": {}
      },
      "source": [
        "w = tf.Variable(tf.zeros([784,10])) # Eğitilecek parametreleri tf.Variable() ile tanımlarız\n",
        "# w 'nin boyutuna [784, 10] verdik. Çünkü x*w yapacağız\n",
        "# x 'in boyutu [None,784] yani bir matris\n",
        "# Matrislerde çarpma işlemi yapmak için ilk matrisin sutun sayısı ile ikinci matrisin satur sayısı eşit olmalı\n",
        "# Bu yüzden satır sayısını 784 verdik. MNIST'in her resmi 784\n",
        "# modelimiz 10 farklı tahmin yapabilir"
      ],
      "execution_count": 0,
      "outputs": []
    },
    {
      "cell_type": "markdown",
      "metadata": {
        "id": "y2Q9rbKyhvnw",
        "colab_type": "text"
      },
      "source": [
        "\n",
        "*   x = [500,784] verdik diyelim\n",
        "*   w = [784, 10] olsun\n",
        "*   x*w = [500,10] yani 500 resim için ayrı ayrı 10 elemanlı tahminlerimiz olacak\n",
        "*   Her resim 10 elemanlı çünkü 10 tane nöronumuz var\n",
        "*   Biz burada tek layer'lı bir network oluşturuyoruz.\n",
        "*   Bu layer'da 10 tane nöron olacak ve bu nöronlar resmin sınıfını tahmin edecek\n",
        "* Bu matrisin içindeki her eleman şimdilik 0. Eğitim içinde bu değişerek isabet artırılacak\n",
        "* Yani 500 eleman için 500 tane 10 elemanlı tahmin \n",
        "* Şimdi bias'ı tanımlayalım \n",
        "\n",
        "\n",
        "\n",
        "\n"
      ]
    },
    {
      "cell_type": "code",
      "metadata": {
        "id": "sl8ipJ2riEh3",
        "colab_type": "code",
        "colab": {}
      },
      "source": [
        "#Bias'ta W gibi eğitim esnasında optimize edilecek\n",
        "b = tf.Variable(tf.zeros([10]))\n",
        "#10 elemanımız olduğu için 10 veriyoruz.\n",
        "# Bias'ımız artık 10 elemanlı bir vektör"
      ],
      "execution_count": 0,
      "outputs": []
    },
    {
      "cell_type": "markdown",
      "metadata": {
        "id": "DqDrlkW_jmaO",
        "colab_type": "text"
      },
      "source": [
        "x*w + b = [500,10] + [10]\n",
        "Python'da matris ile vektör toplanıyorsa matristeki tüm elemanlar için vektör toplama işlemi gerçekleştiriliyor\n",
        "500 satırımız var ve hepsi 10 elemanlı\n",
        "toplama işlemi sonucu 500 elemanın hepsi 10 elemanlı bu vektör ile toplanmış olacak\n",
        "**500 örnektir**\n"
      ]
    },
    {
      "cell_type": "code",
      "metadata": {
        "id": "h76GEVkwkGtp",
        "colab_type": "code",
        "colab": {}
      },
      "source": [
        "#Bu işleme genelde logits denir\n",
        "#matrisler toplamı tf.matmul ile yapılır\n",
        "logits = tf.matmul(x,w) + b"
      ],
      "execution_count": 0,
      "outputs": []
    },
    {
      "cell_type": "markdown",
      "metadata": {
        "id": "BYzQE5TBksXS",
        "colab_type": "text"
      },
      "source": [
        "Tekrar hatırlayalım. Burada x input yani MNIST resimleri. Bu matrisin içerisinde MNIST gorsellerinin renk değerleri var. \n",
        "w ve b ise modelimizin optimize edeceği parametrelerden oluşuyor. Başlangıçta bu parametreleri zeros fonksiyonu ile tanımladığımız için hepsi sıfır. Eğitim esnasında modelimiz bu parametreleri güncelleyerek daha isabetli tahminler yapacak. \n",
        "Eğitim dediğimiz de bu zaten.\n",
        "Eğitim esnasında w ve b güncellenerek, modelimiz öğretmek istediğimiz şeyi öğrenecek. \n",
        "\n",
        "Bu gelen logits değerini Softmax Aktivasyon Fonksiyonundan geçirerek 0 ile 1 arasına sıkıştıracağız.\n",
        "\n",
        "Her resim için 10 uzunluğunda vektörümüz var ve bu vektörün elemanları içerisinde en büyük değer hangi elemanda ise ona göre gelen resmin hangi sınıfa ait olduğunu tahmin edecek.\n"
      ]
    },
    {
      "cell_type": "code",
      "metadata": {
        "id": "BYT03fMZm27j",
        "colab_type": "code",
        "colab": {}
      },
      "source": [
        "y = tf.nn.softmax(logits=logits)\n",
        "# softmax ile nörondaki değerleri sıkıştırıyoruz ve değerlerin toplamı bir'e eşit oluyor"
      ],
      "execution_count": 0,
      "outputs": []
    },
    {
      "cell_type": "code",
      "metadata": {
        "id": "GEOoBlTOnKKG",
        "colab_type": "code",
        "colab": {}
      },
      "source": [
        "#loss fonsiyonu ile modelimizin tahmini ne kadar doğru hesaplarız \n",
        "xent = tf.nn.softmax_cross_entropy_with_logits(logits = logits , labels=y_true)\n",
        "# bu fonksiyon kendi softmax fonksiyonunu uyguladığı için logits'i ilk hali ile verdik \n",
        "# 2. değer olarak ise gerçek değerlerimizi verdik \n",
        "loss = tf.reduce_mean(xent) #xent'teki her değerin ortalamasını alıp loss'a atıyoruz"
      ],
      "execution_count": 0,
      "outputs": []
    },
    {
      "cell_type": "markdown",
      "metadata": {
        "id": "-ZrXPIR_pxze",
        "colab_type": "text"
      },
      "source": [
        "Bize kolaylık olması açısından modelimiz ne kadar isabetli çalışıyor onu hesaplayalım : Hesaplamamızı daha sonra yazdıracağız. İsabeti hesaplamak için önce modelimizin tahminleri ile gerçek değerleri karşılaştırıp tahminin doğru mu yoksa yanlış mı olduğunu bir değişkende saklicaz daha sonra tüm doğru ve yanlışların ortalamasını aldığımızda modelimiz ne kadar başarılı göreceğiz.\n",
        "Bu doğrı ve yanlışları correct_prediction isimli bir değişkende saklayacağız."
      ]
    },
    {
      "cell_type": "code",
      "metadata": {
        "id": "k3py9STupPWx",
        "colab_type": "code",
        "colab": {}
      },
      "source": [
        "correct_prediction = tf.equal(tf.argmax(y,1),tf.argmax(y_true,1)) # argmax en büyüğün kaçta olduğunu dönderir\n",
        "# Tahmin edilen ve doğru olan değer karşılaştırılacak ve True veya false bir değer döndürülecek\n",
        "#correct_prediction'ın ortalamasını aldığımız zaman modelimiz yüzde kaç oranında resimleri tahmin edebiliyor göreceğiz.\n",
        "accuracy = tf.reduce_mean(tf.cast(correct_prediction,tf.float32)) # boolean'ı floata çevirme"
      ],
      "execution_count": 0,
      "outputs": []
    },
    {
      "cell_type": "code",
      "metadata": {
        "id": "xlfE3Cmsrre-",
        "colab_type": "code",
        "colab": {}
      },
      "source": [
        "optimize = tf.train.GradientDescentOptimizer(0.5).minimize(loss) # learning rate'i 0.5 aldık"
      ],
      "execution_count": 0,
      "outputs": []
    },
    {
      "cell_type": "code",
      "metadata": {
        "id": "HGRc3pjdsJF1",
        "colab_type": "code",
        "colab": {}
      },
      "source": [
        "sess = tf.Session()\n",
        "sess.run(tf.global_variables_initializer())\n"
      ],
      "execution_count": 0,
      "outputs": []
    },
    {
      "cell_type": "code",
      "metadata": {
        "id": "vCavhjSZsZ98",
        "colab_type": "code",
        "colab": {}
      },
      "source": [
        "batch_size = 128 # Eğitim için döngü oluşturduğunuz zaman MNIST resimlerinden her döngüde 128 tane alıp eğiteceğiz."
      ],
      "execution_count": 0,
      "outputs": []
    },
    {
      "cell_type": "code",
      "metadata": {
        "id": "bdcGMuqssnxc",
        "colab_type": "code",
        "colab": {}
      },
      "source": [
        "def training_step(iterations):\n",
        "  for i in range(iterations):\n",
        "    x_batch, y_batch = mnist.train.next_batch(batch_size=batch_size)\n",
        "    feed_dict_train = {x: x_batch,y_true: y_batch}\n",
        "    sess.run(optimize, feed_dict=feed_dict_train)\n",
        "    "
      ],
      "execution_count": 0,
      "outputs": []
    },
    {
      "cell_type": "code",
      "metadata": {
        "id": "ZlLC1xZrwTt0",
        "colab_type": "code",
        "colab": {}
      },
      "source": [
        "def test_accuracy():\n",
        "  feed_dict_test = {x: mnist.test.images,y_true : mnist.test.labels}\n",
        "  acc = sess.run(accuracy, feed_dict = feed_dict_test)\n",
        "  print(\"Testing accuracy: \",acc)\n"
      ],
      "execution_count": 0,
      "outputs": []
    },
    {
      "cell_type": "code",
      "metadata": {
        "id": "Sh1h7G69wzOJ",
        "colab_type": "code",
        "outputId": "677a0ca6-c469-48fc-9a6d-1c9151cb3e49",
        "colab": {
          "base_uri": "https://localhost:8080/",
          "height": 34
        }
      },
      "source": [
        "training_step(2000)\n",
        "test_accuracy()"
      ],
      "execution_count": 0,
      "outputs": [
        {
          "output_type": "stream",
          "text": [
            "Testing accuracy:  0.9236\n"
          ],
          "name": "stdout"
        }
      ]
    },
    {
      "cell_type": "code",
      "metadata": {
        "id": "GFp3mF1aw6q6",
        "colab_type": "code",
        "colab": {}
      },
      "source": [
        ""
      ],
      "execution_count": 0,
      "outputs": []
    }
  ]
}