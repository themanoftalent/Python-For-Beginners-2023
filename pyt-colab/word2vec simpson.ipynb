{
  "nbformat": 4,
  "nbformat_minor": 0,
  "metadata": {
    "colab": {
      "name": "tokenlestirme.ipynb",
      "provenance": [],
      "collapsed_sections": [],
      "authorship_tag": "ABX9TyNAdD85urOl+VcTjkt33eJm",
      "include_colab_link": true
    },
    "kernelspec": {
      "name": "python3",
      "display_name": "Python 3"
    },
    "language_info": {
      "name": "python"
    }
  },
  "cells": [
    {
      "cell_type": "markdown",
      "metadata": {
        "id": "view-in-github",
        "colab_type": "text"
      },
      "source": [
        "<a href=\"https://colab.research.google.com/github/themanoftalent/pyt-colab/blob/master/word2vec%20simpson.ipynb\" target=\"_parent\"><img src=\"https://colab.research.google.com/assets/colab-badge.svg\" alt=\"Open In Colab\"/></a>"
      ]
    },
    {
      "cell_type": "code",
      "metadata": {
        "id": "k7MX-UdhUmj3"
      },
      "source": [
        "# !pip install nltk\n",
        "# !pip install gensim"
      ],
      "execution_count": null,
      "outputs": []
    },
    {
      "cell_type": "code",
      "metadata": {
        "id": "uY1V3GIkWOa3"
      },
      "source": [
        "import re  # For preprocessing\n",
        "import pandas as pd  # For data handling\n",
        "from time import time  # To time our operations\n",
        "from collections import defaultdict  # For word frequency\n",
        "\n",
        "import spacy  # For preprocessing\n",
        "\n",
        "import logging  # Setting up the loggings to monitor gensim\n",
        "logging.basicConfig(format=\"%(levelname)s - %(asctime)s: %(message)s\", datefmt= '%H:%M:%S', level=logging.INFO)"
      ],
      "execution_count": 30,
      "outputs": []
    },
    {
      "cell_type": "code",
      "metadata": {
        "colab": {
          "base_uri": "https://localhost:8080/"
        },
        "id": "vnAyPGBbWOy5",
        "outputId": "892c3cb5-fa1a-4cb4-9080-1343fc780043"
      },
      "source": [
        "ls"
      ],
      "execution_count": 31,
      "outputs": [
        {
          "output_type": "stream",
          "text": [
            "data  \u001b[0m\u001b[01;34msample_data\u001b[0m/  simpsons_characters.csv\n"
          ],
          "name": "stdout"
        }
      ]
    },
    {
      "cell_type": "code",
      "metadata": {
        "id": "zNtqJulXWW5x"
      },
      "source": [
        "df = pd.read_csv('/content/simpsons_characters.csv')"
      ],
      "execution_count": 32,
      "outputs": []
    },
    {
      "cell_type": "code",
      "metadata": {
        "colab": {
          "base_uri": "https://localhost:8080/",
          "height": 204
        },
        "id": "sbHU-OqWWefd",
        "outputId": "f1cc39bb-d152-4b65-dc89-d2a57cda294c"
      },
      "source": [
        "df.head()"
      ],
      "execution_count": 33,
      "outputs": [
        {
          "output_type": "execute_result",
          "data": {
            "text/html": [
              "<div>\n",
              "<style scoped>\n",
              "    .dataframe tbody tr th:only-of-type {\n",
              "        vertical-align: middle;\n",
              "    }\n",
              "\n",
              "    .dataframe tbody tr th {\n",
              "        vertical-align: top;\n",
              "    }\n",
              "\n",
              "    .dataframe thead th {\n",
              "        text-align: right;\n",
              "    }\n",
              "</style>\n",
              "<table border=\"1\" class=\"dataframe\">\n",
              "  <thead>\n",
              "    <tr style=\"text-align: right;\">\n",
              "      <th></th>\n",
              "      <th>id</th>\n",
              "      <th>name</th>\n",
              "      <th>normalized_name</th>\n",
              "      <th>gender</th>\n",
              "    </tr>\n",
              "  </thead>\n",
              "  <tbody>\n",
              "    <tr>\n",
              "      <th>0</th>\n",
              "      <td>7</td>\n",
              "      <td>Children</td>\n",
              "      <td>children</td>\n",
              "      <td>NaN</td>\n",
              "    </tr>\n",
              "    <tr>\n",
              "      <th>1</th>\n",
              "      <td>12</td>\n",
              "      <td>Mechanical Santa</td>\n",
              "      <td>mechanical santa</td>\n",
              "      <td>NaN</td>\n",
              "    </tr>\n",
              "    <tr>\n",
              "      <th>2</th>\n",
              "      <td>13</td>\n",
              "      <td>Tattoo Man</td>\n",
              "      <td>tattoo man</td>\n",
              "      <td>NaN</td>\n",
              "    </tr>\n",
              "    <tr>\n",
              "      <th>3</th>\n",
              "      <td>16</td>\n",
              "      <td>DOCTOR ZITSOFSKY</td>\n",
              "      <td>doctor zitsofsky</td>\n",
              "      <td>NaN</td>\n",
              "    </tr>\n",
              "    <tr>\n",
              "      <th>4</th>\n",
              "      <td>20</td>\n",
              "      <td>Students</td>\n",
              "      <td>students</td>\n",
              "      <td>NaN</td>\n",
              "    </tr>\n",
              "  </tbody>\n",
              "</table>\n",
              "</div>"
            ],
            "text/plain": [
              "   id              name   normalized_name gender\n",
              "0   7          Children          children    NaN\n",
              "1  12  Mechanical Santa  mechanical santa    NaN\n",
              "2  13        Tattoo Man        tattoo man    NaN\n",
              "3  16  DOCTOR ZITSOFSKY  doctor zitsofsky    NaN\n",
              "4  20          Students          students    NaN"
            ]
          },
          "metadata": {
            "tags": []
          },
          "execution_count": 33
        }
      ]
    },
    {
      "cell_type": "code",
      "metadata": {
        "colab": {
          "base_uri": "https://localhost:8080/"
        },
        "id": "YydEy9pBWfud",
        "outputId": "2bb0d4e7-eb3a-4bac-e11b-8759b7fa5bc9"
      },
      "source": [
        "df.shape"
      ],
      "execution_count": 34,
      "outputs": [
        {
          "output_type": "execute_result",
          "data": {
            "text/plain": [
              "(6722, 4)"
            ]
          },
          "metadata": {
            "tags": []
          },
          "execution_count": 34
        }
      ]
    },
    {
      "cell_type": "code",
      "metadata": {
        "colab": {
          "base_uri": "https://localhost:8080/"
        },
        "id": "ev--lBPRWkBz",
        "outputId": "38cf8382-f6be-4358-8d26-abfb6dfc3b5e"
      },
      "source": [
        "df.size"
      ],
      "execution_count": 35,
      "outputs": [
        {
          "output_type": "execute_result",
          "data": {
            "text/plain": [
              "26888"
            ]
          },
          "metadata": {
            "tags": []
          },
          "execution_count": 35
        }
      ]
    },
    {
      "cell_type": "code",
      "metadata": {
        "colab": {
          "base_uri": "https://localhost:8080/"
        },
        "id": "J9zrgrIaWk7M",
        "outputId": "ec483cc4-4f84-4ab9-c536-7bf600cee07c"
      },
      "source": [
        "df.isnull().sum()"
      ],
      "execution_count": 37,
      "outputs": [
        {
          "output_type": "execute_result",
          "data": {
            "text/plain": [
              "id                    0\n",
              "name                  0\n",
              "normalized_name       0\n",
              "gender             6399\n",
              "dtype: int64"
            ]
          },
          "metadata": {
            "tags": []
          },
          "execution_count": 37
        }
      ]
    },
    {
      "cell_type": "code",
      "metadata": {
        "colab": {
          "base_uri": "https://localhost:8080/"
        },
        "id": "FlIjM-ZJWoJq",
        "outputId": "0512db8c-99fd-4d3a-847d-a95b13d86507"
      },
      "source": [
        "df = df.dropna().reset_index(drop=True)\n",
        "df.isnull().sum()"
      ],
      "execution_count": 38,
      "outputs": [
        {
          "output_type": "stream",
          "text": [
            "INFO - 06:54:18: NumExpr defaulting to 2 threads.\n"
          ],
          "name": "stderr"
        },
        {
          "output_type": "execute_result",
          "data": {
            "text/plain": [
              "id                 0\n",
              "name               0\n",
              "normalized_name    0\n",
              "gender             0\n",
              "dtype: int64"
            ]
          },
          "metadata": {
            "tags": []
          },
          "execution_count": 38
        }
      ]
    },
    {
      "cell_type": "code",
      "metadata": {
        "colab": {
          "base_uri": "https://localhost:8080/"
        },
        "id": "HlT60dh4WtMh",
        "outputId": "07ad28f8-bc5f-4429-877d-b4ffd714bbb1"
      },
      "source": [
        "df.isnull().any()"
      ],
      "execution_count": 39,
      "outputs": [
        {
          "output_type": "execute_result",
          "data": {
            "text/plain": [
              "id                 False\n",
              "name               False\n",
              "normalized_name    False\n",
              "gender             False\n",
              "dtype: bool"
            ]
          },
          "metadata": {
            "tags": []
          },
          "execution_count": 39
        }
      ]
    },
    {
      "cell_type": "code",
      "metadata": {
        "id": "1sGkuAdkWvhp"
      },
      "source": [
        "#ayri yap\n",
        "with open('/content/simpsons_characters.csv','r',encoding='utf-8') as f:\n",
        "  text=f.read()"
      ],
      "execution_count": 40,
      "outputs": []
    },
    {
      "cell_type": "code",
      "metadata": {
        "id": "HbQC7-NSXIrt"
      },
      "source": [
        "t_list = text.split('\\n')"
      ],
      "execution_count": 41,
      "outputs": []
    },
    {
      "cell_type": "code",
      "metadata": {
        "id": "V_DawN9CXNMD"
      },
      "source": [
        "corpus = [ ] \n",
        "for sent in t_list:\n",
        "  corpus.append(sent.split())"
      ],
      "execution_count": 43,
      "outputs": []
    },
    {
      "cell_type": "code",
      "metadata": {
        "colab": {
          "base_uri": "https://localhost:8080/"
        },
        "id": "jXnw6yPuXOFC",
        "outputId": "230c1f33-97a9-4b9d-a8f8-cd979f5d1065"
      },
      "source": [
        "corpus[:10]"
      ],
      "execution_count": 47,
      "outputs": [
        {
          "output_type": "execute_result",
          "data": {
            "text/plain": [
              "[['id,name,normalized_name,gender'],\n",
              " ['7,Children,children,'],\n",
              " ['12,Mechanical', 'Santa,mechanical', 'santa,'],\n",
              " ['13,Tattoo', 'Man,tattoo', 'man,'],\n",
              " ['16,DOCTOR', 'ZITSOFSKY,doctor', 'zitsofsky,'],\n",
              " ['20,Students,students,'],\n",
              " ['24,Little', 'Boy,little', 'boy,'],\n",
              " ['26,Lewis', 'Clark,lewis', 'clark,'],\n",
              " ['27,Little', 'Girl,little', 'girl,'],\n",
              " ['29,Bubbles,bubbles,']]"
            ]
          },
          "metadata": {
            "tags": []
          },
          "execution_count": 47
        }
      ]
    },
    {
      "cell_type": "code",
      "metadata": {
        "id": "FWTYGJlTXndN"
      },
      "source": [
        "from gensim.models import Word2Vec"
      ],
      "execution_count": 50,
      "outputs": []
    },
    {
      "cell_type": "code",
      "metadata": {
        "id": "gUSJvnSFXzV0"
      },
      "source": [
        "from sklearn.manifold import TSNE"
      ],
      "execution_count": 51,
      "outputs": []
    },
    {
      "cell_type": "code",
      "metadata": {
        "colab": {
          "base_uri": "https://localhost:8080/"
        },
        "id": "9jx6z01hXeCZ",
        "outputId": "d009995a-29eb-4025-f612-87dc63662964"
      },
      "source": [
        "model = Word2Vec(corpus, size=100, window=5, min_count=5);"
      ],
      "execution_count": 58,
      "outputs": [
        {
          "output_type": "stream",
          "text": [
            "INFO - 07:02:15: collecting all words and their counts\n",
            "INFO - 07:02:15: PROGRESS: at sentence #0, processed 0 words, keeping 0 word types\n",
            "INFO - 07:02:15: collected 14705 word types from a corpus of 19117 raw words and 6724 sentences\n",
            "INFO - 07:02:15: Loading a fresh vocabulary\n",
            "INFO - 07:02:15: effective_min_count=5 retains 220 unique words (1% of original 14705, drops 14485)\n",
            "INFO - 07:02:15: effective_min_count=5 leaves 3497 word corpus (18% of original 19117, drops 15620)\n",
            "INFO - 07:02:15: deleting the raw counts dictionary of 14705 items\n",
            "INFO - 07:02:15: sample=0.001 downsamples 100 most-common words\n",
            "INFO - 07:02:15: downsampling leaves estimated 2021 word corpus (57.8% of prior 3497)\n",
            "INFO - 07:02:15: estimated required memory for 220 words and 100 dimensions: 286000 bytes\n",
            "INFO - 07:02:15: resetting layer weights\n",
            "INFO - 07:02:15: training model with 3 workers on 220 vocabulary and 100 features, using sg=0 hs=0 sample=0.001 negative=5 window=5\n",
            "INFO - 07:02:15: worker thread finished; awaiting finish of 2 more threads\n",
            "INFO - 07:02:15: worker thread finished; awaiting finish of 1 more threads\n",
            "INFO - 07:02:15: worker thread finished; awaiting finish of 0 more threads\n",
            "INFO - 07:02:15: EPOCH - 1 : training on 19117 raw words (2022 effective words) took 0.0s, 151042 effective words/s\n",
            "INFO - 07:02:15: worker thread finished; awaiting finish of 2 more threads\n",
            "INFO - 07:02:15: worker thread finished; awaiting finish of 1 more threads\n",
            "INFO - 07:02:15: worker thread finished; awaiting finish of 0 more threads\n",
            "INFO - 07:02:15: EPOCH - 2 : training on 19117 raw words (1967 effective words) took 0.0s, 201549 effective words/s\n",
            "INFO - 07:02:15: worker thread finished; awaiting finish of 2 more threads\n",
            "INFO - 07:02:15: worker thread finished; awaiting finish of 1 more threads\n",
            "INFO - 07:02:15: worker thread finished; awaiting finish of 0 more threads\n",
            "INFO - 07:02:15: EPOCH - 3 : training on 19117 raw words (2006 effective words) took 0.0s, 170469 effective words/s\n",
            "INFO - 07:02:15: worker thread finished; awaiting finish of 2 more threads\n",
            "INFO - 07:02:15: worker thread finished; awaiting finish of 1 more threads\n",
            "INFO - 07:02:15: worker thread finished; awaiting finish of 0 more threads\n",
            "INFO - 07:02:15: EPOCH - 4 : training on 19117 raw words (2053 effective words) took 0.0s, 196942 effective words/s\n",
            "INFO - 07:02:15: worker thread finished; awaiting finish of 2 more threads\n",
            "INFO - 07:02:15: worker thread finished; awaiting finish of 1 more threads\n",
            "INFO - 07:02:15: worker thread finished; awaiting finish of 0 more threads\n",
            "INFO - 07:02:15: EPOCH - 5 : training on 19117 raw words (2017 effective words) took 0.0s, 116782 effective words/s\n",
            "INFO - 07:02:15: training on a 95585 raw words (10065 effective words) took 0.1s, 71752 effective words/s\n",
            "WARNING - 07:02:15: under 10 jobs per worker: consider setting a smaller `batch_words' for smoother alpha decay\n"
          ],
          "name": "stderr"
        }
      ]
    },
    {
      "cell_type": "code",
      "metadata": {
        "colab": {
          "base_uri": "https://localhost:8080/"
        },
        "id": "I1MmQVAJYQTV",
        "outputId": "3acfcb67-5fea-4783-95a2-40f0a39c0a12"
      },
      "source": [
        "model.wv['boy']"
      ],
      "execution_count": 60,
      "outputs": [
        {
          "output_type": "execute_result",
          "data": {
            "text/plain": [
              "array([-3.7267713e-03, -4.0080324e-03,  5.8540420e-05, -4.8942841e-03,\n",
              "        4.7367364e-03, -2.5511469e-04,  3.2385457e-03,  1.0670266e-03,\n",
              "       -1.5953908e-03,  2.5820723e-03,  1.0657024e-03, -3.8696670e-03,\n",
              "       -3.2158799e-03, -6.3310860e-04, -2.9982813e-03, -1.1888609e-03,\n",
              "       -4.7638519e-03,  2.4000991e-03,  1.9297474e-03, -9.4936264e-04,\n",
              "        7.7617420e-05,  1.6626307e-04,  1.6056357e-03, -4.7792707e-04,\n",
              "        3.5617026e-03,  2.7197560e-03,  3.5740610e-03,  3.2440899e-03,\n",
              "        2.0301999e-03,  2.0813872e-03,  1.1200665e-03, -7.0589012e-04,\n",
              "        3.8089193e-03, -1.7975231e-03, -4.3670642e-03, -4.2802640e-03,\n",
              "        5.0878157e-03, -5.7680975e-04, -1.9942529e-03,  4.2873467e-03,\n",
              "        4.9623740e-03, -5.0372141e-03, -5.1126340e-03,  4.0053474e-03,\n",
              "        2.4048836e-04, -4.9955365e-03,  9.2686503e-04,  3.3533967e-03,\n",
              "        4.2784084e-03,  1.3967656e-03,  3.8529283e-03, -4.6227784e-03,\n",
              "       -4.5690998e-03, -3.9805057e-03, -2.6046890e-03, -1.2315743e-05,\n",
              "        4.3354477e-03, -4.4304044e-03, -1.3602397e-03,  2.7402362e-05,\n",
              "        1.9330686e-04, -2.4554413e-03, -2.7423142e-04, -3.6354007e-03,\n",
              "       -3.8605414e-03,  3.2701634e-03,  1.1656414e-03,  1.6505988e-03,\n",
              "        7.3317671e-05, -1.3319416e-03,  3.1753983e-03, -1.1981357e-03,\n",
              "        9.8354055e-04,  2.4891607e-03, -1.0869075e-03, -1.3422592e-04,\n",
              "        4.9690488e-03,  3.0055782e-03, -4.1040406e-03,  2.4246650e-03,\n",
              "        2.3249772e-03,  2.8736880e-03, -7.3590397e-04, -4.5416960e-03,\n",
              "       -1.6145998e-03, -2.3748705e-03, -4.6062013e-03, -2.2308289e-03,\n",
              "       -3.8687633e-03, -2.5023161e-03,  2.2857061e-05, -4.7281007e-03,\n",
              "       -8.8839057e-05, -5.1377754e-04, -3.4948078e-03, -1.1504635e-04,\n",
              "       -2.0927598e-03, -3.2766981e-03,  3.3273902e-03,  2.5483451e-03],\n",
              "      dtype=float32)"
            ]
          },
          "metadata": {
            "tags": []
          },
          "execution_count": 60
        }
      ]
    },
    {
      "cell_type": "code",
      "metadata": {
        "colab": {
          "base_uri": "https://localhost:8080/"
        },
        "id": "qLrxsB41YZTz",
        "outputId": "2afcbdbe-2d1b-48d8-84d3-6105b3e858ca"
      },
      "source": [
        "model.wv['girl']"
      ],
      "execution_count": 61,
      "outputs": [
        {
          "output_type": "execute_result",
          "data": {
            "text/plain": [
              "array([ 1.1109349e-03, -1.9030839e-03, -2.9605343e-03,  1.9869786e-03,\n",
              "        2.1515968e-03,  2.6858349e-03,  3.3064068e-03,  8.5173704e-04,\n",
              "        3.4424537e-04, -2.0930611e-03,  4.7481256e-03,  3.6970086e-03,\n",
              "       -1.8336552e-03, -2.5575180e-03, -3.7221478e-03,  4.6137879e-03,\n",
              "       -2.7138475e-04,  4.7875536e-03, -1.6756138e-03, -6.8563846e-04,\n",
              "       -3.6325923e-03,  2.9900079e-03, -4.4897734e-03, -4.6884078e-03,\n",
              "       -8.6122088e-04,  2.0864680e-03, -1.4242665e-03, -4.8835455e-03,\n",
              "       -3.4161494e-03,  1.4587217e-03, -3.9287593e-04,  3.8218352e-03,\n",
              "       -4.8574568e-03, -1.6442058e-03,  1.1938262e-03, -3.9967513e-03,\n",
              "        3.8487725e-03, -3.4708262e-03, -4.0440535e-04,  9.0973679e-04,\n",
              "       -4.4764313e-03,  1.8309741e-03,  8.6947839e-04,  9.5218729e-04,\n",
              "       -1.4512709e-03,  4.6403673e-03,  4.8114741e-03,  1.0050583e-03,\n",
              "       -2.3609092e-03,  4.6369205e-03, -4.2724740e-03, -3.8706909e-03,\n",
              "        3.0317237e-03,  5.3708456e-03,  8.9076092e-04,  2.5406931e-04,\n",
              "        4.0836078e-03,  1.9775161e-03,  9.0697175e-04,  1.4295941e-03,\n",
              "        2.7687629e-03,  4.7780844e-04, -4.7259345e-03,  1.5867652e-03,\n",
              "        3.1835146e-03,  5.3518312e-04,  4.7033821e-04, -3.5505020e-03,\n",
              "       -6.1599427e-04,  5.3359387e-03, -9.3363889e-04, -1.4013343e-03,\n",
              "        2.0350667e-03, -1.6770242e-03,  1.7064773e-05, -3.4591704e-04,\n",
              "        4.6129599e-03,  2.2104310e-03, -4.1168542e-03,  5.1299059e-03,\n",
              "        3.5892753e-03, -3.8959566e-03,  8.6032652e-04, -9.8295312e-04,\n",
              "       -3.8544971e-03, -4.1195857e-03,  4.9792309e-03, -3.0841497e-03,\n",
              "       -2.1887261e-04, -4.5411242e-03,  4.1201501e-03, -5.0162822e-03,\n",
              "       -3.6748962e-03, -8.3738379e-04,  1.2982182e-03,  7.4964209e-04,\n",
              "       -2.5307639e-03, -2.1758156e-03,  5.1094894e-03,  8.1064313e-04],\n",
              "      dtype=float32)"
            ]
          },
          "metadata": {
            "tags": []
          },
          "execution_count": 61
        }
      ]
    },
    {
      "cell_type": "code",
      "metadata": {
        "colab": {
          "base_uri": "https://localhost:8080/"
        },
        "id": "k-BPkuAnZkB3",
        "outputId": "9164927f-13e9-4b07-e350-2f678b2efb57"
      },
      "source": [
        "model.wv.similar_by_word('old')"
      ],
      "execution_count": 70,
      "outputs": [
        {
          "output_type": "execute_result",
          "data": {
            "text/plain": [
              "[('young', 0.39946943521499634),\n",
              " ('OLD', 0.24755528569221497),\n",
              " ('executive,', 0.24296124279499054),\n",
              " ('Boy', 0.22390712797641754),\n",
              " ('boy', 0.21614769101142883),\n",
              " ('Of', 0.21202073991298676),\n",
              " ('agent', 0.2060634195804596),\n",
              " ('female', 0.20301151275634766),\n",
              " ('YOKEL', 0.2009740173816681),\n",
              " ('director,', 0.19659367203712463)]"
            ]
          },
          "metadata": {
            "tags": []
          },
          "execution_count": 70
        }
      ]
    },
    {
      "cell_type": "code",
      "metadata": {
        "colab": {
          "base_uri": "https://localhost:8080/"
        },
        "id": "u_bAihwmZpd9",
        "outputId": "525f542b-ea61-4718-f1f7-cc3be6f44113"
      },
      "source": [
        "model.wv['YOKEL']"
      ],
      "execution_count": 72,
      "outputs": [
        {
          "output_type": "execute_result",
          "data": {
            "text/plain": [
              "array([ 2.9319425e-03, -4.0766601e-03,  4.0543685e-03, -4.5306333e-03,\n",
              "       -1.6101102e-03,  3.2181141e-03, -1.1491351e-03, -1.5870914e-03,\n",
              "       -2.7364814e-03,  2.9137300e-03,  5.2676909e-03,  4.8804274e-03,\n",
              "        2.5977029e-03, -8.1950432e-04, -9.2965999e-04,  9.0571475e-04,\n",
              "        2.6220693e-03,  2.4708247e-04,  2.6695505e-03, -3.3830074e-03,\n",
              "       -2.7383098e-03,  1.5263585e-03,  3.9586588e-03, -2.0597049e-04,\n",
              "       -1.2471976e-03,  1.4359003e-03, -1.0929918e-03,  3.4989815e-03,\n",
              "        1.0736005e-03,  3.4638055e-04,  4.5110218e-04,  5.3767827e-03,\n",
              "       -1.2868033e-03, -2.0448081e-03, -4.3403983e-04,  7.2506675e-04,\n",
              "        3.3871222e-03,  3.6752953e-03, -5.4675946e-03, -4.1432339e-03,\n",
              "        1.1454177e-03,  4.3863095e-03,  4.5618601e-03,  1.3480417e-03,\n",
              "        1.4137982e-03, -4.4199359e-03,  1.4585272e-03, -6.2060833e-05,\n",
              "        3.9581009e-03, -3.3643504e-03, -6.6580548e-04, -2.9507745e-03,\n",
              "       -1.6090493e-03,  1.6164643e-04, -4.0588891e-03,  3.5118142e-03,\n",
              "       -1.3922001e-03,  5.8895064e-04, -8.9075341e-04, -2.8358586e-03,\n",
              "       -1.6798006e-03,  2.5060200e-03,  1.9537248e-03,  2.1194590e-03,\n",
              "        1.3665844e-03, -2.5755845e-03,  1.8952107e-03, -3.1497902e-03,\n",
              "       -4.1262899e-03,  2.7399457e-03,  2.4722444e-03,  3.7050562e-03,\n",
              "       -4.9168249e-03, -9.8487537e-04,  5.4584593e-03, -1.1492991e-03,\n",
              "       -4.1816733e-04,  3.0164563e-03,  3.8814158e-03,  4.4956449e-03,\n",
              "        5.8732415e-04, -4.5659677e-03,  1.0941681e-03,  2.5062996e-04,\n",
              "       -4.9949619e-03,  4.4805054e-03,  2.7065296e-03, -5.3603912e-04,\n",
              "        1.4440326e-03, -1.8040093e-03,  2.0744829e-03,  2.4642500e-03,\n",
              "       -1.7357206e-03,  3.4565597e-03, -2.3039542e-03,  3.9192173e-03,\n",
              "        5.0969063e-03,  3.0790849e-04,  4.2404099e-03,  2.5175582e-03],\n",
              "      dtype=float32)"
            ]
          },
          "metadata": {
            "tags": []
          },
          "execution_count": 72
        }
      ]
    },
    {
      "cell_type": "code",
      "metadata": {
        "colab": {
          "base_uri": "https://localhost:8080/"
        },
        "id": "tp2pEEGja0w9",
        "outputId": "cc591937-89fc-4f99-8446-93eef9232818"
      },
      "source": [
        "model.save('simpsonmodel.model')"
      ],
      "execution_count": 73,
      "outputs": [
        {
          "output_type": "stream",
          "text": [
            "INFO - 07:13:07: saving Word2Vec object under simpsonmodel.model, separately None\n",
            "INFO - 07:13:07: not storing attribute vectors_norm\n",
            "INFO - 07:13:07: not storing attribute cum_table\n",
            "INFO - 07:13:07: saved simpsonmodel.model\n"
          ],
          "name": "stderr"
        }
      ]
    },
    {
      "cell_type": "code",
      "metadata": {
        "colab": {
          "base_uri": "https://localhost:8080/"
        },
        "id": "u-z54Z5XbAoc",
        "outputId": "6244e2ae-0b03-4629-c130-5fe434265292"
      },
      "source": [
        "model2 = Word2Vec.load('simpsonmodel.model')"
      ],
      "execution_count": 75,
      "outputs": [
        {
          "output_type": "stream",
          "text": [
            "INFO - 07:13:43: loading Word2Vec object from simpsonmodel.model\n",
            "INFO - 07:13:43: loading wv recursively from simpsonmodel.model.wv.* with mmap=None\n",
            "INFO - 07:13:43: setting ignored attribute vectors_norm to None\n",
            "INFO - 07:13:43: loading vocabulary recursively from simpsonmodel.model.vocabulary.* with mmap=None\n",
            "INFO - 07:13:43: loading trainables recursively from simpsonmodel.model.trainables.* with mmap=None\n",
            "INFO - 07:13:43: setting ignored attribute cum_table to None\n",
            "INFO - 07:13:43: loaded simpsonmodel.model\n"
          ],
          "name": "stderr"
        }
      ]
    },
    {
      "cell_type": "code",
      "metadata": {
        "colab": {
          "base_uri": "https://localhost:8080/"
        },
        "id": "tG252B0ibIFV",
        "outputId": "7e0c16c3-7065-4a65-8f45-efdca0199cbb"
      },
      "source": [
        "model2.wv.similar_by_word('voice')"
      ],
      "execution_count": 77,
      "outputs": [
        {
          "output_type": "execute_result",
          "data": {
            "text/plain": [
              "[('boy', 0.20103731751441956),\n",
              " ('kearney,', 0.1946009397506714),\n",
              " ('nurse,', 0.18600744009017944),\n",
              " ('Girl', 0.17365509271621704),\n",
              " ('AND', 0.17307355999946594),\n",
              " ('3,', 0.16985535621643066),\n",
              " ('bartender,', 0.1595505177974701),\n",
              " ('frog,', 0.15716589987277985),\n",
              " ('Guy', 0.15619418025016785),\n",
              " ('inspector,', 0.15541455149650574)]"
            ]
          },
          "metadata": {
            "tags": []
          },
          "execution_count": 77
        }
      ]
    },
    {
      "cell_type": "code",
      "metadata": {
        "id": "URm1X0_TbN0i"
      },
      "source": [
        ""
      ],
      "execution_count": null,
      "outputs": []
    }
  ]
}