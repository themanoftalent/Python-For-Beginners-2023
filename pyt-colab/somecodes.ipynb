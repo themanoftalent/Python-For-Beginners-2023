{
  "nbformat": 4,
  "nbformat_minor": 0,
  "metadata": {
    "colab": {
      "name": "somecodes .ipynb",
      "provenance": [],
      "authorship_tag": "ABX9TyMiqjGL+QRleQ1n1++K0MhW",
      "include_colab_link": true
    },
    "kernelspec": {
      "name": "python3",
      "display_name": "Python 3"
    },
    "language_info": {
      "name": "python"
    }
  },
  "cells": [
    {
      "cell_type": "markdown",
      "metadata": {
        "id": "view-in-github",
        "colab_type": "text"
      },
      "source": [
        "<a href=\"https://colab.research.google.com/github/themanoftalent/pyt-colab/blob/master/somecodes.ipynb\" target=\"_parent\"><img src=\"https://colab.research.google.com/assets/colab-badge.svg\" alt=\"Open In Colab\"/></a>"
      ]
    },
    {
      "cell_type": "code",
      "metadata": {
        "colab": {
          "base_uri": "https://localhost:8080/"
        },
        "id": "akElirsDxz0a",
        "outputId": "8bbc75e7-1f7b-42bf-9990-14c63434c17e"
      },
      "source": [
        "def multiple3and5(number):\n",
        "\n",
        "  return sum(i for i in range(number) if i%3==0 or i%5==0)\n",
        "\n",
        "\n",
        "\n",
        "multiple3and5(10)"
      ],
      "execution_count": 2,
      "outputs": [
        {
          "output_type": "execute_result",
          "data": {
            "text/plain": [
              "23"
            ]
          },
          "metadata": {
            "tags": []
          },
          "execution_count": 2
        }
      ]
    },
    {
      "cell_type": "code",
      "metadata": {
        "colab": {
          "base_uri": "https://localhost:8080/"
        },
        "id": "-nQc0riRyHsD",
        "outputId": "3846e2b1-16ea-4f70-abaa-1546ac58751a"
      },
      "source": [
        "multiple3and5(20)"
      ],
      "execution_count": 3,
      "outputs": [
        {
          "output_type": "execute_result",
          "data": {
            "text/plain": [
              "78"
            ]
          },
          "metadata": {
            "tags": []
          },
          "execution_count": 3
        }
      ]
    },
    {
      "cell_type": "code",
      "metadata": {
        "colab": {
          "base_uri": "https://localhost:8080/"
        },
        "id": "X4cVESiryNG6",
        "outputId": "e83c5122-2210-49b9-eb84-66472e7a4ad4"
      },
      "source": [
        "multiple3and5(30)"
      ],
      "execution_count": 4,
      "outputs": [
        {
          "output_type": "execute_result",
          "data": {
            "text/plain": [
              "195"
            ]
          },
          "metadata": {
            "tags": []
          },
          "execution_count": 4
        }
      ]
    },
    {
      "cell_type": "code",
      "metadata": {
        "colab": {
          "base_uri": "https://localhost:8080/"
        },
        "id": "tKE5aZcKyOvK",
        "outputId": "79fc93f0-fd8f-4584-eb3e-a915ea730572"
      },
      "source": [
        "import string\n",
        "class Find_multiple:\n",
        "\n",
        "#initialize\n",
        "  def __init__(self,number):\n",
        "    self.number = number\n",
        "    \n",
        "#multiple of 3 and 5\n",
        "  def multiple3and5(self):\n",
        "    return sum(x for x in range(self.number) if x %3== 0 or x % 5 == 0)\n",
        "\n",
        "#multiple of 2 and 4\n",
        "  def multiple2and4(self):\n",
        "    return sum(x for x in range(self.number) if x %2== 0 or x % 4 == 0)\n",
        "\n",
        "#send zero to the end\n",
        "  def send_zero_end(self,zero):\n",
        "    return sorted(zero, key= lambda x:x==0 and x != bool)\n",
        "\n",
        "#to caps case\n",
        "  def toJaneCase(self,letter):\n",
        "    return string.capwords(letter)\n",
        "\n",
        "#put into order\n",
        "  def order(self,sentence):\n",
        "    self.sentence=sentence\n",
        "    def sort_key(word):\n",
        "        self.word=word\n",
        "        return next(c for c in word if c.isdigit())\n",
        "    return ' '.join(sorted(sentence.split(), key=sort_key))\n",
        "\n",
        "\n",
        "\n",
        "#find the outliers\n",
        "  def find_outliers(self,sayilar):\n",
        "    odd=[]\n",
        "    even=[]\n",
        "    for i in sayilar:\n",
        "      if i%2 >0:\n",
        "        odd.append(i)\n",
        "      if i%2==0:\n",
        "        even.append(i)\n",
        "\n",
        "    print('The even ones',even)\n",
        "    print('The odd ones',odd)\n",
        "\n",
        "    print('The outlier is = ',end='')\n",
        "\n",
        "    if len(even)> len(odd):\n",
        "      return(even)\n",
        "    else:\n",
        "      return(odd)\n",
        "\n",
        "\n",
        "\n",
        "#driver\n",
        "find1=Find_multiple(10)\n",
        "print('The multiplication for 3 and 5 is ',find1.multiple3and5())\n",
        "print('The multiplication for 2 and 4 is ',find1.multiple2and4())\n",
        "\n",
        "#given in method\n",
        "print('Sendin all zeros to the end :  ',find1.send_zero_end([0,0,5,60,4,34,0]))\n",
        "print('')\n",
        "print(find1.toJaneCase('Hello there i wanna go home early '))\n",
        "print(find1.order(\"4of Fo1r pe6ople g3ood th5e the2\" ))\n",
        "print(find1.find_outliers([2, 6, 8,13,15,17, 10, 33,6,77,55,66,22]))"
      ],
      "execution_count": 41,
      "outputs": [
        {
          "output_type": "stream",
          "text": [
            "The multiplication for 3 and 5 is  23\n",
            "The multiplication for 2 and 4 is  20\n",
            "Sendin all zeros to the end :   [5, 60, 4, 34, 0, 0, 0]\n",
            "\n",
            "Hello There I Wanna Go Home Early\n",
            "Fo1r the2 g3ood 4of th5e pe6ople\n",
            "The even ones [2, 6, 8, 10, 6, 66, 22]\n",
            "The odd ones [13, 15, 17, 33, 77, 55]\n",
            "The outlier is = [2, 6, 8, 10, 6, 66, 22]\n"
          ],
          "name": "stdout"
        }
      ]
    },
    {
      "cell_type": "code",
      "metadata": {
        "id": "7G_D7_jCy3MU"
      },
      "source": [
        ""
      ],
      "execution_count": null,
      "outputs": []
    }
  ]
}