{
 "metadata": {
  "language_info": {
   "codemirror_mode": {
    "name": "ipython",
    "version": 3
   },
   "file_extension": ".py",
   "mimetype": "text/x-python",
   "name": "python",
   "nbconvert_exporter": "python",
   "pygments_lexer": "ipython3",
   "version": "3.9.0"
  },
  "orig_nbformat": 2,
  "kernelspec": {
   "name": "python390jvsc74a57bd0aee8b7b246df8f9039afb4144a1f6fd8d2ca17a180786b69acc140d282b71a49",
   "display_name": "Python 3.9.0 64-bit"
  }
 },
 "nbformat": 4,
 "nbformat_minor": 2,
 "cells": [
  {
   "cell_type": "code",
   "execution_count": 7,
   "metadata": {},
   "outputs": [
    {
     "output_type": "stream",
     "name": "stdout",
     "text": [
      "['name', 'age', 'job']\n"
     ]
    }
   ],
   "source": [
    "def getList(dictim):\n",
    "\tlistem = []\n",
    "\tfor key in dictim.keys():\n",
    "\t\tlistem.append(key)\n",
    "\treturn listem\n",
    "\n",
    "\n",
    "\n",
    "# Driver program\n",
    "mydict= {'name':'ahmet','age':21,'job':'eng'}\n",
    "print(getList(mydict))\n"
   ]
  },
  {
   "cell_type": "code",
   "execution_count": 8,
   "metadata": {},
   "outputs": [
    {
     "output_type": "stream",
     "name": "stdout",
     "text": [
      "(dict_keys(['name', 'age', 'job']), dict_values(['ahmet', 21, 'eng']))\n\n(dict_keys([1, 2, 3]), dict_values(['Man', 'of', 'the year']))\n"
     ]
    }
   ],
   "source": [
    "def get_dic(dicti):\n",
    "    return dicti.keys(), dicti.values()\n",
    "\n",
    "\n",
    "mydict= {'name':'ahmet','age':21,'job':'eng'}\n",
    "alldict = {1:'Man', 2:'of', 3:'the year'}\n",
    "\n",
    "print(get_dic(mydict))\n",
    "\n",
    "print('')\n",
    "print(get_dic(alldict))\n"
   ]
  },
  {
   "cell_type": "code",
   "execution_count": null,
   "metadata": {},
   "outputs": [],
   "source": []
  }
 ]
}