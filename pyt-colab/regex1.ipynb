{
  "nbformat": 4,
  "nbformat_minor": 0,
  "metadata": {
    "colab": {
      "name": "regex1.ipynb",
      "provenance": [],
      "collapsed_sections": [],
      "authorship_tag": "ABX9TyMzzZ+746BIr2VZe7fGE9Ua",
      "include_colab_link": true
    },
    "kernelspec": {
      "name": "python3",
      "display_name": "Python 3"
    },
    "language_info": {
      "name": "python"
    }
  },
  "cells": [
    {
      "cell_type": "markdown",
      "metadata": {
        "id": "view-in-github",
        "colab_type": "text"
      },
      "source": [
        "<a href=\"https://colab.research.google.com/github/themanoftalent/pyt-colab/blob/master/regex1.ipynb\" target=\"_parent\"><img src=\"https://colab.research.google.com/assets/colab-badge.svg\" alt=\"Open In Colab\"/></a>"
      ]
    },
    {
      "cell_type": "code",
      "metadata": {
        "id": "ibA51gwHOM88"
      },
      "source": [
        "import re"
      ],
      "execution_count": null,
      "outputs": []
    },
    {
      "cell_type": "code",
      "metadata": {
        "id": "lYf1-aBbON6t"
      },
      "source": [
        "sentence=\"\"\" Python eğitim serisinin bu videosunda, Regex module'ünü incelemeye devam ediyoruz 9. A'dan Z'ye bir Python eğitimi olarak planladığımız bu seride,\n",
        " Python programlama dilini 93 6 52 kullanırken ahmet54 bilmeniz gereken bütün ayrıntıları işle5rken, iyi bir ''Pythonista'' 2 olma yolunca size ışık 32 tutmayı \"\"\""
      ],
      "execution_count": 175,
      "outputs": []
    },
    {
      "cell_type": "code",
      "metadata": {
        "id": "gHcYa4F6TNQ-"
      },
      "source": [
        "pattern =r\"\\d+\""
      ],
      "execution_count": 176,
      "outputs": []
    },
    {
      "cell_type": "code",
      "metadata": {
        "colab": {
          "base_uri": "https://localhost:8080/"
        },
        "id": "OG6CqreDTS_B",
        "outputId": "0fdd24b4-b0a0-4ae7-8fa5-4b69e50324a5"
      },
      "source": [
        "for eslesen in re.finditer(pattern, sentence):\n",
        "  print(\"BUlunan rakamlar soyle {0} {1} :\".format(eslesen.group(),eslesen.span()))"
      ],
      "execution_count": 177,
      "outputs": [
        {
          "output_type": "stream",
          "text": [
            "BUlunan rakamlar soyle 9 (83, 84) :\n",
            "BUlunan rakamlar soyle 93 (175, 177) :\n",
            "BUlunan rakamlar soyle 6 (178, 179) :\n",
            "BUlunan rakamlar soyle 52 (180, 182) :\n",
            "BUlunan rakamlar soyle 54 (200, 202) :\n",
            "BUlunan rakamlar soyle 5 (242, 243) :\n",
            "BUlunan rakamlar soyle 2 (272, 273) :\n",
            "BUlunan rakamlar soyle 32 (297, 299) :\n"
          ],
          "name": "stdout"
        }
      ]
    },
    {
      "cell_type": "code",
      "metadata": {
        "colab": {
          "base_uri": "https://localhost:8080/"
        },
        "id": "PYhIrtapTcSa",
        "outputId": "1a283009-47db-4e4a-8296-8c51f105843a"
      },
      "source": [
        "\n",
        "pattern =r\"\\w?\\d+\"\n",
        "\n",
        "for eslesen in re.finditer(pattern, sentence):\n",
        "  print(\"BUlunan rakamlar soyle {0} {1} :\".format(eslesen.group(),eslesen.span()))"
      ],
      "execution_count": 178,
      "outputs": [
        {
          "output_type": "stream",
          "text": [
            "BUlunan rakamlar soyle 9 (83, 84) :\n",
            "BUlunan rakamlar soyle 93 (175, 177) :\n",
            "BUlunan rakamlar soyle 6 (178, 179) :\n",
            "BUlunan rakamlar soyle 52 (180, 182) :\n",
            "BUlunan rakamlar soyle t54 (199, 202) :\n",
            "BUlunan rakamlar soyle e5 (241, 243) :\n",
            "BUlunan rakamlar soyle 2 (272, 273) :\n",
            "BUlunan rakamlar soyle 32 (297, 299) :\n"
          ],
          "name": "stdout"
        }
      ]
    },
    {
      "cell_type": "code",
      "metadata": {
        "colab": {
          "base_uri": "https://localhost:8080/"
        },
        "id": "l641yfNAUMa0",
        "outputId": "aba00e54-e70b-498e-ff93-023b25eca0e9"
      },
      "source": [
        "\n",
        "pattern =r\"\\w+\\d+\"\n",
        "\n",
        "for eslesen in re.finditer(pattern, sentence):\n",
        "  print(\"BUlunan rakamlar soyle {0} {1} :\".format(eslesen.group(),eslesen.span()))"
      ],
      "execution_count": 179,
      "outputs": [
        {
          "output_type": "stream",
          "text": [
            "BUlunan rakamlar soyle 93 (175, 177) :\n",
            "BUlunan rakamlar soyle 52 (180, 182) :\n",
            "BUlunan rakamlar soyle ahmet54 (195, 202) :\n",
            "BUlunan rakamlar soyle işle5 (238, 243) :\n",
            "BUlunan rakamlar soyle 32 (297, 299) :\n"
          ],
          "name": "stdout"
        }
      ]
    },
    {
      "cell_type": "code",
      "metadata": {
        "colab": {
          "base_uri": "https://localhost:8080/"
        },
        "id": "iSwJtX_9UP6P",
        "outputId": "87621327-18af-49fb-ea82-59f00387ebc2"
      },
      "source": [
        "\n",
        "pattern =r\"\\w*\\d+\"\n",
        "\n",
        "for eslesen in re.finditer(pattern, sentence):\n",
        "  print(\"BUlunan rakamlar soyle {0} {1} :\".format(eslesen.group(),eslesen.span()))"
      ],
      "execution_count": 187,
      "outputs": [
        {
          "output_type": "stream",
          "text": [
            "BUlunan rakamlar soyle 9 (83, 84) :\n",
            "BUlunan rakamlar soyle 93 (175, 177) :\n",
            "BUlunan rakamlar soyle 6 (178, 179) :\n",
            "BUlunan rakamlar soyle 52 (180, 182) :\n",
            "BUlunan rakamlar soyle ahmet54 (195, 202) :\n",
            "BUlunan rakamlar soyle işle5 (238, 243) :\n",
            "BUlunan rakamlar soyle 2 (272, 273) :\n",
            "BUlunan rakamlar soyle 32 (297, 299) :\n"
          ],
          "name": "stdout"
        }
      ]
    },
    {
      "cell_type": "code",
      "metadata": {
        "id": "cMtc6HYWUSJk"
      },
      "source": [
        "telefonlar =\"\"\" Python eğitim serisinin bu videosunda, 535-7899665 Regex module'ünü incelemeye devam ediyoruz 9. A'dan Z'ye bir Python eğitimi olarak planladığımız bu seride,\n",
        " Python programlama dilini 93 6 52 kullanırken ahmet54 bilmeniz gereken bütün ayrıntıları işle5rken, iyi bir ''Pythonista'' 2 olma yolunca size ışık 32 tutmayı \"\"\""
      ],
      "execution_count": 195,
      "outputs": []
    },
    {
      "cell_type": "code",
      "metadata": {
        "id": "0hyjN8Z0WB7a"
      },
      "source": [
        "pattern= r\"\\d{3,4}-\\d*\""
      ],
      "execution_count": 196,
      "outputs": []
    },
    {
      "cell_type": "code",
      "metadata": {
        "colab": {
          "base_uri": "https://localhost:8080/"
        },
        "id": "ChQ_vWqCWL5G",
        "outputId": "77620187-e788-4222-d6e8-c8e25aff1b6e"
      },
      "source": [
        "bul = re.search(pattern, telefonlar)\n",
        "bul"
      ],
      "execution_count": 197,
      "outputs": [
        {
          "output_type": "execute_result",
          "data": {
            "text/plain": [
              "<re.Match object; span=(40, 51), match='535-7899665'>"
            ]
          },
          "metadata": {
            "tags": []
          },
          "execution_count": 197
        }
      ]
    },
    {
      "cell_type": "code",
      "metadata": {
        "colab": {
          "base_uri": "https://localhost:8080/"
        },
        "id": "FKfaPYBYWP0h",
        "outputId": "d82b959b-82e4-463b-a2c9-dd19200bfa06"
      },
      "source": [
        "# eğer bunu group olarak gostermek istersek\n",
        "pattern= r\"(\\d{3,4})-(\\d*)\"\n",
        "bul = re.search(pattern, telefonlar)\n",
        "\n",
        "print(bul.groups()[1])\n",
        "print(bul.groups()[0])\n",
        "\n",
        "print(bul.group()[0])\n",
        "print(bul.group()[1])\n",
        "print(bul.group()[2])\n",
        "print(bul.group()[3])\n",
        "print(bul.group()[4])\n",
        "print(bul.group()[5])\n",
        "\n",
        "\n"
      ],
      "execution_count": 204,
      "outputs": [
        {
          "output_type": "stream",
          "text": [
            "7899665\n",
            "535\n",
            "5\n",
            "3\n",
            "5\n",
            "-\n",
            "7\n",
            "8\n"
          ],
          "name": "stdout"
        }
      ]
    },
    {
      "cell_type": "code",
      "metadata": {
        "id": "VWl8slbrWQUR"
      },
      "source": [
        ""
      ],
      "execution_count": null,
      "outputs": []
    }
  ]
}