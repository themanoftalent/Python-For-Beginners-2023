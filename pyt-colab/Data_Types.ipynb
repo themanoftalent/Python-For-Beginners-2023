{
  "nbformat": 4,
  "nbformat_minor": 0,
  "metadata": {
    "colab": {
      "name": "Data Types.ipynb",
      "provenance": [],
      "collapsed_sections": [],
      "authorship_tag": "ABX9TyMwC55s4JCQ7zcprVuBzoVx",
      "include_colab_link": true
    },
    "kernelspec": {
      "name": "python3",
      "display_name": "Python 3"
    },
    "language_info": {
      "name": "python"
    }
  },
  "cells": [
    {
      "cell_type": "markdown",
      "metadata": {
        "id": "view-in-github",
        "colab_type": "text"
      },
      "source": [
        "<a href=\"https://colab.research.google.com/github/themanoftalent/pyt-colab/blob/master/Data_Types.ipynb\" target=\"_parent\"><img src=\"https://colab.research.google.com/assets/colab-badge.svg\" alt=\"Open In Colab\"/></a>"
      ]
    },
    {
      "cell_type": "markdown",
      "metadata": {
        "id": "VQlEmank-fQq"
      },
      "source": [
        "Objective\n",
        "Today, we're discussing data types. Check out the Tutorial tab for learning materials and an instructional video!\n",
        "\n",
        "Task\n",
        "Complete the code in the editor below. The variables , , and  are already declared and initialized for you. You must:\n",
        "\n",
        "Declare  variables: one of type int, one of type double, and one of type String.\n",
        "Read  lines of input from stdin (according to the sequence given in the Input Format section below) and initialize your  variables.\n",
        "Use the  operator to perform the following operations:\n",
        "Print the sum of  plus your int variable on a new line.\n",
        "Print the sum of  plus your double variable to a scale of one decimal place on a new line.\n",
        "Concatenate  with the string you read as input and print the result on a new line.\n",
        "Note: If you are using a language that doesn't support using  for string concatenation (e.g.: C), you can just print one variable immediately following the other on the same line. The string provided in your editor must be printed first, immediately followed by the string you read as input."
      ]
    },
    {
      "cell_type": "code",
      "metadata": {
        "colab": {
          "base_uri": "https://localhost:8080/"
        },
        "id": "aAndOySr-eOV",
        "outputId": "dd0c3a51-4ae6-4401-dc2a-77706f1a175b"
      },
      "source": [
        "i = 4\n",
        "d = 4.0\n",
        "s = 'HackerBank '\n",
        "# Declare second integer, double, and String variables.\n",
        "a =0\n",
        "b =0\n",
        "# Read and save an integer, double, and String to your variables.\n",
        "a=int(input())\n",
        "b= float(input())\n",
        "string = input()\n",
        "# Print the sum of both integer variables on a new line.\n",
        "print(a+i)\n",
        "# Print the sum of the double variables on a new line.\n",
        "print(b +d)\n",
        "# Concatenate and print the String variables on a new line\n",
        "print(s + string)\n",
        "\n",
        "# The 's' variable above should be printed first."
      ],
      "execution_count": 5,
      "outputs": [
        {
          "output_type": "stream",
          "text": [
            "1\n",
            "2.3\n",
            "hry\n",
            "5\n",
            "6.3\n",
            "HackerRank hry\n"
          ],
          "name": "stdout"
        }
      ]
    },
    {
      "cell_type": "code",
      "metadata": {
        "id": "KMbQFskA-gAP"
      },
      "source": [
        ""
      ],
      "execution_count": null,
      "outputs": []
    }
  ]
}