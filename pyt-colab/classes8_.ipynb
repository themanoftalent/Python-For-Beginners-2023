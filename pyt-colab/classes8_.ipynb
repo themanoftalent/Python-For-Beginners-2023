{
  "nbformat": 4,
  "nbformat_minor": 0,
  "metadata": {
    "colab": {
      "name": "classes8 .ipynb",
      "provenance": [],
      "collapsed_sections": [],
      "authorship_tag": "ABX9TyMI1MKpi+xGIzVTUgUYqxhh",
      "include_colab_link": true
    },
    "kernelspec": {
      "name": "python3",
      "display_name": "Python 3"
    },
    "language_info": {
      "name": "python"
    }
  },
  "cells": [
    {
      "cell_type": "markdown",
      "metadata": {
        "id": "view-in-github",
        "colab_type": "text"
      },
      "source": [
        "<a href=\"https://colab.research.google.com/github/themanoftalent/pyt-colab/blob/master/classes8_.ipynb\" target=\"_parent\"><img src=\"https://colab.research.google.com/assets/colab-badge.svg\" alt=\"Open In Colab\"/></a>"
      ]
    },
    {
      "cell_type": "code",
      "metadata": {
        "id": "66HNNeQxcaIb",
        "colab": {
          "base_uri": "https://localhost:8080/"
        },
        "outputId": "78129f3e-e7a8-43e0-e48a-6b456cac8aaa"
      },
      "source": [
        "class Employee:\n",
        "\n",
        "    def __init__(self, name, surname, pay):\n",
        "        self.name = name\n",
        "        self.surname = surname\n",
        "        self.email = name + '.' + surname + '@email.com'\n",
        "        self.pay = pay\n",
        "\n",
        "    def fullname(self):\n",
        "        return '{} {}'.format(self.name, self.surname)\n",
        "\n",
        "emp1 = Employee('Akif', 'cifci', 9800)\n",
        "print(emp1.fullname())\n",
        "emp2 = Employee('Ceylan', 'Kaya', 780000)\n",
        "print(emp2.fullname())"
      ],
      "execution_count": 6,
      "outputs": [
        {
          "output_type": "stream",
          "text": [
            "Akif cifci\n",
            "Ceylan Kaya\n"
          ],
          "name": "stdout"
        }
      ]
    },
    {
      "cell_type": "code",
      "metadata": {
        "id": "sxsLntUvJS5Y"
      },
      "source": [
        ""
      ],
      "execution_count": null,
      "outputs": []
    }
  ]
}