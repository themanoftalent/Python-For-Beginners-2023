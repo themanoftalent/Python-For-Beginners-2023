{
  "nbformat": 4,
  "nbformat_minor": 0,
  "metadata": {
    "colab": {
      "name": "next bigger number.ipynb",
      "provenance": [],
      "collapsed_sections": [],
      "authorship_tag": "ABX9TyOyegEsICrninjge8o0qwj9",
      "include_colab_link": true
    },
    "kernelspec": {
      "name": "python3",
      "display_name": "Python 3"
    },
    "language_info": {
      "name": "python"
    }
  },
  "cells": [
    {
      "cell_type": "markdown",
      "metadata": {
        "id": "view-in-github",
        "colab_type": "text"
      },
      "source": [
        "<a href=\"https://colab.research.google.com/github/themanoftalent/pyt-colab/blob/master/next_bigger_number.ipynb\" target=\"_parent\"><img src=\"https://colab.research.google.com/assets/colab-badge.svg\" alt=\"Open In Colab\"/></a>"
      ]
    },
    {
      "cell_type": "code",
      "metadata": {
        "id": "1ed6U7iIq802"
      },
      "source": [
        "def next_bigger(n):\n",
        "  sum=0\n",
        "  for i in range(n):\n",
        "    sum = sum +i\n",
        "  return sum\n"
      ],
      "execution_count": null,
      "outputs": []
    },
    {
      "cell_type": "code",
      "metadata": {
        "colab": {
          "base_uri": "https://localhost:8080/",
          "height": 265
        },
        "id": "eWgstPMdt7YI",
        "outputId": "464644ad-a132-4212-b608-3c99971721b7"
      },
      "source": [
        "next_bigger(12)"
      ],
      "execution_count": null,
      "outputs": [
        {
          "output_type": "error",
          "ename": "TypeError",
          "evalue": "ignored",
          "traceback": [
            "\u001b[0;31m---------------------------------------------------------------------------\u001b[0m",
            "\u001b[0;31mTypeError\u001b[0m                                 Traceback (most recent call last)",
            "\u001b[0;32m<ipython-input-38-3f4a274d6d9a>\u001b[0m in \u001b[0;36m<module>\u001b[0;34m()\u001b[0m\n\u001b[0;32m----> 1\u001b[0;31m \u001b[0mnext_bigger\u001b[0m\u001b[0;34m(\u001b[0m\u001b[0;36m12\u001b[0m\u001b[0;34m)\u001b[0m\u001b[0;34m\u001b[0m\u001b[0;34m\u001b[0m\u001b[0m\n\u001b[0m",
            "\u001b[0;32m<ipython-input-37-3ac944b9f89a>\u001b[0m in \u001b[0;36mnext_bigger\u001b[0;34m(n)\u001b[0m\n\u001b[1;32m      2\u001b[0m   \u001b[0msum\u001b[0m\u001b[0;34m=\u001b[0m\u001b[0;36m0\u001b[0m\u001b[0;34m\u001b[0m\u001b[0;34m\u001b[0m\u001b[0m\n\u001b[1;32m      3\u001b[0m   \u001b[0;32mfor\u001b[0m \u001b[0mi\u001b[0m \u001b[0;32min\u001b[0m \u001b[0mrange\u001b[0m\u001b[0;34m(\u001b[0m\u001b[0mn\u001b[0m\u001b[0;34m)\u001b[0m\u001b[0;34m:\u001b[0m\u001b[0;34m\u001b[0m\u001b[0;34m\u001b[0m\u001b[0m\n\u001b[0;32m----> 4\u001b[0;31m     \u001b[0msum\u001b[0m \u001b[0;34m=\u001b[0m \u001b[0msum\u001b[0m\u001b[0;34m[\u001b[0m\u001b[0mn\u001b[0m\u001b[0;34m]\u001b[0m\u001b[0;34m+\u001b[0m\u001b[0mi\u001b[0m\u001b[0;34m\u001b[0m\u001b[0;34m\u001b[0m\u001b[0m\n\u001b[0m\u001b[1;32m      5\u001b[0m   \u001b[0;32mreturn\u001b[0m \u001b[0msum\u001b[0m\u001b[0;34m\u001b[0m\u001b[0;34m\u001b[0m\u001b[0m\n",
            "\u001b[0;31mTypeError\u001b[0m: 'int' object is not subscriptable"
          ]
        }
      ]
    },
    {
      "cell_type": "code",
      "metadata": {
        "id": "F24GmfAfuJOe",
        "colab": {
          "base_uri": "https://localhost:8080/"
        },
        "outputId": "ba14fc47-ac6d-4bc2-fe6d-1bd8c084e2bf"
      },
      "source": [
        "i=0\n",
        "x = \"abcd\"\n",
        "\n",
        "\n",
        "print(\"Using for loop printing string characters\")\n",
        "for i in range(len(x)):\n",
        "    print(x[i])"
      ],
      "execution_count": 39,
      "outputs": [
        {
          "output_type": "stream",
          "text": [
            "Using for loop printing string characters\n",
            "a\n",
            "b\n",
            "c\n",
            "d\n"
          ],
          "name": "stdout"
        }
      ]
    },
    {
      "cell_type": "code",
      "metadata": {
        "id": "nmxjaftMy0FA"
      },
      "source": [
        "import itertools\n",
        "def next_bigger(n):\n",
        "    s = list(str(n))\n",
        "    for i in range(len(s)-2,-1,-1):\n",
        "        if s[i] < s[i+1]:\n",
        "            t = s[i:]\n",
        "            m = min(filter(lambda x: x>t[0], t))\n",
        "            t.remove(m)\n",
        "            t.sort()\n",
        "            s[i:] = [m] + t\n",
        "            return int(\"\".join(s))\n",
        "    return -1"
      ],
      "execution_count": 44,
      "outputs": []
    },
    {
      "cell_type": "code",
      "metadata": {
        "colab": {
          "base_uri": "https://localhost:8080/"
        },
        "id": "eMegP89OzdUa",
        "outputId": "26c28195-d213-4560-96af-c0b17b48a723"
      },
      "source": [
        "next_bigger(12)"
      ],
      "execution_count": 45,
      "outputs": [
        {
          "output_type": "execute_result",
          "data": {
            "text/plain": [
              "21"
            ]
          },
          "metadata": {
            "tags": []
          },
          "execution_count": 45
        }
      ]
    },
    {
      "cell_type": "code",
      "metadata": {
        "id": "0pnthYpcz0Zz"
      },
      "source": [
        "def next_bigger(n):\n",
        "    # algorithm: go backwards through the digits\n",
        "    # when we find one that's lower than any of those behind it,\n",
        "    # replace it with the lowest digit behind that's still higher than it\n",
        "    # sort the remaining ones ascending and add them to the end\n",
        "    digits = list(str(n))\n",
        "    for pos, d in reversed(tuple(enumerate(digits))):\n",
        "        right_side = digits[pos:]\n",
        "        if d < max(right_side):\n",
        "            # find lowest digit to the right that's still higher than d\n",
        "            first_d, first_pos = min((v, p) for p, v in enumerate(right_side) if v > d)\n",
        "\n",
        "            del right_side[first_pos]\n",
        "            digits[pos:] = [first_d] + sorted(right_side)\n",
        "\n",
        "            return int(''.join(digits))\n",
        "\n",
        "    return -1"
      ],
      "execution_count": 46,
      "outputs": []
    },
    {
      "cell_type": "code",
      "metadata": {
        "id": "KKLGCa4xz8GW"
      },
      "source": [
        "def next_bigger(n):\n",
        "    nums = list(str(n))\n",
        "    for i in reversed(range(len(nums[:-1]))):\n",
        "        for j in reversed(range(i, len(nums))):\n",
        "            if nums[i] < nums[j]:\n",
        "                nums[i], nums[j] = nums[j], nums[i]\n",
        "                nums[i + 1:] = sorted(nums[i + 1:])\n",
        "                return int(''.join(nums))\n",
        "    return -1"
      ],
      "execution_count": 47,
      "outputs": []
    },
    {
      "cell_type": "code",
      "metadata": {
        "colab": {
          "base_uri": "https://localhost:8080/"
        },
        "id": "R92_Jhg6z_Wo",
        "outputId": "8cdb9bad-9903-4231-ea95-c243bf6f4fca"
      },
      "source": [
        "next_bigger(12)"
      ],
      "execution_count": 48,
      "outputs": [
        {
          "output_type": "execute_result",
          "data": {
            "text/plain": [
              "21"
            ]
          },
          "metadata": {
            "tags": []
          },
          "execution_count": 48
        }
      ]
    }
  ]
}