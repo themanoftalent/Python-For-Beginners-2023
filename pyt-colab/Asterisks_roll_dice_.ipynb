{
  "nbformat": 4,
  "nbformat_minor": 0,
  "metadata": {
    "colab": {
      "name": "Asterisks roll dice .ipynb",
      "provenance": [],
      "collapsed_sections": [],
      "authorship_tag": "ABX9TyNYW0pVdjlUqbJmICWU/StD",
      "include_colab_link": true
    },
    "kernelspec": {
      "name": "python3",
      "display_name": "Python 3"
    },
    "language_info": {
      "name": "python"
    }
  },
  "cells": [
    {
      "cell_type": "markdown",
      "metadata": {
        "id": "view-in-github",
        "colab_type": "text"
      },
      "source": [
        "<a href=\"https://colab.research.google.com/github/themanoftalent/pyt-colab/blob/master/Asterisks_roll_dice_.ipynb\" target=\"_parent\"><img src=\"https://colab.research.google.com/assets/colab-badge.svg\" alt=\"Open In Colab\"/></a>"
      ]
    },
    {
      "cell_type": "code",
      "metadata": {
        "id": "A9tb0lUyWfr9"
      },
      "source": [
        "from random import randint\n",
        "\n",
        "def rolling(*dice):\n",
        "    return sum(randint(1, die) for die in dice)"
      ],
      "execution_count": 27,
      "outputs": []
    },
    {
      "cell_type": "code",
      "metadata": {
        "colab": {
          "base_uri": "https://localhost:8080/"
        },
        "id": "Ra6yw9kqWgkN",
        "outputId": "83235f7e-dc67-4901-f908-2c08589572f7"
      },
      "source": [
        "rolling(25,50,75,100)"
      ],
      "execution_count": 34,
      "outputs": [
        {
          "output_type": "execute_result",
          "data": {
            "text/plain": [
              "141"
            ]
          },
          "metadata": {
            "tags": []
          },
          "execution_count": 34
        }
      ]
    },
    {
      "cell_type": "code",
      "metadata": {
        "colab": {
          "base_uri": "https://localhost:8080/"
        },
        "id": "Dop1XikF8XJn",
        "outputId": "1ee1b9db-59f2-4666-c204-1742c4886020"
      },
      "source": [
        "rolling(3)"
      ],
      "execution_count": 37,
      "outputs": [
        {
          "output_type": "execute_result",
          "data": {
            "text/plain": [
              "2"
            ]
          },
          "metadata": {
            "tags": []
          },
          "execution_count": 37
        }
      ]
    },
    {
      "cell_type": "code",
      "metadata": {
        "colab": {
          "base_uri": "https://localhost:8080/"
        },
        "id": "3I5Bpu5K8n5R",
        "outputId": "096eb6b6-1702-4c7f-ffb4-2e65e2747fb2"
      },
      "source": [
        "rolling(6, 6, 6,6)"
      ],
      "execution_count": 39,
      "outputs": [
        {
          "output_type": "execute_result",
          "data": {
            "text/plain": [
              "10"
            ]
          },
          "metadata": {
            "tags": []
          },
          "execution_count": 39
        }
      ]
    },
    {
      "cell_type": "code",
      "metadata": {
        "id": "HASWQ9Dn8u8G"
      },
      "source": [
        "# Combining Different Iterables"
      ],
      "execution_count": 40,
      "outputs": []
    },
    {
      "cell_type": "code",
      "metadata": {
        "colab": {
          "base_uri": "https://localhost:8080/"
        },
        "id": "ruu0TdAT81JX",
        "outputId": "2b3b9352-8fc4-47f2-c232-c457865051cd"
      },
      "source": [
        "nums = [1, 2, 3]\n",
        "nums2 = (4, 5, 6)\n",
        "nums3 = {7, 8, 9}\n",
        "\n",
        "#onvert the combined elements into any iterable we want\n",
        "\n",
        "_list = [*nums, *nums2, *nums3]\n",
        "_tuple = (*nums, *nums2, *nums3)\n",
        "_set = {*nums, *nums2, *nums3}\n",
        "\n",
        "print(type(_list))\n",
        "print(_list)\n",
        "print(\"------------------------\")\n",
        "print(type(_tuple))\n",
        "print(_tuple)\n",
        "print(\"------------------------\")\n",
        "print(type(_set))\n",
        "print(_set)"
      ],
      "execution_count": 41,
      "outputs": [
        {
          "output_type": "stream",
          "text": [
            "<class 'list'>\n",
            "[1, 2, 3, 4, 5, 6, 8, 9, 7]\n",
            "------------------------\n",
            "<class 'tuple'>\n",
            "(1, 2, 3, 4, 5, 6, 8, 9, 7)\n",
            "------------------------\n",
            "<class 'set'>\n",
            "{1, 2, 3, 4, 5, 6, 7, 8, 9}\n"
          ],
          "name": "stdout"
        }
      ]
    },
    {
      "cell_type": "code",
      "metadata": {
        "id": "Gu7qL9oL88xT"
      },
      "source": [
        ""
      ],
      "execution_count": null,
      "outputs": []
    }
  ]
}