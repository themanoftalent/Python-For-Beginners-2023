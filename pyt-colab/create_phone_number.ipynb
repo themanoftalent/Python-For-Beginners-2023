{
  "nbformat": 4,
  "nbformat_minor": 0,
  "metadata": {
    "colab": {
      "name": "create phone number.ipynb",
      "provenance": [],
      "authorship_tag": "ABX9TyPuTsWACX8fu9Q/b6VcuqGe",
      "include_colab_link": true
    },
    "kernelspec": {
      "name": "python3",
      "display_name": "Python 3"
    },
    "language_info": {
      "name": "python"
    }
  },
  "cells": [
    {
      "cell_type": "markdown",
      "metadata": {
        "id": "view-in-github",
        "colab_type": "text"
      },
      "source": [
        "<a href=\"https://colab.research.google.com/github/themanoftalent/pyt-colab/blob/master/create_phone_number.ipynb\" target=\"_parent\"><img src=\"https://colab.research.google.com/assets/colab-badge.svg\" alt=\"Open In Colab\"/></a>"
      ]
    },
    {
      "cell_type": "code",
      "metadata": {
        "id": "EuJK7vlaFgjL"
      },
      "source": [
        "def create_phone_number(n):\n",
        "    return \"({}{}{}) {}{}{}-{}{}{}{}\".format(*n)"
      ],
      "execution_count": 5,
      "outputs": []
    },
    {
      "cell_type": "code",
      "metadata": {
        "colab": {
          "base_uri": "https://localhost:8080/",
          "height": 35
        },
        "id": "0-oFhLOXIc5t",
        "outputId": "1090d7cb-0092-4b92-9f69-7fcedee2af0d"
      },
      "source": [
        "create_phone_number([1, 2, 3, 4, 5, 6, 7, 8, 9, 0]) "
      ],
      "execution_count": 9,
      "outputs": [
        {
          "output_type": "execute_result",
          "data": {
            "application/vnd.google.colaboratory.intrinsic+json": {
              "type": "string"
            },
            "text/plain": [
              "'(123) 456-7890'"
            ]
          },
          "metadata": {
            "tags": []
          },
          "execution_count": 9
        }
      ]
    },
    {
      "cell_type": "code",
      "metadata": {
        "colab": {
          "base_uri": "https://localhost:8080/"
        },
        "id": "Sfe0dInII0Us",
        "outputId": "90da9f0e-f7e0-40b1-a1b5-266a43ccfea5"
      },
      "source": [
        "number=input('enter number =')"
      ],
      "execution_count": 12,
      "outputs": [
        {
          "output_type": "stream",
          "text": [
            "enter number =5552347866\n"
          ],
          "name": "stdout"
        }
      ]
    },
    {
      "cell_type": "code",
      "metadata": {
        "colab": {
          "base_uri": "https://localhost:8080/",
          "height": 35
        },
        "id": "bnajUmQDI_Bs",
        "outputId": "c012b194-dd8d-476a-c64e-a2a4f74d404b"
      },
      "source": [
        "create_phone_number(number) "
      ],
      "execution_count": 13,
      "outputs": [
        {
          "output_type": "execute_result",
          "data": {
            "application/vnd.google.colaboratory.intrinsic+json": {
              "type": "string"
            },
            "text/plain": [
              "'(555) 234-7866'"
            ]
          },
          "metadata": {
            "tags": []
          },
          "execution_count": 13
        }
      ]
    },
    {
      "cell_type": "markdown",
      "metadata": {
        "id": "bH5ZC33fJTry"
      },
      "source": [
        "Another solution\n"
      ]
    },
    {
      "cell_type": "code",
      "metadata": {
        "id": "nms0PomHJE-W"
      },
      "source": [
        "def create_phone_number(n):\n",
        "  str1 =  ''.join(str(x) for x in n[0:3])\n",
        "  str2 =  ''.join(str(x) for x in n[3:6])\n",
        "  str3 =  ''.join(str(x) for x in n[6:10])\n",
        "\n",
        "\n",
        "  return '({}) {}-{}'.format(str1, str2, str3)"
      ],
      "execution_count": 14,
      "outputs": []
    },
    {
      "cell_type": "code",
      "metadata": {
        "colab": {
          "base_uri": "https://localhost:8080/",
          "height": 35
        },
        "id": "hC-uQ6cIJWjY",
        "outputId": "cfc6369b-9a31-477b-c431-e229f1cf12c9"
      },
      "source": [
        "create_phone_number([1, 2, 3, 4, 5, 6, 7, 8, 9, 0]) "
      ],
      "execution_count": 15,
      "outputs": [
        {
          "output_type": "execute_result",
          "data": {
            "application/vnd.google.colaboratory.intrinsic+json": {
              "type": "string"
            },
            "text/plain": [
              "'(123) 456-7890'"
            ]
          },
          "metadata": {
            "tags": []
          },
          "execution_count": 15
        }
      ]
    },
    {
      "cell_type": "markdown",
      "metadata": {
        "id": "ZJSeERdBJfkd"
      },
      "source": [
        "Another solution\n"
      ]
    },
    {
      "cell_type": "code",
      "metadata": {
        "id": "F2-cfDVCJYBQ"
      },
      "source": [
        "def create_phone_number(n):\n",
        "    m = ''.join(map(str, n))\n",
        "    return f\"({m[:3]}) {m[3:6]}-{m[6:]}\""
      ],
      "execution_count": 16,
      "outputs": []
    },
    {
      "cell_type": "markdown",
      "metadata": {
        "id": "nz1onwcXJg0c"
      },
      "source": [
        "Another solution\n"
      ]
    },
    {
      "cell_type": "code",
      "metadata": {
        "id": "l6qy5gXsJctu"
      },
      "source": [
        "def create_phone_number(n):\n",
        "    return \"(%i%i%i) %i%i%i-%i%i%i%i\" % tuple(n)"
      ],
      "execution_count": 17,
      "outputs": []
    },
    {
      "cell_type": "code",
      "metadata": {
        "colab": {
          "base_uri": "https://localhost:8080/",
          "height": 35
        },
        "id": "EguKOoTLJmv-",
        "outputId": "20bc81ca-b5c7-4785-fae4-de1be6b67741"
      },
      "source": [
        "create_phone_number([1, 2, 3, 4, 5, 6, 7, 8, 9, 0]) "
      ],
      "execution_count": 18,
      "outputs": [
        {
          "output_type": "execute_result",
          "data": {
            "application/vnd.google.colaboratory.intrinsic+json": {
              "type": "string"
            },
            "text/plain": [
              "'(123) 456-7890'"
            ]
          },
          "metadata": {
            "tags": []
          },
          "execution_count": 18
        }
      ]
    },
    {
      "cell_type": "markdown",
      "metadata": {
        "id": "CxokG2udJruW"
      },
      "source": [
        "Using lambda"
      ]
    },
    {
      "cell_type": "code",
      "metadata": {
        "id": "2BnUgsS6Jn2a"
      },
      "source": [
        "create_phone_number = lambda n: f\"({n[0]}{n[1]}{n[2]}) {n[3]}{n[4]}{n[5]}-{n[6]}{n[7]}{n[8]}{n[9]}\""
      ],
      "execution_count": 19,
      "outputs": []
    },
    {
      "cell_type": "code",
      "metadata": {
        "colab": {
          "base_uri": "https://localhost:8080/",
          "height": 35
        },
        "id": "1oQ3DJ52JtcS",
        "outputId": "2ec8a694-e13e-42c5-ac4a-e987f6f08ea8"
      },
      "source": [
        "create_phone_number([1, 2, 3, 4, 5, 6, 7, 8, 9, 0])"
      ],
      "execution_count": 20,
      "outputs": [
        {
          "output_type": "execute_result",
          "data": {
            "application/vnd.google.colaboratory.intrinsic+json": {
              "type": "string"
            },
            "text/plain": [
              "'(123) 456-7890'"
            ]
          },
          "metadata": {
            "tags": []
          },
          "execution_count": 20
        }
      ]
    },
    {
      "cell_type": "code",
      "metadata": {
        "id": "da2YxUMkJvMp"
      },
      "source": [
        ""
      ],
      "execution_count": null,
      "outputs": []
    }
  ]
}